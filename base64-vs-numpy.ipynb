{
 "cells": [
  {
   "cell_type": "code",
   "execution_count": null,
   "id": "45277595-2503-4e6a-b446-00789c9830bf",
   "metadata": {},
   "outputs": [],
   "source": [
    "import numpy as np\n",
    "from PIL import Image\n",
    "import json\n",
    "import base64"
   ]
  },
  {
   "cell_type": "code",
   "execution_count": null,
   "id": "ae208fd9-5992-4833-9dea-5b0376aa7550",
   "metadata": {},
   "outputs": [],
   "source": [
    "img = Image.open('a.png')"
   ]
  },
  {
   "cell_type": "code",
   "execution_count": null,
   "id": "682751d2-30d4-4503-9f69-472543a581da",
   "metadata": {},
   "outputs": [],
   "source": [
    "im_arr = np.array(img)"
   ]
  },
  {
   "cell_type": "code",
   "execution_count": null,
   "id": "33d481e1-196e-4cb9-824c-d0eb46d1f1ae",
   "metadata": {},
   "outputs": [
    {
     "data": {
      "text/plain": [
       "((690, 969, 4), dtype('uint8'))"
      ]
     },
     "execution_count": null,
     "metadata": {},
     "output_type": "execute_result"
    }
   ],
   "source": [
    "im_arr.shape, im_arr.dtype"
   ]
  },
  {
   "cell_type": "code",
   "execution_count": null,
   "id": "e4ccbb57-d741-46d3-b472-842e5a66b46c",
   "metadata": {},
   "outputs": [],
   "source": [
    "def encode_str(im_arr):\n",
    "    input_dict = {'img': im_arr.tolist()}\n",
    "    return json.dumps(input_dict)"
   ]
  },
  {
   "cell_type": "code",
   "execution_count": null,
   "id": "b4c888bb-9ca1-4b13-888f-0d592a34c9d3",
   "metadata": {},
   "outputs": [],
   "source": [
    "input_srt1 = encode_str(im_arr)"
   ]
  },
  {
   "cell_type": "code",
   "execution_count": null,
   "id": "d848ecf1-37d7-43c5-a8eb-1c4e3e01f9a7",
   "metadata": {},
   "outputs": [
    {
     "name": "stdout",
     "output_type": "stream",
     "text": [
      "CPU times: user 3 µs, sys: 0 ns, total: 3 µs\n",
      "Wall time: 7.15 µs\n"
     ]
    }
   ],
   "source": [
    "%time\n",
    "encode_str(im_arr);"
   ]
  },
  {
   "cell_type": "markdown",
   "id": "eaf7ccb3-781c-4705-9dd2-0f14386fde9a",
   "metadata": {},
   "source": [
    "---------------------"
   ]
  },
  {
   "cell_type": "code",
   "execution_count": null,
   "id": "f0acd5b5-c1a2-49d9-aa4a-053542e5ad68",
   "metadata": {},
   "outputs": [],
   "source": [
    "def encode_to_bin(im_arr):\n",
    "    im_bytes = im_arr.tobytes()\n",
    "    im_base64 = base64.b64encode(im_bytes)\n",
    "    input_dict = {\n",
    "                'img': im_base64.decode(),\n",
    "                'dtype': 'u1',\n",
    "                'shape': list(im_arr.shape)\n",
    "             }\n",
    "    return json.dumps(input_dict)"
   ]
  },
  {
   "cell_type": "code",
   "execution_count": null,
   "id": "57de09eb-6738-4749-b42a-9cdaa023cd3e",
   "metadata": {},
   "outputs": [],
   "source": [
    "input_srt2 = encode_to_bin(im_arr)"
   ]
  },
  {
   "cell_type": "code",
   "execution_count": null,
   "id": "60c8e15c-b86b-4a3d-8a6d-a479e6a15828",
   "metadata": {},
   "outputs": [
    {
     "name": "stdout",
     "output_type": "stream",
     "text": [
      "CPU times: user 13 µs, sys: 1e+03 ns, total: 14 µs\n",
      "Wall time: 24.1 µs\n"
     ]
    }
   ],
   "source": [
    "%time\n",
    "encode_to_bin(im_arr);"
   ]
  },
  {
   "cell_type": "markdown",
   "id": "0e5fe549-a4e0-4009-915f-3a3fbfec26e9",
   "metadata": {},
   "source": [
    "----------------------"
   ]
  },
  {
   "cell_type": "code",
   "execution_count": null,
   "id": "ac9dc301-fd85-44f5-8fb0-db2cf49196c2",
   "metadata": {},
   "outputs": [],
   "source": [
    "def decode_from_str(inp):\n",
    "    input_dict = json.loads(inp)\n",
    "    im_array = np.array(input_dict['img'])\n",
    "    return im_array"
   ]
  },
  {
   "cell_type": "code",
   "execution_count": null,
   "id": "132fbef4-027b-48fc-b7bf-5c283825ca8f",
   "metadata": {},
   "outputs": [],
   "source": [
    "def decode_from_bin(inp):\n",
    "    input_dict = json.loads(inp)\n",
    "    t = base64.b64decode(input_dict['img'].encode())\n",
    "    buff = memoryview(t)\n",
    "    im_array = np.frombuffer(buff, dtype=input_dict['dtype']).reshape(input_dict['shape'])\n",
    "    return im_array"
   ]
  },
  {
   "cell_type": "code",
   "execution_count": null,
   "id": "8c63c304-5a19-4dd5-b261-e99638d51471",
   "metadata": {},
   "outputs": [],
   "source": [
    "assert np.all(decode_from_bin(input_srt2) == decode_from_str(input_srt1))"
   ]
  },
  {
   "cell_type": "code",
   "execution_count": null,
   "id": "80f393f0-c7b6-40ad-84a0-58b790ae3304",
   "metadata": {},
   "outputs": [
    {
     "name": "stdout",
     "output_type": "stream",
     "text": [
      "13.9 ms ± 721 µs per loop (mean ± std. dev. of 7 runs, 100 loops each)\n"
     ]
    }
   ],
   "source": [
    "%%timeit\n",
    "decode_from_bin(input_srt2)"
   ]
  },
  {
   "cell_type": "code",
   "execution_count": null,
   "id": "a7537972-dde5-467e-a7eb-ac443685480a",
   "metadata": {},
   "outputs": [
    {
     "name": "stdout",
     "output_type": "stream",
     "text": [
      "665 ms ± 25.1 ms per loop (mean ± std. dev. of 7 runs, 1 loop each)\n"
     ]
    }
   ],
   "source": [
    "%%timeit\n",
    "decode_from_str(input_srt1)"
   ]
  },
  {
   "cell_type": "code",
   "execution_count": null,
   "id": "f4db7c3e-4e38-4ea9-85dd-ab0e29591e0f",
   "metadata": {},
   "outputs": [],
   "source": []
  }
 ],
 "metadata": {
  "kernelspec": {
   "display_name": "Python 3 (ipykernel)",
   "language": "python",
   "name": "python3"
  }
 },
 "nbformat": 4,
 "nbformat_minor": 5
}
