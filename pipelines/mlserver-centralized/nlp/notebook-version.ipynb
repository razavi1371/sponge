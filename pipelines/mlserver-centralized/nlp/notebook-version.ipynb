{
 "cells": [
  {
   "attachments": {},
   "cell_type": "markdown",
   "metadata": {},
   "source": [
    "# Language Identification"
   ]
  },
  {
   "cell_type": "code",
   "execution_count": 16,
   "metadata": {},
   "outputs": [
    {
     "data": {
      "text/plain": [
       "[{'label': 'fr', 'score': 0.9999997615814209},\n",
       " {'label': 'fr', 'score': 0.9999997615814209},\n",
       " {'label': 'fr', 'score': 0.9999997615814209},\n",
       " {'label': 'fr', 'score': 0.9999997615814209}]"
      ]
     },
     "execution_count": 16,
     "metadata": {},
     "output_type": "execute_result"
    }
   ],
   "source": [
    "from transformers import pipeline\n",
    "\n",
    "input_text = 'Après des décennies en tant que pratiquant d\\'arts martiaux et coureur, Wes a \"trouvé\" le yoga en 2010.'\n",
    "identification = pipeline(\n",
    "    task=\"text-classification\",\n",
    "    model=\"dinalzein/xlm-roberta-base-finetuned-language-identification\",\n",
    ")\n",
    "identification([input_text for i in range(4)])"
   ]
  },
  {
   "attachments": {},
   "cell_type": "markdown",
   "metadata": {},
   "source": [
    "# Language Translation"
   ]
  },
  {
   "cell_type": "code",
   "execution_count": 17,
   "metadata": {},
   "outputs": [
    {
     "data": {
      "text/plain": [
       "[{'translation_text': 'After decades as a martial arts practitioner and runner, Wes \"found\" yoga in 2010.'},\n",
       " {'translation_text': 'After decades as a martial arts practitioner and runner, Wes \"found\" yoga in 2010.'},\n",
       " {'translation_text': 'After decades as a martial arts practitioner and runner, Wes \"found\" yoga in 2010.'},\n",
       " {'translation_text': 'After decades as a martial arts practitioner and runner, Wes \"found\" yoga in 2010.'}]"
      ]
     },
     "execution_count": 17,
     "metadata": {},
     "output_type": "execute_result"
    }
   ],
   "source": [
    "from transformers import pipeline\n",
    "\n",
    "input_text = 'Après des décennies en tant que pratiquant d\\'arts martiaux et coureur, Wes a \"trouvé\" le yoga en 2010.'\n",
    "translation = pipeline(task=\"translation_fr_to_en\", model=\"Helsinki-NLP/opus-mt-fr-en\")\n",
    "translation([input_text for i in range(4)])"
   ]
  },
  {
   "attachments": {},
   "cell_type": "markdown",
   "metadata": {},
   "source": [
    "# Language Summariazation"
   ]
  },
  {
   "cell_type": "code",
   "execution_count": 20,
   "metadata": {},
   "outputs": [
    {
     "data": {
      "text/plain": [
       "[{'summary_text': ' Wes'},\n",
       " {'summary_text': ' Wes'},\n",
       " {'summary_text': ' Wes'},\n",
       " {'summary_text': ' Wes'}]"
      ]
     },
     "execution_count": 20,
     "metadata": {},
     "output_type": "execute_result"
    }
   ],
   "source": [
    "input_text = (\n",
    "    'After decades as a martial arts practitioner and runner, Wes \"found\" yoga in 2010.'\n",
    ")\n",
    "summarization = pipeline(\n",
    "    task=\"summarization\",\n",
    "    model=\"sshleifer/distilbart-cnn-12-6\",\n",
    "    min_length=0,\n",
    "    max_length=4,\n",
    ")\n",
    "summarization([input_text for i in range(4)])"
   ]
  },
  {
   "attachments": {},
   "cell_type": "markdown",
   "metadata": {},
   "source": []
  }
 ],
 "metadata": {
  "interpreter": {
   "hash": "2465c4f56298bc06dbdad3e7519856d346ec0e9edf6ba2c905f0af711583810e"
  },
  "kernelspec": {
   "display_name": "Python 3.8.13 ('central')",
   "language": "python",
   "name": "python3"
  },
  "language_info": {
   "codemirror_mode": {
    "name": "ipython",
    "version": 3
   },
   "file_extension": ".py",
   "mimetype": "text/x-python",
   "name": "python",
   "nbconvert_exporter": "python",
   "pygments_lexer": "ipython3",
   "version": "3.9.15"
  }
 },
 "nbformat": 4,
 "nbformat_minor": 2
}
