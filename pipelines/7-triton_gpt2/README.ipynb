{
 "cells": [
  {
   "cell_type": "markdown",
   "id": "liked-toronto",
   "metadata": {},
   "source": [
    "# Pretrained  GPT2  Model Deployment Example\n",
    "\n",
    "In this notebook, we will run an example of text generation using GPT2 model exported from HuggingFace and deployed with Seldon's Triton pre-packed server. the example also covers converting the model to ONNX format.\n",
    "The implemented example below is of the Greedy approach for the next token prediction.\n",
    "more info: https://huggingface.co/transformers/model_doc/gpt2.html?highlight=gpt2\n",
    "\n",
    "After we have the module deployed to Kubernetes, we will run a simple load test to evaluate the module inference performance.\n",
    "\n",
    "\n",
    "## Steps:\n",
    "1. Download pretrained GPT2 model from hugging face\n",
    "2. Convert the model to ONNX\n",
    "3. Store it in MinIo bucket\n",
    "4. Setup Seldon-Core in your kubernetes cluster\n",
    "5. Deploy the ONNX model with Seldon’s prepackaged Triton server.\n",
    "6. Interact with the model, run a greedy alg example (generate sentence completion)\n",
    "7. Run load test using vegeta\n",
    "8. Clean-up\n",
    "\n",
    "## Basic requirements\n",
    "* Helm v3.0.0+\n",
    "* A Kubernetes cluster running v1.13 or above (minkube / docker-for-windows work well if enough RAM)\n",
    "* kubectl v1.14+\n",
    "* Python 3.6+\n",
    "* install tensorflow and pytorch "
   ]
  },
  {
   "cell_type": "code",
   "execution_count": 1,
   "id": "korean-reporter",
   "metadata": {},
   "outputs": [
    {
     "name": "stdout",
     "output_type": "stream",
     "text": [
      "Overwriting requirements.txt\n"
     ]
    }
   ],
   "source": [
    "%%writefile requirements.txt\n",
    "transformers==4.5.1\n",
    "tokenizers<0.11,>=0.10.1\n",
    "tf2onnx"
   ]
  },
  {
   "cell_type": "code",
   "execution_count": 2,
   "id": "assigned-diesel",
   "metadata": {},
   "outputs": [
    {
     "name": "stdout",
     "output_type": "stream",
     "text": [
      "Collecting transformers==4.5.1\n",
      "  Downloading transformers-4.5.1-py3-none-any.whl (2.1 MB)\n",
      "\u001b[K     |████████████████████████████████| 2.1 MB 32.9 MB/s eta 0:00:01\n",
      "\u001b[?25hCollecting tokenizers<0.11,>=0.10.1\n",
      "  Downloading tokenizers-0.10.3-cp38-cp38-manylinux_2_5_x86_64.manylinux1_x86_64.manylinux_2_12_x86_64.manylinux2010_x86_64.whl (3.3 MB)\n",
      "\u001b[K     |████████████████████████████████| 3.3 MB 154.0 MB/s eta 0:00:01\n",
      "\u001b[?25hCollecting tf2onnx\n",
      "  Downloading tf2onnx-1.11.1-py3-none-any.whl (440 kB)\n",
      "\u001b[K     |████████████████████████████████| 440 kB 151.6 MB/s eta 0:00:01\n",
      "\u001b[?25hRequirement already satisfied: tqdm>=4.27 in /home/cc/miniconda3/envs/central/lib/python3.8/site-packages (from transformers==4.5.1->-r requirements.txt (line 1)) (4.64.0)\n",
      "Collecting sacremoses\n",
      "  Downloading sacremoses-0.0.53.tar.gz (880 kB)\n",
      "\u001b[K     |████████████████████████████████| 880 kB 157.8 MB/s eta 0:00:01\n",
      "\u001b[?25hRequirement already satisfied: requests in /home/cc/miniconda3/envs/central/lib/python3.8/site-packages (from transformers==4.5.1->-r requirements.txt (line 1)) (2.28.0)\n",
      "Requirement already satisfied: regex!=2019.12.17 in /home/cc/miniconda3/envs/central/lib/python3.8/site-packages (from transformers==4.5.1->-r requirements.txt (line 1)) (2022.6.2)\n",
      "Requirement already satisfied: packaging in /home/cc/miniconda3/envs/central/lib/python3.8/site-packages (from transformers==4.5.1->-r requirements.txt (line 1)) (21.3)\n",
      "Requirement already satisfied: numpy>=1.17 in /home/cc/miniconda3/envs/central/lib/python3.8/site-packages (from transformers==4.5.1->-r requirements.txt (line 1)) (1.23.0)\n",
      "Requirement already satisfied: filelock in /home/cc/miniconda3/envs/central/lib/python3.8/site-packages (from transformers==4.5.1->-r requirements.txt (line 1)) (3.7.1)\n",
      "Requirement already satisfied: six in /home/cc/miniconda3/envs/central/lib/python3.8/site-packages (from tf2onnx->-r requirements.txt (line 3)) (1.16.0)\n",
      "Requirement already satisfied: onnx>=1.4.1 in /home/cc/miniconda3/envs/central/lib/python3.8/site-packages (from tf2onnx->-r requirements.txt (line 3)) (1.12.0)\n",
      "Requirement already satisfied: flatbuffers~=1.12 in /home/cc/miniconda3/envs/central/lib/python3.8/site-packages (from tf2onnx->-r requirements.txt (line 3)) (1.12)\n",
      "Requirement already satisfied: typing-extensions>=3.6.2.1 in /home/cc/miniconda3/envs/central/lib/python3.8/site-packages (from onnx>=1.4.1->tf2onnx->-r requirements.txt (line 3)) (4.2.0)\n",
      "Requirement already satisfied: protobuf<=3.20.1,>=3.12.2 in /home/cc/miniconda3/envs/central/lib/python3.8/site-packages (from onnx>=1.4.1->tf2onnx->-r requirements.txt (line 3)) (3.19.4)\n",
      "Requirement already satisfied: pyparsing!=3.0.5,>=2.0.2 in /home/cc/miniconda3/envs/central/lib/python3.8/site-packages (from packaging->transformers==4.5.1->-r requirements.txt (line 1)) (3.0.9)\n",
      "Requirement already satisfied: idna<4,>=2.5 in /home/cc/miniconda3/envs/central/lib/python3.8/site-packages (from requests->transformers==4.5.1->-r requirements.txt (line 1)) (3.3)\n",
      "Requirement already satisfied: certifi>=2017.4.17 in /home/cc/miniconda3/envs/central/lib/python3.8/site-packages (from requests->transformers==4.5.1->-r requirements.txt (line 1)) (2022.6.15)\n",
      "Requirement already satisfied: charset-normalizer~=2.0.0 in /home/cc/miniconda3/envs/central/lib/python3.8/site-packages (from requests->transformers==4.5.1->-r requirements.txt (line 1)) (2.0.12)\n",
      "Requirement already satisfied: urllib3<1.27,>=1.21.1 in /home/cc/miniconda3/envs/central/lib/python3.8/site-packages (from requests->transformers==4.5.1->-r requirements.txt (line 1)) (1.26.5)\n",
      "Requirement already satisfied: click in /home/cc/miniconda3/envs/central/lib/python3.8/site-packages (from sacremoses->transformers==4.5.1->-r requirements.txt (line 1)) (8.0.4)\n",
      "Collecting joblib\n",
      "  Downloading joblib-1.1.0-py2.py3-none-any.whl (306 kB)\n",
      "\u001b[K     |████████████████████████████████| 306 kB 157.0 MB/s eta 0:00:01\n",
      "\u001b[?25hBuilding wheels for collected packages: sacremoses\n",
      "  Building wheel for sacremoses (setup.py) ... \u001b[?25ldone\n",
      "\u001b[?25h  Created wheel for sacremoses: filename=sacremoses-0.0.53-py3-none-any.whl size=895260 sha256=e998836a147981fb2c5f268ec670ca291ec9d1c318cffb9b7535c4ed5737760e\n",
      "  Stored in directory: /home/cc/.cache/pip/wheels/82/ab/9b/c15899bf659ba74f623ac776e861cf2eb8608c1825ddec66a4\n",
      "Successfully built sacremoses\n",
      "Installing collected packages: joblib, tokenizers, sacremoses, transformers, tf2onnx\n",
      "  Attempting uninstall: tokenizers\n",
      "    Found existing installation: tokenizers 0.12.1\n",
      "    Uninstalling tokenizers-0.12.1:\n",
      "      Successfully uninstalled tokenizers-0.12.1\n",
      "  Attempting uninstall: transformers\n",
      "    Found existing installation: transformers 4.20.1\n",
      "    Uninstalling transformers-4.20.1:\n",
      "      Successfully uninstalled transformers-4.20.1\n",
      "Successfully installed joblib-1.1.0 sacremoses-0.0.53 tf2onnx-1.11.1 tokenizers-0.10.3 transformers-4.5.1\n"
     ]
    }
   ],
   "source": [
    "!pip install --trusted-host=pypi.python.org --trusted-host=pypi.org --trusted-host=files.pythonhosted.org -r requirements.txt"
   ]
  },
  {
   "cell_type": "markdown",
   "id": "completed-evaluation",
   "metadata": {},
   "source": [
    "### Export HuggingFace TFGPT2LMHeadModel pre-trained model and save it locally"
   ]
  },
  {
   "cell_type": "code",
   "execution_count": null,
   "id": "iraqi-million",
   "metadata": {},
   "outputs": [],
   "source": [
    "from transformers import GPT2Tokenizer, TFGPT2LMHeadModel\n",
    "\n",
    "tokenizer = GPT2Tokenizer.from_pretrained(\"gpt2\")\n",
    "model = TFGPT2LMHeadModel.from_pretrained(\n",
    "    \"gpt2\", from_pt=True, pad_token_id=tokenizer.eos_token_id\n",
    ")\n",
    "model.save_pretrained(\"./tfgpt2model\", saved_model=True)"
   ]
  },
  {
   "cell_type": "markdown",
   "id": "further-tribute",
   "metadata": {},
   "source": [
    "### Convert the TensorFlow saved model to ONNX"
   ]
  },
  {
   "cell_type": "code",
   "execution_count": null,
   "id": "irish-mountain",
   "metadata": {},
   "outputs": [],
   "source": [
    "!python -m tf2onnx.convert --saved-model ./tfgpt2model/saved_model/1 --opset 11  --output model.onnx"
   ]
  },
  {
   "cell_type": "markdown",
   "id": "sunset-pantyhose",
   "metadata": {},
   "source": [
    "### Copy your model to a local MinIo\n",
    "#### Setup MinIo\n",
    "Use the provided [notebook](https://docs.seldon.io/projects/seldon-core/en/latest/examples/minio_setup.html) to install MinIo in your cluster and configure `mc` CLI tool. Instructions also [online](https://docs.min.io/docs/minio-client-quickstart-guide.html).\n",
    "\n",
    "-- Note: You can use your prefer remote storage server (google/ AWS etc.)\n",
    "\n",
    "#### Create a Bucket and store your model"
   ]
  },
  {
   "cell_type": "code",
   "execution_count": 6,
   "id": "lasting-performance",
   "metadata": {},
   "outputs": [
    {
     "name": "stdout",
     "output_type": "stream",
     "text": [
      "zsh:1: command not found: mc\n",
      "zsh:1: command not found: mc\n"
     ]
    }
   ],
   "source": [
    "!mc mb minio/minio-seldon/onnx-gpt2/ -p\n",
    "!mc cp ./model.onnx minio/minio-seldon/onnx-gpt2/1"
   ]
  },
  {
   "cell_type": "markdown",
   "id": "convinced-syracuse",
   "metadata": {},
   "source": [
    "### Run Seldon in your kubernetes cluster\n",
    "\n",
    "Follow the [Seldon-Core Setup notebook](https://docs.seldon.io/projects/seldon-core/en/latest/examples/seldon_core_setup.html) to Setup a cluster with Ambassador Ingress or Istio and install Seldon Core"
   ]
  },
  {
   "cell_type": "markdown",
   "id": "backed-outreach",
   "metadata": {},
   "source": [
    "### Deploy your model with Seldon pre-packaged Triton server"
   ]
  },
  {
   "cell_type": "code",
   "execution_count": 4,
   "id": "declared-crown",
   "metadata": {},
   "outputs": [
    {
     "name": "stdout",
     "output_type": "stream",
     "text": [
      "Overwriting secret.yaml\n"
     ]
    }
   ],
   "source": [
    "%%writefile secret.yaml\n",
    "\n",
    "apiVersion: v1\n",
    "kind: Secret\n",
    "metadata:\n",
    "  name: seldon-init-container-secret\n",
    "type: Opaque\n",
    "stringData:\n",
    "  RCLONE_CONFIG_S3_TYPE: s3\n",
    "  RCLONE_CONFIG_S3_PROVIDER: minio\n",
    "  RCLONE_CONFIG_S3_ENV_AUTH: \"false\"\n",
    "  RCLONE_CONFIG_S3_ACCESS_KEY_ID: minioadmin\n",
    "  RCLONE_CONFIG_S3_SECRET_ACCESS_KEY: minioadmin\n",
    "  RCLONE_CONFIG_S3_ENDPOINT: http://minio.minio-system.svc.cluster.local:9000\n"
   ]
  },
  {
   "cell_type": "code",
   "execution_count": 11,
   "id": "beneficial-anime",
   "metadata": {},
   "outputs": [
    {
     "name": "stdout",
     "output_type": "stream",
     "text": [
      "Overwriting gpt2-deploy.yaml\n"
     ]
    }
   ],
   "source": [
    "%%writefile gpt2-deploy.yaml\n",
    "apiVersion: machinelearning.seldon.io/v1alpha2\n",
    "kind: SeldonDeployment\n",
    "metadata:\n",
    "  name: gpt2\n",
    "spec:\n",
    "  predictors:\n",
    "  - graph:\n",
    "      implementation: TRITON_SERVER\n",
    "      logger:\n",
    "        mode: all\n",
    "      modelUri: s3://minio-seldon/onnx-gpt2/1\n",
    "      envSecretRefName: seldon-init-container-secret\n",
    "      name: gpt2\n",
    "      type: MODEL\n",
    "    name: default\n",
    "    replicas: 1\n",
    "  protocol: kfserving"
   ]
  },
  {
   "cell_type": "code",
   "execution_count": 12,
   "id": "subjective-involvement",
   "metadata": {},
   "outputs": [
    {
     "name": "stdout",
     "output_type": "stream",
     "text": [
      "secret/seldon-init-container-secret configured\n",
      "seldondeployment.machinelearning.seldon.io/gpt2 configured\n"
     ]
    }
   ],
   "source": [
    "!kubectl apply -f secret.yaml -n default\n",
    "!kubectl apply -f gpt2-deploy.yaml -n default"
   ]
  },
  {
   "cell_type": "code",
   "execution_count": 13,
   "id": "demanding-thesaurus",
   "metadata": {},
   "outputs": [
    {
     "name": "stdout",
     "output_type": "stream",
     "text": [
      "Waiting for deployment \"gpt2-default-0-gpt2\" rollout to finish: 1 old replicas are pending termination...\n",
      "Waiting for deployment \"gpt2-default-0-gpt2\" rollout to finish: 1 old replicas are pending termination...\n",
      "Waiting for deployment \"gpt2-default-0-gpt2\" rollout to finish: 1 old replicas are pending termination...\n",
      "deployment \"gpt2-default-0-gpt2\" successfully rolled out\n"
     ]
    }
   ],
   "source": [
    "!kubectl rollout status deploy/$(kubectl get deploy -l seldon-deployment-id=gpt2 -o jsonpath='{.items[0].metadata.name}')"
   ]
  },
  {
   "cell_type": "markdown",
   "id": "digital-supervisor",
   "metadata": {},
   "source": [
    "#### Interact with the model: get model metadata (a \"test\" request to make sure our model is available and loaded correctly)"
   ]
  },
  {
   "cell_type": "code",
   "execution_count": 15,
   "id": "married-roller",
   "metadata": {},
   "outputs": [
    {
     "name": "stdout",
     "output_type": "stream",
     "text": [
      "*   Trying ::1:32000...\n",
      "* TCP_NODELAY set\n",
      "* connect to ::1 port 32000 failed: Connection refused\n",
      "*   Trying 127.0.0.1:32000...\n",
      "* TCP_NODELAY set\n",
      "* Connected to localhost (127.0.0.1) port 32000 (#0)\n",
      "> GET /seldon/defualt/gpt2/v2/models/gpt2 HTTP/1.1\n",
      "> Host: localhost:32000\n",
      "> User-Agent: curl/7.68.0\n",
      "> Accept: */*\n",
      "> \n",
      "* Mark bundle as not supporting multiuse\n",
      "< HTTP/1.1 404 Not Found\n",
      "< date: Fri, 24 Jun 2022 16:11:18 GMT\n",
      "< server: istio-envoy\n",
      "< content-length: 0\n",
      "< \n",
      "* Connection #0 to host localhost left intact\n"
     ]
    }
   ],
   "source": [
    "!curl -v http://localhost:32000/seldon/defualt/gpt2/v2/models/gpt2"
   ]
  },
  {
   "cell_type": "markdown",
   "id": "anonymous-resource",
   "metadata": {},
   "source": [
    "### Run prediction test: generate a sentence completion using GPT2 model  - Greedy approach\n"
   ]
  },
  {
   "cell_type": "code",
   "execution_count": 1,
   "id": "modified-termination",
   "metadata": {},
   "outputs": [
    {
     "name": "stderr",
     "output_type": "stream",
     "text": [
      "/home/cc/miniconda3/envs/central/lib/python3.8/site-packages/tqdm/auto.py:22: TqdmWarning: IProgress not found. Please update jupyter and ipywidgets. See https://ipywidgets.readthedocs.io/en/stable/user_install.html\n",
      "  from .autonotebook import tqdm as notebook_tqdm\n",
      "2022-05-06 18:33:58.271431: E tensorflow/stream_executor/cuda/cuda_driver.cc:271] failed call to cuInit: CUDA_ERROR_NO_DEVICE: no CUDA-capable device is detected\n",
      "2022-05-06 18:33:58.271481: I tensorflow/stream_executor/cuda/cuda_diagnostics.cc:156] kernel driver does not appear to be running on this host (k8s-cluster): /proc/driver/nvidia/version does not exist\n",
      "2022-05-06 18:33:58.272792: I tensorflow/core/platform/cpu_feature_guard.cc:151] This TensorFlow binary is optimized with oneAPI Deep Neural Network Library (oneDNN) to use the following CPU instructions in performance-critical operations:  AVX2 FMA\n",
      "To enable them in other operations, rebuild TensorFlow with the appropriate compiler flags.\n",
      "Using cls_token, but it is not set yet.\n",
      "Using mask_token, but it is not set yet.\n",
      "Using pad_token, but it is not set yet.\n",
      "Using sep_token, but it is not set yet.\n"
     ]
    }
   ],
   "source": [
    "import json\n",
    "\n",
    "import numpy as np\n",
    "import requests\n",
    "from transformers import GPT2Tokenizer\n",
    "\n",
    "tokenizer = GPT2Tokenizer.from_pretrained(\"gpt2\")\n",
    "input_text = \"I enjoy working in Seldon\"\n",
    "count = 0\n",
    "max_gen_len = 10\n",
    "gen_sentence = input_text\n",
    "while count < max_gen_len:\n",
    "    input_ids = tokenizer.encode(gen_sentence, return_tensors=\"tf\")\n",
    "    shape = input_ids.shape.as_list()\n",
    "    payload = {\n",
    "        \"inputs\": [\n",
    "            {\n",
    "                \"name\": \"input_ids\",\n",
    "                \"datatype\": \"INT32\",\n",
    "                \"shape\": shape,\n",
    "                \"data\": input_ids.numpy().tolist(),\n",
    "            },\n",
    "            {\n",
    "                \"name\": \"attention_mask\",\n",
    "                \"datatype\": \"INT32\",\n",
    "                \"shape\": shape,\n",
    "                \"data\": np.ones(shape, dtype=np.int32).tolist(),\n",
    "            },\n",
    "        ]\n",
    "    }\n",
    "\n",
    "    ret = requests.post(\n",
    "        \"http://localhost:8004/seldon/seldon/gpt2/v2/models/gpt2/infer\", json=payload\n",
    "    )\n",
    "\n",
    "    try:\n",
    "        res = ret.json()\n",
    "    except:\n",
    "        continue\n",
    "\n",
    "    # extract logits\n",
    "    logits = np.array(res[\"outputs\"][1][\"data\"])\n",
    "    logits = logits.reshape(res[\"outputs\"][1][\"shape\"])\n",
    "\n",
    "    # take the best next token probability of the last token of input ( greedy approach)\n",
    "    next_token = logits.argmax(axis=2)[0]\n",
    "    next_token_str = tokenizer.decode(\n",
    "        next_token[-1:], skip_special_tokens=True, clean_up_tokenization_spaces=True\n",
    "    ).strip()\n",
    "    gen_sentence += \" \" + next_token_str\n",
    "    count += 1\n",
    "\n",
    "print(f\"Input: {input_text}\\nOutput: {gen_sentence}\")"
   ]
  },
  {
   "cell_type": "markdown",
   "id": "colored-status",
   "metadata": {},
   "source": [
    "### Run Load Test / Performance Test using vegeta"
   ]
  },
  {
   "cell_type": "markdown",
   "id": "exempt-discovery",
   "metadata": {},
   "source": [
    "#### Install vegeta, for more details take a look in [vegeta](https://github.com/tsenart/vegeta#install) official documentation"
   ]
  },
  {
   "cell_type": "code",
   "execution_count": 8,
   "id": "interesting-laptop",
   "metadata": {},
   "outputs": [],
   "source": [
    "!wget https://github.com/tsenart/vegeta/releases/download/v12.8.3/vegeta-12.8.3-linux-amd64.tar.gz\n",
    "!tar -zxvf vegeta-12.8.3-linux-amd64.tar.gz\n",
    "!chmod +x vegeta"
   ]
  },
  {
   "cell_type": "markdown",
   "id": "friendly-lying",
   "metadata": {},
   "source": [
    "#### Generate vegeta [target file](https://github.com/tsenart/vegeta#-targets) contains \"post\" cmd with payload in the requiered structure"
   ]
  },
  {
   "cell_type": "code",
   "execution_count": 9,
   "id": "reliable-croatia",
   "metadata": {},
   "outputs": [],
   "source": [
    "import base64\n",
    "import json\n",
    "from subprocess import PIPE, Popen, run\n",
    "\n",
    "import numpy as np\n",
    "from transformers import GPT2Tokenizer, TFGPT2LMHeadModel\n",
    "\n",
    "tokenizer = GPT2Tokenizer.from_pretrained(\"gpt2\")\n",
    "input_text = \"I enjoy working in Seldon\"\n",
    "input_ids = tokenizer.encode(input_text, return_tensors=\"tf\")\n",
    "shape = input_ids.shape.as_list()\n",
    "payload = {\n",
    "    \"inputs\": [\n",
    "        {\n",
    "            \"name\": \"input_ids\",\n",
    "            \"datatype\": \"INT32\",\n",
    "            \"shape\": shape,\n",
    "            \"data\": input_ids.numpy().tolist(),\n",
    "        },\n",
    "        {\n",
    "            \"name\": \"attention_mask\",\n",
    "            \"datatype\": \"INT32\",\n",
    "            \"shape\": shape,\n",
    "            \"data\": np.ones(shape, dtype=np.int32).tolist(),\n",
    "        },\n",
    "    ]\n",
    "}\n",
    "\n",
    "cmd = {\n",
    "    \"method\": \"POST\",\n",
    "    \"header\": {\"Content-Type\": [\"application/json\"]},\n",
    "    \"url\": \"http://localhost:80/seldon/default/gpt2/v2/models/gpt2/infer\",\n",
    "    \"body\": base64.b64encode(bytes(json.dumps(payload), \"utf-8\")).decode(\"utf-8\"),\n",
    "}\n",
    "\n",
    "with open(\"vegeta_target.json\", mode=\"w\") as file:\n",
    "    json.dump(cmd, file)\n",
    "    file.write(\"\\n\\n\")"
   ]
  },
  {
   "cell_type": "code",
   "execution_count": 10,
   "id": "tribal-statistics",
   "metadata": {},
   "outputs": [
    {
     "name": "stdout",
     "output_type": "stream",
     "text": [
      "Requests      [total, rate, throughput]         60, 1.02, 1.01\r\n",
      "Duration      [total, attack, wait]             59.198s, 59s, 197.751ms\r\n",
      "Latencies     [min, mean, 50, 90, 95, 99, max]  179.123ms, 280.177ms, 214.79ms, 325.753ms, 457.825ms, 1.936s, 2.009s\r\n",
      "Bytes In      [total, mean]                     475783920, 7929732.00\r\n",
      "Bytes Out     [total, mean]                     13140, 219.00\r\n",
      "Success       [ratio]                           100.00%\r\n",
      "Status Codes  [code:count]                      200:60  \r\n",
      "Error Set:\r\n"
     ]
    }
   ],
   "source": [
    "!vegeta attack -targets=vegeta_target.json -rate=1 -duration=60s -format=json | vegeta report -type=text"
   ]
  },
  {
   "cell_type": "markdown",
   "id": "patient-suite",
   "metadata": {},
   "source": [
    "### Clean-up"
   ]
  },
  {
   "cell_type": "code",
   "execution_count": 11,
   "id": "pacific-collectible",
   "metadata": {},
   "outputs": [
    {
     "name": "stdout",
     "output_type": "stream",
     "text": [
      "seldondeployment.machinelearning.seldon.io \"gpt2\" deleted\r\n"
     ]
    }
   ],
   "source": [
    "!kubectl delete -f gpt2-deploy.yaml -n default"
   ]
  }
 ],
 "metadata": {
  "interpreter": {
   "hash": "2465c4f56298bc06dbdad3e7519856d346ec0e9edf6ba2c905f0af711583810e"
  },
  "kernelspec": {
   "display_name": "Python 3.8.13 ('central')",
   "language": "python",
   "name": "python3"
  },
  "language_info": {
   "codemirror_mode": {
    "name": "ipython",
    "version": 3
   },
   "file_extension": ".py",
   "mimetype": "text/x-python",
   "name": "python",
   "nbconvert_exporter": "python",
   "pygments_lexer": "ipython3",
   "version": "3.8.13"
  }
 },
 "nbformat": 4,
 "nbformat_minor": 5
}
