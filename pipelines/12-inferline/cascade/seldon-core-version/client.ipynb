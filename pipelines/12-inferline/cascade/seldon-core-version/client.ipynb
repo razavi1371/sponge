{
 "cells": [
  {
   "cell_type": "code",
   "execution_count": 6,
   "metadata": {},
   "outputs": [],
   "source": [
    "import torchvision\n",
    "import torch\n",
    "import pandas as pd\n",
    "import numpy as np\n",
    "from torchvision import transforms\n",
    "from PIL import Image\n",
    "import os\n",
    "\n",
    "data_folder_path = '/home/cc/inference/infernece-pipeline-joint-optimization/pipelines/12-inferline/cascade/data'\n",
    "dataset_folder_path = os.path.join(\n",
    "    data_folder_path, 'ILSVRC/Data/DET/test'\n",
    ")\n",
    "classes_file_path = os.path.join(\n",
    "    data_folder_path, 'imagenet_classes.txt'\n",
    ")\n",
    "def show(img):\n",
    "    img_2 = Image.open(os.path.join(dataset_folder_path, img))\n",
    "    img_2.show()\n",
    "\n",
    "def load_pics(img):\n",
    "    img = Image.open(os.path.join(dataset_folder_path, img))\n",
    "    return img\n",
    "\n",
    "def filter_color_images(img):\n",
    "    img_2 = Image.open(os.path.join(dataset_folder_path, img[0]))\n",
    "    if img_2.mode == 'RGB':\n",
    "        return True\n",
    "    return False\n"
   ]
  },
  {
   "cell_type": "code",
   "execution_count": 7,
   "metadata": {},
   "outputs": [
    {
     "data": {
      "text/plain": [
       "'ILSVRC2017_test_00004529.JPEG'"
      ]
     },
     "execution_count": 7,
     "metadata": {},
     "output_type": "execute_result"
    }
   ],
   "source": [
    "with open(classes_file_path) as f:\n",
    "    classes = [line.strip() for line in f.readlines()]\n",
    "\n",
    "x = np.array([])\n",
    "directory = os.fsencode(dataset_folder_path)\n",
    "\n",
    "for root, dirs, files in os.walk(dataset_folder_path):\n",
    "    for filename in files:\n",
    "        x = np.append(x, filename)\n",
    "df = pd.DataFrame(data=x, columns=[\"images\"])\n",
    "df['images'][0]"
   ]
  },
  {
   "cell_type": "code",
   "execution_count": 13,
   "metadata": {},
   "outputs": [
    {
     "data": {
      "text/plain": [
       "PIL.JpegImagePlugin.JpegImageFile"
      ]
     },
     "execution_count": 13,
     "metadata": {},
     "output_type": "execute_result"
    }
   ],
   "source": [
    "# client side preprocess\n",
    "df = df.sort_values(by=['images'])\n",
    "\n",
    "df_s = df.head(5)\n",
    "df_s = df_s[df_s.apply(filter_color_images, axis=1)]\n",
    "df_s['images'] = df_s['images'].apply(load_pics)\n",
    "\n",
    "type(df_s['images'].iloc[0])"
   ]
  },
  {
   "cell_type": "code",
   "execution_count": 19,
   "metadata": {},
   "outputs": [
    {
     "ename": "SeldonClientException",
     "evalue": "",
     "output_type": "error",
     "traceback": [
      "\u001b[0;31m---------------------------------------------------------------------------\u001b[0m",
      "\u001b[0;31mSeldonClientException\u001b[0m                     Traceback (most recent call last)",
      "\u001b[1;32m/home/cc/inference/infernece-pipeline-joint-optimization/pipelines/12-inferline/cascade/seldon-core-version/client.ipynb Cell 4'\u001b[0m in \u001b[0;36m<cell line: 39>\u001b[0;34m()\u001b[0m\n\u001b[1;32m     <a href='vscode-notebook-cell://ssh-remote%2Bchameleon/home/cc/inference/infernece-pipeline-joint-optimization/pipelines/12-inferline/cascade/seldon-core-version/client.ipynb#ch0000000vscode-remote?line=29'>30</a>\u001b[0m X \u001b[39m=\u001b[39m df_s[\u001b[39m'\u001b[39m\u001b[39mimages\u001b[39m\u001b[39m'\u001b[39m]\u001b[39m.\u001b[39miloc[\u001b[39m0\u001b[39m]\n\u001b[1;32m     <a href='vscode-notebook-cell://ssh-remote%2Bchameleon/home/cc/inference/infernece-pipeline-joint-optimization/pipelines/12-inferline/cascade/seldon-core-version/client.ipynb#ch0000000vscode-remote?line=31'>32</a>\u001b[0m sc \u001b[39m=\u001b[39m SeldonClient(\n\u001b[1;32m     <a href='vscode-notebook-cell://ssh-remote%2Bchameleon/home/cc/inference/infernece-pipeline-joint-optimization/pipelines/12-inferline/cascade/seldon-core-version/client.ipynb#ch0000000vscode-remote?line=32'>33</a>\u001b[0m     gateway_endpoint\u001b[39m=\u001b[39mgateway_endpoint,\n\u001b[1;32m     <a href='vscode-notebook-cell://ssh-remote%2Bchameleon/home/cc/inference/infernece-pipeline-joint-optimization/pipelines/12-inferline/cascade/seldon-core-version/client.ipynb#ch0000000vscode-remote?line=33'>34</a>\u001b[0m     gateway\u001b[39m=\u001b[39m\u001b[39m\"\u001b[39m\u001b[39mistio\u001b[39m\u001b[39m\"\u001b[39m,\n\u001b[1;32m     <a href='vscode-notebook-cell://ssh-remote%2Bchameleon/home/cc/inference/infernece-pipeline-joint-optimization/pipelines/12-inferline/cascade/seldon-core-version/client.ipynb#ch0000000vscode-remote?line=34'>35</a>\u001b[0m     transport\u001b[39m=\u001b[39m\u001b[39m\"\u001b[39m\u001b[39mgrpc\u001b[39m\u001b[39m\"\u001b[39m,\n\u001b[1;32m     <a href='vscode-notebook-cell://ssh-remote%2Bchameleon/home/cc/inference/infernece-pipeline-joint-optimization/pipelines/12-inferline/cascade/seldon-core-version/client.ipynb#ch0000000vscode-remote?line=35'>36</a>\u001b[0m     deployment_name\u001b[39m=\u001b[39mdeployment_name,\n\u001b[1;32m     <a href='vscode-notebook-cell://ssh-remote%2Bchameleon/home/cc/inference/infernece-pipeline-joint-optimization/pipelines/12-inferline/cascade/seldon-core-version/client.ipynb#ch0000000vscode-remote?line=36'>37</a>\u001b[0m     namespace\u001b[39m=\u001b[39mnamespace)\n\u001b[0;32m---> <a href='vscode-notebook-cell://ssh-remote%2Bchameleon/home/cc/inference/infernece-pipeline-joint-optimization/pipelines/12-inferline/cascade/seldon-core-version/client.ipynb#ch0000000vscode-remote?line=38'>39</a>\u001b[0m response \u001b[39m=\u001b[39m sc\u001b[39m.\u001b[39;49mpredict(\n\u001b[1;32m     <a href='vscode-notebook-cell://ssh-remote%2Bchameleon/home/cc/inference/infernece-pipeline-joint-optimization/pipelines/12-inferline/cascade/seldon-core-version/client.ipynb#ch0000000vscode-remote?line=39'>40</a>\u001b[0m     data\u001b[39m=\u001b[39;49mX, client_return_type\u001b[39m=\u001b[39;49m\u001b[39m\"\u001b[39;49m\u001b[39mproto\u001b[39;49m\u001b[39m\"\u001b[39;49m\n\u001b[1;32m     <a href='vscode-notebook-cell://ssh-remote%2Bchameleon/home/cc/inference/infernece-pipeline-joint-optimization/pipelines/12-inferline/cascade/seldon-core-version/client.ipynb#ch0000000vscode-remote?line=40'>41</a>\u001b[0m )\n\u001b[1;32m     <a href='vscode-notebook-cell://ssh-remote%2Bchameleon/home/cc/inference/infernece-pipeline-joint-optimization/pipelines/12-inferline/cascade/seldon-core-version/client.ipynb#ch0000000vscode-remote?line=42'>43</a>\u001b[0m result \u001b[39m=\u001b[39m response\u001b[39m.\u001b[39mresponse\u001b[39m.\u001b[39mdata\u001b[39m.\u001b[39mtensor\u001b[39m.\u001b[39mvalues\n",
      "File \u001b[0;32m~/miniconda3/envs/central/lib/python3.8/site-packages/seldon_core/seldon_client.py:364\u001b[0m, in \u001b[0;36mSeldonClient.predict\u001b[0;34m(self, gateway, transport, deployment_name, payload_type, gateway_endpoint, microservice_endpoint, method, shape, namespace, data, bin_data, str_data, json_data, custom_data, names, gateway_prefix, headers, http_path, meta, client_return_type, raw_data, ssl)\u001b[0m\n\u001b[1;32m    <a href='file:///home/cc/miniconda3/envs/central/lib/python3.8/site-packages/seldon_core/seldon_client.py?line=288'>289</a>\u001b[0m \u001b[39m\"\"\"\u001b[39;00m\n\u001b[1;32m    <a href='file:///home/cc/miniconda3/envs/central/lib/python3.8/site-packages/seldon_core/seldon_client.py?line=289'>290</a>\u001b[0m \n\u001b[1;32m    <a href='file:///home/cc/miniconda3/envs/central/lib/python3.8/site-packages/seldon_core/seldon_client.py?line=290'>291</a>\u001b[0m \u001b[39mParameters\u001b[39;00m\n\u001b[0;32m   (...)\u001b[0m\n\u001b[1;32m    <a href='file:///home/cc/miniconda3/envs/central/lib/python3.8/site-packages/seldon_core/seldon_client.py?line=337'>338</a>\u001b[0m \n\u001b[1;32m    <a href='file:///home/cc/miniconda3/envs/central/lib/python3.8/site-packages/seldon_core/seldon_client.py?line=338'>339</a>\u001b[0m \u001b[39m\"\"\"\u001b[39;00m\n\u001b[1;32m    <a href='file:///home/cc/miniconda3/envs/central/lib/python3.8/site-packages/seldon_core/seldon_client.py?line=339'>340</a>\u001b[0m k \u001b[39m=\u001b[39m \u001b[39mself\u001b[39m\u001b[39m.\u001b[39m_gather_args(\n\u001b[1;32m    <a href='file:///home/cc/miniconda3/envs/central/lib/python3.8/site-packages/seldon_core/seldon_client.py?line=340'>341</a>\u001b[0m     gateway\u001b[39m=\u001b[39mgateway,\n\u001b[1;32m    <a href='file:///home/cc/miniconda3/envs/central/lib/python3.8/site-packages/seldon_core/seldon_client.py?line=341'>342</a>\u001b[0m     transport\u001b[39m=\u001b[39mtransport,\n\u001b[0;32m   (...)\u001b[0m\n\u001b[1;32m    <a href='file:///home/cc/miniconda3/envs/central/lib/python3.8/site-packages/seldon_core/seldon_client.py?line=361'>362</a>\u001b[0m     ssl\u001b[39m=\u001b[39mssl,\n\u001b[1;32m    <a href='file:///home/cc/miniconda3/envs/central/lib/python3.8/site-packages/seldon_core/seldon_client.py?line=362'>363</a>\u001b[0m )\n\u001b[0;32m--> <a href='file:///home/cc/miniconda3/envs/central/lib/python3.8/site-packages/seldon_core/seldon_client.py?line=363'>364</a>\u001b[0m \u001b[39mself\u001b[39;49m\u001b[39m.\u001b[39;49m_validate_args(\u001b[39m*\u001b[39;49m\u001b[39m*\u001b[39;49mk)\n\u001b[1;32m    <a href='file:///home/cc/miniconda3/envs/central/lib/python3.8/site-packages/seldon_core/seldon_client.py?line=364'>365</a>\u001b[0m \u001b[39mif\u001b[39;00m k[\u001b[39m\"\u001b[39m\u001b[39mgateway\u001b[39m\u001b[39m\"\u001b[39m] \u001b[39m==\u001b[39m \u001b[39m\"\u001b[39m\u001b[39mambassador\u001b[39m\u001b[39m\"\u001b[39m \u001b[39mor\u001b[39;00m k[\u001b[39m\"\u001b[39m\u001b[39mgateway\u001b[39m\u001b[39m\"\u001b[39m] \u001b[39m==\u001b[39m \u001b[39m\"\u001b[39m\u001b[39mistio\u001b[39m\u001b[39m\"\u001b[39m:\n\u001b[1;32m    <a href='file:///home/cc/miniconda3/envs/central/lib/python3.8/site-packages/seldon_core/seldon_client.py?line=365'>366</a>\u001b[0m     \u001b[39mif\u001b[39;00m k[\u001b[39m\"\u001b[39m\u001b[39mtransport\u001b[39m\u001b[39m\"\u001b[39m] \u001b[39m==\u001b[39m \u001b[39m\"\u001b[39m\u001b[39mrest\u001b[39m\u001b[39m\"\u001b[39m:\n",
      "File \u001b[0;32m~/miniconda3/envs/central/lib/python3.8/site-packages/seldon_core/seldon_client.py:258\u001b[0m, in \u001b[0;36mSeldonClient._validate_args\u001b[0;34m(self, gateway, transport, method, data, client_return_type, **kwargs)\u001b[0m\n\u001b[1;32m    <a href='file:///home/cc/miniconda3/envs/central/lib/python3.8/site-packages/seldon_core/seldon_client.py?line=253'>254</a>\u001b[0m     \u001b[39mraise\u001b[39;00m SeldonClientException(\n\u001b[1;32m    <a href='file:///home/cc/miniconda3/envs/central/lib/python3.8/site-packages/seldon_core/seldon_client.py?line=254'>255</a>\u001b[0m         \u001b[39m\"\u001b[39m\u001b[39mValid values for method are \u001b[39m\u001b[39m'\u001b[39m\u001b[39mpredict\u001b[39m\u001b[39m'\u001b[39m\u001b[39m, \u001b[39m\u001b[39m'\u001b[39m\u001b[39mroute\u001b[39m\u001b[39m'\u001b[39m\u001b[39m, \u001b[39m\u001b[39m'\u001b[39m\u001b[39mtransform-input\u001b[39m\u001b[39m'\u001b[39m\u001b[39m, \u001b[39m\u001b[39m'\u001b[39m\u001b[39mtransform-output\u001b[39m\u001b[39m'\u001b[39m\u001b[39m, \u001b[39m\u001b[39m'\u001b[39m\u001b[39maggregate\u001b[39m\u001b[39m'\u001b[39m\u001b[39m or None\u001b[39m\u001b[39m\"\u001b[39m\n\u001b[1;32m    <a href='file:///home/cc/miniconda3/envs/central/lib/python3.8/site-packages/seldon_core/seldon_client.py?line=255'>256</a>\u001b[0m     )\n\u001b[1;32m    <a href='file:///home/cc/miniconda3/envs/central/lib/python3.8/site-packages/seldon_core/seldon_client.py?line=256'>257</a>\u001b[0m \u001b[39mif\u001b[39;00m \u001b[39mnot\u001b[39;00m (data \u001b[39mis\u001b[39;00m \u001b[39mNone\u001b[39;00m \u001b[39mor\u001b[39;00m \u001b[39misinstance\u001b[39m(data, np\u001b[39m.\u001b[39mndarray)):\n\u001b[0;32m--> <a href='file:///home/cc/miniconda3/envs/central/lib/python3.8/site-packages/seldon_core/seldon_client.py?line=257'>258</a>\u001b[0m     \u001b[39mraise\u001b[39;00m SeldonClientException(\u001b[39m\"\u001b[39m\u001b[39mValid values for data are None or numpy array\u001b[39m\u001b[39m\"\u001b[39m)\n\u001b[1;32m    <a href='file:///home/cc/miniconda3/envs/central/lib/python3.8/site-packages/seldon_core/seldon_client.py?line=258'>259</a>\u001b[0m \u001b[39mif\u001b[39;00m \u001b[39mnot\u001b[39;00m (client_return_type \u001b[39m==\u001b[39m \u001b[39m\"\u001b[39m\u001b[39mproto\u001b[39m\u001b[39m\"\u001b[39m \u001b[39mor\u001b[39;00m client_return_type \u001b[39m==\u001b[39m \u001b[39m\"\u001b[39m\u001b[39mdict\u001b[39m\u001b[39m\"\u001b[39m):\n\u001b[1;32m    <a href='file:///home/cc/miniconda3/envs/central/lib/python3.8/site-packages/seldon_core/seldon_client.py?line=259'>260</a>\u001b[0m     \u001b[39mraise\u001b[39;00m SeldonClientException(\n\u001b[1;32m    <a href='file:///home/cc/miniconda3/envs/central/lib/python3.8/site-packages/seldon_core/seldon_client.py?line=260'>261</a>\u001b[0m         \u001b[39m\"\u001b[39m\u001b[39mValid values for client_return_type are proto or dict\u001b[39m\u001b[39m\"\u001b[39m\n\u001b[1;32m    <a href='file:///home/cc/miniconda3/envs/central/lib/python3.8/site-packages/seldon_core/seldon_client.py?line=261'>262</a>\u001b[0m     )\n",
      "\u001b[0;31mSeldonClientException\u001b[0m: "
     ]
    }
   ],
   "source": [
    "%matplotlib inline\n",
    "import json\n",
    "import sys\n",
    "\n",
    "import matplotlib.pyplot as plt\n",
    "import numpy as np\n",
    "from keras.applications.imagenet_utils import decode_predictions, preprocess_input\n",
    "from keras.preprocessing import image\n",
    "\n",
    "from seldon_core.seldon_client import SeldonClient\n",
    "\n",
    "\n",
    "# def getImage(path):\n",
    "#     img = image.load_img(path, target_size=(227, 227))\n",
    "#     x = image.img_to_array(img)\n",
    "#     plt.imshow(x / 255.0)\n",
    "#     x = np.expand_dims(x, axis=0)\n",
    "#     x = preprocess_input(x)\n",
    "#     return x\n",
    "\n",
    "\n",
    "# X = getImage(\"car.png\")\n",
    "# X = X.transpose((0, 3, 1, 2))\n",
    "# print(X.shape)\n",
    "\n",
    "gateway_endpoint=\"localhost:32000\"\n",
    "deployment_name = 'inferline-cascade'\n",
    "namespace = \"default\"\n",
    "\n",
    "X = df_s['images'].iloc[0]\n",
    "\n",
    "sc = SeldonClient(\n",
    "    gateway_endpoint=gateway_endpoint,\n",
    "    gateway=\"istio\",\n",
    "    transport=\"grpc\",\n",
    "    deployment_name=deployment_name,\n",
    "    namespace=namespace)\n",
    "\n",
    "response = sc.predict(\n",
    "    data=X, client_return_type=\"proto\"\n",
    ")\n",
    "\n",
    "result = response.response.data.tensor.values\n",
    "\n",
    "# result = np.array(result)\n",
    "# result = result.reshape(1, 1000)\n",
    "\n",
    "# with open(\"imagenet_classes.json\") as f:\n",
    "#     cnames = eval(f.read())\n",
    "\n",
    "#     for i in range(result.shape[0]):\n",
    "#         single_result = result[[i], ...]\n",
    "#         ma = np.argmax(single_result)\n",
    "#         print(\"\\t\", i, cnames[ma])\n",
    "#         assert cnames[ma] == \"sports car, sport car\""
   ]
  }
 ],
 "metadata": {
  "interpreter": {
   "hash": "2465c4f56298bc06dbdad3e7519856d346ec0e9edf6ba2c905f0af711583810e"
  },
  "kernelspec": {
   "display_name": "Python 3.8.13 ('central')",
   "language": "python",
   "name": "python3"
  },
  "language_info": {
   "codemirror_mode": {
    "name": "ipython",
    "version": 3
   },
   "file_extension": ".py",
   "mimetype": "text/x-python",
   "name": "python",
   "nbconvert_exporter": "python",
   "pygments_lexer": "ipython3",
   "version": "3.8.13"
  },
  "orig_nbformat": 4
 },
 "nbformat": 4,
 "nbformat_minor": 2
}
