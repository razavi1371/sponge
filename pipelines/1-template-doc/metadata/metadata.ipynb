{
 "cells": [
  {
   "cell_type": "markdown",
   "metadata": {},
   "source": [
    "# Simple Metadata Example\n",
    "\n",
    "\n",
    "## Prerequisites\n",
    "\n",
    " * A kubernetes cluster with kubectl configured\n",
    " * curl\n",
    " * grpcurl\n",
    " * pygmentize\n",
    " \n",
    "\n",
    "## Setup Seldon Core\n",
    "\n",
    "Use the setup notebook to [Setup Cluster](https://docs.seldon.io/projects/seldon-core/en/latest/examples/seldon_core_setup.html) to setup Seldon Core with an ingress."
   ]
  },
  {
   "cell_type": "code",
   "execution_count": 1,
   "metadata": {},
   "outputs": [
    {
     "name": "stdout",
     "output_type": "stream",
     "text": [
      "Error from server (AlreadyExists): namespaces \"seldon\" already exists\r\n"
     ]
    }
   ],
   "source": [
    "!kubectl create namespace seldon"
   ]
  },
  {
   "cell_type": "code",
   "execution_count": 2,
   "metadata": {},
   "outputs": [
    {
     "name": "stdout",
     "output_type": "stream",
     "text": [
      "Context \"kind-kind\" modified.\r\n"
     ]
    }
   ],
   "source": [
    "!kubectl config set-context $(kubectl config current-context) --namespace=seldon"
   ]
  },
  {
   "cell_type": "markdown",
   "metadata": {},
   "source": [
    "## Example description\n",
    "\n",
    "In this example we will define a following metadata\n",
    "```\n",
    "name: my-model-name\n",
    "versions: [ my-model-version-01 ]\n",
    "platform: seldon\n",
    "inputs:\n",
    "- messagetype: tensor\n",
    "  schema:\n",
    "    names: [a, b, c, d]\n",
    "    shape: [ 4 ]\n",
    "outputs:\n",
    "- messagetype: tensor\n",
    "  schema:\n",
    "    shape: [ 1 ]\n",
    "```\n",
    "\n",
    "which corresponds to model taking a tensor input with four columns named `a`, `b`, `c`, and `d`.\n",
    "\n",
    "We will define the `metadata` in two ways: directly in the model.py and in the deployment manifest.\n",
    "\n",
    "When defining `metadata` in deployment manifest we will use different names to indicate that metadata can be overwritten.\n",
    "\n",
    "At the end we will see what happens if one misdefined the Metadata."
   ]
  },
  {
   "cell_type": "code",
   "execution_count": 3,
   "metadata": {},
   "outputs": [],
   "source": [
    "import time\n",
    "\n",
    "import requests\n",
    "\n",
    "\n",
    "def getWithRetry(url, expected_code=requests.codes.ok):\n",
    "    for i in range(3):\n",
    "        r = requests.get(url)\n",
    "        if r.status_code == expected_code:\n",
    "            meta = r.json()\n",
    "            return meta\n",
    "        else:\n",
    "            print(\"Failed request with status code \", r.status_code)\n",
    "            time.sleep(3)"
   ]
  },
  {
   "cell_type": "markdown",
   "metadata": {},
   "source": [
    "## 1. Directly define in model"
   ]
  },
  {
   "cell_type": "markdown",
   "metadata": {},
   "source": [
    "### Define Model"
   ]
  },
  {
   "cell_type": "code",
   "execution_count": 4,
   "metadata": {},
   "outputs": [
    {
     "name": "stdout",
     "output_type": "stream",
     "text": [
      "Overwriting models/init-metadata/Model.py\n"
     ]
    }
   ],
   "source": [
    "%%writefile models/init-metadata/Model.py\n",
    "\n",
    "import logging\n",
    "\n",
    "\n",
    "class Model:\n",
    "    def predict(self, features, names=[], meta=[]):\n",
    "        logging.info(f\"model features: {features}\")\n",
    "        logging.info(f\"model names: {names}\")\n",
    "        logging.info(f\"model meta: {meta}\")\n",
    "        return features\n",
    "\n",
    "    def init_metadata(self):\n",
    "        logging.info(\"metadata method  called\")\n",
    "\n",
    "        meta = {\n",
    "            \"name\": \"my-model-name\",\n",
    "            \"versions\": [\"my-model-version-01\"],\n",
    "            \"platform\": \"seldon\",\n",
    "            \"inputs\": [\n",
    "                {\n",
    "                    \"messagetype\": \"tensor\",\n",
    "                    \"schema\": {\"names\": [\"a\", \"b\", \"c\", \"d\"], \"shape\": [4]},\n",
    "                }\n",
    "            ],\n",
    "            \"outputs\": [{\"messagetype\": \"tensor\", \"schema\": {\"shape\": [1]}}],\n",
    "            \"custom\": {\n",
    "                \"author\": \"seldon-dev\"\n",
    "            }\n",
    "        }\n",
    "\n",
    "        return meta"
   ]
  },
  {
   "cell_type": "markdown",
   "metadata": {},
   "source": [
    "### Build image\n",
    "\n",
    "build image using provided Makefile\n",
    "```\n",
    "cd models/init-metadata\n",
    "make build\n",
    "```\n",
    "\n",
    "If you are using `kind` you can use `kind_image_install` target to directly\n",
    "load your image into your local cluster.\n"
   ]
  },
  {
   "cell_type": "markdown",
   "metadata": {},
   "source": [
    "### Define deployment"
   ]
  },
  {
   "cell_type": "code",
   "execution_count": 5,
   "metadata": {},
   "outputs": [
    {
     "name": "stdout",
     "output_type": "stream",
     "text": [
      "Overwriting model-metadata/init-metadata.yaml\n"
     ]
    }
   ],
   "source": [
    "%%writefile model-metadata/init-metadata.yaml\n",
    "\n",
    "apiVersion: machinelearning.seldon.io/v1\n",
    "kind: SeldonDeployment\n",
    "metadata:\n",
    "  name: seldon-model-init-metadata\n",
    "spec:\n",
    "  name: test-deployment\n",
    "  predictors:\n",
    "  - componentSpecs:\n",
    "    - spec:\n",
    "        containers:\n",
    "        - image: seldonio/model-with-metadata:0.5\n",
    "          name: my-model\n",
    "          env:\n",
    "          - name: SELDON_LOG_LEVEL\n",
    "            value: DEBUG\n",
    "    graph:\n",
    "      children: []\n",
    "      name: my-model\n",
    "      type: MODEL\n",
    "    name: example\n",
    "    replicas: 1"
   ]
  },
  {
   "cell_type": "markdown",
   "metadata": {},
   "source": [
    "### Deploy"
   ]
  },
  {
   "cell_type": "code",
   "execution_count": 6,
   "metadata": {},
   "outputs": [
    {
     "name": "stdout",
     "output_type": "stream",
     "text": [
      "seldondeployment.machinelearning.seldon.io/seldon-model-init-metadata created\r\n"
     ]
    }
   ],
   "source": [
    "!kubectl apply -f model-metadata/init-metadata.yaml"
   ]
  },
  {
   "cell_type": "code",
   "execution_count": 7,
   "metadata": {},
   "outputs": [
    {
     "name": "stdout",
     "output_type": "stream",
     "text": [
      "Waiting for deployment \"seldon-model-init-metadata-example-0-my-model\" rollout to finish: 0 of 1 updated replicas are available...\n",
      "deployment \"seldon-model-init-metadata-example-0-my-model\" successfully rolled out\n"
     ]
    }
   ],
   "source": [
    "!kubectl rollout status deploy/$(kubectl get deploy -l seldon-deployment-id=seldon-model-init-metadata -o jsonpath='{.items[0].metadata.name}')"
   ]
  },
  {
   "cell_type": "markdown",
   "metadata": {},
   "source": [
    "### Model Metadata"
   ]
  },
  {
   "cell_type": "code",
   "execution_count": 8,
   "metadata": {},
   "outputs": [
    {
     "data": {
      "text/plain": [
       "{'custom': {'author': 'seldon-dev'},\n",
       " 'inputs': [{'messagetype': 'tensor',\n",
       "   'schema': {'names': ['a', 'b', 'c', 'd'], 'shape': [4]}}],\n",
       " 'name': 'my-model-name',\n",
       " 'outputs': [{'messagetype': 'tensor', 'schema': {'shape': [1]}}],\n",
       " 'platform': 'seldon',\n",
       " 'versions': ['my-model-version-01']}"
      ]
     },
     "execution_count": 8,
     "metadata": {},
     "output_type": "execute_result"
    }
   ],
   "source": [
    "meta = getWithRetry(\n",
    "    \"http://localhost:8004/seldon/seldon/seldon-model-init-metadata/api/v1.0/metadata/my-model\"\n",
    ")\n",
    "\n",
    "assert meta == {\n",
    "    \"name\": \"my-model-name\",\n",
    "    \"versions\": [\"my-model-version-01\"],\n",
    "    \"platform\": \"seldon\",\n",
    "    \"inputs\": [\n",
    "        {\n",
    "            \"messagetype\": \"tensor\",\n",
    "            \"schema\": {\"names\": [\"a\", \"b\", \"c\", \"d\"], \"shape\": [4]},\n",
    "        }\n",
    "    ],\n",
    "    \"outputs\": [{\"messagetype\": \"tensor\", \"schema\": {\"shape\": [1]}}],\n",
    "    \"custom\": {\"author\": \"seldon-dev\"},\n",
    "}\n",
    "\n",
    "meta"
   ]
  },
  {
   "cell_type": "markdown",
   "metadata": {},
   "source": [
    "### Graph Metadata"
   ]
  },
  {
   "cell_type": "code",
   "execution_count": 9,
   "metadata": {},
   "outputs": [
    {
     "data": {
      "text/plain": [
       "{'name': 'example',\n",
       " 'models': {'my-model': {'name': 'my-model-name',\n",
       "   'platform': 'seldon',\n",
       "   'versions': ['my-model-version-01'],\n",
       "   'inputs': [{'messagetype': 'tensor',\n",
       "     'schema': {'names': ['a', 'b', 'c', 'd'], 'shape': [4]}}],\n",
       "   'outputs': [{'messagetype': 'tensor', 'schema': {'shape': [1]}}],\n",
       "   'custom': {'author': 'seldon-dev'}}},\n",
       " 'graphinputs': [{'messagetype': 'tensor',\n",
       "   'schema': {'names': ['a', 'b', 'c', 'd'], 'shape': [4]}}],\n",
       " 'graphoutputs': [{'messagetype': 'tensor', 'schema': {'shape': [1]}}]}"
      ]
     },
     "execution_count": 9,
     "metadata": {},
     "output_type": "execute_result"
    }
   ],
   "source": [
    "meta = getWithRetry(\n",
    "    \"http://localhost:8004/seldon/seldon/seldon-model-init-metadata/api/v1.0/metadata\"\n",
    ")\n",
    "\n",
    "assert meta == {\n",
    "    \"name\": \"example\",\n",
    "    \"models\": {\n",
    "        \"my-model\": {\n",
    "            \"name\": \"my-model-name\",\n",
    "            \"platform\": \"seldon\",\n",
    "            \"versions\": [\"my-model-version-01\"],\n",
    "            \"inputs\": [\n",
    "                {\n",
    "                    \"messagetype\": \"tensor\",\n",
    "                    \"schema\": {\"names\": [\"a\", \"b\", \"c\", \"d\"], \"shape\": [4]},\n",
    "                }\n",
    "            ],\n",
    "            \"outputs\": [{\"messagetype\": \"tensor\", \"schema\": {\"shape\": [1]}}],\n",
    "            \"custom\": {\"author\": \"seldon-dev\"},\n",
    "        }\n",
    "    },\n",
    "    \"graphinputs\": [\n",
    "        {\n",
    "            \"messagetype\": \"tensor\",\n",
    "            \"schema\": {\"names\": [\"a\", \"b\", \"c\", \"d\"], \"shape\": [4]},\n",
    "        }\n",
    "    ],\n",
    "    \"graphoutputs\": [{\"messagetype\": \"tensor\", \"schema\": {\"shape\": [1]}}],\n",
    "}\n",
    "\n",
    "meta"
   ]
  },
  {
   "cell_type": "markdown",
   "metadata": {},
   "source": [
    "## 2. Via environmental variable\n",
    "\n",
    "Metadata defined via environmental variables will overwrite top-level fields \n",
    "in metadata defined directly in the models.\n",
    "\n",
    "You can use this approach to overwrite metadata defined in the model or \n",
    "to provide metadata if model does not define it."
   ]
  },
  {
   "cell_type": "code",
   "execution_count": 10,
   "metadata": {},
   "outputs": [
    {
     "name": "stdout",
     "output_type": "stream",
     "text": [
      "Overwriting model-metadata/environ-metadata.yaml\n"
     ]
    }
   ],
   "source": [
    "%%writefile model-metadata/environ-metadata.yaml\n",
    "\n",
    "apiVersion: machinelearning.seldon.io/v1\n",
    "kind: SeldonDeployment\n",
    "metadata:\n",
    "  name: seldon-model-environ-metadata\n",
    "spec:\n",
    "  name: test-deployment\n",
    "  predictors:\n",
    "  - componentSpecs:\n",
    "    - spec:\n",
    "        containers:\n",
    "        - image: seldonio/model-with-metadata:0.5\n",
    "          name: my-model\n",
    "          env:\n",
    "          - name: SELDON_LOG_LEVEL\n",
    "            value: DEBUG\n",
    "          - name: MODEL_METADATA\n",
    "            value: |\n",
    "              ---\n",
    "              name: second-example-model-name\n",
    "              versions: [ my-model-version-01 ]\n",
    "              inputs:\n",
    "              - messagetype: tensor\n",
    "                schema:\n",
    "                  names: [alpha, beta, gamma, delta]\n",
    "                  shape: [4]\n",
    "              custom:\n",
    "                author: seldon-dev\n",
    "                purpose: tutorial\n",
    "    graph:\n",
    "      children: []\n",
    "      name: my-model\n",
    "      type: MODEL\n",
    "    name: example\n",
    "    replicas: 1"
   ]
  },
  {
   "cell_type": "code",
   "execution_count": 11,
   "metadata": {},
   "outputs": [
    {
     "name": "stdout",
     "output_type": "stream",
     "text": [
      "seldondeployment.machinelearning.seldon.io/seldon-model-environ-metadata created\r\n"
     ]
    }
   ],
   "source": [
    "!kubectl apply -f model-metadata/environ-metadata.yaml"
   ]
  },
  {
   "cell_type": "code",
   "execution_count": 12,
   "metadata": {},
   "outputs": [
    {
     "name": "stdout",
     "output_type": "stream",
     "text": [
      "Waiting for deployment \"seldon-model-environ-metadata-example-0-my-model\" rollout to finish: 0 of 1 updated replicas are available...\n",
      "deployment \"seldon-model-environ-metadata-example-0-my-model\" successfully rolled out\n"
     ]
    }
   ],
   "source": [
    "!kubectl rollout status deploy/$(kubectl get deploy -l seldon-deployment-id=seldon-model-environ-metadata -o jsonpath='{.items[0].metadata.name}')"
   ]
  },
  {
   "cell_type": "markdown",
   "metadata": {},
   "source": [
    "### Model Metadata"
   ]
  },
  {
   "cell_type": "code",
   "execution_count": 13,
   "metadata": {},
   "outputs": [
    {
     "data": {
      "text/plain": [
       "{'custom': {'author': 'seldon-dev', 'purpose': 'tutorial'},\n",
       " 'inputs': [{'messagetype': 'tensor',\n",
       "   'schema': {'names': ['alpha', 'beta', 'gamma', 'delta'], 'shape': [4]}}],\n",
       " 'name': 'second-example-model-name',\n",
       " 'outputs': [{'messagetype': 'tensor', 'schema': {'shape': [1]}}],\n",
       " 'platform': 'seldon',\n",
       " 'versions': ['my-model-version-01']}"
      ]
     },
     "execution_count": 13,
     "metadata": {},
     "output_type": "execute_result"
    }
   ],
   "source": [
    "meta = getWithRetry(\n",
    "    \"http://localhost:8004/seldon/seldon/seldon-model-environ-metadata/api/v1.0/metadata/my-model\"\n",
    ")\n",
    "\n",
    "\n",
    "assert meta == {\n",
    "    \"name\": \"second-example-model-name\",\n",
    "    \"versions\": [\"my-model-version-01\"],\n",
    "    \"platform\": \"seldon\",\n",
    "    \"inputs\": [\n",
    "        {\n",
    "            \"messagetype\": \"tensor\",\n",
    "            \"schema\": {\"names\": [\"alpha\", \"beta\", \"gamma\", \"delta\"], \"shape\": [4]},\n",
    "        }\n",
    "    ],\n",
    "    \"outputs\": [{\"messagetype\": \"tensor\", \"schema\": {\"shape\": [1]}}],\n",
    "    \"custom\": {\"author\": \"seldon-dev\", \"purpose\": \"tutorial\"},\n",
    "}\n",
    "\n",
    "meta"
   ]
  },
  {
   "cell_type": "markdown",
   "metadata": {},
   "source": [
    "### Graph Metadata"
   ]
  },
  {
   "cell_type": "code",
   "execution_count": 14,
   "metadata": {},
   "outputs": [
    {
     "data": {
      "text/plain": [
       "{'name': 'example',\n",
       " 'models': {'my-model': {'name': 'second-example-model-name',\n",
       "   'platform': 'seldon',\n",
       "   'versions': ['my-model-version-01'],\n",
       "   'inputs': [{'messagetype': 'tensor',\n",
       "     'schema': {'names': ['alpha', 'beta', 'gamma', 'delta'], 'shape': [4]}}],\n",
       "   'outputs': [{'messagetype': 'tensor', 'schema': {'shape': [1]}}],\n",
       "   'custom': {'author': 'seldon-dev', 'purpose': 'tutorial'}}},\n",
       " 'graphinputs': [{'messagetype': 'tensor',\n",
       "   'schema': {'names': ['alpha', 'beta', 'gamma', 'delta'], 'shape': [4]}}],\n",
       " 'graphoutputs': [{'messagetype': 'tensor', 'schema': {'shape': [1]}}]}"
      ]
     },
     "execution_count": 14,
     "metadata": {},
     "output_type": "execute_result"
    }
   ],
   "source": [
    "meta = getWithRetry(\n",
    "    \"http://localhost:8004/seldon/seldon/seldon-model-environ-metadata/api/v1.0/metadata\"\n",
    ")\n",
    "\n",
    "assert meta == {\n",
    "    \"name\": \"example\",\n",
    "    \"models\": {\n",
    "        \"my-model\": {\n",
    "            \"name\": \"second-example-model-name\",\n",
    "            \"platform\": \"seldon\",\n",
    "            \"versions\": [\"my-model-version-01\"],\n",
    "            \"inputs\": [\n",
    "                {\n",
    "                    \"messagetype\": \"tensor\",\n",
    "                    \"schema\": {\n",
    "                        \"names\": [\"alpha\", \"beta\", \"gamma\", \"delta\"],\n",
    "                        \"shape\": [4],\n",
    "                    },\n",
    "                }\n",
    "            ],\n",
    "            \"outputs\": [{\"messagetype\": \"tensor\", \"schema\": {\"shape\": [1]}}],\n",
    "            \"custom\": {\"author\": \"seldon-dev\", \"purpose\": \"tutorial\"},\n",
    "        }\n",
    "    },\n",
    "    \"graphinputs\": [\n",
    "        {\n",
    "            \"messagetype\": \"tensor\",\n",
    "            \"schema\": {\"names\": [\"alpha\", \"beta\", \"gamma\", \"delta\"], \"shape\": [4]},\n",
    "        }\n",
    "    ],\n",
    "    \"graphoutputs\": [{\"messagetype\": \"tensor\", \"schema\": {\"shape\": [1]}}],\n",
    "}\n",
    "\n",
    "meta"
   ]
  },
  {
   "cell_type": "markdown",
   "metadata": {},
   "source": [
    "## 3. Invalid metadata definition\n",
    "\n",
    "Here we define metadata that is invalid (versions must be a list)"
   ]
  },
  {
   "cell_type": "code",
   "execution_count": 15,
   "metadata": {},
   "outputs": [
    {
     "name": "stdout",
     "output_type": "stream",
     "text": [
      "Overwriting model-metadata/invalid-environ-metadata.yaml\n"
     ]
    }
   ],
   "source": [
    "%%writefile model-metadata/invalid-environ-metadata.yaml\n",
    "\n",
    "apiVersion: machinelearning.seldon.io/v1\n",
    "kind: SeldonDeployment\n",
    "metadata:\n",
    "  name: seldon-model-invalid-environ-metadata\n",
    "spec:\n",
    "  name: test-deployment\n",
    "  predictors:\n",
    "  - componentSpecs:\n",
    "    - spec:\n",
    "        containers:\n",
    "        - image: seldonio/model-with-metadata:0.5\n",
    "          name: my-model\n",
    "          env:\n",
    "          - name: SELDON_LOG_LEVEL\n",
    "            value: DEBUG\n",
    "          - name: MODEL_METADATA\n",
    "            value: |\n",
    "              ---\n",
    "              name: my-model-name\n",
    "              versions: my-model-version-01\n",
    "    graph:\n",
    "      children: []\n",
    "      name: my-model\n",
    "      type: MODEL\n",
    "    name: example\n",
    "    replicas: 1"
   ]
  },
  {
   "cell_type": "code",
   "execution_count": 16,
   "metadata": {},
   "outputs": [
    {
     "name": "stdout",
     "output_type": "stream",
     "text": [
      "seldondeployment.machinelearning.seldon.io/seldon-model-invalid-environ-metadata created\r\n"
     ]
    }
   ],
   "source": [
    "!kubectl apply -f model-metadata/invalid-environ-metadata.yaml"
   ]
  },
  {
   "cell_type": "code",
   "execution_count": 17,
   "metadata": {},
   "outputs": [
    {
     "name": "stdout",
     "output_type": "stream",
     "text": [
      "Waiting for deployment \"seldon-model-invalid-environ-metadata-example-0-my-model\" rollout to finish: 0 of 1 updated replicas are available...\n",
      "deployment \"seldon-model-invalid-environ-metadata-example-0-my-model\" successfully rolled out\n"
     ]
    }
   ],
   "source": [
    "!kubectl rollout status deploy/$(kubectl get deploy -l seldon-deployment-id=seldon-model-invalid-environ-metadata -o jsonpath='{.items[0].metadata.name}')"
   ]
  },
  {
   "cell_type": "markdown",
   "metadata": {},
   "source": [
    "Requesting Metadata will lead to 500 error."
   ]
  },
  {
   "cell_type": "code",
   "execution_count": 18,
   "metadata": {},
   "outputs": [
    {
     "data": {
      "text/plain": [
       "{'status': {'code': -1,\n",
       "  'info': 'Model metadata unavailable',\n",
       "  'reason': 'MICROSERVICE_BAD_METADATA',\n",
       "  'status': 1}}"
      ]
     },
     "execution_count": 18,
     "metadata": {},
     "output_type": "execute_result"
    }
   ],
   "source": [
    "meta = getWithRetry(\n",
    "    \"http://localhost:8004/seldon/seldon/seldon-model-invalid-environ-metadata/api/v1.0/metadata/my-model\",\n",
    "    500,\n",
    ")\n",
    "\n",
    "assert meta == {\n",
    "    \"status\": {\n",
    "        \"code\": -1,\n",
    "        \"info\": \"Model metadata unavailable\",\n",
    "        \"reason\": \"MICROSERVICE_BAD_METADATA\",\n",
    "        \"status\": 1,\n",
    "    }\n",
    "}\n",
    "\n",
    "meta"
   ]
  },
  {
   "cell_type": "markdown",
   "metadata": {},
   "source": [
    "But Model will still be serving predictions"
   ]
  },
  {
   "cell_type": "code",
   "execution_count": 19,
   "metadata": {},
   "outputs": [
    {
     "name": "stdout",
     "output_type": "stream",
     "text": [
      "{\"data\":{\"names\":[],\"ndarray\":[\"data\"]},\"meta\":{}}\n"
     ]
    }
   ],
   "source": [
    "%%bash\n",
    "curl -s -H 'Content-Type: application/json' \\\n",
    "    -d '{\"data\": {\"names\": [\"input\"], \"ndarray\": [\"data\"]}}' \\\n",
    "    http://localhost:8003/seldon/seldon/seldon-model-invalid-environ-metadata/api/v1.0/predictions"
   ]
  },
  {
   "cell_type": "markdown",
   "metadata": {},
   "source": [
    "## Cleanup resources"
   ]
  },
  {
   "cell_type": "code",
   "execution_count": 2,
   "metadata": {},
   "outputs": [
    {
     "name": "stderr",
     "output_type": "stream",
     "text": [
      "Error from server (NotFound): error when deleting \"model-metadata/environ-metadata.yaml\": seldondeployments.machinelearning.seldon.io \"seldon-model-environ-metadata\" not found\n",
      "Error from server (NotFound): error when deleting \"model-metadata/init-metadata.yaml\": seldondeployments.machinelearning.seldon.io \"seldon-model-init-metadata\" not found\n",
      "Error from server (NotFound): error when deleting \"model-metadata/invalid-environ-metadata.yaml\": seldondeployments.machinelearning.seldon.io \"seldon-model-invalid-environ-metadata\" not found\n"
     ]
    },
    {
     "ename": "CalledProcessError",
     "evalue": "Command 'b'kubectl delete -f model-metadata/\\n'' returned non-zero exit status 1.",
     "output_type": "error",
     "traceback": [
      "\u001b[0;31m---------------------------------------------------------------------------\u001b[0m",
      "\u001b[0;31mCalledProcessError\u001b[0m                        Traceback (most recent call last)",
      "\u001b[1;32m/home/cc/inference-project/inference-pipeline-joint-optimization/pipelines/0-template/metadata/metadata.ipynb Cell 37'\u001b[0m in \u001b[0;36m<cell line: 1>\u001b[0;34m()\u001b[0m\n\u001b[0;32m----> <a href='vscode-notebook-cell://ssh-remote%2Bchameleon/home/cc/inference-project/inference-pipeline-joint-optimization/pipelines/0-template/metadata/metadata.ipynb#ch0000035vscode-remote?line=0'>1</a>\u001b[0m get_ipython()\u001b[39m.\u001b[39;49mrun_cell_magic(\u001b[39m'\u001b[39;49m\u001b[39mbash\u001b[39;49m\u001b[39m'\u001b[39;49m, \u001b[39m'\u001b[39;49m\u001b[39m'\u001b[39;49m, \u001b[39m'\u001b[39;49m\u001b[39mkubectl delete -f model-metadata/\u001b[39;49m\u001b[39m\\n\u001b[39;49;00m\u001b[39m'\u001b[39;49m)\n",
      "File \u001b[0;32m~/miniconda3/envs/central/lib/python3.10/site-packages/IPython/core/interactiveshell.py:2347\u001b[0m, in \u001b[0;36mInteractiveShell.run_cell_magic\u001b[0;34m(self, magic_name, line, cell)\u001b[0m\n\u001b[1;32m   <a href='file:///home/cc/miniconda3/envs/central/lib/python3.10/site-packages/IPython/core/interactiveshell.py?line=2344'>2345</a>\u001b[0m \u001b[39mwith\u001b[39;00m \u001b[39mself\u001b[39m\u001b[39m.\u001b[39mbuiltin_trap:\n\u001b[1;32m   <a href='file:///home/cc/miniconda3/envs/central/lib/python3.10/site-packages/IPython/core/interactiveshell.py?line=2345'>2346</a>\u001b[0m     args \u001b[39m=\u001b[39m (magic_arg_s, cell)\n\u001b[0;32m-> <a href='file:///home/cc/miniconda3/envs/central/lib/python3.10/site-packages/IPython/core/interactiveshell.py?line=2346'>2347</a>\u001b[0m     result \u001b[39m=\u001b[39m fn(\u001b[39m*\u001b[39;49margs, \u001b[39m*\u001b[39;49m\u001b[39m*\u001b[39;49mkwargs)\n\u001b[1;32m   <a href='file:///home/cc/miniconda3/envs/central/lib/python3.10/site-packages/IPython/core/interactiveshell.py?line=2347'>2348</a>\u001b[0m \u001b[39mreturn\u001b[39;00m result\n",
      "File \u001b[0;32m~/miniconda3/envs/central/lib/python3.10/site-packages/IPython/core/magics/script.py:153\u001b[0m, in \u001b[0;36mScriptMagics._make_script_magic.<locals>.named_script_magic\u001b[0;34m(line, cell)\u001b[0m\n\u001b[1;32m    <a href='file:///home/cc/miniconda3/envs/central/lib/python3.10/site-packages/IPython/core/magics/script.py?line=150'>151</a>\u001b[0m \u001b[39melse\u001b[39;00m:\n\u001b[1;32m    <a href='file:///home/cc/miniconda3/envs/central/lib/python3.10/site-packages/IPython/core/magics/script.py?line=151'>152</a>\u001b[0m     line \u001b[39m=\u001b[39m script\n\u001b[0;32m--> <a href='file:///home/cc/miniconda3/envs/central/lib/python3.10/site-packages/IPython/core/magics/script.py?line=152'>153</a>\u001b[0m \u001b[39mreturn\u001b[39;00m \u001b[39mself\u001b[39;49m\u001b[39m.\u001b[39;49mshebang(line, cell)\n",
      "File \u001b[0;32m~/miniconda3/envs/central/lib/python3.10/site-packages/IPython/core/magics/script.py:305\u001b[0m, in \u001b[0;36mScriptMagics.shebang\u001b[0;34m(self, line, cell)\u001b[0m\n\u001b[1;32m    <a href='file:///home/cc/miniconda3/envs/central/lib/python3.10/site-packages/IPython/core/magics/script.py?line=299'>300</a>\u001b[0m \u001b[39mif\u001b[39;00m args\u001b[39m.\u001b[39mraise_error \u001b[39mand\u001b[39;00m p\u001b[39m.\u001b[39mreturncode \u001b[39m!=\u001b[39m \u001b[39m0\u001b[39m:\n\u001b[1;32m    <a href='file:///home/cc/miniconda3/envs/central/lib/python3.10/site-packages/IPython/core/magics/script.py?line=300'>301</a>\u001b[0m     \u001b[39m# If we get here and p.returncode is still None, we must have\u001b[39;00m\n\u001b[1;32m    <a href='file:///home/cc/miniconda3/envs/central/lib/python3.10/site-packages/IPython/core/magics/script.py?line=301'>302</a>\u001b[0m     \u001b[39m# killed it but not yet seen its return code. We don't wait for it,\u001b[39;00m\n\u001b[1;32m    <a href='file:///home/cc/miniconda3/envs/central/lib/python3.10/site-packages/IPython/core/magics/script.py?line=302'>303</a>\u001b[0m     \u001b[39m# in case it's stuck in uninterruptible sleep. -9 = SIGKILL\u001b[39;00m\n\u001b[1;32m    <a href='file:///home/cc/miniconda3/envs/central/lib/python3.10/site-packages/IPython/core/magics/script.py?line=303'>304</a>\u001b[0m     rc \u001b[39m=\u001b[39m p\u001b[39m.\u001b[39mreturncode \u001b[39mor\u001b[39;00m \u001b[39m-\u001b[39m\u001b[39m9\u001b[39m\n\u001b[0;32m--> <a href='file:///home/cc/miniconda3/envs/central/lib/python3.10/site-packages/IPython/core/magics/script.py?line=304'>305</a>\u001b[0m     \u001b[39mraise\u001b[39;00m CalledProcessError(rc, cell)\n",
      "\u001b[0;31mCalledProcessError\u001b[0m: Command 'b'kubectl delete -f model-metadata/\\n'' returned non-zero exit status 1."
     ]
    }
   ],
   "source": [
    "%%bash\n",
    "kubectl delete -f model-metadata/"
   ]
  },
  {
   "cell_type": "code",
   "execution_count": null,
   "metadata": {},
   "outputs": [],
   "source": []
  }
 ],
 "metadata": {
  "kernelspec": {
   "display_name": "Python 3",
   "language": "python",
   "name": "python3"
  },
  "language_info": {
   "codemirror_mode": {
    "name": "ipython",
    "version": 3
   },
   "file_extension": ".py",
   "mimetype": "text/x-python",
   "name": "python",
   "nbconvert_exporter": "python",
   "pygments_lexer": "ipython3",
   "version": "3.10.4"
  }
 },
 "nbformat": 4,
 "nbformat_minor": 4
}
