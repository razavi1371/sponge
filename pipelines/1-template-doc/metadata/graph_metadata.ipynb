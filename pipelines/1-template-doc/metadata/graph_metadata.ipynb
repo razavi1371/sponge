{
 "cells": [
  {
   "cell_type": "markdown",
   "metadata": {},
   "source": [
    "# Complex Graphs Metadata Example\n",
    "\n",
    "\n",
    "## Prerequisites\n",
    "\n",
    " * A kubernetes cluster with kubectl configured\n",
    " * curl\n",
    " * pygmentize\n",
    " \n",
    "\n",
    "## Setup Seldon Core\n",
    "\n",
    "Use the setup notebook to [Setup Cluster](https://docs.seldon.io/projects/seldon-core/en/latest/examples/seldon_core_setup.html) to setup Seldon Core with an ingress."
   ]
  },
  {
   "cell_type": "code",
   "execution_count": 1,
   "metadata": {},
   "outputs": [
    {
     "name": "stdout",
     "output_type": "stream",
     "text": [
      "Error from server (AlreadyExists): namespaces \"seldon\" already exists\n"
     ]
    }
   ],
   "source": [
    "!kubectl create namespace seldon"
   ]
  },
  {
   "cell_type": "code",
   "execution_count": 2,
   "metadata": {},
   "outputs": [
    {
     "name": "stdout",
     "output_type": "stream",
     "text": [
      "Collecting requests\n",
      "  Downloading requests-2.27.1-py2.py3-none-any.whl (63 kB)\n",
      "\u001b[K     |████████████████████████████████| 63 kB 9.0 MB/s  eta 0:00:01\n",
      "\u001b[?25hCollecting charset-normalizer~=2.0.0\n",
      "  Downloading charset_normalizer-2.0.12-py3-none-any.whl (39 kB)\n",
      "Collecting idna<4,>=2.5\n",
      "  Downloading idna-3.3-py3-none-any.whl (61 kB)\n",
      "\u001b[K     |████████████████████████████████| 61 kB 50.6 MB/s  eta 0:00:01\n",
      "\u001b[?25hCollecting urllib3<1.27,>=1.21.1\n",
      "  Downloading urllib3-1.26.9-py2.py3-none-any.whl (138 kB)\n",
      "\u001b[K     |████████████████████████████████| 138 kB 149.7 MB/s eta 0:00:01\n",
      "\u001b[?25hRequirement already satisfied: certifi>=2017.4.17 in /home/cc/miniconda3/envs/central/lib/python3.10/site-packages (from requests) (2021.10.8)\n",
      "Installing collected packages: urllib3, idna, charset-normalizer, requests\n",
      "Successfully installed charset-normalizer-2.0.12 idna-3.3 requests-2.27.1 urllib3-1.26.9\n"
     ]
    }
   ],
   "source": [
    "!pip install requests"
   ]
  },
  {
   "cell_type": "code",
   "execution_count": 1,
   "metadata": {},
   "outputs": [
    {
     "name": "stdout",
     "output_type": "stream",
     "text": [
      "Context \"microk8s\" modified.\n"
     ]
    }
   ],
   "source": [
    "!kubectl config set-context $(kubectl config current-context) --namespace=seldon"
   ]
  },
  {
   "cell_type": "markdown",
   "metadata": {},
   "source": [
    "## Used model\n",
    "\n",
    "In this example notebook we will use a dummy node that can serve multiple purposes in the graph.\n",
    "\n",
    "The model will read its metadata from environmental variable (this is done automatically).\n",
    "\n",
    "Actual logic that happens on each of this endpoint is not subject of this notebook.\n",
    "\n",
    "We will only concentrate on graph-level metadata that orchestrator constructs from metadata reported by each node."
   ]
  },
  {
   "cell_type": "code",
   "execution_count": 2,
   "metadata": {},
   "outputs": [
    {
     "name": "stdout",
     "output_type": "stream",
     "text": [
      "Overwriting models/generic-node/Node.py\n"
     ]
    }
   ],
   "source": [
    "%%writefile models/generic-node/Node.py\n",
    "\n",
    "import logging\n",
    "import random\n",
    "import os\n",
    "\n",
    "\n",
    "NUMBER_OF_ROUTES = int(os.environ.get(\"NUMBER_OF_ROUTES\", \"2\"))\n",
    "\n",
    "\n",
    "class Node:\n",
    "    def predict(self, features, names=[], meta=[]):\n",
    "        logging.info(f\"model features: {features}\")\n",
    "        logging.info(f\"model names: {names}\")\n",
    "        logging.info(f\"model meta: {meta}\")\n",
    "        return features.tolist()\n",
    "\n",
    "    def transform_input(self, features, names=[], meta=[]):\n",
    "        return self.predict(features, names, meta)\n",
    "\n",
    "    def transform_output(self, features, names=[], meta=[]):\n",
    "        return self.predict(features, names, meta)\n",
    "\n",
    "    def aggregate(self, features, names=[], meta=[]):\n",
    "        logging.info(f\"model features: {features}\")\n",
    "        logging.info(f\"model names: {names}\")\n",
    "        logging.info(f\"model meta: {meta}\")\n",
    "        return [x.tolist() for x in features]\n",
    "\n",
    "    def route(self, features, names=[], meta=[]):\n",
    "        logging.info(f\"model features: {features}\")\n",
    "        logging.info(f\"model names: {names}\")\n",
    "        logging.info(f\"model meta: {meta}\")\n",
    "        route = random.randint(0, NUMBER_OF_ROUTES)\n",
    "        logging.info(f\"routing to: {route}\")\n",
    "        return route"
   ]
  },
  {
   "cell_type": "markdown",
   "metadata": {},
   "source": [
    "### Build image\n",
    "\n",
    "build image using provided Makefile\n",
    "```\n",
    "cd models/generic-node\n",
    "make build\n",
    "```\n",
    "\n",
    "If you are using `kind` you can use `kind_image_install` target to directly\n",
    "load your image into your local cluster.\n"
   ]
  },
  {
   "cell_type": "markdown",
   "metadata": {},
   "source": [
    "## Single Model\n",
    "\n",
    "In case of single-node graph model-level `inputs` and `outputs`, `x` and `y`, will simply be also the deployment-level `graphinputs` and `graphoutputs`.\n",
    "\n",
    "![single](./images/single.png)"
   ]
  },
  {
   "cell_type": "code",
   "execution_count": 3,
   "metadata": {},
   "outputs": [
    {
     "name": "stdout",
     "output_type": "stream",
     "text": [
      "Overwriting graph-metadata/single.yaml\n"
     ]
    }
   ],
   "source": [
    "%%writefile graph-metadata/single.yaml\n",
    "\n",
    "apiVersion: machinelearning.seldon.io/v1\n",
    "kind: SeldonDeployment\n",
    "metadata:\n",
    "  name: graph-metadata-single\n",
    "spec:\n",
    "  name: test-deployment\n",
    "  predictors:\n",
    "  - componentSpecs:\n",
    "    - spec:\n",
    "        containers:\n",
    "        - image: seldonio/metadata-generic-node:0.4\n",
    "          name: model\n",
    "          env:\n",
    "          - name: MODEL_METADATA\n",
    "            value: |\n",
    "              ---\n",
    "              name: single-node\n",
    "              versions: [ generic-node/v0.4 ]\n",
    "              platform: seldon\n",
    "              inputs:\n",
    "              - messagetype: tensor\n",
    "                schema:\n",
    "                  names: [node-input]\n",
    "                  shape: [ 1 ]\n",
    "              outputs:\n",
    "              - messagetype: tensor\n",
    "                schema:\n",
    "                  names: [node-output]\n",
    "                  shape: [ 1 ]\n",
    "    graph:\n",
    "      name: model\n",
    "      type: MODEL\n",
    "      children: []        \n",
    "    name: example\n",
    "    replicas: 1"
   ]
  },
  {
   "cell_type": "code",
   "execution_count": 4,
   "metadata": {},
   "outputs": [
    {
     "name": "stdout",
     "output_type": "stream",
     "text": [
      "seldondeployment.machinelearning.seldon.io/graph-metadata-single created\n"
     ]
    }
   ],
   "source": [
    "!kubectl apply -f graph-metadata/single.yaml"
   ]
  },
  {
   "cell_type": "code",
   "execution_count": 5,
   "metadata": {},
   "outputs": [
    {
     "name": "stdout",
     "output_type": "stream",
     "text": [
      "Waiting for deployment \"graph-metadata-single-example-0-model\" rollout to finish: 0 of 1 updated replicas are available...\n",
      "deployment \"graph-metadata-single-example-0-model\" successfully rolled out\n"
     ]
    }
   ],
   "source": [
    "!kubectl rollout status deploy/$(kubectl get deploy -l seldon-deployment-id=graph-metadata-single -o jsonpath='{.items[0].metadata.name}')"
   ]
  },
  {
   "cell_type": "markdown",
   "metadata": {},
   "source": [
    "### Graph Level\n",
    "\n",
    "Graph level metadata is available at the `api/v1.0/metadata` endpoint of your deployment:\n"
   ]
  },
  {
   "cell_type": "code",
   "execution_count": 4,
   "metadata": {},
   "outputs": [],
   "source": [
    "import time\n",
    "\n",
    "import requests\n",
    "\n",
    "\n",
    "def getWithRetry(url):\n",
    "    for i in range(3):\n",
    "        r = requests.get(url)\n",
    "        if r.status_code == requests.codes.ok:\n",
    "            meta = r.json()\n",
    "            return meta\n",
    "        else:\n",
    "            print(\"Failed request with status code \", r.status_code)\n",
    "            time.sleep(3)"
   ]
  },
  {
   "cell_type": "code",
   "execution_count": 8,
   "metadata": {},
   "outputs": [
    {
     "data": {
      "text/plain": [
       "{'name': 'example',\n",
       " 'models': {'model': {'name': 'single-node',\n",
       "   'platform': 'seldon',\n",
       "   'versions': ['generic-node/v0.4'],\n",
       "   'inputs': [{'messagetype': 'tensor',\n",
       "     'schema': {'names': ['node-input'], 'shape': [1]}}],\n",
       "   'outputs': [{'messagetype': 'tensor',\n",
       "     'schema': {'names': ['node-output'], 'shape': [1]}}]}},\n",
       " 'graphinputs': [{'messagetype': 'tensor',\n",
       "   'schema': {'names': ['node-input'], 'shape': [1]}}],\n",
       " 'graphoutputs': [{'messagetype': 'tensor',\n",
       "   'schema': {'names': ['node-output'], 'shape': [1]}}]}"
      ]
     },
     "execution_count": 8,
     "metadata": {},
     "output_type": "execute_result"
    }
   ],
   "source": [
    "meta = getWithRetry(\n",
    "    \"http://localhost:32000/seldon/seldon/graph-metadata-single/api/v1.0/metadata\"\n",
    ")\n",
    "\n",
    "assert meta == {\n",
    "    \"name\": \"example\",\n",
    "    \"models\": {\n",
    "        \"model\": {\n",
    "            \"name\": \"single-node\",\n",
    "            \"platform\": \"seldon\",\n",
    "            \"versions\": [\"generic-node/v0.4\"],\n",
    "            \"inputs\": [\n",
    "                {\n",
    "                    \"messagetype\": \"tensor\",\n",
    "                    \"schema\": {\"names\": [\"node-input\"], \"shape\": [1]},\n",
    "                }\n",
    "            ],\n",
    "            \"outputs\": [\n",
    "                {\n",
    "                    \"messagetype\": \"tensor\",\n",
    "                    \"schema\": {\"names\": [\"node-output\"], \"shape\": [1]},\n",
    "                }\n",
    "            ],\n",
    "        }\n",
    "    },\n",
    "    \"graphinputs\": [\n",
    "        {\"messagetype\": \"tensor\", \"schema\": {\"names\": [\"node-input\"], \"shape\": [1]}}\n",
    "    ],\n",
    "    \"graphoutputs\": [\n",
    "        {\"messagetype\": \"tensor\", \"schema\": {\"names\": [\"node-output\"], \"shape\": [1]}}\n",
    "    ],\n",
    "}\n",
    "\n",
    "meta"
   ]
  },
  {
   "cell_type": "markdown",
   "metadata": {},
   "source": [
    "### Model Level\n",
    "\n",
    "Compare with `model` metadata available at the `api/v1.0/metadata/model`:"
   ]
  },
  {
   "cell_type": "code",
   "execution_count": 11,
   "metadata": {},
   "outputs": [
    {
     "name": "stdout",
     "output_type": "stream",
     "text": [
      "Failed request with status code  500\n",
      "Failed request with status code  500\n",
      "Failed request with status code  500\n"
     ]
    },
    {
     "ename": "AssertionError",
     "evalue": "",
     "output_type": "error",
     "traceback": [
      "\u001b[0;31m---------------------------------------------------------------------------\u001b[0m",
      "\u001b[0;31mAssertionError\u001b[0m                            Traceback (most recent call last)",
      "\u001b[1;32m/home/cc/infernece-pipeline-joint-optimization/pipelines/1-template-doc/metadata/graph_metadata.ipynb Cell 16'\u001b[0m in \u001b[0;36m<cell line: 7>\u001b[0;34m()\u001b[0m\n\u001b[1;32m      <a href='vscode-notebook-cell://ssh-remote%2Bchameleon/home/cc/infernece-pipeline-joint-optimization/pipelines/1-template-doc/metadata/graph_metadata.ipynb#ch0000015vscode-remote?line=0'>1</a>\u001b[0m \u001b[39mimport\u001b[39;00m \u001b[39mrequests\u001b[39;00m\n\u001b[1;32m      <a href='vscode-notebook-cell://ssh-remote%2Bchameleon/home/cc/infernece-pipeline-joint-optimization/pipelines/1-template-doc/metadata/graph_metadata.ipynb#ch0000015vscode-remote?line=2'>3</a>\u001b[0m meta \u001b[39m=\u001b[39m getWithRetry(\n\u001b[1;32m      <a href='vscode-notebook-cell://ssh-remote%2Bchameleon/home/cc/infernece-pipeline-joint-optimization/pipelines/1-template-doc/metadata/graph_metadata.ipynb#ch0000015vscode-remote?line=3'>4</a>\u001b[0m     \u001b[39m\"\u001b[39m\u001b[39mhttp://localhost:32000/seldon/seldon/graph-metadata-single/api/v1.0/metadata/node-one\u001b[39m\u001b[39m\"\u001b[39m\n\u001b[1;32m      <a href='vscode-notebook-cell://ssh-remote%2Bchameleon/home/cc/infernece-pipeline-joint-optimization/pipelines/1-template-doc/metadata/graph_metadata.ipynb#ch0000015vscode-remote?line=4'>5</a>\u001b[0m )\n\u001b[0;32m----> <a href='vscode-notebook-cell://ssh-remote%2Bchameleon/home/cc/infernece-pipeline-joint-optimization/pipelines/1-template-doc/metadata/graph_metadata.ipynb#ch0000015vscode-remote?line=6'>7</a>\u001b[0m \u001b[39massert\u001b[39;00m meta \u001b[39m==\u001b[39m {\n\u001b[1;32m      <a href='vscode-notebook-cell://ssh-remote%2Bchameleon/home/cc/infernece-pipeline-joint-optimization/pipelines/1-template-doc/metadata/graph_metadata.ipynb#ch0000015vscode-remote?line=7'>8</a>\u001b[0m     \u001b[39m\"\u001b[39m\u001b[39mcustom\u001b[39m\u001b[39m\"\u001b[39m: {},\n\u001b[1;32m      <a href='vscode-notebook-cell://ssh-remote%2Bchameleon/home/cc/infernece-pipeline-joint-optimization/pipelines/1-template-doc/metadata/graph_metadata.ipynb#ch0000015vscode-remote?line=8'>9</a>\u001b[0m     \u001b[39m\"\u001b[39m\u001b[39mname\u001b[39m\u001b[39m\"\u001b[39m: \u001b[39m\"\u001b[39m\u001b[39msingle-node\u001b[39m\u001b[39m\"\u001b[39m,\n\u001b[1;32m     <a href='vscode-notebook-cell://ssh-remote%2Bchameleon/home/cc/infernece-pipeline-joint-optimization/pipelines/1-template-doc/metadata/graph_metadata.ipynb#ch0000015vscode-remote?line=9'>10</a>\u001b[0m     \u001b[39m\"\u001b[39m\u001b[39mplatform\u001b[39m\u001b[39m\"\u001b[39m: \u001b[39m\"\u001b[39m\u001b[39mseldon\u001b[39m\u001b[39m\"\u001b[39m,\n\u001b[1;32m     <a href='vscode-notebook-cell://ssh-remote%2Bchameleon/home/cc/infernece-pipeline-joint-optimization/pipelines/1-template-doc/metadata/graph_metadata.ipynb#ch0000015vscode-remote?line=10'>11</a>\u001b[0m     \u001b[39m\"\u001b[39m\u001b[39mversions\u001b[39m\u001b[39m\"\u001b[39m: [\u001b[39m\"\u001b[39m\u001b[39mgeneric-node/v0.4\u001b[39m\u001b[39m\"\u001b[39m],\n\u001b[1;32m     <a href='vscode-notebook-cell://ssh-remote%2Bchameleon/home/cc/infernece-pipeline-joint-optimization/pipelines/1-template-doc/metadata/graph_metadata.ipynb#ch0000015vscode-remote?line=11'>12</a>\u001b[0m     \u001b[39m\"\u001b[39m\u001b[39minputs\u001b[39m\u001b[39m\"\u001b[39m: [\n\u001b[1;32m     <a href='vscode-notebook-cell://ssh-remote%2Bchameleon/home/cc/infernece-pipeline-joint-optimization/pipelines/1-template-doc/metadata/graph_metadata.ipynb#ch0000015vscode-remote?line=12'>13</a>\u001b[0m         {\n\u001b[1;32m     <a href='vscode-notebook-cell://ssh-remote%2Bchameleon/home/cc/infernece-pipeline-joint-optimization/pipelines/1-template-doc/metadata/graph_metadata.ipynb#ch0000015vscode-remote?line=13'>14</a>\u001b[0m             \u001b[39m\"\u001b[39m\u001b[39mmessagetype\u001b[39m\u001b[39m\"\u001b[39m: \u001b[39m\"\u001b[39m\u001b[39mtensor\u001b[39m\u001b[39m\"\u001b[39m,\n\u001b[1;32m     <a href='vscode-notebook-cell://ssh-remote%2Bchameleon/home/cc/infernece-pipeline-joint-optimization/pipelines/1-template-doc/metadata/graph_metadata.ipynb#ch0000015vscode-remote?line=14'>15</a>\u001b[0m             \u001b[39m\"\u001b[39m\u001b[39mschema\u001b[39m\u001b[39m\"\u001b[39m: {\u001b[39m\"\u001b[39m\u001b[39mnames\u001b[39m\u001b[39m\"\u001b[39m: [\u001b[39m\"\u001b[39m\u001b[39mnode-input\u001b[39m\u001b[39m\"\u001b[39m], \u001b[39m\"\u001b[39m\u001b[39mshape\u001b[39m\u001b[39m\"\u001b[39m: [\u001b[39m1\u001b[39m]},\n\u001b[1;32m     <a href='vscode-notebook-cell://ssh-remote%2Bchameleon/home/cc/infernece-pipeline-joint-optimization/pipelines/1-template-doc/metadata/graph_metadata.ipynb#ch0000015vscode-remote?line=15'>16</a>\u001b[0m         }\n\u001b[1;32m     <a href='vscode-notebook-cell://ssh-remote%2Bchameleon/home/cc/infernece-pipeline-joint-optimization/pipelines/1-template-doc/metadata/graph_metadata.ipynb#ch0000015vscode-remote?line=16'>17</a>\u001b[0m     ],\n\u001b[1;32m     <a href='vscode-notebook-cell://ssh-remote%2Bchameleon/home/cc/infernece-pipeline-joint-optimization/pipelines/1-template-doc/metadata/graph_metadata.ipynb#ch0000015vscode-remote?line=17'>18</a>\u001b[0m     \u001b[39m\"\u001b[39m\u001b[39moutputs\u001b[39m\u001b[39m\"\u001b[39m: [\n\u001b[1;32m     <a href='vscode-notebook-cell://ssh-remote%2Bchameleon/home/cc/infernece-pipeline-joint-optimization/pipelines/1-template-doc/metadata/graph_metadata.ipynb#ch0000015vscode-remote?line=18'>19</a>\u001b[0m         {\n\u001b[1;32m     <a href='vscode-notebook-cell://ssh-remote%2Bchameleon/home/cc/infernece-pipeline-joint-optimization/pipelines/1-template-doc/metadata/graph_metadata.ipynb#ch0000015vscode-remote?line=19'>20</a>\u001b[0m             \u001b[39m\"\u001b[39m\u001b[39mmessagetype\u001b[39m\u001b[39m\"\u001b[39m: \u001b[39m\"\u001b[39m\u001b[39mtensor\u001b[39m\u001b[39m\"\u001b[39m,\n\u001b[1;32m     <a href='vscode-notebook-cell://ssh-remote%2Bchameleon/home/cc/infernece-pipeline-joint-optimization/pipelines/1-template-doc/metadata/graph_metadata.ipynb#ch0000015vscode-remote?line=20'>21</a>\u001b[0m             \u001b[39m\"\u001b[39m\u001b[39mschema\u001b[39m\u001b[39m\"\u001b[39m: {\u001b[39m\"\u001b[39m\u001b[39mnames\u001b[39m\u001b[39m\"\u001b[39m: [\u001b[39m\"\u001b[39m\u001b[39mnode-output\u001b[39m\u001b[39m\"\u001b[39m], \u001b[39m\"\u001b[39m\u001b[39mshape\u001b[39m\u001b[39m\"\u001b[39m: [\u001b[39m1\u001b[39m]},\n\u001b[1;32m     <a href='vscode-notebook-cell://ssh-remote%2Bchameleon/home/cc/infernece-pipeline-joint-optimization/pipelines/1-template-doc/metadata/graph_metadata.ipynb#ch0000015vscode-remote?line=21'>22</a>\u001b[0m         }\n\u001b[1;32m     <a href='vscode-notebook-cell://ssh-remote%2Bchameleon/home/cc/infernece-pipeline-joint-optimization/pipelines/1-template-doc/metadata/graph_metadata.ipynb#ch0000015vscode-remote?line=22'>23</a>\u001b[0m     ],\n\u001b[1;32m     <a href='vscode-notebook-cell://ssh-remote%2Bchameleon/home/cc/infernece-pipeline-joint-optimization/pipelines/1-template-doc/metadata/graph_metadata.ipynb#ch0000015vscode-remote?line=23'>24</a>\u001b[0m }\n\u001b[1;32m     <a href='vscode-notebook-cell://ssh-remote%2Bchameleon/home/cc/infernece-pipeline-joint-optimization/pipelines/1-template-doc/metadata/graph_metadata.ipynb#ch0000015vscode-remote?line=25'>26</a>\u001b[0m meta\n",
      "\u001b[0;31mAssertionError\u001b[0m: "
     ]
    }
   ],
   "source": [
    "import requests\n",
    "\n",
    "meta = getWithRetry(\n",
    "    \"http://localhost:32000/seldon/seldon/graph-metadata-single/api/v1.0/metadata/node-one\"\n",
    ")\n",
    "\n",
    "assert meta == {\n",
    "    \"custom\": {},\n",
    "    \"name\": \"single-node\",\n",
    "    \"platform\": \"seldon\",\n",
    "    \"versions\": [\"generic-node/v0.4\"],\n",
    "    \"inputs\": [\n",
    "        {\n",
    "            \"messagetype\": \"tensor\",\n",
    "            \"schema\": {\"names\": [\"node-input\"], \"shape\": [1]},\n",
    "        }\n",
    "    ],\n",
    "    \"outputs\": [\n",
    "        {\n",
    "            \"messagetype\": \"tensor\",\n",
    "            \"schema\": {\"names\": [\"node-output\"], \"shape\": [1]},\n",
    "        }\n",
    "    ],\n",
    "}\n",
    "\n",
    "meta"
   ]
  },
  {
   "cell_type": "code",
   "execution_count": 11,
   "metadata": {},
   "outputs": [
    {
     "name": "stdout",
     "output_type": "stream",
     "text": [
      "seldondeployment.machinelearning.seldon.io \"graph-metadata-single\" deleted\n"
     ]
    }
   ],
   "source": [
    "!kubectl delete -f graph-metadata/single.yaml"
   ]
  },
  {
   "cell_type": "markdown",
   "metadata": {},
   "source": [
    "## Two-Level Graph\n",
    "\n",
    "In two-level graph graph output of the first model is input of the second model, `x2=y1`.\n",
    "\n",
    "The graph-level input `x` will be first model’s input `x1` and graph-level output `y` will be the last model’s output `y2`.\n",
    "\n",
    "\n",
    "\n",
    "![two-level](./images/two-level.png)"
   ]
  },
  {
   "cell_type": "code",
   "execution_count": 12,
   "metadata": {},
   "outputs": [
    {
     "name": "stdout",
     "output_type": "stream",
     "text": [
      "Overwriting graph-metadata/two-levels.yaml\n"
     ]
    }
   ],
   "source": [
    "%%writefile graph-metadata/two-levels.yaml\n",
    "\n",
    "apiVersion: machinelearning.seldon.io/v1\n",
    "kind: SeldonDeployment\n",
    "metadata:\n",
    "  name: graph-metadata-two-levels\n",
    "spec:\n",
    "  name: test-deployment\n",
    "  predictors:\n",
    "  - componentSpecs:\n",
    "    - spec:\n",
    "        containers:\n",
    "        - image: seldonio/metadata-generic-node:0.4\n",
    "          name: node-one\n",
    "          env:\n",
    "          - name: MODEL_METADATA\n",
    "            value: |\n",
    "              ---\n",
    "              name: node-one\n",
    "              versions: [ generic-node/v0.4 ]\n",
    "              platform: seldon\n",
    "              inputs:\n",
    "              - messagetype: tensor\n",
    "                schema:\n",
    "                  names: [ a1, a2 ]\n",
    "                  shape: [ 2 ]\n",
    "              outputs:\n",
    "              - messagetype: tensor\n",
    "                schema:\n",
    "                  names: [ a3 ]\n",
    "                  shape: [ 1 ]  \n",
    "        - image: seldonio/metadata-generic-node:0.4\n",
    "          name: node-two\n",
    "          env:\n",
    "          - name: MODEL_METADATA\n",
    "            value: |\n",
    "              ---\n",
    "              name: node-two\n",
    "              versions: [ generic-node/v0.4 ]\n",
    "              platform: seldon\n",
    "              inputs:\n",
    "              - messagetype: tensor\n",
    "                schema:\n",
    "                  names: [ a3 ]\n",
    "                  shape: [ 1 ]  \n",
    "              outputs:\n",
    "              - messagetype: tensor\n",
    "                schema:\n",
    "                  names: [b1, b2]\n",
    "                  shape: [ 2 ]  \n",
    "    graph:\n",
    "      name: node-one\n",
    "      type: MODEL\n",
    "      children:\n",
    "      - name: node-two\n",
    "        type: MODEL\n",
    "        children: []   \n",
    "    name: example\n",
    "    replicas: 1"
   ]
  },
  {
   "cell_type": "code",
   "execution_count": 13,
   "metadata": {},
   "outputs": [
    {
     "name": "stdout",
     "output_type": "stream",
     "text": [
      "seldondeployment.machinelearning.seldon.io/graph-metadata-two-levels created\n"
     ]
    }
   ],
   "source": [
    "!kubectl apply -f graph-metadata/two-levels.yaml"
   ]
  },
  {
   "cell_type": "code",
   "execution_count": 14,
   "metadata": {},
   "outputs": [
    {
     "name": "stdout",
     "output_type": "stream",
     "text": [
      "Waiting for deployment \"graph-metadata-two-levels-example-0-node-one-node-two\" rollout to finish: 0 of 1 updated replicas are available...\n",
      "deployment \"graph-metadata-two-levels-example-0-node-one-node-two\" successfully rolled out\n"
     ]
    }
   ],
   "source": [
    "!kubectl rollout status deploy/$(kubectl get deploy -l seldon-deployment-id=graph-metadata-two-levels -o jsonpath='{.items[0].metadata.name}')"
   ]
  },
  {
   "cell_type": "code",
   "execution_count": 16,
   "metadata": {},
   "outputs": [
    {
     "data": {
      "text/plain": [
       "{'name': 'example',\n",
       " 'models': {'node-one': {'name': 'node-one',\n",
       "   'platform': 'seldon',\n",
       "   'versions': ['generic-node/v0.4'],\n",
       "   'inputs': [{'messagetype': 'tensor',\n",
       "     'schema': {'names': ['a1', 'a2'], 'shape': [2]}}],\n",
       "   'outputs': [{'messagetype': 'tensor',\n",
       "     'schema': {'names': ['a3'], 'shape': [1]}}]},\n",
       "  'node-two': {'name': 'node-two',\n",
       "   'platform': 'seldon',\n",
       "   'versions': ['generic-node/v0.4'],\n",
       "   'inputs': [{'messagetype': 'tensor',\n",
       "     'schema': {'names': ['a3'], 'shape': [1]}}],\n",
       "   'outputs': [{'messagetype': 'tensor',\n",
       "     'schema': {'names': ['b1', 'b2'], 'shape': [2]}}]}},\n",
       " 'graphinputs': [{'messagetype': 'tensor',\n",
       "   'schema': {'names': ['a1', 'a2'], 'shape': [2]}}],\n",
       " 'graphoutputs': [{'messagetype': 'tensor',\n",
       "   'schema': {'names': ['b1', 'b2'], 'shape': [2]}}]}"
      ]
     },
     "execution_count": 16,
     "metadata": {},
     "output_type": "execute_result"
    }
   ],
   "source": [
    "import requests\n",
    "\n",
    "meta = getWithRetry(\n",
    "    \"http://localhost:8004/seldon/seldon/graph-metadata-two-levels/api/v1.0/metadata\"\n",
    ")\n",
    "\n",
    "assert meta == {\n",
    "    \"name\": \"example\",\n",
    "    \"models\": {\n",
    "        \"node-one\": {\n",
    "            \"name\": \"node-one\",\n",
    "            \"platform\": \"seldon\",\n",
    "            \"versions\": [\"generic-node/v0.4\"],\n",
    "            \"inputs\": [\n",
    "                {\n",
    "                    \"messagetype\": \"tensor\",\n",
    "                    \"schema\": {\"names\": [\"a1\", \"a2\"], \"shape\": [2]},\n",
    "                }\n",
    "            ],\n",
    "            \"outputs\": [\n",
    "                {\"messagetype\": \"tensor\", \"schema\": {\"names\": [\"a3\"], \"shape\": [1]}}\n",
    "            ],\n",
    "        },\n",
    "        \"node-two\": {\n",
    "            \"name\": \"node-two\",\n",
    "            \"platform\": \"seldon\",\n",
    "            \"versions\": [\"generic-node/v0.4\"],\n",
    "            \"inputs\": [\n",
    "                {\"messagetype\": \"tensor\", \"schema\": {\"names\": [\"a3\"], \"shape\": [1]}}\n",
    "            ],\n",
    "            \"outputs\": [\n",
    "                {\n",
    "                    \"messagetype\": \"tensor\",\n",
    "                    \"schema\": {\"names\": [\"b1\", \"b2\"], \"shape\": [2]},\n",
    "                }\n",
    "            ],\n",
    "        },\n",
    "    },\n",
    "    \"graphinputs\": [\n",
    "        {\"messagetype\": \"tensor\", \"schema\": {\"names\": [\"a1\", \"a2\"], \"shape\": [2]}}\n",
    "    ],\n",
    "    \"graphoutputs\": [\n",
    "        {\"messagetype\": \"tensor\", \"schema\": {\"names\": [\"b1\", \"b2\"], \"shape\": [2]}}\n",
    "    ],\n",
    "}\n",
    "\n",
    "meta"
   ]
  },
  {
   "cell_type": "code",
   "execution_count": 17,
   "metadata": {},
   "outputs": [
    {
     "name": "stdout",
     "output_type": "stream",
     "text": [
      "seldondeployment.machinelearning.seldon.io \"graph-metadata-two-levels\" deleted\n"
     ]
    }
   ],
   "source": [
    "!kubectl delete -f graph-metadata/two-levels.yaml"
   ]
  },
  {
   "cell_type": "markdown",
   "metadata": {},
   "source": [
    "## Combiner of two models\n",
    "\n",
    "In graph with the `combiner` request is first passed to combiner's children and before it gets aggregated by the `combiner` itself.\n",
    "\n",
    "Input `x` is first passed to both models and their outputs `y1` and `y2` are passed to the combiner. \n",
    "\n",
    "Combiner's output `y` is the final output of the graph.\n",
    "\n",
    "![combiner](./images/combiner.png)"
   ]
  },
  {
   "cell_type": "code",
   "execution_count": 1,
   "metadata": {},
   "outputs": [
    {
     "name": "stdout",
     "output_type": "stream",
     "text": [
      "Overwriting graph-metadata/combiner.yaml\n"
     ]
    }
   ],
   "source": [
    "%%writefile graph-metadata/combiner.yaml\n",
    "\n",
    "apiVersion: machinelearning.seldon.io/v1\n",
    "kind: SeldonDeployment\n",
    "metadata:\n",
    "  name: graph-metadata-combiner\n",
    "spec:\n",
    "  name: test-deployment\n",
    "  predictors:\n",
    "  - componentSpecs:\n",
    "    - spec:\n",
    "        containers:\n",
    "        - image: seldonio/metadata-generic-node:0.4\n",
    "          name: node-combiner\n",
    "          env:\n",
    "          - name: MODEL_METADATA\n",
    "            value: |\n",
    "              ---\n",
    "              name: node-combiner\n",
    "              versions: [ generic-node/v0.4 ]\n",
    "              platform: seldon\n",
    "              inputs:\n",
    "              - messagetype: tensor\n",
    "                schema:\n",
    "                  names: [ c1 ]\n",
    "                  shape: [ 1 ]                       \n",
    "              - messagetype: tensor\n",
    "                schema:\n",
    "                  names: [ c2 ]\n",
    "                  shape: [ 1 ]  \n",
    "              outputs:\n",
    "              - messagetype: tensor\n",
    "                schema:\n",
    "                  names: [combiner-output]\n",
    "                  shape: [ 1 ]  \n",
    "        - image: seldonio/metadata-generic-node:0.4\n",
    "          name: node-one\n",
    "          env:\n",
    "          - name: MODEL_METADATA\n",
    "            value: |\n",
    "              ---\n",
    "              name: node-one\n",
    "              versions: [ generic-node/v0.4 ]\n",
    "              platform: seldon\n",
    "              inputs:\n",
    "              - messagetype: tensor\n",
    "                schema:\n",
    "                  names: [a, b]\n",
    "                  shape: [ 2 ] \n",
    "              outputs:\n",
    "              - messagetype: tensor\n",
    "                schema:\n",
    "                  names: [ c1 ]\n",
    "                  shape: [ 1 ]\n",
    "        - image: seldonio/metadata-generic-node:0.4\n",
    "          name: node-two\n",
    "          env:\n",
    "          - name: MODEL_METADATA\n",
    "            value: |\n",
    "              ---\n",
    "              name: node-two\n",
    "              versions: [ generic-node/v0.4 ]\n",
    "              platform: seldon\n",
    "              inputs:\n",
    "              - messagetype: tensor\n",
    "                schema:\n",
    "                  names: [a, b]\n",
    "                  shape: [ 2 ]      \n",
    "              outputs:\n",
    "              - messagetype: tensor\n",
    "                schema:\n",
    "                  names: [ c2 ]\n",
    "                  shape: [ 1 ]  \n",
    "    graph:\n",
    "      name: node-combiner\n",
    "      type: COMBINER\n",
    "      children:\n",
    "      - name: node-one\n",
    "        type: MODEL\n",
    "        children: []   \n",
    "      - name: node-two\n",
    "        type: MODEL\n",
    "        children: []   \n",
    "    name: example\n",
    "    replicas: 1"
   ]
  },
  {
   "cell_type": "code",
   "execution_count": 2,
   "metadata": {},
   "outputs": [
    {
     "name": "stdout",
     "output_type": "stream",
     "text": [
      "seldondeployment.machinelearning.seldon.io/graph-metadata-combiner created\n"
     ]
    }
   ],
   "source": [
    "!kubectl apply -f graph-metadata/combiner.yaml"
   ]
  },
  {
   "cell_type": "code",
   "execution_count": 3,
   "metadata": {},
   "outputs": [
    {
     "name": "stdout",
     "output_type": "stream",
     "text": [
      "Waiting for deployment \"seldon-f3fb28d397222d10648e6c1c7e0bea9e\" rollout to finish: 0 of 1 updated replicas are available...\n",
      "deployment \"seldon-f3fb28d397222d10648e6c1c7e0bea9e\" successfully rolled out\n"
     ]
    }
   ],
   "source": [
    "!kubectl rollout status deploy/$(kubectl get deploy -l seldon-deployment-id=graph-metadata-combiner -o jsonpath='{.items[0].metadata.name}')"
   ]
  },
  {
   "cell_type": "code",
   "execution_count": 5,
   "metadata": {},
   "outputs": [
    {
     "data": {
      "text/plain": [
       "{'name': 'example',\n",
       " 'models': {'node-combiner': {'name': 'node-combiner',\n",
       "   'platform': 'seldon',\n",
       "   'versions': ['generic-node/v0.4'],\n",
       "   'inputs': [{'messagetype': 'tensor',\n",
       "     'schema': {'names': ['c1'], 'shape': [1]}},\n",
       "    {'messagetype': 'tensor', 'schema': {'names': ['c2'], 'shape': [1]}}],\n",
       "   'outputs': [{'messagetype': 'tensor',\n",
       "     'schema': {'names': ['combiner-output'], 'shape': [1]}}]},\n",
       "  'node-one': {'name': 'node-one',\n",
       "   'platform': 'seldon',\n",
       "   'versions': ['generic-node/v0.4'],\n",
       "   'inputs': [{'messagetype': 'tensor',\n",
       "     'schema': {'names': ['a', 'b'], 'shape': [2]}}],\n",
       "   'outputs': [{'messagetype': 'tensor',\n",
       "     'schema': {'names': ['c1'], 'shape': [1]}}]},\n",
       "  'node-two': {'name': 'node-two',\n",
       "   'platform': 'seldon',\n",
       "   'versions': ['generic-node/v0.4'],\n",
       "   'inputs': [{'messagetype': 'tensor',\n",
       "     'schema': {'names': ['a', 'b'], 'shape': [2]}}],\n",
       "   'outputs': [{'messagetype': 'tensor',\n",
       "     'schema': {'names': ['c2'], 'shape': [1]}}]}},\n",
       " 'graphinputs': [{'messagetype': 'tensor',\n",
       "   'schema': {'names': ['a', 'b'], 'shape': [2]}}],\n",
       " 'graphoutputs': [{'messagetype': 'tensor',\n",
       "   'schema': {'names': ['combiner-output'], 'shape': [1]}}]}"
      ]
     },
     "execution_count": 5,
     "metadata": {},
     "output_type": "execute_result"
    }
   ],
   "source": [
    "import requests\n",
    "\n",
    "meta = getWithRetry(\n",
    "    \"http://localhost:32000/seldon/saeid/graph-metadata-combiner/api/v1.0/metadata\"\n",
    ")\n",
    "\n",
    "assert meta == {\n",
    "    \"name\": \"example\",\n",
    "    \"models\": {\n",
    "        \"node-combiner\": {\n",
    "            \"name\": \"node-combiner\",\n",
    "            \"platform\": \"seldon\",\n",
    "            \"versions\": [\"generic-node/v0.4\"],\n",
    "            \"inputs\": [\n",
    "                {\"messagetype\": \"tensor\", \"schema\": {\"names\": [\"c1\"], \"shape\": [1]}},\n",
    "                {\"messagetype\": \"tensor\", \"schema\": {\"names\": [\"c2\"], \"shape\": [1]}},\n",
    "            ],\n",
    "            \"outputs\": [\n",
    "                {\n",
    "                    \"messagetype\": \"tensor\",\n",
    "                    \"schema\": {\"names\": [\"combiner-output\"], \"shape\": [1]},\n",
    "                }\n",
    "            ],\n",
    "        },\n",
    "        \"node-one\": {\n",
    "            \"name\": \"node-one\",\n",
    "            \"platform\": \"seldon\",\n",
    "            \"versions\": [\"generic-node/v0.4\"],\n",
    "            \"inputs\": [\n",
    "                {\n",
    "                    \"messagetype\": \"tensor\",\n",
    "                    \"schema\": {\"names\": [\"a\", \"b\"], \"shape\": [2]},\n",
    "                },\n",
    "            ],\n",
    "            \"outputs\": [\n",
    "                {\"messagetype\": \"tensor\", \"schema\": {\"names\": [\"c1\"], \"shape\": [1]}}\n",
    "            ],\n",
    "        },\n",
    "        \"node-two\": {\n",
    "            \"name\": \"node-two\",\n",
    "            \"platform\": \"seldon\",\n",
    "            \"versions\": [\"generic-node/v0.4\"],\n",
    "            \"inputs\": [\n",
    "                {\n",
    "                    \"messagetype\": \"tensor\",\n",
    "                    \"schema\": {\"names\": [\"a\", \"b\"], \"shape\": [2]},\n",
    "                },\n",
    "            ],\n",
    "            \"outputs\": [\n",
    "                {\"messagetype\": \"tensor\", \"schema\": {\"names\": [\"c2\"], \"shape\": [1]}}\n",
    "            ],\n",
    "        },\n",
    "    },\n",
    "    \"graphinputs\": [\n",
    "        {\"messagetype\": \"tensor\", \"schema\": {\"names\": [\"a\", \"b\"], \"shape\": [2]}},\n",
    "    ],\n",
    "    \"graphoutputs\": [\n",
    "        {\n",
    "            \"messagetype\": \"tensor\",\n",
    "            \"schema\": {\"names\": [\"combiner-output\"], \"shape\": [1]},\n",
    "        }\n",
    "    ],\n",
    "}\n",
    "\n",
    "meta"
   ]
  },
  {
   "cell_type": "code",
   "execution_count": 26,
   "metadata": {},
   "outputs": [
    {
     "name": "stdout",
     "output_type": "stream",
     "text": [
      "seldondeployment.machinelearning.seldon.io \"graph-metadata-combiner\" deleted\n"
     ]
    }
   ],
   "source": [
    "!kubectl delete -f graph-metadata/combiner.yaml"
   ]
  },
  {
   "cell_type": "markdown",
   "metadata": {},
   "source": [
    "## Router with two models\n",
    "\n",
    "In this example request `x` is passed by `router` to one of its children.\n",
    "\n",
    "Router then returns children output `y1` or `y2` as graph's output `y`.\n",
    "\n",
    "Here we assume that all children accepts similarly structured input and retun a similarly structured output.\n",
    "\n",
    "![router](./images/router.png)"
   ]
  },
  {
   "cell_type": "code",
   "execution_count": 27,
   "metadata": {},
   "outputs": [
    {
     "name": "stdout",
     "output_type": "stream",
     "text": [
      "Overwriting graph-metadata/router.yaml\n"
     ]
    }
   ],
   "source": [
    "%%writefile graph-metadata/router.yaml\n",
    "\n",
    "apiVersion: machinelearning.seldon.io/v1\n",
    "kind: SeldonDeployment\n",
    "metadata:\n",
    "  name: graph-metadata-router\n",
    "spec:\n",
    "  name: test-deployment\n",
    "  predictors:\n",
    "  - componentSpecs:\n",
    "    - spec:\n",
    "        containers:\n",
    "        - image: seldonio/metadata-generic-node:0.4\n",
    "          name: node-router\n",
    "        - image: seldonio/metadata-generic-node:0.4\n",
    "          name: node-one\n",
    "          env:\n",
    "          - name: MODEL_METADATA\n",
    "            value: |\n",
    "              ---\n",
    "              name: node-one\n",
    "              versions: [ generic-node/v0.4 ]\n",
    "              platform: seldon\n",
    "              inputs:\n",
    "              - messagetype: tensor\n",
    "                schema:\n",
    "                  names: [ a, b ]\n",
    "                  shape: [ 2 ]\n",
    "              outputs:\n",
    "              - messagetype: tensor\n",
    "                schema:\n",
    "                  names: [ node-output ]       \n",
    "                  shape: [ 1 ]\n",
    "        - image: seldonio/metadata-generic-node:0.4\n",
    "          name: node-two\n",
    "          env:\n",
    "          - name: MODEL_METADATA\n",
    "            value: |\n",
    "              ---\n",
    "              name: node-two\n",
    "              versions: [ generic-node/v0.4 ]\n",
    "              platform: seldon\n",
    "              inputs:\n",
    "              - messagetype: tensor\n",
    "                schema:\n",
    "                  names: [ a, b ]\n",
    "                  shape: [ 2 ]\n",
    "              outputs:\n",
    "              - messagetype: tensor\n",
    "                schema:\n",
    "                  names: [ node-output ]       \n",
    "                  shape: [ 1 ]\n",
    "    graph:\n",
    "      name: node-router\n",
    "      type: ROUTER\n",
    "      children:\n",
    "      - name: node-one\n",
    "        type: MODEL\n",
    "        children: []   \n",
    "      - name: node-two\n",
    "        type: MODEL\n",
    "        children: []   \n",
    "    name: example\n",
    "    replicas: 1"
   ]
  },
  {
   "cell_type": "code",
   "execution_count": 28,
   "metadata": {},
   "outputs": [
    {
     "name": "stdout",
     "output_type": "stream",
     "text": [
      "seldondeployment.machinelearning.seldon.io/graph-metadata-router created\n"
     ]
    }
   ],
   "source": [
    "!kubectl apply -f graph-metadata/router.yaml"
   ]
  },
  {
   "cell_type": "code",
   "execution_count": 29,
   "metadata": {},
   "outputs": [
    {
     "name": "stdout",
     "output_type": "stream",
     "text": [
      "Waiting for deployment \"graph-metadata-router-example-0-node-router-node-one-node-two\" rollout to finish: 0 of 1 updated replicas are available...\n",
      "deployment \"graph-metadata-router-example-0-node-router-node-one-node-two\" successfully rolled out\n"
     ]
    }
   ],
   "source": [
    "!kubectl rollout status deploy/$(kubectl get deploy -l seldon-deployment-id=graph-metadata-router -o jsonpath='{.items[0].metadata.name}')"
   ]
  },
  {
   "cell_type": "code",
   "execution_count": 31,
   "metadata": {},
   "outputs": [
    {
     "data": {
      "text/plain": [
       "{'name': 'example',\n",
       " 'models': {'node-one': {'name': 'node-one',\n",
       "   'platform': 'seldon',\n",
       "   'versions': ['generic-node/v0.4'],\n",
       "   'inputs': [{'messagetype': 'tensor',\n",
       "     'schema': {'names': ['a', 'b'], 'shape': [2]}}],\n",
       "   'outputs': [{'messagetype': 'tensor',\n",
       "     'schema': {'names': ['node-output'], 'shape': [1]}}]},\n",
       "  'node-router': {'name': 'seldonio/metadata-generic-node',\n",
       "   'versions': ['0.4'],\n",
       "   'inputs': [],\n",
       "   'outputs': []},\n",
       "  'node-two': {'name': 'node-two',\n",
       "   'platform': 'seldon',\n",
       "   'versions': ['generic-node/v0.4'],\n",
       "   'inputs': [{'messagetype': 'tensor',\n",
       "     'schema': {'names': ['a', 'b'], 'shape': [2]}}],\n",
       "   'outputs': [{'messagetype': 'tensor',\n",
       "     'schema': {'names': ['node-output'], 'shape': [1]}}]}},\n",
       " 'graphinputs': [{'messagetype': 'tensor',\n",
       "   'schema': {'names': ['a', 'b'], 'shape': [2]}}],\n",
       " 'graphoutputs': [{'messagetype': 'tensor',\n",
       "   'schema': {'names': ['node-output'], 'shape': [1]}}]}"
      ]
     },
     "execution_count": 31,
     "metadata": {},
     "output_type": "execute_result"
    }
   ],
   "source": [
    "import requests\n",
    "\n",
    "meta = getWithRetry(\n",
    "    \"http://localhost:8004/seldon/seldon/graph-metadata-router/api/v1.0/metadata\"\n",
    ")\n",
    "\n",
    "assert meta == {\n",
    "    \"name\": \"example\",\n",
    "    \"models\": {\n",
    "        \"node-router\": {\n",
    "            \"name\": \"seldonio/metadata-generic-node\",\n",
    "            \"versions\": [\"0.4\"],\n",
    "            \"inputs\": [],\n",
    "            \"outputs\": [],\n",
    "        },\n",
    "        \"node-one\": {\n",
    "            \"name\": \"node-one\",\n",
    "            \"platform\": \"seldon\",\n",
    "            \"versions\": [\"generic-node/v0.4\"],\n",
    "            \"inputs\": [\n",
    "                {\"messagetype\": \"tensor\", \"schema\": {\"names\": [\"a\", \"b\"], \"shape\": [2]}}\n",
    "            ],\n",
    "            \"outputs\": [\n",
    "                {\n",
    "                    \"messagetype\": \"tensor\",\n",
    "                    \"schema\": {\"names\": [\"node-output\"], \"shape\": [1]},\n",
    "                }\n",
    "            ],\n",
    "        },\n",
    "        \"node-two\": {\n",
    "            \"name\": \"node-two\",\n",
    "            \"platform\": \"seldon\",\n",
    "            \"versions\": [\"generic-node/v0.4\"],\n",
    "            \"inputs\": [\n",
    "                {\"messagetype\": \"tensor\", \"schema\": {\"names\": [\"a\", \"b\"], \"shape\": [2]}}\n",
    "            ],\n",
    "            \"outputs\": [\n",
    "                {\n",
    "                    \"messagetype\": \"tensor\",\n",
    "                    \"schema\": {\"names\": [\"node-output\"], \"shape\": [1]},\n",
    "                }\n",
    "            ],\n",
    "        },\n",
    "    },\n",
    "    \"graphinputs\": [\n",
    "        {\"messagetype\": \"tensor\", \"schema\": {\"names\": [\"a\", \"b\"], \"shape\": [2]}}\n",
    "    ],\n",
    "    \"graphoutputs\": [\n",
    "        {\"messagetype\": \"tensor\", \"schema\": {\"names\": [\"node-output\"], \"shape\": [1]}}\n",
    "    ],\n",
    "}\n",
    "\n",
    "meta"
   ]
  },
  {
   "cell_type": "code",
   "execution_count": 32,
   "metadata": {},
   "outputs": [
    {
     "name": "stdout",
     "output_type": "stream",
     "text": [
      "seldondeployment.machinelearning.seldon.io \"graph-metadata-router\" deleted\n"
     ]
    }
   ],
   "source": [
    "!kubectl delete -f graph-metadata/router.yaml"
   ]
  },
  {
   "cell_type": "markdown",
   "metadata": {},
   "source": [
    "## Input Transformer\n",
    "\n",
    "Input transformers work almost exactly the same as chained nodes, see two-level example above.\n",
    "\n",
    "Following graph is presented in a way that is suppose to make next example (output transfomer) more intuitive.\n",
    "\n",
    "![input-transformer](./images/input-transformer.png)"
   ]
  },
  {
   "cell_type": "code",
   "execution_count": 30,
   "metadata": {},
   "outputs": [
    {
     "name": "stdout",
     "output_type": "stream",
     "text": [
      "Overwriting graph-metadata/input-transformer.yaml\n"
     ]
    }
   ],
   "source": [
    "%%writefile graph-metadata/input-transformer.yaml\n",
    "\n",
    "apiVersion: machinelearning.seldon.io/v1\n",
    "kind: SeldonDeployment\n",
    "metadata:\n",
    "  name: graph-metadata-input\n",
    "spec:\n",
    "  name: test-deployment\n",
    "  predictors:\n",
    "  - componentSpecs:\n",
    "    - spec:\n",
    "        containers:\n",
    "        - image: seldonio/metadata-generic-node:0.4\n",
    "          name: node-input-transformer\n",
    "          env:\n",
    "          - name: MODEL_METADATA\n",
    "            value: |\n",
    "              ---\n",
    "              name: node-input-transformer\n",
    "              versions: [ generic-node/v0.4 ]\n",
    "              platform: seldon\n",
    "              inputs:\n",
    "              - messagetype: tensor\n",
    "                schema:\n",
    "                  names: [transformer-input]\n",
    "                  shape: [ 1 ]\n",
    "              outputs:\n",
    "              - messagetype: tensor\n",
    "                schema:\n",
    "                  names: [transformer-output]                          \n",
    "                  shape: [ 1 ]  \n",
    "        - image: seldonio/metadata-generic-node:0.4\n",
    "          name: node\n",
    "          env:\n",
    "          - name: MODEL_METADATA\n",
    "            value: |\n",
    "              ---\n",
    "              name: node\n",
    "              versions: [ generic-node/v0.4 ]\n",
    "              platform: seldon\n",
    "              inputs:\n",
    "              - messagetype: tensor\n",
    "                schema:\n",
    "                  names: [transformer-output]\n",
    "                  shape: [ 1 ]  \n",
    "              outputs:\n",
    "              - messagetype: tensor\n",
    "                schema:\n",
    "                  names: [node-output]\n",
    "                  shape: [ 1 ]  \n",
    "    graph:\n",
    "      name: node-input-transformer\n",
    "      type: TRANSFORMER\n",
    "      children:\n",
    "      - name: node\n",
    "        type: MODEL\n",
    "        children: []   \n",
    "    name: example\n",
    "    replicas: 1"
   ]
  },
  {
   "cell_type": "code",
   "execution_count": 33,
   "metadata": {},
   "outputs": [
    {
     "name": "stdout",
     "output_type": "stream",
     "text": [
      "seldondeployment.machinelearning.seldon.io/graph-metadata-input created\n"
     ]
    }
   ],
   "source": [
    "!kubectl apply -f graph-metadata/input-transformer.yaml"
   ]
  },
  {
   "cell_type": "code",
   "execution_count": 34,
   "metadata": {},
   "outputs": [
    {
     "name": "stdout",
     "output_type": "stream",
     "text": [
      "Waiting for deployment \"graph-metadata-input-example-0-node-input-transformer-node\" rollout to finish: 0 of 1 updated replicas are available...\n",
      "deployment \"graph-metadata-input-example-0-node-input-transformer-node\" successfully rolled out\n"
     ]
    }
   ],
   "source": [
    "!kubectl rollout status deploy/$(kubectl get deploy -l seldon-deployment-id=graph-metadata-input -o jsonpath='{.items[0].metadata.name}')"
   ]
  },
  {
   "cell_type": "code",
   "execution_count": 35,
   "metadata": {},
   "outputs": [
    {
     "ename": "ConnectionError",
     "evalue": "HTTPConnectionPool(host='localhost', port=8003): Max retries exceeded with url: /seldon/seldon/graph-metadata-input/api/v1.0/metadata (Caused by NewConnectionError('<urllib3.connection.HTTPConnection object at 0x7efe8d7ef2e0>: Failed to establish a new connection: [Errno 111] Connection refused'))",
     "output_type": "error",
     "traceback": [
      "\u001b[0;31m---------------------------------------------------------------------------\u001b[0m",
      "\u001b[0;31mConnectionRefusedError\u001b[0m                    Traceback (most recent call last)",
      "File \u001b[0;32m~/miniconda3/envs/central/lib/python3.10/site-packages/urllib3/connection.py:169\u001b[0m, in \u001b[0;36mHTTPConnection._new_conn\u001b[0;34m(self)\u001b[0m\n\u001b[1;32m    <a href='file:///home/cc/miniconda3/envs/central/lib/python3.10/site-packages/urllib3/connection.py?line=167'>168</a>\u001b[0m \u001b[39mtry\u001b[39;00m:\n\u001b[0;32m--> <a href='file:///home/cc/miniconda3/envs/central/lib/python3.10/site-packages/urllib3/connection.py?line=168'>169</a>\u001b[0m     conn \u001b[39m=\u001b[39m connection\u001b[39m.\u001b[39;49mcreate_connection(\n\u001b[1;32m    <a href='file:///home/cc/miniconda3/envs/central/lib/python3.10/site-packages/urllib3/connection.py?line=169'>170</a>\u001b[0m         (\u001b[39mself\u001b[39;49m\u001b[39m.\u001b[39;49m_dns_host, \u001b[39mself\u001b[39;49m\u001b[39m.\u001b[39;49mport), \u001b[39mself\u001b[39;49m\u001b[39m.\u001b[39;49mtimeout, \u001b[39m*\u001b[39;49m\u001b[39m*\u001b[39;49mextra_kw\n\u001b[1;32m    <a href='file:///home/cc/miniconda3/envs/central/lib/python3.10/site-packages/urllib3/connection.py?line=170'>171</a>\u001b[0m     )\n\u001b[1;32m    <a href='file:///home/cc/miniconda3/envs/central/lib/python3.10/site-packages/urllib3/connection.py?line=172'>173</a>\u001b[0m \u001b[39mexcept\u001b[39;00m SocketTimeout:\n",
      "File \u001b[0;32m~/miniconda3/envs/central/lib/python3.10/site-packages/urllib3/util/connection.py:96\u001b[0m, in \u001b[0;36mcreate_connection\u001b[0;34m(address, timeout, source_address, socket_options)\u001b[0m\n\u001b[1;32m     <a href='file:///home/cc/miniconda3/envs/central/lib/python3.10/site-packages/urllib3/util/connection.py?line=94'>95</a>\u001b[0m \u001b[39mif\u001b[39;00m err \u001b[39mis\u001b[39;00m \u001b[39mnot\u001b[39;00m \u001b[39mNone\u001b[39;00m:\n\u001b[0;32m---> <a href='file:///home/cc/miniconda3/envs/central/lib/python3.10/site-packages/urllib3/util/connection.py?line=95'>96</a>\u001b[0m     \u001b[39mraise\u001b[39;00m err\n\u001b[1;32m     <a href='file:///home/cc/miniconda3/envs/central/lib/python3.10/site-packages/urllib3/util/connection.py?line=97'>98</a>\u001b[0m \u001b[39mraise\u001b[39;00m socket\u001b[39m.\u001b[39merror(\u001b[39m\"\u001b[39m\u001b[39mgetaddrinfo returns an empty list\u001b[39m\u001b[39m\"\u001b[39m)\n",
      "File \u001b[0;32m~/miniconda3/envs/central/lib/python3.10/site-packages/urllib3/util/connection.py:86\u001b[0m, in \u001b[0;36mcreate_connection\u001b[0;34m(address, timeout, source_address, socket_options)\u001b[0m\n\u001b[1;32m     <a href='file:///home/cc/miniconda3/envs/central/lib/python3.10/site-packages/urllib3/util/connection.py?line=84'>85</a>\u001b[0m     sock\u001b[39m.\u001b[39mbind(source_address)\n\u001b[0;32m---> <a href='file:///home/cc/miniconda3/envs/central/lib/python3.10/site-packages/urllib3/util/connection.py?line=85'>86</a>\u001b[0m sock\u001b[39m.\u001b[39;49mconnect(sa)\n\u001b[1;32m     <a href='file:///home/cc/miniconda3/envs/central/lib/python3.10/site-packages/urllib3/util/connection.py?line=86'>87</a>\u001b[0m \u001b[39mreturn\u001b[39;00m sock\n",
      "\u001b[0;31mConnectionRefusedError\u001b[0m: [Errno 111] Connection refused",
      "\nDuring handling of the above exception, another exception occurred:\n",
      "\u001b[0;31mNewConnectionError\u001b[0m                        Traceback (most recent call last)",
      "File \u001b[0;32m~/miniconda3/envs/central/lib/python3.10/site-packages/urllib3/connectionpool.py:699\u001b[0m, in \u001b[0;36mHTTPConnectionPool.urlopen\u001b[0;34m(self, method, url, body, headers, retries, redirect, assert_same_host, timeout, pool_timeout, release_conn, chunked, body_pos, **response_kw)\u001b[0m\n\u001b[1;32m    <a href='file:///home/cc/miniconda3/envs/central/lib/python3.10/site-packages/urllib3/connectionpool.py?line=697'>698</a>\u001b[0m \u001b[39m# Make the request on the httplib connection object.\u001b[39;00m\n\u001b[0;32m--> <a href='file:///home/cc/miniconda3/envs/central/lib/python3.10/site-packages/urllib3/connectionpool.py?line=698'>699</a>\u001b[0m httplib_response \u001b[39m=\u001b[39m \u001b[39mself\u001b[39;49m\u001b[39m.\u001b[39;49m_make_request(\n\u001b[1;32m    <a href='file:///home/cc/miniconda3/envs/central/lib/python3.10/site-packages/urllib3/connectionpool.py?line=699'>700</a>\u001b[0m     conn,\n\u001b[1;32m    <a href='file:///home/cc/miniconda3/envs/central/lib/python3.10/site-packages/urllib3/connectionpool.py?line=700'>701</a>\u001b[0m     method,\n\u001b[1;32m    <a href='file:///home/cc/miniconda3/envs/central/lib/python3.10/site-packages/urllib3/connectionpool.py?line=701'>702</a>\u001b[0m     url,\n\u001b[1;32m    <a href='file:///home/cc/miniconda3/envs/central/lib/python3.10/site-packages/urllib3/connectionpool.py?line=702'>703</a>\u001b[0m     timeout\u001b[39m=\u001b[39;49mtimeout_obj,\n\u001b[1;32m    <a href='file:///home/cc/miniconda3/envs/central/lib/python3.10/site-packages/urllib3/connectionpool.py?line=703'>704</a>\u001b[0m     body\u001b[39m=\u001b[39;49mbody,\n\u001b[1;32m    <a href='file:///home/cc/miniconda3/envs/central/lib/python3.10/site-packages/urllib3/connectionpool.py?line=704'>705</a>\u001b[0m     headers\u001b[39m=\u001b[39;49mheaders,\n\u001b[1;32m    <a href='file:///home/cc/miniconda3/envs/central/lib/python3.10/site-packages/urllib3/connectionpool.py?line=705'>706</a>\u001b[0m     chunked\u001b[39m=\u001b[39;49mchunked,\n\u001b[1;32m    <a href='file:///home/cc/miniconda3/envs/central/lib/python3.10/site-packages/urllib3/connectionpool.py?line=706'>707</a>\u001b[0m )\n\u001b[1;32m    <a href='file:///home/cc/miniconda3/envs/central/lib/python3.10/site-packages/urllib3/connectionpool.py?line=708'>709</a>\u001b[0m \u001b[39m# If we're going to release the connection in ``finally:``, then\u001b[39;00m\n\u001b[1;32m    <a href='file:///home/cc/miniconda3/envs/central/lib/python3.10/site-packages/urllib3/connectionpool.py?line=709'>710</a>\u001b[0m \u001b[39m# the response doesn't need to know about the connection. Otherwise\u001b[39;00m\n\u001b[1;32m    <a href='file:///home/cc/miniconda3/envs/central/lib/python3.10/site-packages/urllib3/connectionpool.py?line=710'>711</a>\u001b[0m \u001b[39m# it will also try to release it and we'll have a double-release\u001b[39;00m\n\u001b[1;32m    <a href='file:///home/cc/miniconda3/envs/central/lib/python3.10/site-packages/urllib3/connectionpool.py?line=711'>712</a>\u001b[0m \u001b[39m# mess.\u001b[39;00m\n",
      "File \u001b[0;32m~/miniconda3/envs/central/lib/python3.10/site-packages/urllib3/connectionpool.py:394\u001b[0m, in \u001b[0;36mHTTPConnectionPool._make_request\u001b[0;34m(self, conn, method, url, timeout, chunked, **httplib_request_kw)\u001b[0m\n\u001b[1;32m    <a href='file:///home/cc/miniconda3/envs/central/lib/python3.10/site-packages/urllib3/connectionpool.py?line=392'>393</a>\u001b[0m     \u001b[39melse\u001b[39;00m:\n\u001b[0;32m--> <a href='file:///home/cc/miniconda3/envs/central/lib/python3.10/site-packages/urllib3/connectionpool.py?line=393'>394</a>\u001b[0m         conn\u001b[39m.\u001b[39;49mrequest(method, url, \u001b[39m*\u001b[39;49m\u001b[39m*\u001b[39;49mhttplib_request_kw)\n\u001b[1;32m    <a href='file:///home/cc/miniconda3/envs/central/lib/python3.10/site-packages/urllib3/connectionpool.py?line=395'>396</a>\u001b[0m \u001b[39m# We are swallowing BrokenPipeError (errno.EPIPE) since the server is\u001b[39;00m\n\u001b[1;32m    <a href='file:///home/cc/miniconda3/envs/central/lib/python3.10/site-packages/urllib3/connectionpool.py?line=396'>397</a>\u001b[0m \u001b[39m# legitimately able to close the connection after sending a valid response.\u001b[39;00m\n\u001b[1;32m    <a href='file:///home/cc/miniconda3/envs/central/lib/python3.10/site-packages/urllib3/connectionpool.py?line=397'>398</a>\u001b[0m \u001b[39m# With this behaviour, the received response is still readable.\u001b[39;00m\n",
      "File \u001b[0;32m~/miniconda3/envs/central/lib/python3.10/site-packages/urllib3/connection.py:234\u001b[0m, in \u001b[0;36mHTTPConnection.request\u001b[0;34m(self, method, url, body, headers)\u001b[0m\n\u001b[1;32m    <a href='file:///home/cc/miniconda3/envs/central/lib/python3.10/site-packages/urllib3/connection.py?line=232'>233</a>\u001b[0m     headers[\u001b[39m\"\u001b[39m\u001b[39mUser-Agent\u001b[39m\u001b[39m\"\u001b[39m] \u001b[39m=\u001b[39m _get_default_user_agent()\n\u001b[0;32m--> <a href='file:///home/cc/miniconda3/envs/central/lib/python3.10/site-packages/urllib3/connection.py?line=233'>234</a>\u001b[0m \u001b[39msuper\u001b[39;49m(HTTPConnection, \u001b[39mself\u001b[39;49m)\u001b[39m.\u001b[39;49mrequest(method, url, body\u001b[39m=\u001b[39;49mbody, headers\u001b[39m=\u001b[39;49mheaders)\n",
      "File \u001b[0;32m~/miniconda3/envs/central/lib/python3.10/http/client.py:1282\u001b[0m, in \u001b[0;36mHTTPConnection.request\u001b[0;34m(self, method, url, body, headers, encode_chunked)\u001b[0m\n\u001b[1;32m   <a href='file:///home/cc/miniconda3/envs/central/lib/python3.10/http/client.py?line=1280'>1281</a>\u001b[0m \u001b[39m\"\"\"Send a complete request to the server.\"\"\"\u001b[39;00m\n\u001b[0;32m-> <a href='file:///home/cc/miniconda3/envs/central/lib/python3.10/http/client.py?line=1281'>1282</a>\u001b[0m \u001b[39mself\u001b[39;49m\u001b[39m.\u001b[39;49m_send_request(method, url, body, headers, encode_chunked)\n",
      "File \u001b[0;32m~/miniconda3/envs/central/lib/python3.10/http/client.py:1328\u001b[0m, in \u001b[0;36mHTTPConnection._send_request\u001b[0;34m(self, method, url, body, headers, encode_chunked)\u001b[0m\n\u001b[1;32m   <a href='file:///home/cc/miniconda3/envs/central/lib/python3.10/http/client.py?line=1326'>1327</a>\u001b[0m     body \u001b[39m=\u001b[39m _encode(body, \u001b[39m'\u001b[39m\u001b[39mbody\u001b[39m\u001b[39m'\u001b[39m)\n\u001b[0;32m-> <a href='file:///home/cc/miniconda3/envs/central/lib/python3.10/http/client.py?line=1327'>1328</a>\u001b[0m \u001b[39mself\u001b[39;49m\u001b[39m.\u001b[39;49mendheaders(body, encode_chunked\u001b[39m=\u001b[39;49mencode_chunked)\n",
      "File \u001b[0;32m~/miniconda3/envs/central/lib/python3.10/http/client.py:1277\u001b[0m, in \u001b[0;36mHTTPConnection.endheaders\u001b[0;34m(self, message_body, encode_chunked)\u001b[0m\n\u001b[1;32m   <a href='file:///home/cc/miniconda3/envs/central/lib/python3.10/http/client.py?line=1275'>1276</a>\u001b[0m     \u001b[39mraise\u001b[39;00m CannotSendHeader()\n\u001b[0;32m-> <a href='file:///home/cc/miniconda3/envs/central/lib/python3.10/http/client.py?line=1276'>1277</a>\u001b[0m \u001b[39mself\u001b[39;49m\u001b[39m.\u001b[39;49m_send_output(message_body, encode_chunked\u001b[39m=\u001b[39;49mencode_chunked)\n",
      "File \u001b[0;32m~/miniconda3/envs/central/lib/python3.10/http/client.py:1037\u001b[0m, in \u001b[0;36mHTTPConnection._send_output\u001b[0;34m(self, message_body, encode_chunked)\u001b[0m\n\u001b[1;32m   <a href='file:///home/cc/miniconda3/envs/central/lib/python3.10/http/client.py?line=1035'>1036</a>\u001b[0m \u001b[39mdel\u001b[39;00m \u001b[39mself\u001b[39m\u001b[39m.\u001b[39m_buffer[:]\n\u001b[0;32m-> <a href='file:///home/cc/miniconda3/envs/central/lib/python3.10/http/client.py?line=1036'>1037</a>\u001b[0m \u001b[39mself\u001b[39;49m\u001b[39m.\u001b[39;49msend(msg)\n\u001b[1;32m   <a href='file:///home/cc/miniconda3/envs/central/lib/python3.10/http/client.py?line=1038'>1039</a>\u001b[0m \u001b[39mif\u001b[39;00m message_body \u001b[39mis\u001b[39;00m \u001b[39mnot\u001b[39;00m \u001b[39mNone\u001b[39;00m:\n\u001b[1;32m   <a href='file:///home/cc/miniconda3/envs/central/lib/python3.10/http/client.py?line=1039'>1040</a>\u001b[0m \n\u001b[1;32m   <a href='file:///home/cc/miniconda3/envs/central/lib/python3.10/http/client.py?line=1040'>1041</a>\u001b[0m     \u001b[39m# create a consistent interface to message_body\u001b[39;00m\n",
      "File \u001b[0;32m~/miniconda3/envs/central/lib/python3.10/http/client.py:975\u001b[0m, in \u001b[0;36mHTTPConnection.send\u001b[0;34m(self, data)\u001b[0m\n\u001b[1;32m    <a href='file:///home/cc/miniconda3/envs/central/lib/python3.10/http/client.py?line=973'>974</a>\u001b[0m \u001b[39mif\u001b[39;00m \u001b[39mself\u001b[39m\u001b[39m.\u001b[39mauto_open:\n\u001b[0;32m--> <a href='file:///home/cc/miniconda3/envs/central/lib/python3.10/http/client.py?line=974'>975</a>\u001b[0m     \u001b[39mself\u001b[39;49m\u001b[39m.\u001b[39;49mconnect()\n\u001b[1;32m    <a href='file:///home/cc/miniconda3/envs/central/lib/python3.10/http/client.py?line=975'>976</a>\u001b[0m \u001b[39melse\u001b[39;00m:\n",
      "File \u001b[0;32m~/miniconda3/envs/central/lib/python3.10/site-packages/urllib3/connection.py:200\u001b[0m, in \u001b[0;36mHTTPConnection.connect\u001b[0;34m(self)\u001b[0m\n\u001b[1;32m    <a href='file:///home/cc/miniconda3/envs/central/lib/python3.10/site-packages/urllib3/connection.py?line=198'>199</a>\u001b[0m \u001b[39mdef\u001b[39;00m \u001b[39mconnect\u001b[39m(\u001b[39mself\u001b[39m):\n\u001b[0;32m--> <a href='file:///home/cc/miniconda3/envs/central/lib/python3.10/site-packages/urllib3/connection.py?line=199'>200</a>\u001b[0m     conn \u001b[39m=\u001b[39m \u001b[39mself\u001b[39;49m\u001b[39m.\u001b[39;49m_new_conn()\n\u001b[1;32m    <a href='file:///home/cc/miniconda3/envs/central/lib/python3.10/site-packages/urllib3/connection.py?line=200'>201</a>\u001b[0m     \u001b[39mself\u001b[39m\u001b[39m.\u001b[39m_prepare_conn(conn)\n",
      "File \u001b[0;32m~/miniconda3/envs/central/lib/python3.10/site-packages/urllib3/connection.py:181\u001b[0m, in \u001b[0;36mHTTPConnection._new_conn\u001b[0;34m(self)\u001b[0m\n\u001b[1;32m    <a href='file:///home/cc/miniconda3/envs/central/lib/python3.10/site-packages/urllib3/connection.py?line=179'>180</a>\u001b[0m \u001b[39mexcept\u001b[39;00m SocketError \u001b[39mas\u001b[39;00m e:\n\u001b[0;32m--> <a href='file:///home/cc/miniconda3/envs/central/lib/python3.10/site-packages/urllib3/connection.py?line=180'>181</a>\u001b[0m     \u001b[39mraise\u001b[39;00m NewConnectionError(\n\u001b[1;32m    <a href='file:///home/cc/miniconda3/envs/central/lib/python3.10/site-packages/urllib3/connection.py?line=181'>182</a>\u001b[0m         \u001b[39mself\u001b[39m, \u001b[39m\"\u001b[39m\u001b[39mFailed to establish a new connection: \u001b[39m\u001b[39m%s\u001b[39;00m\u001b[39m\"\u001b[39m \u001b[39m%\u001b[39m e\n\u001b[1;32m    <a href='file:///home/cc/miniconda3/envs/central/lib/python3.10/site-packages/urllib3/connection.py?line=182'>183</a>\u001b[0m     )\n\u001b[1;32m    <a href='file:///home/cc/miniconda3/envs/central/lib/python3.10/site-packages/urllib3/connection.py?line=184'>185</a>\u001b[0m \u001b[39mreturn\u001b[39;00m conn\n",
      "\u001b[0;31mNewConnectionError\u001b[0m: <urllib3.connection.HTTPConnection object at 0x7efe8d7ef2e0>: Failed to establish a new connection: [Errno 111] Connection refused",
      "\nDuring handling of the above exception, another exception occurred:\n",
      "\u001b[0;31mMaxRetryError\u001b[0m                             Traceback (most recent call last)",
      "File \u001b[0;32m~/miniconda3/envs/central/lib/python3.10/site-packages/requests/adapters.py:440\u001b[0m, in \u001b[0;36mHTTPAdapter.send\u001b[0;34m(self, request, stream, timeout, verify, cert, proxies)\u001b[0m\n\u001b[1;32m    <a href='file:///home/cc/miniconda3/envs/central/lib/python3.10/site-packages/requests/adapters.py?line=438'>439</a>\u001b[0m \u001b[39mif\u001b[39;00m \u001b[39mnot\u001b[39;00m chunked:\n\u001b[0;32m--> <a href='file:///home/cc/miniconda3/envs/central/lib/python3.10/site-packages/requests/adapters.py?line=439'>440</a>\u001b[0m     resp \u001b[39m=\u001b[39m conn\u001b[39m.\u001b[39;49murlopen(\n\u001b[1;32m    <a href='file:///home/cc/miniconda3/envs/central/lib/python3.10/site-packages/requests/adapters.py?line=440'>441</a>\u001b[0m         method\u001b[39m=\u001b[39;49mrequest\u001b[39m.\u001b[39;49mmethod,\n\u001b[1;32m    <a href='file:///home/cc/miniconda3/envs/central/lib/python3.10/site-packages/requests/adapters.py?line=441'>442</a>\u001b[0m         url\u001b[39m=\u001b[39;49murl,\n\u001b[1;32m    <a href='file:///home/cc/miniconda3/envs/central/lib/python3.10/site-packages/requests/adapters.py?line=442'>443</a>\u001b[0m         body\u001b[39m=\u001b[39;49mrequest\u001b[39m.\u001b[39;49mbody,\n\u001b[1;32m    <a href='file:///home/cc/miniconda3/envs/central/lib/python3.10/site-packages/requests/adapters.py?line=443'>444</a>\u001b[0m         headers\u001b[39m=\u001b[39;49mrequest\u001b[39m.\u001b[39;49mheaders,\n\u001b[1;32m    <a href='file:///home/cc/miniconda3/envs/central/lib/python3.10/site-packages/requests/adapters.py?line=444'>445</a>\u001b[0m         redirect\u001b[39m=\u001b[39;49m\u001b[39mFalse\u001b[39;49;00m,\n\u001b[1;32m    <a href='file:///home/cc/miniconda3/envs/central/lib/python3.10/site-packages/requests/adapters.py?line=445'>446</a>\u001b[0m         assert_same_host\u001b[39m=\u001b[39;49m\u001b[39mFalse\u001b[39;49;00m,\n\u001b[1;32m    <a href='file:///home/cc/miniconda3/envs/central/lib/python3.10/site-packages/requests/adapters.py?line=446'>447</a>\u001b[0m         preload_content\u001b[39m=\u001b[39;49m\u001b[39mFalse\u001b[39;49;00m,\n\u001b[1;32m    <a href='file:///home/cc/miniconda3/envs/central/lib/python3.10/site-packages/requests/adapters.py?line=447'>448</a>\u001b[0m         decode_content\u001b[39m=\u001b[39;49m\u001b[39mFalse\u001b[39;49;00m,\n\u001b[1;32m    <a href='file:///home/cc/miniconda3/envs/central/lib/python3.10/site-packages/requests/adapters.py?line=448'>449</a>\u001b[0m         retries\u001b[39m=\u001b[39;49m\u001b[39mself\u001b[39;49m\u001b[39m.\u001b[39;49mmax_retries,\n\u001b[1;32m    <a href='file:///home/cc/miniconda3/envs/central/lib/python3.10/site-packages/requests/adapters.py?line=449'>450</a>\u001b[0m         timeout\u001b[39m=\u001b[39;49mtimeout\n\u001b[1;32m    <a href='file:///home/cc/miniconda3/envs/central/lib/python3.10/site-packages/requests/adapters.py?line=450'>451</a>\u001b[0m     )\n\u001b[1;32m    <a href='file:///home/cc/miniconda3/envs/central/lib/python3.10/site-packages/requests/adapters.py?line=452'>453</a>\u001b[0m \u001b[39m# Send the request.\u001b[39;00m\n\u001b[1;32m    <a href='file:///home/cc/miniconda3/envs/central/lib/python3.10/site-packages/requests/adapters.py?line=453'>454</a>\u001b[0m \u001b[39melse\u001b[39;00m:\n",
      "File \u001b[0;32m~/miniconda3/envs/central/lib/python3.10/site-packages/urllib3/connectionpool.py:755\u001b[0m, in \u001b[0;36mHTTPConnectionPool.urlopen\u001b[0;34m(self, method, url, body, headers, retries, redirect, assert_same_host, timeout, pool_timeout, release_conn, chunked, body_pos, **response_kw)\u001b[0m\n\u001b[1;32m    <a href='file:///home/cc/miniconda3/envs/central/lib/python3.10/site-packages/urllib3/connectionpool.py?line=752'>753</a>\u001b[0m     e \u001b[39m=\u001b[39m ProtocolError(\u001b[39m\"\u001b[39m\u001b[39mConnection aborted.\u001b[39m\u001b[39m\"\u001b[39m, e)\n\u001b[0;32m--> <a href='file:///home/cc/miniconda3/envs/central/lib/python3.10/site-packages/urllib3/connectionpool.py?line=754'>755</a>\u001b[0m retries \u001b[39m=\u001b[39m retries\u001b[39m.\u001b[39;49mincrement(\n\u001b[1;32m    <a href='file:///home/cc/miniconda3/envs/central/lib/python3.10/site-packages/urllib3/connectionpool.py?line=755'>756</a>\u001b[0m     method, url, error\u001b[39m=\u001b[39;49me, _pool\u001b[39m=\u001b[39;49m\u001b[39mself\u001b[39;49m, _stacktrace\u001b[39m=\u001b[39;49msys\u001b[39m.\u001b[39;49mexc_info()[\u001b[39m2\u001b[39;49m]\n\u001b[1;32m    <a href='file:///home/cc/miniconda3/envs/central/lib/python3.10/site-packages/urllib3/connectionpool.py?line=756'>757</a>\u001b[0m )\n\u001b[1;32m    <a href='file:///home/cc/miniconda3/envs/central/lib/python3.10/site-packages/urllib3/connectionpool.py?line=757'>758</a>\u001b[0m retries\u001b[39m.\u001b[39msleep()\n",
      "File \u001b[0;32m~/miniconda3/envs/central/lib/python3.10/site-packages/urllib3/util/retry.py:574\u001b[0m, in \u001b[0;36mRetry.increment\u001b[0;34m(self, method, url, response, error, _pool, _stacktrace)\u001b[0m\n\u001b[1;32m    <a href='file:///home/cc/miniconda3/envs/central/lib/python3.10/site-packages/urllib3/util/retry.py?line=572'>573</a>\u001b[0m \u001b[39mif\u001b[39;00m new_retry\u001b[39m.\u001b[39mis_exhausted():\n\u001b[0;32m--> <a href='file:///home/cc/miniconda3/envs/central/lib/python3.10/site-packages/urllib3/util/retry.py?line=573'>574</a>\u001b[0m     \u001b[39mraise\u001b[39;00m MaxRetryError(_pool, url, error \u001b[39mor\u001b[39;00m ResponseError(cause))\n\u001b[1;32m    <a href='file:///home/cc/miniconda3/envs/central/lib/python3.10/site-packages/urllib3/util/retry.py?line=575'>576</a>\u001b[0m log\u001b[39m.\u001b[39mdebug(\u001b[39m\"\u001b[39m\u001b[39mIncremented Retry for (url=\u001b[39m\u001b[39m'\u001b[39m\u001b[39m%s\u001b[39;00m\u001b[39m'\u001b[39m\u001b[39m): \u001b[39m\u001b[39m%r\u001b[39;00m\u001b[39m\"\u001b[39m, url, new_retry)\n",
      "\u001b[0;31mMaxRetryError\u001b[0m: HTTPConnectionPool(host='localhost', port=8003): Max retries exceeded with url: /seldon/seldon/graph-metadata-input/api/v1.0/metadata (Caused by NewConnectionError('<urllib3.connection.HTTPConnection object at 0x7efe8d7ef2e0>: Failed to establish a new connection: [Errno 111] Connection refused'))",
      "\nDuring handling of the above exception, another exception occurred:\n",
      "\u001b[0;31mConnectionError\u001b[0m                           Traceback (most recent call last)",
      "\u001b[1;32m/home/cc/inference-project/inference-pipeline-joint-optimization/pipelines/1-template-doc/metadata/graph_metadata.ipynb Cell 39'\u001b[0m in \u001b[0;36m<cell line: 3>\u001b[0;34m()\u001b[0m\n\u001b[1;32m      <a href='vscode-notebook-cell://ssh-remote%2Bchameleon/home/cc/inference-project/inference-pipeline-joint-optimization/pipelines/1-template-doc/metadata/graph_metadata.ipynb#ch0000038vscode-remote?line=0'>1</a>\u001b[0m \u001b[39mimport\u001b[39;00m \u001b[39mrequests\u001b[39;00m\n\u001b[0;32m----> <a href='vscode-notebook-cell://ssh-remote%2Bchameleon/home/cc/inference-project/inference-pipeline-joint-optimization/pipelines/1-template-doc/metadata/graph_metadata.ipynb#ch0000038vscode-remote?line=2'>3</a>\u001b[0m meta \u001b[39m=\u001b[39m getWithRetry(\n\u001b[1;32m      <a href='vscode-notebook-cell://ssh-remote%2Bchameleon/home/cc/inference-project/inference-pipeline-joint-optimization/pipelines/1-template-doc/metadata/graph_metadata.ipynb#ch0000038vscode-remote?line=3'>4</a>\u001b[0m     \u001b[39m\"\u001b[39;49m\u001b[39mhttp://localhost:8003/seldon/seldon/graph-metadata-input/api/v1.0/metadata\u001b[39;49m\u001b[39m\"\u001b[39;49m\n\u001b[1;32m      <a href='vscode-notebook-cell://ssh-remote%2Bchameleon/home/cc/inference-project/inference-pipeline-joint-optimization/pipelines/1-template-doc/metadata/graph_metadata.ipynb#ch0000038vscode-remote?line=4'>5</a>\u001b[0m )\n\u001b[1;32m      <a href='vscode-notebook-cell://ssh-remote%2Bchameleon/home/cc/inference-project/inference-pipeline-joint-optimization/pipelines/1-template-doc/metadata/graph_metadata.ipynb#ch0000038vscode-remote?line=6'>7</a>\u001b[0m \u001b[39massert\u001b[39;00m meta \u001b[39m==\u001b[39m {\n\u001b[1;32m      <a href='vscode-notebook-cell://ssh-remote%2Bchameleon/home/cc/inference-project/inference-pipeline-joint-optimization/pipelines/1-template-doc/metadata/graph_metadata.ipynb#ch0000038vscode-remote?line=7'>8</a>\u001b[0m     \u001b[39m\"\u001b[39m\u001b[39mname\u001b[39m\u001b[39m\"\u001b[39m: \u001b[39m\"\u001b[39m\u001b[39mexample\u001b[39m\u001b[39m\"\u001b[39m,\n\u001b[1;32m      <a href='vscode-notebook-cell://ssh-remote%2Bchameleon/home/cc/inference-project/inference-pipeline-joint-optimization/pipelines/1-template-doc/metadata/graph_metadata.ipynb#ch0000038vscode-remote?line=8'>9</a>\u001b[0m     \u001b[39m\"\u001b[39m\u001b[39mmodels\u001b[39m\u001b[39m\"\u001b[39m: {\n\u001b[0;32m   (...)\u001b[0m\n\u001b[1;32m     <a href='vscode-notebook-cell://ssh-remote%2Bchameleon/home/cc/inference-project/inference-pipeline-joint-optimization/pipelines/1-template-doc/metadata/graph_metadata.ipynb#ch0000038vscode-remote?line=52'>53</a>\u001b[0m     ],\n\u001b[1;32m     <a href='vscode-notebook-cell://ssh-remote%2Bchameleon/home/cc/inference-project/inference-pipeline-joint-optimization/pipelines/1-template-doc/metadata/graph_metadata.ipynb#ch0000038vscode-remote?line=53'>54</a>\u001b[0m }\n\u001b[1;32m     <a href='vscode-notebook-cell://ssh-remote%2Bchameleon/home/cc/inference-project/inference-pipeline-joint-optimization/pipelines/1-template-doc/metadata/graph_metadata.ipynb#ch0000038vscode-remote?line=55'>56</a>\u001b[0m meta\n",
      "\u001b[1;32m/home/cc/inference-project/inference-pipeline-joint-optimization/pipelines/1-template-doc/metadata/graph_metadata.ipynb Cell 12'\u001b[0m in \u001b[0;36mgetWithRetry\u001b[0;34m(url)\u001b[0m\n\u001b[1;32m      <a href='vscode-notebook-cell://ssh-remote%2Bchameleon/home/cc/inference-project/inference-pipeline-joint-optimization/pipelines/1-template-doc/metadata/graph_metadata.ipynb#ch0000011vscode-remote?line=5'>6</a>\u001b[0m \u001b[39mdef\u001b[39;00m \u001b[39mgetWithRetry\u001b[39m(url):\n\u001b[1;32m      <a href='vscode-notebook-cell://ssh-remote%2Bchameleon/home/cc/inference-project/inference-pipeline-joint-optimization/pipelines/1-template-doc/metadata/graph_metadata.ipynb#ch0000011vscode-remote?line=6'>7</a>\u001b[0m     \u001b[39mfor\u001b[39;00m i \u001b[39min\u001b[39;00m \u001b[39mrange\u001b[39m(\u001b[39m3\u001b[39m):\n\u001b[0;32m----> <a href='vscode-notebook-cell://ssh-remote%2Bchameleon/home/cc/inference-project/inference-pipeline-joint-optimization/pipelines/1-template-doc/metadata/graph_metadata.ipynb#ch0000011vscode-remote?line=7'>8</a>\u001b[0m         r \u001b[39m=\u001b[39m requests\u001b[39m.\u001b[39;49mget(url)\n\u001b[1;32m      <a href='vscode-notebook-cell://ssh-remote%2Bchameleon/home/cc/inference-project/inference-pipeline-joint-optimization/pipelines/1-template-doc/metadata/graph_metadata.ipynb#ch0000011vscode-remote?line=8'>9</a>\u001b[0m         \u001b[39mif\u001b[39;00m r\u001b[39m.\u001b[39mstatus_code \u001b[39m==\u001b[39m requests\u001b[39m.\u001b[39mcodes\u001b[39m.\u001b[39mok:\n\u001b[1;32m     <a href='vscode-notebook-cell://ssh-remote%2Bchameleon/home/cc/inference-project/inference-pipeline-joint-optimization/pipelines/1-template-doc/metadata/graph_metadata.ipynb#ch0000011vscode-remote?line=9'>10</a>\u001b[0m             meta \u001b[39m=\u001b[39m r\u001b[39m.\u001b[39mjson()\n",
      "File \u001b[0;32m~/miniconda3/envs/central/lib/python3.10/site-packages/requests/api.py:75\u001b[0m, in \u001b[0;36mget\u001b[0;34m(url, params, **kwargs)\u001b[0m\n\u001b[1;32m     <a href='file:///home/cc/miniconda3/envs/central/lib/python3.10/site-packages/requests/api.py?line=63'>64</a>\u001b[0m \u001b[39mdef\u001b[39;00m \u001b[39mget\u001b[39m(url, params\u001b[39m=\u001b[39m\u001b[39mNone\u001b[39;00m, \u001b[39m*\u001b[39m\u001b[39m*\u001b[39mkwargs):\n\u001b[1;32m     <a href='file:///home/cc/miniconda3/envs/central/lib/python3.10/site-packages/requests/api.py?line=64'>65</a>\u001b[0m     \u001b[39mr\u001b[39m\u001b[39m\"\"\"Sends a GET request.\u001b[39;00m\n\u001b[1;32m     <a href='file:///home/cc/miniconda3/envs/central/lib/python3.10/site-packages/requests/api.py?line=65'>66</a>\u001b[0m \n\u001b[1;32m     <a href='file:///home/cc/miniconda3/envs/central/lib/python3.10/site-packages/requests/api.py?line=66'>67</a>\u001b[0m \u001b[39m    :param url: URL for the new :class:`Request` object.\u001b[39;00m\n\u001b[0;32m   (...)\u001b[0m\n\u001b[1;32m     <a href='file:///home/cc/miniconda3/envs/central/lib/python3.10/site-packages/requests/api.py?line=71'>72</a>\u001b[0m \u001b[39m    :rtype: requests.Response\u001b[39;00m\n\u001b[1;32m     <a href='file:///home/cc/miniconda3/envs/central/lib/python3.10/site-packages/requests/api.py?line=72'>73</a>\u001b[0m \u001b[39m    \"\"\"\u001b[39;00m\n\u001b[0;32m---> <a href='file:///home/cc/miniconda3/envs/central/lib/python3.10/site-packages/requests/api.py?line=74'>75</a>\u001b[0m     \u001b[39mreturn\u001b[39;00m request(\u001b[39m'\u001b[39;49m\u001b[39mget\u001b[39;49m\u001b[39m'\u001b[39;49m, url, params\u001b[39m=\u001b[39;49mparams, \u001b[39m*\u001b[39;49m\u001b[39m*\u001b[39;49mkwargs)\n",
      "File \u001b[0;32m~/miniconda3/envs/central/lib/python3.10/site-packages/requests/api.py:61\u001b[0m, in \u001b[0;36mrequest\u001b[0;34m(method, url, **kwargs)\u001b[0m\n\u001b[1;32m     <a href='file:///home/cc/miniconda3/envs/central/lib/python3.10/site-packages/requests/api.py?line=56'>57</a>\u001b[0m \u001b[39m# By using the 'with' statement we are sure the session is closed, thus we\u001b[39;00m\n\u001b[1;32m     <a href='file:///home/cc/miniconda3/envs/central/lib/python3.10/site-packages/requests/api.py?line=57'>58</a>\u001b[0m \u001b[39m# avoid leaving sockets open which can trigger a ResourceWarning in some\u001b[39;00m\n\u001b[1;32m     <a href='file:///home/cc/miniconda3/envs/central/lib/python3.10/site-packages/requests/api.py?line=58'>59</a>\u001b[0m \u001b[39m# cases, and look like a memory leak in others.\u001b[39;00m\n\u001b[1;32m     <a href='file:///home/cc/miniconda3/envs/central/lib/python3.10/site-packages/requests/api.py?line=59'>60</a>\u001b[0m \u001b[39mwith\u001b[39;00m sessions\u001b[39m.\u001b[39mSession() \u001b[39mas\u001b[39;00m session:\n\u001b[0;32m---> <a href='file:///home/cc/miniconda3/envs/central/lib/python3.10/site-packages/requests/api.py?line=60'>61</a>\u001b[0m     \u001b[39mreturn\u001b[39;00m session\u001b[39m.\u001b[39;49mrequest(method\u001b[39m=\u001b[39;49mmethod, url\u001b[39m=\u001b[39;49murl, \u001b[39m*\u001b[39;49m\u001b[39m*\u001b[39;49mkwargs)\n",
      "File \u001b[0;32m~/miniconda3/envs/central/lib/python3.10/site-packages/requests/sessions.py:529\u001b[0m, in \u001b[0;36mSession.request\u001b[0;34m(self, method, url, params, data, headers, cookies, files, auth, timeout, allow_redirects, proxies, hooks, stream, verify, cert, json)\u001b[0m\n\u001b[1;32m    <a href='file:///home/cc/miniconda3/envs/central/lib/python3.10/site-packages/requests/sessions.py?line=523'>524</a>\u001b[0m send_kwargs \u001b[39m=\u001b[39m {\n\u001b[1;32m    <a href='file:///home/cc/miniconda3/envs/central/lib/python3.10/site-packages/requests/sessions.py?line=524'>525</a>\u001b[0m     \u001b[39m'\u001b[39m\u001b[39mtimeout\u001b[39m\u001b[39m'\u001b[39m: timeout,\n\u001b[1;32m    <a href='file:///home/cc/miniconda3/envs/central/lib/python3.10/site-packages/requests/sessions.py?line=525'>526</a>\u001b[0m     \u001b[39m'\u001b[39m\u001b[39mallow_redirects\u001b[39m\u001b[39m'\u001b[39m: allow_redirects,\n\u001b[1;32m    <a href='file:///home/cc/miniconda3/envs/central/lib/python3.10/site-packages/requests/sessions.py?line=526'>527</a>\u001b[0m }\n\u001b[1;32m    <a href='file:///home/cc/miniconda3/envs/central/lib/python3.10/site-packages/requests/sessions.py?line=527'>528</a>\u001b[0m send_kwargs\u001b[39m.\u001b[39mupdate(settings)\n\u001b[0;32m--> <a href='file:///home/cc/miniconda3/envs/central/lib/python3.10/site-packages/requests/sessions.py?line=528'>529</a>\u001b[0m resp \u001b[39m=\u001b[39m \u001b[39mself\u001b[39;49m\u001b[39m.\u001b[39;49msend(prep, \u001b[39m*\u001b[39;49m\u001b[39m*\u001b[39;49msend_kwargs)\n\u001b[1;32m    <a href='file:///home/cc/miniconda3/envs/central/lib/python3.10/site-packages/requests/sessions.py?line=530'>531</a>\u001b[0m \u001b[39mreturn\u001b[39;00m resp\n",
      "File \u001b[0;32m~/miniconda3/envs/central/lib/python3.10/site-packages/requests/sessions.py:645\u001b[0m, in \u001b[0;36mSession.send\u001b[0;34m(self, request, **kwargs)\u001b[0m\n\u001b[1;32m    <a href='file:///home/cc/miniconda3/envs/central/lib/python3.10/site-packages/requests/sessions.py?line=641'>642</a>\u001b[0m start \u001b[39m=\u001b[39m preferred_clock()\n\u001b[1;32m    <a href='file:///home/cc/miniconda3/envs/central/lib/python3.10/site-packages/requests/sessions.py?line=643'>644</a>\u001b[0m \u001b[39m# Send the request\u001b[39;00m\n\u001b[0;32m--> <a href='file:///home/cc/miniconda3/envs/central/lib/python3.10/site-packages/requests/sessions.py?line=644'>645</a>\u001b[0m r \u001b[39m=\u001b[39m adapter\u001b[39m.\u001b[39;49msend(request, \u001b[39m*\u001b[39;49m\u001b[39m*\u001b[39;49mkwargs)\n\u001b[1;32m    <a href='file:///home/cc/miniconda3/envs/central/lib/python3.10/site-packages/requests/sessions.py?line=646'>647</a>\u001b[0m \u001b[39m# Total elapsed time of the request (approximately)\u001b[39;00m\n\u001b[1;32m    <a href='file:///home/cc/miniconda3/envs/central/lib/python3.10/site-packages/requests/sessions.py?line=647'>648</a>\u001b[0m elapsed \u001b[39m=\u001b[39m preferred_clock() \u001b[39m-\u001b[39m start\n",
      "File \u001b[0;32m~/miniconda3/envs/central/lib/python3.10/site-packages/requests/adapters.py:519\u001b[0m, in \u001b[0;36mHTTPAdapter.send\u001b[0;34m(self, request, stream, timeout, verify, cert, proxies)\u001b[0m\n\u001b[1;32m    <a href='file:///home/cc/miniconda3/envs/central/lib/python3.10/site-packages/requests/adapters.py?line=514'>515</a>\u001b[0m     \u001b[39mif\u001b[39;00m \u001b[39misinstance\u001b[39m(e\u001b[39m.\u001b[39mreason, _SSLError):\n\u001b[1;32m    <a href='file:///home/cc/miniconda3/envs/central/lib/python3.10/site-packages/requests/adapters.py?line=515'>516</a>\u001b[0m         \u001b[39m# This branch is for urllib3 v1.22 and later.\u001b[39;00m\n\u001b[1;32m    <a href='file:///home/cc/miniconda3/envs/central/lib/python3.10/site-packages/requests/adapters.py?line=516'>517</a>\u001b[0m         \u001b[39mraise\u001b[39;00m SSLError(e, request\u001b[39m=\u001b[39mrequest)\n\u001b[0;32m--> <a href='file:///home/cc/miniconda3/envs/central/lib/python3.10/site-packages/requests/adapters.py?line=518'>519</a>\u001b[0m     \u001b[39mraise\u001b[39;00m \u001b[39mConnectionError\u001b[39;00m(e, request\u001b[39m=\u001b[39mrequest)\n\u001b[1;32m    <a href='file:///home/cc/miniconda3/envs/central/lib/python3.10/site-packages/requests/adapters.py?line=520'>521</a>\u001b[0m \u001b[39mexcept\u001b[39;00m ClosedPoolError \u001b[39mas\u001b[39;00m e:\n\u001b[1;32m    <a href='file:///home/cc/miniconda3/envs/central/lib/python3.10/site-packages/requests/adapters.py?line=521'>522</a>\u001b[0m     \u001b[39mraise\u001b[39;00m \u001b[39mConnectionError\u001b[39;00m(e, request\u001b[39m=\u001b[39mrequest)\n",
      "\u001b[0;31mConnectionError\u001b[0m: HTTPConnectionPool(host='localhost', port=8003): Max retries exceeded with url: /seldon/seldon/graph-metadata-input/api/v1.0/metadata (Caused by NewConnectionError('<urllib3.connection.HTTPConnection object at 0x7efe8d7ef2e0>: Failed to establish a new connection: [Errno 111] Connection refused'))"
     ]
    }
   ],
   "source": [
    "import requests\n",
    "\n",
    "meta = getWithRetry(\n",
    "    \"http://localhost:8003/seldon/seldon/graph-metadata-input/api/v1.0/metadata\"\n",
    ")\n",
    "\n",
    "assert meta == {\n",
    "    \"name\": \"example\",\n",
    "    \"models\": {\n",
    "        \"node-input-transformer\": {\n",
    "            \"name\": \"node-input-transformer\",\n",
    "            \"platform\": \"seldon\",\n",
    "            \"versions\": [\"generic-node/v0.4\"],\n",
    "            \"inputs\": [\n",
    "                {\n",
    "                    \"messagetype\": \"tensor\",\n",
    "                    \"schema\": {\"names\": [\"transformer-input\"], \"shape\": [1]},\n",
    "                }\n",
    "            ],\n",
    "            \"outputs\": [\n",
    "                {\n",
    "                    \"messagetype\": \"tensor\",\n",
    "                    \"schema\": {\"names\": [\"transformer-output\"], \"shape\": [1]},\n",
    "                }\n",
    "            ],\n",
    "        },\n",
    "        \"node\": {\n",
    "            \"name\": \"node\",\n",
    "            \"platform\": \"seldon\",\n",
    "            \"versions\": [\"generic-node/v0.4\"],\n",
    "            \"inputs\": [\n",
    "                {\n",
    "                    \"messagetype\": \"tensor\",\n",
    "                    \"schema\": {\"names\": [\"transformer-output\"], \"shape\": [1]},\n",
    "                }\n",
    "            ],\n",
    "            \"outputs\": [\n",
    "                {\n",
    "                    \"messagetype\": \"tensor\",\n",
    "                    \"schema\": {\"names\": [\"node-output\"], \"shape\": [1]},\n",
    "                }\n",
    "            ],\n",
    "        },\n",
    "    },\n",
    "    \"graphinputs\": [\n",
    "        {\n",
    "            \"messagetype\": \"tensor\",\n",
    "            \"schema\": {\"names\": [\"transformer-input\"], \"shape\": [1]},\n",
    "        }\n",
    "    ],\n",
    "    \"graphoutputs\": [\n",
    "        {\"messagetype\": \"tensor\", \"schema\": {\"names\": [\"node-output\"], \"shape\": [1]}}\n",
    "    ],\n",
    "}\n",
    "\n",
    "meta"
   ]
  },
  {
   "cell_type": "code",
   "execution_count": null,
   "metadata": {},
   "outputs": [
    {
     "name": "stdout",
     "output_type": "stream",
     "text": [
      "seldondeployment.machinelearning.seldon.io \"graph-metadata-input\" deleted\r\n"
     ]
    }
   ],
   "source": [
    "!kubectl delete -f graph-metadata/input-transformer.yaml"
   ]
  },
  {
   "cell_type": "markdown",
   "metadata": {},
   "source": [
    "## Output Transformer\n",
    "\n",
    "Output transformers work almost exactly opposite as chained nodes in the two-level example above.\n",
    "\n",
    "Input `x` is first passed to the model that is child of the `output-transformer` before it is passed to it.\n",
    "\n",
    "![output-transformer](./images/output-transformer.png)"
   ]
  },
  {
   "cell_type": "code",
   "execution_count": 34,
   "metadata": {},
   "outputs": [
    {
     "name": "stdout",
     "output_type": "stream",
     "text": [
      "Overwriting graph-metadata/output-transformer.yaml\n"
     ]
    }
   ],
   "source": [
    "%%writefile graph-metadata/output-transformer.yaml\n",
    "\n",
    "apiVersion: machinelearning.seldon.io/v1\n",
    "kind: SeldonDeployment\n",
    "metadata:\n",
    "  name: graph-metadata-output\n",
    "spec:\n",
    "  name: test-deployment\n",
    "  predictors:\n",
    "  - componentSpecs:\n",
    "    - spec:\n",
    "        containers:\n",
    "        - image: seldonio/metadata-generic-node:0.4\n",
    "          name: node-output-transformer\n",
    "          env:\n",
    "          - name: MODEL_METADATA\n",
    "            value: |\n",
    "              ---\n",
    "              name: node-output-transformer\n",
    "              versions: [ generic-node/v0.4 ]\n",
    "              platform: seldon\n",
    "              inputs:\n",
    "              - messagetype: tensor\n",
    "                schema:\n",
    "                  names: [transformer-input]\n",
    "                  shape: [ 1 ]\n",
    "              outputs:\n",
    "              - messagetype: tensor\n",
    "                schema:\n",
    "                  names: [transformer-output]                          \n",
    "                  shape: [ 1 ]  \n",
    "        - image: seldonio/metadata-generic-node:0.4\n",
    "          name: node\n",
    "          env:\n",
    "          - name: MODEL_METADATA\n",
    "            value: |\n",
    "              ---\n",
    "              name: node\n",
    "              versions: [ generic-node/v0.4 ]\n",
    "              platform: seldon\n",
    "              inputs:\n",
    "              - messagetype: tensor\n",
    "                schema:\n",
    "                  names: [node-input]\n",
    "                  shape: [ 1 ]  \n",
    "              outputs:\n",
    "              - messagetype: tensor\n",
    "                schema:\n",
    "                  names: [transformer-input]       \n",
    "                  shape: [ 1 ]  \n",
    "    graph:\n",
    "      name: node-output-transformer\n",
    "      type: OUTPUT_TRANSFORMER\n",
    "      children:\n",
    "      - name: node\n",
    "        type: MODEL\n",
    "        children: []   \n",
    "    name: example\n",
    "    replicas: 1"
   ]
  },
  {
   "cell_type": "code",
   "execution_count": 42,
   "metadata": {},
   "outputs": [
    {
     "name": "stdout",
     "output_type": "stream",
     "text": [
      "seldondeployment.machinelearning.seldon.io/graph-metadata-output configured\r\n"
     ]
    }
   ],
   "source": [
    "!kubectl apply -f graph-metadata/output-transformer.yaml"
   ]
  },
  {
   "cell_type": "code",
   "execution_count": 43,
   "metadata": {},
   "outputs": [
    {
     "name": "stdout",
     "output_type": "stream",
     "text": [
      "deployment \"graph-metadata-output-example-0-node-output-transformer-node\" successfully rolled out\r\n"
     ]
    }
   ],
   "source": [
    "!kubectl rollout status deploy/$(kubectl get deploy -l seldon-deployment-id=graph-metadata-output -o jsonpath='{.items[0].metadata.name}')"
   ]
  },
  {
   "cell_type": "code",
   "execution_count": 44,
   "metadata": {},
   "outputs": [
    {
     "data": {
      "text/plain": [
       "{'name': 'example',\n",
       " 'models': {'node': {'name': 'node',\n",
       "   'platform': 'seldon',\n",
       "   'versions': ['generic-node/v0.4'],\n",
       "   'inputs': [{'messagetype': 'tensor',\n",
       "     'schema': {'names': ['node-input'], 'shape': [1]}}],\n",
       "   'outputs': [{'messagetype': 'tensor',\n",
       "     'schema': {'names': ['transformer-input'], 'shape': [1]}}]},\n",
       "  'node-output-transformer': {'name': 'node-output-transformer',\n",
       "   'platform': 'seldon',\n",
       "   'versions': ['generic-node/v0.4'],\n",
       "   'inputs': [{'messagetype': 'tensor',\n",
       "     'schema': {'names': ['transformer-input'], 'shape': [1]}}],\n",
       "   'outputs': [{'messagetype': 'tensor',\n",
       "     'schema': {'names': ['transformer-output'], 'shape': [1]}}]}},\n",
       " 'graphinputs': [{'messagetype': 'tensor',\n",
       "   'schema': {'names': ['node-input'], 'shape': [1]}}],\n",
       " 'graphoutputs': [{'messagetype': 'tensor',\n",
       "   'schema': {'names': ['transformer-output'], 'shape': [1]}}]}"
      ]
     },
     "execution_count": 44,
     "metadata": {},
     "output_type": "execute_result"
    }
   ],
   "source": [
    "import requests\n",
    "\n",
    "meta = getWithRetry(\n",
    "    \"http://localhost:8003/seldon/seldon/graph-metadata-output/api/v1.0/metadata\"\n",
    ")\n",
    "\n",
    "assert meta == {\n",
    "    \"name\": \"example\",\n",
    "    \"models\": {\n",
    "        \"node-output-transformer\": {\n",
    "            \"name\": \"node-output-transformer\",\n",
    "            \"platform\": \"seldon\",\n",
    "            \"versions\": [\"generic-node/v0.4\"],\n",
    "            \"inputs\": [\n",
    "                {\n",
    "                    \"messagetype\": \"tensor\",\n",
    "                    \"schema\": {\"names\": [\"transformer-input\"], \"shape\": [1]},\n",
    "                }\n",
    "            ],\n",
    "            \"outputs\": [\n",
    "                {\n",
    "                    \"messagetype\": \"tensor\",\n",
    "                    \"schema\": {\"names\": [\"transformer-output\"], \"shape\": [1]},\n",
    "                }\n",
    "            ],\n",
    "        },\n",
    "        \"node\": {\n",
    "            \"name\": \"node\",\n",
    "            \"platform\": \"seldon\",\n",
    "            \"versions\": [\"generic-node/v0.4\"],\n",
    "            \"inputs\": [\n",
    "                {\n",
    "                    \"messagetype\": \"tensor\",\n",
    "                    \"schema\": {\"names\": [\"node-input\"], \"shape\": [1]},\n",
    "                }\n",
    "            ],\n",
    "            \"outputs\": [\n",
    "                {\n",
    "                    \"messagetype\": \"tensor\",\n",
    "                    \"schema\": {\"names\": [\"transformer-input\"], \"shape\": [1]},\n",
    "                }\n",
    "            ],\n",
    "        },\n",
    "    },\n",
    "    \"graphinputs\": [\n",
    "        {\"messagetype\": \"tensor\", \"schema\": {\"names\": [\"node-input\"], \"shape\": [1]}}\n",
    "    ],\n",
    "    \"graphoutputs\": [\n",
    "        {\n",
    "            \"messagetype\": \"tensor\",\n",
    "            \"schema\": {\"names\": [\"transformer-output\"], \"shape\": [1]},\n",
    "        }\n",
    "    ],\n",
    "}\n",
    "\n",
    "meta"
   ]
  },
  {
   "cell_type": "code",
   "execution_count": 45,
   "metadata": {},
   "outputs": [
    {
     "name": "stdout",
     "output_type": "stream",
     "text": [
      "seldondeployment.machinelearning.seldon.io \"graph-metadata-output\" deleted\r\n"
     ]
    }
   ],
   "source": [
    "!kubectl delete -f graph-metadata/output-transformer.yaml"
   ]
  }
 ],
 "metadata": {
  "interpreter": {
   "hash": "2465c4f56298bc06dbdad3e7519856d346ec0e9edf6ba2c905f0af711583810e"
  },
  "kernelspec": {
   "display_name": "Python 3.8.13 ('central')",
   "language": "python",
   "name": "python3"
  },
  "language_info": {
   "codemirror_mode": {
    "name": "ipython",
    "version": 3
   },
   "file_extension": ".py",
   "mimetype": "text/x-python",
   "name": "python",
   "nbconvert_exporter": "python",
   "pygments_lexer": "ipython3",
   "version": "3.8.13"
  }
 },
 "nbformat": 4,
 "nbformat_minor": 4
}
