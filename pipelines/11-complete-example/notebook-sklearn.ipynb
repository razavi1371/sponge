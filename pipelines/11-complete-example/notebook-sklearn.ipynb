{
 "cells": [
  {
   "cell_type": "markdown",
   "metadata": {},
   "source": [
    "# Sklearn\n",
    "Download the model\n",
    "The model should be saved as `model.joblib` and the metadata should be `metadata.yaml`"
   ]
  },
  {
   "cell_type": "code",
   "execution_count": 10,
   "metadata": {},
   "outputs": [
    {
     "data": {
      "text/plain": [
       "['model.joblib']"
      ]
     },
     "execution_count": 10,
     "metadata": {},
     "output_type": "execute_result"
    }
   ],
   "source": [
    "# Note: comment out one of the options\n",
    "# option 1: use your own model\n",
    "from sklearn.linear_model import LogisticRegression\n",
    "from sklearn import datasets\n",
    "import numpy as np\n",
    "clf = LogisticRegression(solver=\"liblinear\", multi_class=\"ovr\")\n",
    "X, y = datasets.load_iris(return_X_y=True)\n",
    "clf.fit(X, y)\n",
    "clf.predict(X[0,:].reshape(1,-1))\n",
    "from joblib import dump, load\n",
    "dump(clf, 'model.joblib')\n",
    "\n",
    "# option 2: use models from Seldon core\n",
    "# %%bash\n",
    "# mc config host add gcs https://storage.googleapis.com \"\" \"\" \n",
    "\n",
    "# mc mb minio-seldon/iris -p\n",
    "# mc cp gcs/seldon-models/v1.14.0-dev/sklearn/iris/model.joblib minio/minio-seldon/iris/\n",
    "# mc cp gcs/seldon-models/v1.14.0-dev/sklearn/iris/metadata.yaml minio/minio-seldon/iris/"
   ]
  },
  {
   "cell_type": "code",
   "execution_count": 11,
   "metadata": {},
   "outputs": [
    {
     "name": "stdout",
     "output_type": "stream",
     "text": [
      "\u001b[m\u001b[32m[2022-05-10 13:16:52 UTC]\u001b[0m\u001b[33m   906B\u001b[0m \u001b[34mSTANDARD\u001b[0m\u001b[1m model.joblib\u001b[0m\n",
      "\u001b[0m"
     ]
    }
   ],
   "source": [
    "!mc ls minio/minio-seldon/iris"
   ]
  },
  {
   "cell_type": "code",
   "execution_count": 3,
   "metadata": {},
   "outputs": [
    {
     "name": "stdout",
     "output_type": "stream",
     "text": [
      "\u001b[m\u001b[32;1mBucket created successfully `minio/minio-seldon/iris`.\u001b[0m\n",
      "...el.joblib:  906 B / 906 B ┃▓▓▓▓▓▓▓▓▓▓▓▓▓▓▓▓▓▓▓▓▓▓▓▓▓▓▓▓▓▓▓▓▓┃ 110.85 KiB/s 0s\u001b[0m\u001b[0m\u001b[m\u001b[32;1m\u001b[m\u001b[32m[2022-05-10 13:16:52 UTC]\u001b[0m\u001b[33m   906B\u001b[0m \u001b[34mSTANDARD\u001b[0m\u001b[1m model.joblib\u001b[0m\n",
      "\u001b[0m"
     ]
    }
   ],
   "source": [
    "# import job\n",
    "!mc mb minio/minio-seldon/iris -p\n",
    "!mc cp ./models/model.joblib minio/minio-seldon/iris/\n",
    "!mc ls minio/minio-seldon/iris"
   ]
  },
  {
   "cell_type": "markdown",
   "metadata": {},
   "source": [
    "# Rclone parameters\n",
    "We pass the rclone parameters for getting data from minio using secret"
   ]
  },
  {
   "cell_type": "code",
   "execution_count": 12,
   "metadata": {},
   "outputs": [
    {
     "name": "stdout",
     "output_type": "stream",
     "text": [
      "Overwriting rclone-secret.yaml\n"
     ]
    }
   ],
   "source": [
    "%%writefile rclone-secret.yaml\n",
    "apiVersion: v1\n",
    "kind: Secret\n",
    "metadata:\n",
    "  name: seldon-rclone-secret\n",
    "type: Opaque\n",
    "stringData:\n",
    "  RCLONE_CONFIG_S3_TYPE: s3\n",
    "  RCLONE_CONFIG_S3_PROVIDER: minio\n",
    "  RCLONE_CONFIG_S3_ENV_AUTH: \"false\"\n",
    "  RCLONE_CONFIG_S3_ACCESS_KEY_ID: minioadmin\n",
    "  RCLONE_CONFIG_S3_SECRET_ACCESS_KEY: minioadmin\n",
    "  RCLONE_CONFIG_S3_ENDPOINT: http://minio.minio-system.svc.cluster.local:9000"
   ]
  },
  {
   "cell_type": "code",
   "execution_count": 13,
   "metadata": {},
   "outputs": [
    {
     "name": "stdout",
     "output_type": "stream",
     "text": [
      "secret/seldon-rclone-secret configured\n"
     ]
    }
   ],
   "source": [
    "!kubectl apply -f ./rclone-secret.yaml"
   ]
  },
  {
   "cell_type": "code",
   "execution_count": 1,
   "metadata": {},
   "outputs": [
    {
     "name": "stdout",
     "output_type": "stream",
     "text": [
      "Overwriting sklearn.yaml\n"
     ]
    }
   ],
   "source": [
    "%%writefile sklearn.yaml\n",
    "apiVersion: machinelearning.seldon.io/v1\n",
    "kind: SeldonDeployment\n",
    "metadata:\n",
    "  name: sklearn-nosidecar-1\n",
    "spec:\n",
    "  name: iris\n",
    "  predictors:\n",
    "  - graph:\n",
    "      implementation: SKLEARN_SERVER\n",
    "      modelUri: s3://minio-seldon/iris/\n",
    "      envSecretRefName: seldon-rclone-secret\n",
    "      name: classifier\n",
    "    name: default\n",
    "    replicas: 1"
   ]
  },
  {
   "cell_type": "code",
   "execution_count": 2,
   "metadata": {},
   "outputs": [
    {
     "name": "stdout",
     "output_type": "stream",
     "text": [
      "seldondeployment.machinelearning.seldon.io/sklearn-nosidecar-1 created\n"
     ]
    }
   ],
   "source": [
    "!kubectl apply -f sklearn.yaml"
   ]
  },
  {
   "cell_type": "code",
   "execution_count": 18,
   "metadata": {},
   "outputs": [
    {
     "name": "stdout",
     "output_type": "stream",
     "text": [
      "{\"data\":{\"names\":[\"t:0\",\"t:1\",\"t:2\"],\"ndarray\":[[9.912315378486697e-07,0.0007015931307746079,0.9992974156376876]]},\"meta\":{\"requestPath\":{\"classifier\":\"seldonio/sklearnserver:1.13.1\"}}}\n"
     ]
    }
   ],
   "source": [
    "!curl -s -d '{\"data\": {\"ndarray\":[[1.0, 2.0, 5.0, 6.0]]}}' \\\n",
    "   -X POST http://localhost:32000/seldon/default/sklearn-prof-daqiq/api/v1.0/predictions \\\n",
    "   -H \"Content-Type: application/json\""
   ]
  },
  {
   "cell_type": "markdown",
   "metadata": {},
   "source": [
    "## Istio\n",
    "to add notebook with istio sidecar (for visualization) add the following label"
   ]
  },
  {
   "cell_type": "code",
   "execution_count": 5,
   "metadata": {},
   "outputs": [
    {
     "name": "stdout",
     "output_type": "stream",
     "text": [
      "Overwriting sklearn.yaml\n"
     ]
    }
   ],
   "source": [
    "%%writefile sklearn.yaml\n",
    "apiVersion: machinelearning.seldon.io/v1\n",
    "kind: SeldonDeployment\n",
    "metadata:\n",
    "  name: sklearn-prof-daqiq\n",
    "spec:\n",
    "  name: iris\n",
    "  predictors:\n",
    "  - graph:\n",
    "      implementation: SKLEARN_SERVER\n",
    "      modelUri: s3://minio-seldon/iris/\n",
    "      envSecretRefName: seldon-rclone-secret\n",
    "      name: classifier\n",
    "    labels:\n",
    "      sidecar.istio.io/inject: \"true\"\n",
    "    name: default\n",
    "    replicas: 1"
   ]
  },
  {
   "cell_type": "markdown",
   "metadata": {},
   "source": []
  },
  {
   "cell_type": "markdown",
   "metadata": {},
   "source": []
  }
 ],
 "metadata": {
  "interpreter": {
   "hash": "2465c4f56298bc06dbdad3e7519856d346ec0e9edf6ba2c905f0af711583810e"
  },
  "kernelspec": {
   "display_name": "Python 3.8.13 ('central')",
   "language": "python",
   "name": "python3"
  },
  "language_info": {
   "codemirror_mode": {
    "name": "ipython",
    "version": 3
   },
   "file_extension": ".py",
   "mimetype": "text/x-python",
   "name": "python",
   "nbconvert_exporter": "python",
   "pygments_lexer": "ipython3",
   "version": "3.8.13"
  },
  "orig_nbformat": 4
 },
 "nbformat": 4,
 "nbformat_minor": 2
}
