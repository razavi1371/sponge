{
 "cells": [
  {
   "cell_type": "markdown",
   "metadata": {},
   "source": [
    "Object Detection models"
   ]
  },
  {
   "cell_type": "markdown",
   "metadata": {},
   "source": [
    "Yolo"
   ]
  },
  {
   "cell_type": "code",
   "execution_count": 1,
   "metadata": {},
   "outputs": [],
   "source": [
    "import time"
   ]
  },
  {
   "cell_type": "code",
   "execution_count": 2,
   "metadata": {},
   "outputs": [
    {
     "name": "stdout",
     "output_type": "stream",
     "text": [
      "0.19916677474975586\n"
     ]
    }
   ],
   "source": [
    "#small yolo with ap 28.7\n",
    "from transformers import YolosFeatureExtractor, YolosForObjectDetection\n",
    "from PIL import Image\n",
    "import requests\n",
    "\n",
    "url = 'http://images.cocodataset.org/val2017/000000039769.jpg'\n",
    "image = Image.open(requests.get(url, stream=True).raw)\n",
    "\n",
    "fyt = YolosFeatureExtractor.from_pretrained('hustvl/yolos-tiny')\n",
    "model_yolo_tiny = YolosForObjectDetection.from_pretrained('hustvl/yolos-tiny')\n",
    "\n",
    "inputs = fyt(images=image, return_tensors=\"pt\")\n",
    "start = time.time()\n",
    "outputs = model_yolo_tiny(**inputs)\n",
    "lat = time.time() - start\n",
    "# model predicts bounding boxes and corresponding COCO classes\n",
    "logits = outputs.logits\n",
    "bboxes = outputs.pred_boxes\n",
    "print(lat)"
   ]
  },
  {
   "cell_type": "code",
   "execution_count": 3,
   "metadata": {},
   "outputs": [
    {
     "data": {
      "text/plain": "tensor([[[-39.5022, -11.9821, -17.6888,  ..., -28.9920, -32.4942,  -3.1787],\n         [-29.9574,  -9.9769, -17.7690,  ..., -22.2706, -12.0684,   1.2034],\n         [-42.3282, -20.7200, -30.6295,  ..., -20.6833, -18.1521,  -8.2005],\n         ...,\n         [-19.9590,  -5.1274, -12.4971,  ..., -11.2616,  -7.0680,   1.4878],\n         [-24.8675,  -7.5970, -12.7446,  ..., -17.4652, -19.4699,   0.5323],\n         [-32.3566, -11.9000, -18.2876,  ..., -20.0035, -15.4268,  -0.1216]]],\n       grad_fn=<ViewBackward0>)"
     },
     "execution_count": 3,
     "metadata": {},
     "output_type": "execute_result"
    }
   ],
   "source": [
    "logits"
   ]
  },
  {
   "cell_type": "markdown",
   "metadata": {},
   "source": [
    "model.history"
   ]
  },
  {
   "cell_type": "code",
   "execution_count": 4,
   "metadata": {},
   "outputs": [
    {
     "name": "stdout",
     "output_type": "stream",
     "text": [
      "1.1882739067077637\n"
     ]
    }
   ],
   "source": [
    "from transformers import DetrFeatureExtractor, DetrForObjectDetection\n",
    "from PIL import Image\n",
    "import requests\n",
    "\n",
    "url = 'http://images.cocodataset.org/val2017/000000039769.jpg'\n",
    "image = Image.open(requests.get(url, stream=True).raw)\n",
    "\n",
    "fr101 = DetrFeatureExtractor.from_pretrained('facebook/detr-resnet-101')\n",
    "model_resnet_101 = DetrForObjectDetection.from_pretrained('facebook/detr-resnet-101')\n",
    "\n",
    "inputs = fr101(images=image, return_tensors=\"pt\")\n",
    "start = time.time()\n",
    "outputs = model_resnet_101(**inputs)\n",
    "print(time.time() - start)\n",
    "# model predicts bounding boxes and corresponding COCO classes\n",
    "logits = outputs.logits\n",
    "bboxes = outputs.pred_boxes"
   ]
  },
  {
   "cell_type": "code",
   "execution_count": 5,
   "metadata": {},
   "outputs": [
    {
     "ename": "NameError",
     "evalue": "name 'model' is not defined",
     "output_type": "error",
     "traceback": [
      "\u001b[0;31m---------------------------------------------------------------------------\u001b[0m",
      "\u001b[0;31mNameError\u001b[0m                                 Traceback (most recent call last)",
      "Input \u001b[0;32mIn [5]\u001b[0m, in \u001b[0;36m<cell line: 1>\u001b[0;34m()\u001b[0m\n\u001b[0;32m----> 1\u001b[0m \u001b[38;5;28mtype\u001b[39m(\u001b[43mmodel\u001b[49m)\n",
      "\u001b[0;31mNameError\u001b[0m: name 'model' is not defined"
     ]
    }
   ],
   "source": [
    "type(model)"
   ]
  },
  {
   "cell_type": "code",
   "execution_count": 6,
   "metadata": {},
   "outputs": [],
   "source": [
    "from transformers import YolosFeatureExtractor, YolosForObjectDetection\n",
    "from PIL import Image\n",
    "import requests\n",
    "\n",
    "url = 'http://images.cocodataset.org/val2017/000000039769.jpg'\n",
    "image = Image.open(requests.get(url, stream=True).raw)\n",
    "\n",
    "fyb = YolosFeatureExtractor.from_pretrained('hustvl/yolos-base')\n",
    "model_yolo_base = YolosForObjectDetection.from_pretrained('hustvl/yolos-base')\n",
    "\n",
    "inputs = fyb(images=image, return_tensors=\"pt\")\n",
    "outputs = model_yolo_base(**inputs)\n",
    "\n",
    "# model predicts bounding boxes and corresponding COCO classes\n",
    "logits = outputs.logits\n",
    "bboxes = outputs.pred_boxes"
   ]
  },
  {
   "cell_type": "code",
   "execution_count": 7,
   "metadata": {},
   "outputs": [],
   "source": [
    "from transformers import YolosFeatureExtractor, YolosForObjectDetection\n",
    "from PIL import Image\n",
    "import requests\n",
    "\n",
    "url = 'http://images.cocodataset.org/val2017/000000039769.jpg'\n",
    "image = Image.open(requests.get(url, stream=True).raw)\n",
    "\n",
    "fys = YolosFeatureExtractor.from_pretrained('hustvl/yolos-small')\n",
    "model_yolo_small = YolosForObjectDetection.from_pretrained('hustvl/yolos-small')\n",
    "\n",
    "inputs = fys(images=image, return_tensors=\"pt\")\n",
    "outputs = model_yolo_small(**inputs)\n",
    "\n",
    "# model predicts bounding boxes and corresponding COCO classes\n",
    "logits = outputs.logits\n",
    "bboxes = outputs.pred_boxes\n"
   ]
  },
  {
   "cell_type": "code",
   "execution_count": 8,
   "metadata": {},
   "outputs": [],
   "source": [
    "from transformers import DetrFeatureExtractor, DetrForObjectDetection\n",
    "from PIL import Image\n",
    "import requests\n",
    "\n",
    "url = 'http://images.cocodataset.org/val2017/000000039769.jpg'\n",
    "image = Image.open(requests.get(url, stream=True).raw)\n",
    "\n",
    "fr50 = DetrFeatureExtractor.from_pretrained('facebook/detr-resnet-50')\n",
    "model_resnet_50 = DetrForObjectDetection.from_pretrained('facebook/detr-resnet-50')\n",
    "\n",
    "inputs = fr50(images=image, return_tensors=\"pt\")\n",
    "outputs = model_resnet_50(**inputs)\n",
    "\n",
    "# model predicts bounding boxes and corresponding COCO classes\n",
    "logits = outputs.logits\n",
    "bboxes = outputs.pred_boxes\n",
    "\n"
   ]
  },
  {
   "cell_type": "code",
   "execution_count": 18,
   "metadata": {},
   "outputs": [],
   "source": [
    "models = ['yolo_tiny', 'yolo_small', 'yolo_base', 'detr_resnet_50', 'detr_resnet_101']\n",
    "aps = [28.7,36.1,42,42,43.5]\n",
    "aps = [ap/100 for ap in aps]\n"
   ]
  },
  {
   "cell_type": "code",
   "execution_count": null,
   "metadata": {},
   "outputs": [],
   "source": [
    "latency = []"
   ]
  },
  {
   "cell_type": "code",
   "execution_count": 10,
   "metadata": {},
   "outputs": [],
   "source": [
    "model_code = [model_yolo_tiny, model_yolo_small, model_yolo_base,model_resnet_50,model_resnet_101 ]\n",
    "feature_extractor = [fyt, fys, fyb, fr50, fr101]"
   ]
  },
  {
   "cell_type": "code",
   "execution_count": 11,
   "metadata": {},
   "outputs": [
    {
     "name": "stdout",
     "output_type": "stream",
     "text": [
      "k is 0\n",
      "k is 100\n",
      "k is 200\n",
      "k is 300\n",
      "k is 400\n",
      "k is 500\n",
      "k is 600\n",
      "k is 700\n",
      "k is 800\n",
      "k is 900\n",
      "0.11103990054130554\n",
      "k is 0\n",
      "k is 100\n",
      "k is 200\n",
      "k is 300\n",
      "k is 400\n",
      "k is 500\n",
      "k is 600\n",
      "k is 700\n",
      "k is 800\n",
      "k is 900\n",
      "1.370058268070221\n",
      "k is 0\n",
      "k is 100\n",
      "k is 200\n",
      "k is 300\n",
      "k is 400\n",
      "k is 500\n",
      "k is 600\n",
      "k is 700\n",
      "k is 800\n",
      "k is 900\n",
      "2.928552621603012\n",
      "k is 0\n",
      "k is 100\n",
      "k is 200\n",
      "k is 300\n",
      "k is 400\n",
      "k is 500\n",
      "k is 600\n",
      "k is 700\n",
      "k is 800\n",
      "k is 900\n",
      "0.3453620865345001\n",
      "k is 0\n",
      "k is 100\n",
      "k is 200\n",
      "k is 300\n",
      "k is 400\n",
      "k is 500\n",
      "k is 600\n",
      "k is 700\n",
      "k is 800\n",
      "k is 900\n",
      "0.519926659822464\n"
     ]
    }
   ],
   "source": [
    "for i in range(len(models)):\n",
    "    inputs = feature_extractor[i](images=image, return_tensors=\"pt\")\n",
    "    total_lat = 0\n",
    "    model = model_code[i]\n",
    "    for k in range(1000):\n",
    "        start = time.time()\n",
    "        outputs = model(**inputs)\n",
    "        total_lat += (time.time() - start)\n",
    "        if k %100 == 0:\n",
    "            print(f\"k is {k}\")\n",
    "    lat = total_lat / 1000\n",
    "    print(lat)\n",
    "    latency.append(lat)"
   ]
  },
  {
   "cell_type": "code",
   "execution_count": 14,
   "metadata": {},
   "outputs": [
    {
     "name": "stdout",
     "output_type": "stream",
     "text": [
      "5 5\n"
     ]
    }
   ],
   "source": [
    "print(len(latency), len(aps))"
   ]
  },
  {
   "cell_type": "code",
   "execution_count": 21,
   "metadata": {},
   "outputs": [
    {
     "name": "stderr",
     "output_type": "stream",
     "text": [
      "*c* argument looks like a single numeric RGB or RGBA sequence, which should be avoided as value-mapping will have precedence in case its length matches with *x* & *y*.  Please use the *color* keyword-argument or provide a 2D array with a single row if you intend to specify the same RGB or RGBA value for all points.\n",
      "*c* argument looks like a single numeric RGB or RGBA sequence, which should be avoided as value-mapping will have precedence in case its length matches with *x* & *y*.  Please use the *color* keyword-argument or provide a 2D array with a single row if you intend to specify the same RGB or RGBA value for all points.\n",
      "*c* argument looks like a single numeric RGB or RGBA sequence, which should be avoided as value-mapping will have precedence in case its length matches with *x* & *y*.  Please use the *color* keyword-argument or provide a 2D array with a single row if you intend to specify the same RGB or RGBA value for all points.\n",
      "*c* argument looks like a single numeric RGB or RGBA sequence, which should be avoided as value-mapping will have precedence in case its length matches with *x* & *y*.  Please use the *color* keyword-argument or provide a 2D array with a single row if you intend to specify the same RGB or RGBA value for all points.\n",
      "*c* argument looks like a single numeric RGB or RGBA sequence, which should be avoided as value-mapping will have precedence in case its length matches with *x* & *y*.  Please use the *color* keyword-argument or provide a 2D array with a single row if you intend to specify the same RGB or RGBA value for all points.\n"
     ]
    },
    {
     "name": "stdout",
     "output_type": "stream",
     "text": [
      "[(0.12156862745098039, 0.4666666666666667, 0.7058823529411765, 1.0), (0.17254901960784313, 0.6274509803921569, 0.17254901960784313, 1.0), (0.5490196078431373, 0.33725490196078434, 0.29411764705882354, 1.0), (0.4980392156862745, 0.4980392156862745, 0.4980392156862745, 1.0), (0.09019607843137255, 0.7450980392156863, 0.8117647058823529, 1.0)]\n"
     ]
    },
    {
     "data": {
      "image/png": "[encoded data removed]",
      "text/plain": "<Figure size 1280x800 with 1 Axes>"
     },
     "metadata": {},
     "output_type": "display_data"
    }
   ],
   "source": [
    "from matplotlib import pyplot as plt\n",
    "colors = [plt.cm.tab10(i/float(len(models)-1)) for i in range(len(models))]\n",
    "print(colors)\n",
    "# Draw Plot for Each Category\n",
    "plt.figure(figsize=(16, 10), dpi= 80, facecolor='w', edgecolor='k')\n",
    "\n",
    "for i, model in enumerate(models):\n",
    "    plt.scatter(aps[i], latency[i], \n",
    "                s=80, c=colors[i], label=str(model))\n",
    "\n",
    "# Decorations\n",
    "plt.gca().set(xlabel='ap', ylabel='latency')\n",
    "\n",
    "plt.xticks(fontsize=12); plt.yticks(fontsize=12)\n",
    "plt.title(\"latency vs ap\", fontsize=22)\n",
    "plt.legend(fontsize=12)    \n",
    "plt.show()    \n"
   ]
  },
  {
   "cell_type": "code",
   "execution_count": null,
   "metadata": {},
   "outputs": [],
   "source": []
  },
  {
   "cell_type": "code",
   "execution_count": 22,
   "metadata": {},
   "outputs": [],
   "source": [
    "file_name = 'model.onxx'"
   ]
  },
  {
   "cell_type": "code",
   "execution_count": 23,
   "metadata": {},
   "outputs": [
    {
     "ename": "TypeError",
     "evalue": "save_pretrained() missing 1 required positional argument: 'save_directory'",
     "output_type": "error",
     "traceback": [
      "\u001b[0;31m---------------------------------------------------------------------------\u001b[0m",
      "\u001b[0;31mTypeError\u001b[0m                                 Traceback (most recent call last)",
      "Input \u001b[0;32mIn [23]\u001b[0m, in \u001b[0;36m<cell line: 1>\u001b[0;34m()\u001b[0m\n\u001b[0;32m----> 1\u001b[0m \u001b[43mmodel_resnet_101\u001b[49m\u001b[38;5;241;43m.\u001b[39;49m\u001b[43msave_pretrained\u001b[49m\u001b[43m(\u001b[49m\u001b[43mfile_name\u001b[49m\u001b[38;5;241;43m=\u001b[39;49m\u001b[43mfile_name\u001b[49m\u001b[43m \u001b[49m\u001b[43m)\u001b[49m\n",
      "\u001b[0;31mTypeError\u001b[0m: save_pretrained() missing 1 required positional argument: 'save_directory'"
     ]
    }
   ],
   "source": [
    "model_resnet_101.save_pretrained(save_directory = '.',file_name=file_name )"
   ]
  },
  {
   "cell_type": "code",
   "execution_count": null,
   "metadata": {},
   "outputs": [],
   "source": []
  }
 ],
 "metadata": {
  "kernelspec": {
   "display_name": "Python 3 (ipykernel)",
   "language": "python",
   "name": "python3"
  },
  "language_info": {
   "codemirror_mode": {
    "name": "ipython",
    "version": 3
   },
   "file_extension": ".py",
   "mimetype": "text/x-python",
   "name": "python",
   "nbconvert_exporter": "python",
   "pygments_lexer": "ipython3",
   "version": "3.8.13"
  },
  "orig_nbformat": 2
 },
 "nbformat": 4,
 "nbformat_minor": 2
}