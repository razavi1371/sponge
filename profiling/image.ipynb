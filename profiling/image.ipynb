{
 "cells": [
  {
   "cell_type": "code",
   "execution_count": 1,
   "metadata": {},
   "outputs": [
    {
     "name": "stdout",
     "output_type": "stream",
     "text": [
      "alireza\n"
     ]
    }
   ],
   "source": [
    "print(\"alireza\")"
   ]
  },
  {
   "cell_type": "code",
   "execution_count": 2,
   "metadata": {},
   "outputs": [
    {
     "name": "stdout",
     "output_type": "stream",
     "text": [
      "error: failed to create secret secrets \"aws-credentials\" already exists\n"
     ]
    }
   ],
   "source": [
    "!kubectl create secret generic aws-credentials --from-literal=AWS_ACCESS_KEY_ID=minioadmin --from-literal=AWS_SECRET_ACCESS_KEY=minioadmin"
   ]
  },
  {
   "cell_type": "code",
   "execution_count": 3,
   "metadata": {},
   "outputs": [
    {
     "name": "stdout",
     "output_type": "stream",
     "text": [
      "Writing triton-deploy.yaml\n"
     ]
    }
   ],
   "source": [
    "%%writefile triton-deploy.yaml\n",
    "apiVersion: apps/v1\n",
    "kind: Deployment\n",
    "metadata:\n",
    "  labels:\n",
    "    app: triton\n",
    "  name: triton\n",
    "spec:\n",
    "  replicas: 1\n",
    "  selector:\n",
    "    matchLabels:\n",
    "      app: triton\n",
    "  template:\n",
    "    metadata:\n",
    "      labels:\n",
    "        app: triton\n",
    "    spec:\n",
    "      containers:\n",
    "      - image: nvcr.io/nvidia/tritonserver:21.09-py3\n",
    "        name: tritonserver\n",
    "        command: [\"/bin/bash\"]\n",
    "        args: [\"-c\", \"cp /var/run/secrets/kubernetes.io/serviceaccount/ca.crt /usr/local/share/ca-certificates && update-ca-certificates && /opt/tritonserver/bin/tritonserver --model-store=s3://http://minio.minio-system.svc.cluster.local:9000/minio-seldon/models --strict-model-config=false\"]\n",
    "        env:\n",
    "        - name: AWS_ACCESS_KEY_ID\n",
    "          valueFrom:\n",
    "            secretKeyRef:\n",
    "              name: aws-credentials\n",
    "              key: AWS_ACCESS_KEY_ID\n",
    "        - name: AWS_SECRET_ACCESS_KEY\n",
    "          valueFrom:\n",
    "            secretKeyRef:\n",
    "              name: aws-credentials\n",
    "              key: AWS_SECRET_ACCESS_KEY      \n",
    "        ports:\n",
    "          - containerPort: 8000\n",
    "            name: http\n",
    "          - containerPort: 8001\n",
    "            name: grpc\n",
    "          - containerPort: 8002\n",
    "            name: metrics\n",
    "        volumeMounts:\n",
    "        - mountPath: /dev/shm\n",
    "          name: dshm\n",
    "      volumes:\n",
    "      - name: dshm\n",
    "        emptyDir:\n",
    "          medium: Memory"
   ]
  },
  {
   "cell_type": "code",
   "execution_count": 4,
   "metadata": {},
   "outputs": [
    {
     "name": "stdout",
     "output_type": "stream",
     "text": [
      "Writing triton-service.yaml\n"
     ]
    }
   ],
   "source": [
    "%%writefile triton-service.yaml\n",
    "apiVersion: v1\n",
    "kind: Service\n",
    "metadata:\n",
    "  name: triton\n",
    "spec:\n",
    "  type: NodePort\n",
    "  selector:\n",
    "    app: triton\n",
    "  ports:\n",
    "    - protocol: TCP\n",
    "      name: http\n",
    "      port: 8000\n",
    "      nodePort: 30800\n",
    "      targetPort: 8000\n",
    "    - protocol: TCP\n",
    "      name: grpc\n",
    "      port: 8001\n",
    "      nodePort: 30801\n",
    "      targetPort: 8001\n",
    "    - protocol: TCP\n",
    "      name: metrics\n",
    "      nodePort: 30802\n",
    "      port: 8002\n",
    "      targetPort: 8002"
   ]
  },
  {
   "cell_type": "code",
   "execution_count": 5,
   "metadata": {},
   "outputs": [],
   "source": [
    "model_names = ['resnet-18', 'resnet-50', 'vit-base-32', 'vit-base-64']"
   ]
  },
  {
   "cell_type": "code",
   "execution_count": 6,
   "metadata": {},
   "outputs": [
    {
     "name": "stderr",
     "output_type": "stream",
     "text": [
      "/home/cc/miniconda3/envs/central/bin/python: No module named transformers.onnx\n",
      "/home/cc/miniconda3/envs/central/bin/python: No module named transformers.onnx\n",
      "/home/cc/miniconda3/envs/central/bin/python: No module named transformers.onnx\n",
      "/home/cc/miniconda3/envs/central/bin/python: No module named transformers.onnx\n"
     ]
    }
   ],
   "source": [
    "for model in model_names:\n",
    "    os.system(f'python -m transformers.onnx --model={model} models/{model}/1 ')"
   ]
  },
  {
   "cell_type": "code",
   "execution_count": 7,
   "metadata": {},
   "outputs": [
    {
     "name": "stdout",
     "output_type": "stream",
     "text": [
      "Overwriting triton-deploy.yaml\n"
     ]
    }
   ],
   "source": [
    "%%writefile triton-deploy.yaml\n",
    "apiVersion: apps/v1\n",
    "kind: Deployment\n",
    "metadata:\n",
    "  labels:\n",
    "    app: triton\n",
    "  name: triton\n",
    "spec:\n",
    "  replicas: 1\n",
    "  selector:\n",
    "    matchLabels:\n",
    "      app: triton\n",
    "  template:\n",
    "    metadata:\n",
    "      labels:\n",
    "        app: triton\n",
    "    spec:\n",
    "      containers:\n",
    "      - image: nvcr.io/nvidia/tritonserver:21.09-py3\n",
    "        name: tritonserver\n",
    "        command: [\"/bin/bash\"]\n",
    "        args: [\"-c\", \"cp /var/run/secrets/kubernetes.io/serviceaccount/ca.crt /usr/local/share/ca-certificates && update-ca-certificates && /opt/tritonserver/bin/tritonserver --model-store=s3://http://minio.minio-system.svc.cluster.local:9000/minio-seldon/models --strict-model-config=false\"]\n",
    "        env:\n",
    "        - name: AWS_ACCESS_KEY_ID\n",
    "          valueFrom:\n",
    "            secretKeyRef:\n",
    "              name: aws-credentials\n",
    "              key: AWS_ACCESS_KEY_ID\n",
    "        - name: AWS_SECRET_ACCESS_KEY\n",
    "          valueFrom:\n",
    "            secretKeyRef:\n",
    "              name: aws-credentials\n",
    "              key: AWS_SECRET_ACCESS_KEY      \n",
    "        ports:\n",
    "          - containerPort: 8000\n",
    "            name: http\n",
    "          - containerPort: 8001\n",
    "            name: grpc\n",
    "          - containerPort: 8002\n",
    "            name: metrics\n",
    "        volumeMounts:\n",
    "        - mountPath: /dev/shm\n",
    "          name: dshm\n",
    "      volumes:\n",
    "      - name: dshm\n",
    "        emptyDir:\n",
    "          medium: Memory"
   ]
  },
  {
   "cell_type": "code",
   "execution_count": null,
   "metadata": {},
   "outputs": [],
   "source": [
    "%%writefile triton-service.yaml\n",
    "apiVersion: v1\n",
    "kind: Service\n",
    "metadata:\n",
    "  name: triton\n",
    "spec:\n",
    "  type: NodePort\n",
    "  selector:\n",
    "    app: triton\n",
    "  ports:\n",
    "    - protocol: TCP\n",
    "      name: http\n",
    "      port: 8000\n",
    "      nodePort: 30800\n",
    "      targetPort: 8000\n",
    "    - protocol: TCP\n",
    "      name: grpc\n",
    "      port: 8001\n",
    "      nodePort: 30801\n",
    "      targetPort: 8001\n",
    "    - protocol: TCP\n",
    "      name: metrics\n",
    "      nodePort: 30802\n",
    "      port: 8002\n",
    "      targetPort: 8002"
   ]
  },
  {
   "cell_type": "code",
   "execution_count": 8,
   "metadata": {},
   "outputs": [],
   "source": [
    "def create_batch(batch_size):\n",
    "    batch = []\n",
    "    for i in range(batch_size):\n",
    "        batch.append(read_file())\n",
    "    return batch"
   ]
  },
  {
   "cell_type": "code",
   "execution_count": 9,
   "metadata": {},
   "outputs": [],
   "source": [
    "os.system('sudo umount -l ~/my_mounting_point')\n",
    "os.system('cc-cloudfuse mount ~/my_mounting_point')\n",
    " \n",
    "data_folder_path = '/home/cc/my_mounting_point/datasets'\n",
    "dataset_folder_path = os.path.join(\n",
    "    data_folder_path, 'ILSVRC/Data/DET/test'\n",
    ")\n",
    "classes_file_path = os.path.join(\n",
    "    data_folder_path, 'imagenet_classes.txt'\n",
    ")\n",
    " \n",
    "image_names = os.listdir(dataset_folder_path)\n",
    "image_names.sort()\n",
    "with open(classes_file_path) as f:\n",
    "    classes = [line.strip() for line in f.readlines()]\n",
    "\n",
    "def image_loader(folder_path, image_name):\n",
    "    image = Image.open(\n",
    "        os.path.join(folder_path, image_name))\n",
    "    # if there was a need to filter out only color images\n",
    "    # if image.mode == 'RGB':\n",
    "    #     pass\n",
    "    return image"
   ]
  },
  {
   "cell_type": "code",
   "execution_count": 10,
   "metadata": {},
   "outputs": [],
   "source": [
    "def create_batch_image(batch_size):\n",
    "    num_loaded_images = batch_size\n",
    "    images = {\n",
    "        image_name: image_loader(\n",
    "            dataset_folder_path, image_name) for image_name in image_names[\n",
    "                :num_loaded_images]}\n",
    "    transform = transforms.Compose([\n",
    "    transforms.Resize(256),\n",
    "    transforms.CenterCrop(224),\n",
    "    transforms.ToTensor(),\n",
    "    transforms.Normalize(\n",
    "    mean=[0.485, 0.456, 0.406],\n",
    "    std=[0.229, 0.224, 0.225]\n",
    ")])\n",
    " \n",
    "    return torch.stack(list(map(lambda a: transform(a), list(images.values()))))\n"
   ]
  },
  {
   "cell_type": "code",
   "execution_count": 11,
   "metadata": {},
   "outputs": [],
   "source": [
    "class Profiler:\n",
    "    def __init__(self, model_name, batch):\n",
    "        self.model_name = model_name\n",
    "        self.batch = batch\n",
    "        try:\n",
    "            triton_client = httpclient.InferenceServerClient(\n",
    "                url='localhost:5000', verbose=True\n",
    "            )\n",
    "        except Exception as e:\n",
    "            print(\"context creation failed: \" + str(e))\n",
    "        inputs = []\n",
    "        inputs.append(\n",
    "            httpclient.InferInput(\n",
    "                name=\"input\", shape=batch.shape, datatype=\"FP32\")\n",
    "        )\n",
    "        inputs[0].set_data_from_numpy(batch.numpy(), binary_data=False)\n",
    "        \n",
    "        outputs = []\n",
    "        outputs.append(httpclient.InferRequestedOutput(name=\"output\"))\n",
    " \n",
    "            \n",
    "    def runner(self, counter):\n",
    "        for i in range(counter):\n",
    "            result = triton_client.infer(\n",
    "            model_name=model_name, inputs=encoded_input, outputs=outputs)\n",
    "            triton_client.close()\n",
    "            \n",
    "\n",
    "\n",
    "            "
   ]
  },
  {
   "cell_type": "code",
   "execution_count": 12,
   "metadata": {},
   "outputs": [
    {
     "ename": "NameError",
     "evalue": "name 'create_batch_images' is not defined",
     "output_type": "error",
     "traceback": [
      "\u001b[0;31m---------------------------------------------------------------------------\u001b[0m",
      "\u001b[0;31mNameError\u001b[0m                                 Traceback (most recent call last)",
      "\u001b[1;32m/home/cc/infernece-pipeline-joint-optimization/profiling/image.ipynb Cell 13\u001b[0m in \u001b[0;36m<cell line: 2>\u001b[0;34m()\u001b[0m\n\u001b[1;32m      <a href='vscode-notebook-cell://ssh-remote%2Bchameleon/home/cc/infernece-pipeline-joint-optimization/profiling/image.ipynb#ch0000013vscode-remote?line=1'>2</a>\u001b[0m \u001b[39mfor\u001b[39;00m i,model \u001b[39min\u001b[39;00m \u001b[39menumerate\u001b[39m(model_names):\n\u001b[1;32m      <a href='vscode-notebook-cell://ssh-remote%2Bchameleon/home/cc/infernece-pipeline-joint-optimization/profiling/image.ipynb#ch0000013vscode-remote?line=2'>3</a>\u001b[0m     \u001b[39mfor\u001b[39;00m batch \u001b[39min\u001b[39;00m [\u001b[39m1\u001b[39m, \u001b[39m2\u001b[39m, \u001b[39m4\u001b[39m, \u001b[39m16\u001b[39m]:\n\u001b[0;32m----> <a href='vscode-notebook-cell://ssh-remote%2Bchameleon/home/cc/infernece-pipeline-joint-optimization/profiling/image.ipynb#ch0000013vscode-remote?line=3'>4</a>\u001b[0m         p \u001b[39m=\u001b[39m Profiler(model, create_batch_images(batch))\n\u001b[1;32m      <a href='vscode-notebook-cell://ssh-remote%2Bchameleon/home/cc/infernece-pipeline-joint-optimization/profiling/image.ipynb#ch0000013vscode-remote?line=4'>5</a>\u001b[0m         p\u001b[39m.\u001b[39mrunner()\n\u001b[1;32m      <a href='vscode-notebook-cell://ssh-remote%2Bchameleon/home/cc/infernece-pipeline-joint-optimization/profiling/image.ipynb#ch0000013vscode-remote?line=5'>6</a>\u001b[0m         results[i]\u001b[39m.\u001b[39mappend(requests\u001b[39m.\u001b[39mget(\u001b[39m\"\u001b[39m\u001b[39mlocalhost:8003/metrics\u001b[39m\u001b[39m\"\u001b[39m))\n",
      "\u001b[0;31mNameError\u001b[0m: name 'create_batch_images' is not defined"
     ]
    }
   ],
   "source": [
    "results = [[] for i in range(len(model_names))]\n",
    "for i,model in enumerate(model_names):\n",
    "    for batch in [1, 2, 4, 16]:\n",
    "        p = Profiler(model, create_batch_images(batch))\n",
    "        p.runner()\n",
    "        results[i].append(requests.get(\"localhost:8003/metrics\"))"
   ]
  },
  {
   "cell_type": "code",
   "execution_count": null,
   "metadata": {},
   "outputs": [],
   "source": []
  }
 ],
 "metadata": {
  "kernelspec": {
   "display_name": "Python 3.8.13 ('central')",
   "language": "python",
   "name": "python3"
  },
  "language_info": {
   "codemirror_mode": {
    "name": "ipython",
    "version": 3
   },
   "file_extension": ".py",
   "mimetype": "text/x-python",
   "name": "python",
   "nbconvert_exporter": "python",
   "pygments_lexer": "ipython3",
   "version": "3.8.13"
  },
  "orig_nbformat": 2,
  "vscode": {
   "interpreter": {
    "hash": "2465c4f56298bc06dbdad3e7519856d346ec0e9edf6ba2c905f0af711583810e"
   }
  }
 },
 "nbformat": 4,
 "nbformat_minor": 2
}
