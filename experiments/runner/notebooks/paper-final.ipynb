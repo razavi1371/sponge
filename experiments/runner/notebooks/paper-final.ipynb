{
 "cells": [
  {
   "attachments": {},
   "cell_type": "markdown",
   "metadata": {},
   "source": [
    "# Video pipeline with Yolo + Resnet Model"
   ]
  },
  {
   "cell_type": "code",
   "execution_count": 1,
   "metadata": {},
   "outputs": [],
   "source": [
    "import os\n",
    "import sys\n",
    "from pprint import PrettyPrinter\n",
    "import matplotlib.pyplot as plt\n",
    "from typing import Dict, List\n",
    "\n",
    "pp = PrettyPrinter(indent=4)\n",
    "from barazmoon.twitter import twitter_workload_generator\n",
    "\n",
    "# get an absolute path to the directory that contains parent files\n",
    "__file__ = globals()[\"_dh\"][0]\n",
    "project_dir = __file__ = globals()[\"_dh\"][0]\n",
    "sys.path.append(os.path.normpath(os.path.join(project_dir, \"..\", \"..\", \"..\")))\n",
    "\n",
    "from experiments.utils.constants import FINAL_RESULTS_PATH\n",
    "from experiments.utils.parser import AdaptationParser\n",
    "from experiments.utils.drawing import draw_temporal_final, draw_cumulative"
   ]
  },
  {
   "cell_type": "code",
   "execution_count": 2,
   "metadata": {},
   "outputs": [],
   "source": [
    "# serieses = [116, 117, 118, 119, 120]\n",
    "serieses = [162]\n",
    "\n",
    "series_paths = {\n",
    "    series: os.path.join(FINAL_RESULTS_PATH, \"series\", str(series))\n",
    "    for series in serieses\n",
    "}\n",
    "\n",
    "loaders = {\n",
    "    series: AdaptationParser(\n",
    "        series_path=series_path, model_name=\"video\", type_of=\"router_pipeline\"\n",
    "    )\n",
    "    for series, series_path in series_paths.items()\n",
    "}"
   ]
  },
  {
   "cell_type": "code",
   "execution_count": 3,
   "metadata": {},
   "outputs": [
    {
     "data": {
      "text/plain": [
       "{162: <experiments.utils.parser.AdaptationParser at 0x7f82f82eb9d0>}"
      ]
     },
     "execution_count": 3,
     "metadata": {},
     "output_type": "execute_result"
    }
   ],
   "source": [
    "loaders"
   ]
  },
  {
   "cell_type": "code",
   "execution_count": 4,
   "metadata": {},
   "outputs": [
    {
     "name": "stdout",
     "output_type": "stream",
     "text": [
      "series: 162 config:\n",
      "\n",
      "{   'accuracy_method': 'sum',\n",
      "    'adaptation_interval': 20,\n",
      "    'allocation_mode': 'base',\n",
      "    'alpha': 0,\n",
      "    'baseline_mode': 'scale',\n",
      "    'batching_cap': 64,\n",
      "    'benchmark_duration': 1,\n",
      "    'beta': 1,\n",
      "    'central_queue': True,\n",
      "    'debug_mode': False,\n",
      "    'distrpution_time': 30,\n",
      "    'drop_limit': 3,\n",
      "    'gamma': 0,\n",
      "    'initial_active_model': ['yolov5n', 'resnet18'],\n",
      "    'initial_batch': [1, 1],\n",
      "    'initial_cpu_allocation': [1, 1],\n",
      "    'initial_replica': [1, 1],\n",
      "    'latency_margin': 0,\n",
      "    'metadata': 'normal 150 and drop 3',\n",
      "    'mode': 'exponential',\n",
      "    'model_name': ['yolo', 'resnet-human'],\n",
      "    'monitoring_duration': 10,\n",
      "    'nodes': [   {   'cpu_request': '1',\n",
      "                     'data_type': 'image',\n",
      "                     'max_batch_size': '1',\n",
      "                     'max_batch_time': '1',\n",
      "                     'memory_request': '2Gi',\n",
      "                     'model_variants': 'yolov5n',\n",
      "                     'node_name': 'yolo',\n",
      "                     'num_interop_threads': '1',\n",
      "                     'num_threads': '1',\n",
      "                     'replicas': 1,\n",
      "                     'use_threading': 'True'},\n",
      "                 {   'cpu_request': '1',\n",
      "                     'data_type': 'text',\n",
      "                     'max_batch_size': '1',\n",
      "                     'max_batch_time': '1',\n",
      "                     'memory_request': '2Gi',\n",
      "                     'model_variants': 'resnet18',\n",
      "                     'node_name': 'resnet-human',\n",
      "                     'num_interop_threads': '1',\n",
      "                     'num_threads': '1',\n",
      "                     'replicas': 1,\n",
      "                     'use_threading': 'True'}],\n",
      "    'normalize_accuracy': True,\n",
      "    'num_state_limit': 1,\n",
      "    'number_tasks': 2,\n",
      "    'only_measured_profiles': False,\n",
      "    'optimization_method': 'gurobi',\n",
      "    'outcome': 'works with accepted results',\n",
      "    'pipeline_folder_name': 'video',\n",
      "    'pipeline_name': 'video',\n",
      "    'predictor_margin': 0,\n",
      "    'predictor_type': 'max',\n",
      "    'profiling_load': 20,\n",
      "    'profiling_series': [71, 72],\n",
      "    'reference_latency': 'p99',\n",
      "    'reference_throughput': 'max',\n",
      "    'scaling_cap': 100,\n",
      "    'series': 162,\n",
      "    'simulation_mode': False,\n",
      "    'sla_factor': 5,\n",
      "    'task_name': ['crop', 'classification'],\n",
      "    'teleport_interval': 0,\n",
      "    'teleport_mode': False,\n",
      "    'threshold': 4,\n",
      "    'throughput_margin': 0,\n",
      "    'timeout': 1,\n",
      "    'warm_up': False,\n",
      "    'workload_config': [   {   'damping_factor': 8,\n",
      "                               'end': '1863300',\n",
      "                               'start': '1863000'}],\n",
      "    'workload_type': 'twitter'}\n"
     ]
    }
   ],
   "source": [
    "accuracy_methods = {}\n",
    "adaptation_intervals = {}\n",
    "simulation_modes = {}\n",
    "configs = {}\n",
    "for series, loader in loaders.items():\n",
    "    configs_exp = loader.load_configs()\n",
    "    print(f\"series: {series} config:\\n\")\n",
    "    config = configs_exp[\"0.yaml\"]\n",
    "    pp.pprint(config)\n",
    "    configs[series] = config\n",
    "    accuracy_methods[series] = config[\"accuracy_method\"]\n",
    "    adaptation_intervals[series] = config[\"adaptation_interval\"]\n",
    "    simulation_modes[series] = config[\"simulation_mode\"]"
   ]
  },
  {
   "cell_type": "code",
   "execution_count": 5,
   "metadata": {},
   "outputs": [],
   "source": [
    "# load the sent workload\n",
    "sent_loads = {}\n",
    "for series, config in configs.items():\n",
    "    workload_type = config[\"workload_type\"]\n",
    "    workload_config = config[\"workload_config\"][0]\n",
    "    start = workload_config[\"start\"]\n",
    "    end = workload_config[\"end\"]\n",
    "    damping_factor = workload_config[\"damping_factor\"]\n",
    "    sent_loads[series] = twitter_workload_generator(\n",
    "        days=f\"{start}-{end}\", damping_factor=damping_factor\n",
    "    )"
   ]
  },
  {
   "cell_type": "code",
   "execution_count": 6,
   "metadata": {},
   "outputs": [
    {
     "data": {
      "text/plain": [
       "{162: False}"
      ]
     },
     "execution_count": 6,
     "metadata": {},
     "output_type": "execute_result"
    }
   ],
   "source": [
    "# key_config_df = loader.loader.key_config_mapper()\n",
    "# display(key_config_df)\n",
    "# key_config_df.columns\n",
    "results_all = []\n",
    "simulation_modes"
   ]
  },
  {
   "cell_type": "code",
   "execution_count": 7,
   "metadata": {},
   "outputs": [],
   "source": [
    "adaptation_logs = dict(\n",
    "    map(lambda l: (l[0], l[1].load_adaptation_log()), loaders.items())\n",
    ")"
   ]
  },
  {
   "cell_type": "code",
   "execution_count": 8,
   "metadata": {},
   "outputs": [],
   "source": [
    "series_changes = {}\n",
    "for series in serieses:\n",
    "    series_changes[series] = loaders[series].series_changes(\n",
    "        adaptation_log=adaptation_logs[series]\n",
    "    )"
   ]
  },
  {
   "attachments": {},
   "cell_type": "markdown",
   "metadata": {},
   "source": [
    "## Comparing Predicted Load with the Recieved Load"
   ]
  },
  {
   "cell_type": "code",
   "execution_count": 10,
   "metadata": {},
   "outputs": [
    {
     "data": {
      "image/png": "[encoded data removed]",
      "text/plain": [
       "<Figure size 500x200 with 1 Axes>"
      ]
     },
     "metadata": {},
     "output_type": "display_data"
    }
   ],
   "source": [
    "first_sereis = list(series_changes.keys())[\n",
    "    0\n",
    "]  # load should be roughly similar among the series\n",
    "recieved_load = series_changes[first_sereis][\"recieved_load\"]\n",
    "recieved_load_x = [x for x in range(0, len(recieved_load))]\n",
    "predicted_load = series_changes[first_sereis][\"predicted_load\"]\n",
    "predicted_load_x = series_changes[first_sereis][\"time_interval\"]\n",
    "sent_load = sent_loads[first_sereis]\n",
    "sent_load_x = [x for x in range(0, len(sent_loads[first_sereis]))]\n",
    "\n",
    "\n",
    "plt.figure(figsize=(5, 2))\n",
    "plt.plot(recieved_load_x, recieved_load, label=\"recieved_load\")\n",
    "plt.plot(sent_load_x, sent_load, label=\"sent_load\")\n",
    "plt.plot(predicted_load_x, predicted_load, label=\"predicted_load\")\n",
    "# TODO add predicted reference load here\n",
    "plt.legend()\n",
    "plt.show()"
   ]
  },
  {
   "cell_type": "code",
   "execution_count": 13,
   "metadata": {},
   "outputs": [],
   "source": [
    "final_dict = {}\n",
    "\n",
    "final_dict[\"load\"] = {\n",
    "    \"sent_load\": sent_load,\n",
    "    \"sent_load_x\": sent_load_x,\n",
    "    \"recieved_load\": recieved_load,\n",
    "    \"recieved_load_x\": recieved_load_x,\n",
    "    \"predicted_load\": predicted_load,\n",
    "    \"predicted_load_x\": predicted_load_x,\n",
    "}\n",
    "\n",
    "final_dict[\"replica_changes\"] = {}\n",
    "final_dict[\"core_changes\"] = {}\n",
    "final_dict[\"total_core_changes\"] = {}\n",
    "final_dict[\"accuracy_changes\"] = {}\n",
    "final_dict[\"batching_changes\"] = {}\n",
    "final_dict[\"throughput_changes\"] = {}\n",
    "final_dict[\"expected_latency\"] = {}\n",
    "# final_dict[\"per_second_results\"] = {}\n",
    "latency_metric = \"p99\"  # [min, max, p99]\n",
    "final_dict[\"measured_latency\"] = {}\n",
    "final_dict[\"change_trigger\"] = {}\n",
    "final_dict[\"objective_changes\"] = {}\n",
    "final_dict[\"timeout_dics\"] = {}\n",
    "\n",
    "for series, series_dict in series_changes.items():\n",
    "    final_dict[\"replica_changes\"][series] = {}\n",
    "    final_dict[\"core_changes\"][series] = {}\n",
    "    final_dict[\"total_core_changes\"][series] = {}\n",
    "    final_dict[\"accuracy_changes\"][series] = {}\n",
    "    final_dict[\"batching_changes\"][series] = {}\n",
    "    final_dict[\"throughput_changes\"][series] = {}\n",
    "    final_dict[\"expected_latency\"][series] = {}\n",
    "    final_dict[\"change_trigger\"][series] = {}\n",
    "    final_dict[\"objective_changes\"][series] = {}\n",
    "\n",
    "    for node_name, metrics in series_changes[series][\"nodes\"].items():\n",
    "        final_dict[\"replica_changes\"][series][node_name] = metrics[\"replicas\"]\n",
    "        final_dict[\"core_changes\"][series][node_name] = metrics[\"cpu\"]\n",
    "        final_dict[\"accuracy_changes\"][series][node_name] = metrics[\"accuracy\"]\n",
    "        final_dict[\"batching_changes\"][series][node_name] = metrics[\"batch\"]\n",
    "        final_dict[\"throughput_changes\"][series][node_name] = metrics[\"throughput\"]\n",
    "        final_dict[\"expected_latency\"][series][node_name] = metrics[\"latency\"]\n",
    "    if not simulation_modes[series]:\n",
    "        timeout_per_second, per_second_results = loaders[\n",
    "            series\n",
    "        ].per_second_result_processing()\n",
    "    else:\n",
    "        timeout_per_second, per_second_results = None, None\n",
    "    if not simulation_modes[series]:\n",
    "        metric_columns = list(\n",
    "            filter(lambda col: latency_metric in col, per_second_results.columns)\n",
    "        )\n",
    "        final_dict[\"measured_latency\"][series] = per_second_results[metric_columns]\n",
    "        final_dict[\"measured_latency\"][series] = final_dict[\"measured_latency\"][\n",
    "            series\n",
    "        ].to_dict(orient=\"list\")\n",
    "\n",
    "    final_dict[\"change_trigger\"][series] = loader.points_with_change(\n",
    "        adaptation_log=adaptation_logs[series]\n",
    "    )\n",
    "\n",
    "    final_dict[\"objective_changes\"][series][\"objective\"] = series_changes[series][\n",
    "        \"objective\"\n",
    "    ]\n",
    "\n",
    "    if not simulation_modes[series]:\n",
    "        final_dict[\"timeout_dics\"][series] = {\"timeout_per_second\": timeout_per_second}\n",
    "\n",
    "    # totals\n",
    "    final_dict[\"replica_changes\"][series][\"total\"] = [\n",
    "        sum(x) for x in zip(*final_dict[\"replica_changes\"][series].values())\n",
    "    ]\n",
    "    final_dict[\"core_changes\"][series][\"total\"] = [\n",
    "        sum(x) for x in zip(*final_dict[\"core_changes\"][series].values())\n",
    "    ]\n",
    "    if accuracy_methods[series] == \"sum\":\n",
    "        final_dict[\"accuracy_changes\"][series][\"e2e\"] = [\n",
    "            sum(x) for x in zip(*final_dict[\"accuracy_changes\"][series].values())\n",
    "        ]\n",
    "    final_dict[\"throughput_changes\"][series][\"e2e\"] = [\n",
    "        min(x) for x in zip(*final_dict[\"throughput_changes\"][series].values())\n",
    "    ]\n",
    "    final_dict[\"expected_latency\"][series][\"e2e\"] = [\n",
    "        sum(x) for x in zip(*final_dict[\"expected_latency\"][series].values())\n",
    "    ]\n",
    "    final_dict[\"change_trigger\"][series][\"all\"] = [\n",
    "        any(x) for x in zip(*final_dict[\"change_trigger\"][series].values())\n",
    "    ]\n",
    "\n",
    "    for key in final_dict[\"replica_changes\"][series].keys():\n",
    "        final_dict[\"total_core_changes\"][series][key] = [\n",
    "            x * y\n",
    "            for x, y in zip(\n",
    "                final_dict[\"replica_changes\"][series][key],\n",
    "                final_dict[\"core_changes\"][series][key],\n",
    "            )\n",
    "        ]\n",
    "\n",
    "\n",
    "selected_experiments = {\n",
    "    \"total_core_changes\": [\"total\"],\n",
    "    \"accuracy_changes\": [\"e2e\"],\n",
    "    \"throughput_changes\": [\"e2e\"],\n",
    "    \"measured_latency\": [f\"e2e_{latency_metric}\"],\n",
    "    \"timeout_dics\": [f\"timeout_per_second\"],\n",
    "}\n",
    "\n",
    "# selected_experiments = {\n",
    "#     \"total_core_changes\": [\"total\"],\n",
    "#     \"accuracy_changes\": [\"e2e\"],\n",
    "#     \"throughput_changes\": [\"e2e\"],\n",
    "#     # \"measured_latency\": [f\"e2e_{latency_metric}\"],\n",
    "#     # \"timeout_dics\": [f\"timeout_per_second\"],\n",
    "# }\n",
    "\n",
    "legends_rename = {}\n",
    "\n",
    "draw_temporal_final(\n",
    "    dicts_to_draw=final_dict,\n",
    "    adaptation_interval=adaptation_intervals,\n",
    "    fig_size=5,\n",
    "    selected_experiments=selected_experiments,\n",
    ")"
   ]
  },
  {
   "attachments": {},
   "cell_type": "markdown",
   "metadata": {},
   "source": []
  },
  {
   "attachments": {},
   "cell_type": "markdown",
   "metadata": {},
   "source": [
    "# Paper ready figures"
   ]
  },
  {
   "cell_type": "code",
   "execution_count": 12,
   "metadata": {},
   "outputs": [
    {
     "data": {
      "text/plain": [
       "'\\n1. Temporal could be on the showing both nodes\\n2. \\n'"
      ]
     },
     "execution_count": 12,
     "metadata": {},
     "output_type": "execute_result"
    }
   ],
   "source": [
    "\"\"\"\n",
    "1. Temporal could be on the showing both nodes\n",
    "2. \n",
    "\"\"\""
   ]
  }
 ],
 "metadata": {
  "kernelspec": {
   "display_name": "central",
   "language": "python",
   "name": "python3"
  },
  "language_info": {
   "codemirror_mode": {
    "name": "ipython",
    "version": 3
   },
   "file_extension": ".py",
   "mimetype": "text/x-python",
   "name": "python",
   "nbconvert_exporter": "python",
   "pygments_lexer": "ipython3",
   "version": "3.9.16"
  },
  "orig_nbformat": 4,
  "vscode": {
   "interpreter": {
    "hash": "2465c4f56298bc06dbdad3e7519856d346ec0e9edf6ba2c905f0af711583810e"
   }
  }
 },
 "nbformat": 4,
 "nbformat_minor": 2
}
