{
 "cells": [
  {
   "attachments": {},
   "cell_type": "markdown",
   "metadata": {},
   "source": [
    "# Video pipeline with Yolo + Resnet Model"
   ]
  },
  {
   "cell_type": "code",
   "execution_count": 1,
   "metadata": {},
   "outputs": [],
   "source": [
    "import os\n",
    "import sys\n",
    "from pprint import PrettyPrinter\n",
    "import matplotlib.pyplot as plt\n",
    "from typing import Dict, List\n",
    "import numpy as np\n",
    "\n",
    "pp = PrettyPrinter(indent=4)\n",
    "\n",
    "# get an absolute path to the directory that contains parent files\n",
    "__file__ = globals()[\"_dh\"][0]\n",
    "project_dir = __file__ = globals()[\"_dh\"][0]\n",
    "sys.path.append(os.path.normpath(os.path.join(project_dir, \"..\", \"..\", \"..\")))\n",
    "\n",
    "from experiments.utils.constants import FINAL_RESULTS_PATH\n",
    "from experiments.utils.parser import AdaptationParser\n",
    "import experiments.utils.drawing"
   ]
  },
  {
   "cell_type": "code",
   "execution_count": 2,
   "metadata": {},
   "outputs": [],
   "source": [
    "metaseries = 14\n",
    "\n",
    "series_meta = {\n",
    "    \"video\": {\"IPA\": 1, \"FA2-low\": 2, \"FA2-high\": 3, \"RIM\": 5},\n",
    "    \"audio-qa\": {\"IPA\": 21, \"FA2-low\": 22, \"FA2-high\": 23, \"RIM\": 25},\n",
    "    \"audio-sent\": {\"video\": 41, \"audio-qa\": 42, \"audio-sent\": 43, \"sum-qa\": 45},\n",
    "    \"sum-qa\": {\"video\": 61, \"audio-qa\": 62, \"audio-sent\": 63, \"sum-qa\": 65}\n",
    "}\n",
    "\n",
    "serie_pipeline = {}\n",
    "for pipeline, series in series_meta.items():\n",
    "    for serie_name, serie in series.items():\n",
    "        serie_pipeline[serie] = pipeline\n",
    "        \n",
    "        \n",
    "series_paths = {\n",
    "series: os.path.join(FINAL_RESULTS_PATH, \"metaseries\", str(metaseries), \"series\", str(series))\n",
    "    for series in serie_pipeline.keys()\n",
    "}\n",
    "\n",
    "loaders = {\n",
    "series: AdaptationParser(\n",
    "        series_path=series_path, model_name=\"video\", type_of=\"router_pipeline\"\n",
    "    )\n",
    "    for series, series_path in series_paths.items()\n",
    "}"
   ]
  },
  {
   "cell_type": "code",
   "execution_count": 3,
   "metadata": {},
   "outputs": [
    {
     "data": {
      "text/plain": [
       "{1: <experiments.utils.parser.AdaptationParser at 0x7fec3373ddf0>,\n",
       " 2: <experiments.utils.parser.AdaptationParser at 0x7fed044e8c40>,\n",
       " 3: <experiments.utils.parser.AdaptationParser at 0x7fec3e4b1dc0>,\n",
       " 5: <experiments.utils.parser.AdaptationParser at 0x7fed045724c0>,\n",
       " 21: <experiments.utils.parser.AdaptationParser at 0x7fed04572730>,\n",
       " 22: <experiments.utils.parser.AdaptationParser at 0x7fed0459b7f0>,\n",
       " 23: <experiments.utils.parser.AdaptationParser at 0x7fed0459b640>,\n",
       " 25: <experiments.utils.parser.AdaptationParser at 0x7fed0455e340>,\n",
       " 41: <experiments.utils.parser.AdaptationParser at 0x7fec3349b3a0>,\n",
       " 42: <experiments.utils.parser.AdaptationParser at 0x7fec334a61c0>,\n",
       " 43: <experiments.utils.parser.AdaptationParser at 0x7fec3347cb50>,\n",
       " 45: <experiments.utils.parser.AdaptationParser at 0x7fec3373dca0>,\n",
       " 61: <experiments.utils.parser.AdaptationParser at 0x7fec3373dd30>,\n",
       " 62: <experiments.utils.parser.AdaptationParser at 0x7fec3373dd60>,\n",
       " 63: <experiments.utils.parser.AdaptationParser at 0x7fec33494610>,\n",
       " 65: <experiments.utils.parser.AdaptationParser at 0x7fec3347cd00>}"
      ]
     },
     "execution_count": 3,
     "metadata": {},
     "output_type": "execute_result"
    }
   ],
   "source": [
    "loaders"
   ]
  },
  {
   "attachments": {},
   "cell_type": "markdown",
   "metadata": {},
   "source": [
    "# Real Latencies"
   ]
  },
  {
   "attachments": {},
   "cell_type": "markdown",
   "metadata": {},
   "source": []
  },
  {
   "cell_type": "code",
   "execution_count": 4,
   "metadata": {},
   "outputs": [],
   "source": [
    "timeout_per_second = {}\n",
    "per_second_results = {}\n",
    "for series in serie_pipeline.keys():\n",
    "    timeout_per_second[series], per_second_results[series] = loaders[\n",
    "        series\n",
    "    ].per_second_result_processing()"
   ]
  },
  {
   "cell_type": "code",
   "execution_count": 5,
   "metadata": {},
   "outputs": [
    {
     "name": "stdout",
     "output_type": "stream",
     "text": [
      "dict_keys(['video', 'audio-qa', 'audio-sent', 'sum-qa'])\n"
     ]
    }
   ],
   "source": [
    "metric = \"p99\"  # [min, max, p99]\n",
    "metrics_all = {}\n",
    "for series in serie_pipeline.keys():\n",
    "    metric_columns = list(\n",
    "        filter(lambda col: metric in col, per_second_results[series].columns)\n",
    "    )\n",
    "    metrics_all[series] = per_second_results[series][metric_columns]\n",
    "    metrics_all[series] = metrics_all[series].to_dict(orient=\"list\")\n",
    "ylabel = \"Second\"\n",
    "data = {}\n",
    "\n",
    "\n",
    "for serie, pipeline in serie_pipeline.items():\n",
    "    if data.get(pipeline) is None:\n",
    "        data[pipeline] = {}\n",
    "    data[pipeline][serie] = metrics_all[serie][\"e2e_p99\"]\n",
    "\n",
    "print(data.keys())"
   ]
  },
  {
   "cell_type": "code",
   "execution_count": 6,
   "metadata": {},
   "outputs": [
    {
     "data": {
      "text/plain": [
       "<module 'experiments.utils.drawing' from '/home/cc/infernece-pipeline-joint-optimization/experiments/utils/drawing.py'>"
      ]
     },
     "execution_count": 6,
     "metadata": {},
     "output_type": "execute_result"
    }
   ],
   "source": [
    "import importlib\n",
    "\n",
    "importlib.reload(experiments.utils.drawing)\n",
    "\n",
    "\n",
    "# experiments.utils.drawing.draw_cdf(data, 10, vertical_label=\"SLA\", bbox_to_anchor=(1.1, 1.5))"
   ]
  }
 ],
 "metadata": {
  "kernelspec": {
   "display_name": "central",
   "language": "python",
   "name": "python3"
  },
  "language_info": {
   "codemirror_mode": {
    "name": "ipython",
    "version": 3
   },
   "file_extension": ".py",
   "mimetype": "text/x-python",
   "name": "python",
   "nbconvert_exporter": "python",
   "pygments_lexer": "ipython3",
   "version": "3.9.15"
  },
  "orig_nbformat": 4,
  "vscode": {
   "interpreter": {
    "hash": "2465c4f56298bc06dbdad3e7519856d346ec0e9edf6ba2c905f0af711583810e"
   }
  }
 },
 "nbformat": 4,
 "nbformat_minor": 2
}
