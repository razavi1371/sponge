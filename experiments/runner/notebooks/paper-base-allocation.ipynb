{
 "cells": [
  {
   "attachments": {},
   "cell_type": "markdown",
   "metadata": {},
   "source": [
    "# Video pipeline with Yolo + Resnet Model"
   ]
  },
  {
   "cell_type": "code",
   "execution_count": 1,
   "metadata": {},
   "outputs": [],
   "source": [
    "import os\n",
    "import sys\n",
    "from pprint import PrettyPrinter\n",
    "import matplotlib.pyplot as plt\n",
    "from typing import Dict, List\n",
    "import numpy as np\n",
    "\n",
    "pp = PrettyPrinter(indent=4)\n",
    "from barazmoon.twitter import twitter_workload_generator\n",
    "\n",
    "# get an absolute path to the directory that contains parent files\n",
    "__file__ = globals()[\"_dh\"][0]\n",
    "project_dir = __file__ = globals()[\"_dh\"][0]\n",
    "sys.path.append(os.path.normpath(os.path.join(project_dir, \"..\", \"..\", \"..\")))\n",
    "\n",
    "from experiments.utils.constants import FINAL_RESULTS_PATH\n",
    "from experiments.utils.parser import AdaptationParser\n",
    "from experiments.utils.drawing import draw_temporal, draw_cumulative"
   ]
  },
  {
   "cell_type": "code",
   "execution_count": 2,
   "metadata": {},
   "outputs": [],
   "source": [
    "metaserieses = [23, 23, 23, 23, 23]\n",
    "serieses = [1, 21, 41, 61, 81]\n",
    "\n",
    "series_names = None\n",
    "# series_names = {\n",
    "#     # 1: \"IPA-accuracy\",\n",
    "#     2: \"IPA\",\n",
    "#     # 3: \"IPA-cost\",\n",
    "#     4: \"FA2-high\",\n",
    "#     # 5: \"FA2-high\",\n",
    "#     # 6: \"RIM-low\",\n",
    "#     7: \"RIM-high\",\n",
    "# }\n",
    "factors = {1: 2 / 3, 21: 2, 41: 2, 61: 1, 81: 2 / 3}\n",
    "series_paths = {\n",
    "    series: os.path.join(\n",
    "        FINAL_RESULTS_PATH, \"metaseries\", str(metaseries), \"series\", str(series)\n",
    "    )\n",
    "    for series, metaseries in zip(serieses, metaserieses)\n",
    "}\n",
    "\n",
    "loaders = {\n",
    "    series: AdaptationParser(\n",
    "        series_path=series_path, model_name=\"video\", type_of=\"router_pipeline\"\n",
    "    )\n",
    "    for series, series_path in series_paths.items()\n",
    "}"
   ]
  },
  {
   "cell_type": "code",
   "execution_count": 3,
   "metadata": {},
   "outputs": [
    {
     "data": {
      "text/plain": [
       "{1: 4, 21: 1, 41: 1, 61: 5, 81: 4}"
      ]
     },
     "execution_count": 3,
     "metadata": {},
     "output_type": "execute_result"
    }
   ],
   "source": [
    "simulation_modes = {}\n",
    "configs = {}\n",
    "threshold = {}\n",
    "for series, loader in loaders.items():\n",
    "    configs_exp = loader.load_configs()\n",
    "    config = configs_exp[\"0.yaml\"]\n",
    "    configs[series] = config\n",
    "    simulation_modes[series] = config[\"simulation_mode\"]\n",
    "    threshold[series] = config[\"threshold\"]\n",
    "threshold"
   ]
  },
  {
   "cell_type": "code",
   "execution_count": 4,
   "metadata": {},
   "outputs": [],
   "source": [
    "# load the sent workload\n",
    "sent_loads = {}\n",
    "for series, config in configs.items():\n",
    "    workload_type = config[\"workload_type\"]\n",
    "    workload_config = config[\"workload_config\"][0]\n",
    "    start = workload_config[\"start\"]\n",
    "    end = workload_config[\"end\"]\n",
    "    damping_factor = workload_config[\"damping_factor\"]\n",
    "    sent_loads[series] = twitter_workload_generator(\n",
    "        days=f\"{start}-{end}\", damping_factor=damping_factor\n",
    "    )"
   ]
  },
  {
   "cell_type": "code",
   "execution_count": 5,
   "metadata": {},
   "outputs": [],
   "source": [
    "adaptation_logs = dict(\n",
    "    map(lambda l: (l[0], l[1].load_adaptation_log()), loaders.items())\n",
    ")"
   ]
  },
  {
   "cell_type": "code",
   "execution_count": 6,
   "metadata": {},
   "outputs": [
    {
     "name": "stdout",
     "output_type": "stream",
     "text": [
      "{   1: {   'classification': {   'resnet101': 1,\n",
      "                                 'resnet152': 2,\n",
      "                                 'resnet18': 1,\n",
      "                                 'resnet34': 1,\n",
      "                                 'resnet50': 1},\n",
      "           'crop': {   'yolov5l': 4,\n",
      "                       'yolov5m': 2,\n",
      "                       'yolov5n': 1,\n",
      "                       'yolov5s': 1,\n",
      "                       'yolov5x': 8}},\n",
      "    21: {   'audio': {   'facebook-s2t-large-librispeech-asr': 4,\n",
      "                         'facebook-s2t-medium-librispeech-asr': 2,\n",
      "                         'facebook-s2t-small-librispeech-asr': 1,\n",
      "                         'facebook-wav2vec2-base-960h': 2,\n",
      "                         'facebook-wav2vec2-large-960h': 8},\n",
      "            'nlp-qa': {   'deepset-roberta-base-squad2': 1,\n",
      "                          'deepset-xlm-roberta-base-squad2': 1}},\n",
      "    41: {   'audio': {   'facebook-s2t-large-librispeech-asr': 8,\n",
      "                         'facebook-s2t-medium-librispeech-asr': 2,\n",
      "                         'facebook-s2t-small-librispeech-asr': 1,\n",
      "                         'facebook-wav2vec2-base-960h': 2,\n",
      "                         'facebook-wav2vec2-large-960h': 8},\n",
      "            'nlp-sent': {   'Souvikcmsa-BERT_sentiment_analysis': 1,\n",
      "                            'Souvikcmsa-Roberta_Sentiment_Analysis': 1,\n",
      "                            'Souvikcmsa-SentimentAnalysisDistillBERT': 1,\n",
      "                            'distilbert-base-uncased-finetuned-sst-2-english': 1}},\n",
      "    61: {   'nlp-qa': {   'deepset-roberta-base-squad2': 1,\n",
      "                          'deepset-xlm-roberta-base-squad2': 1},\n",
      "            'nlp-sum': {   'sshleifer-distilbart-xsum-1-1': 1,\n",
      "                           'sshleifer-distilbart-xsum-12-1': 2,\n",
      "                           'sshleifer-distilbart-xsum-12-3': 8,\n",
      "                           'sshleifer-distilbart-xsum-12-6': 16,\n",
      "                           'sshleifer-distilbart-xsum-6-6': 4,\n",
      "                           'sshleifer-distilbart-xsum-9-6': 8}},\n",
      "    81: {   'nlp-li': {   'dinalzein-xlm-roberta-base-finetuned-language-identification': 1},\n",
      "            'nlp-sum': {   'sshleifer-distilbart-xsum-1-1': 1,\n",
      "                           'sshleifer-distilbart-xsum-12-1': 2,\n",
      "                           'sshleifer-distilbart-xsum-12-3': 8,\n",
      "                           'sshleifer-distilbart-xsum-12-6': 8,\n",
      "                           'sshleifer-distilbart-xsum-6-6': 4,\n",
      "                           'sshleifer-distilbart-xsum-9-6': 8},\n",
      "            'nlp-trans': {   'Helsinki-NLP-opus-mt-fr-en': 4,\n",
      "                             'Helsinki-NLP-opus-mt-tc-big-fr-en': 16}}}\n"
     ]
    }
   ],
   "source": [
    "base_allocations = {}\n",
    "# stage_wise_slas = {}\n",
    "series_changes = {}\n",
    "for series in serieses:\n",
    "    series_changes[series] = loaders[series].series_changes(\n",
    "        adaptation_log=adaptation_logs[series]\n",
    "    )\n",
    "    base_allocations[series] = series_changes[series][\"base_allocations\"]\n",
    "pp.pprint(base_allocations)"
   ]
  }
 ],
 "metadata": {
  "kernelspec": {
   "display_name": "central",
   "language": "python",
   "name": "python3"
  },
  "language_info": {
   "codemirror_mode": {
    "name": "ipython",
    "version": 3
   },
   "file_extension": ".py",
   "mimetype": "text/x-python",
   "name": "python",
   "nbconvert_exporter": "python",
   "pygments_lexer": "ipython3",
   "version": "3.9.15"
  },
  "orig_nbformat": 4,
  "vscode": {
   "interpreter": {
    "hash": "2465c4f56298bc06dbdad3e7519856d346ec0e9edf6ba2c905f0af711583810e"
   }
  }
 },
 "nbformat": 4,
 "nbformat_minor": 2
}
