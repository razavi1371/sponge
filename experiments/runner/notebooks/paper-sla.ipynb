{
 "cells": [
  {
   "attachments": {},
   "cell_type": "markdown",
   "metadata": {},
   "source": [
    "# Video pipeline with Yolo + Resnet Model"
   ]
  },
  {
   "cell_type": "code",
   "execution_count": 26,
   "metadata": {},
   "outputs": [],
   "source": [
    "import os\n",
    "import sys\n",
    "from pprint import PrettyPrinter\n",
    "import matplotlib.pyplot as plt\n",
    "from typing import Dict, List\n",
    "import numpy as np\n",
    "\n",
    "pp = PrettyPrinter(indent=4)\n",
    "from barazmoon.twitter import twitter_workload_generator\n",
    "\n",
    "# get an absolute path to the directory that contains parent files\n",
    "__file__ = globals()[\"_dh\"][0]\n",
    "project_dir = __file__ = globals()[\"_dh\"][0]\n",
    "sys.path.append(os.path.normpath(os.path.join(project_dir, \"..\", \"..\", \"..\")))\n",
    "\n",
    "from experiments.utils.constants import FINAL_RESULTS_PATH\n",
    "from experiments.utils.parser import AdaptationParser\n",
    "from experiments.utils.drawing import draw_temporal, draw_cumulative"
   ]
  },
  {
   "cell_type": "code",
   "execution_count": 27,
   "metadata": {},
   "outputs": [],
   "source": [
    "metaserieses = [21, 21, 21, 21, 21]\n",
    "serieses = [1, 21, 41, 61, 81]\n",
    "\n",
    "series_names = None\n",
    "# series_names = {\n",
    "#     # 1: \"IPA-accuracy\",\n",
    "#     2: \"IPA\",\n",
    "#     # 3: \"IPA-cost\",\n",
    "#     4: \"FA2-high\",\n",
    "#     # 5: \"FA2-high\",\n",
    "#     # 6: \"RIM-low\",\n",
    "#     7: \"RIM-high\",\n",
    "# }\n",
    "factor = 2\n",
    "series_paths = {\n",
    "series: os.path.join(FINAL_RESULTS_PATH, \"metaseries\", str(metaseries), \"series\", str(series))\n",
    "    for series, metaseries in zip(serieses, metaserieses)\n",
    "}\n",
    "\n",
    "loaders = {\n",
    "series: AdaptationParser(\n",
    "        series_path=series_path, model_name=\"video\", type_of=\"router_pipeline\"\n",
    "    )\n",
    "    for series, series_path in series_paths.items()\n",
    "}"
   ]
  },
  {
   "cell_type": "code",
   "execution_count": 28,
   "metadata": {},
   "outputs": [
    {
     "data": {
      "text/plain": [
       "{1: 10, 21: 20, 41: 20, 61: 5, 81: 20}"
      ]
     },
     "execution_count": 28,
     "metadata": {},
     "output_type": "execute_result"
    }
   ],
   "source": [
    "simulation_modes = {}\n",
    "configs = {}\n",
    "drop_limit = {}\n",
    "for series, loader in loaders.items():\n",
    "    configs_exp = loader.load_configs()\n",
    "    config = configs_exp[\"0.yaml\"]\n",
    "    configs[series] = config\n",
    "    simulation_modes[series] = config[\"simulation_mode\"]\n",
    "    drop_limit[series] = config[\"drop_limit\"]\n",
    "drop_limit"
   ]
  },
  {
   "cell_type": "code",
   "execution_count": 29,
   "metadata": {},
   "outputs": [],
   "source": [
    "# load the sent workload\n",
    "sent_loads = {}\n",
    "for series, config in configs.items():\n",
    "    workload_type = config[\"workload_type\"]\n",
    "    workload_config = config[\"workload_config\"][0]\n",
    "    start = workload_config[\"start\"]\n",
    "    end = workload_config[\"end\"]\n",
    "    damping_factor = workload_config[\"damping_factor\"]\n",
    "    sent_loads[series] = twitter_workload_generator(\n",
    "        days=f\"{start}-{end}\", damping_factor=damping_factor\n",
    "    )"
   ]
  },
  {
   "cell_type": "code",
   "execution_count": 30,
   "metadata": {},
   "outputs": [],
   "source": [
    "adaptation_logs = dict(\n",
    "    map(lambda l: (l[0], l[1].load_adaptation_log()), loaders.items())\n",
    ")"
   ]
  },
  {
   "cell_type": "code",
   "execution_count": 31,
   "metadata": {},
   "outputs": [
    {
     "name": "stdout",
     "output_type": "stream",
     "text": [
      "{1: 2.2991218030452725, 21: 9.235554277896881, 41: 10.132449761033056, 61: 1.925878942012786, 81: 5.873046532273292}\n",
      "{1: {'crop': 1.5401952683925626, 'classification': 0.7589265346527099}, 21: {'audio': 8.344102382659912, 'nlp-qa': 0.8914518952369689}, 41: {'audio': 9.043847739696501, 'nlp-sent': 1.0886020213365553}, 61: {'nlp-sum': 1.2638396918773644, 'nlp-qa': 0.6620392501354215}, 81: {'nlp-li': 0.32414671778678894, 'nlp-trans': 4.2850601226091385, 'nlp-sum': 1.2638396918773644}}\n"
     ]
    }
   ],
   "source": [
    "slas = {}\n",
    "stage_wise_slas = {}\n",
    "series_changes = {}\n",
    "for series in serieses:\n",
    "    series_changes[series] = loaders[series].series_changes(\n",
    "        adaptation_log=adaptation_logs[series]\n",
    "    )\n",
    "    slas[series] = series_changes[series]['sla'] / factor\n",
    "    stage_wise_slas[series] = dict(map(lambda l: (l[0], l[1]/factor), series_changes[series]['stage_wise_slas'].items()))\n",
    "print(slas)\n",
    "print(stage_wise_slas)"
   ]
  },
  {
   "cell_type": "code",
   "execution_count": 32,
   "metadata": {},
   "outputs": [
    {
     "data": {
      "text/plain": [
       "{1: {'sla': 2.2991218030452725,\n",
       "  'stage_wise_slas': {'crop': 1.5401952683925626,\n",
       "   'classification': 0.7589265346527099},\n",
       "  'drop_limit': 10},\n",
       " 21: {'sla': 9.235554277896881,\n",
       "  'stage_wise_slas': {'audio': 8.344102382659912,\n",
       "   'nlp-qa': 0.8914518952369689},\n",
       "  'drop_limit': 20},\n",
       " 41: {'sla': 10.132449761033056,\n",
       "  'stage_wise_slas': {'audio': 9.043847739696501,\n",
       "   'nlp-sent': 1.0886020213365553},\n",
       "  'drop_limit': 20},\n",
       " 61: {'sla': 1.925878942012786,\n",
       "  'stage_wise_slas': {'nlp-sum': 1.2638396918773644,\n",
       "   'nlp-qa': 0.6620392501354215},\n",
       "  'drop_limit': 5},\n",
       " 81: {'sla': 5.873046532273292,\n",
       "  'stage_wise_slas': {'nlp-li': 0.32414671778678894,\n",
       "   'nlp-trans': 4.2850601226091385,\n",
       "   'nlp-sum': 1.2638396918773644},\n",
       "  'drop_limit': 20}}"
      ]
     },
     "execution_count": 32,
     "metadata": {},
     "output_type": "execute_result"
    }
   ],
   "source": [
    "sla_and_drop = {}\n",
    "for series in serieses:\n",
    "    sla_and_drop[series] = {}\n",
    "    sla_and_drop[series]['sla'] = slas[series]\n",
    "    sla_and_drop[series]['stage_wise_slas'] = stage_wise_slas[series]\n",
    "    sla_and_drop[series]['drop_limit'] = drop_limit[series]\n",
    "sla_and_drop"
   ]
  },
  {
   "cell_type": "code",
   "execution_count": null,
   "metadata": {},
   "outputs": [],
   "source": []
  },
  {
   "attachments": {},
   "cell_type": "markdown",
   "metadata": {},
   "source": [
    "# Real Latencies"
   ]
  },
  {
   "attachments": {},
   "cell_type": "markdown",
   "metadata": {},
   "source": [
    "## Maeseured p99 Latency\n"
   ]
  },
  {
   "cell_type": "code",
   "execution_count": 33,
   "metadata": {},
   "outputs": [],
   "source": [
    "timeout_per_second = {}\n",
    "per_second_results = {}\n",
    "for series in serieses:\n",
    "    if not simulation_modes[series]:\n",
    "        timeout_per_second[series], per_second_results[series] = loaders[\n",
    "            series\n",
    "        ].per_second_result_processing()\n",
    "    else:\n",
    "        timeout_per_second[series], per_second_results[series] = None, None"
   ]
  },
  {
   "attachments": {},
   "cell_type": "markdown",
   "metadata": {},
   "source": [
    "## timeouts"
   ]
  },
  {
   "cell_type": "code",
   "execution_count": 34,
   "metadata": {},
   "outputs": [],
   "source": [
    "import numpy as np\n",
    "\n",
    "if not all(simulation_modes.values()):\n",
    "    ylabel = \"% SLA Violations\"\n",
    "    xlabel = \"Experiments\"\n",
    "    timeout_dics = {}\n",
    "    for series in serieses:\n",
    "        # print(50 * \"-\" + f\" {series} \" + 50 * \"-\")\n",
    "        if not simulation_modes[series]:\n",
    "            timeout_dics[series] = {\n",
    "                \"\": (\n",
    "                    np.array(timeout_per_second[series]) / sum(sent_loads[series])\n",
    "                ).tolist()\n",
    "            }\n",
    "            # draw_temporal(timeout_dics[series])\n",
    "            print(f\"{sum(timeout_per_second[series])} out of {sum(sent_loads[series])}\")\n",
    "    draw_temporal(timeout_dics, multiple_experiments=True, ylabel=ylabel)\n",
    "    draw_cumulative(\n",
    "        timeout_dics,\n",
    "        multiple_experiments=True,\n",
    "        ylabel=ylabel,\n",
    "        series_names=series_names,\n",
    "        xlabel=xlabel,\n",
    "    )"
   ]
  },
  {
   "cell_type": "code",
   "execution_count": null,
   "metadata": {},
   "outputs": [],
   "source": []
  }
 ],
 "metadata": {
  "kernelspec": {
   "display_name": "central",
   "language": "python",
   "name": "python3"
  },
  "language_info": {
   "codemirror_mode": {
    "name": "ipython",
    "version": 3
   },
   "file_extension": ".py",
   "mimetype": "text/x-python",
   "name": "python",
   "nbconvert_exporter": "python",
   "pygments_lexer": "ipython3",
   "version": "3.9.15"
  },
  "orig_nbformat": 4,
  "vscode": {
   "interpreter": {
    "hash": "2465c4f56298bc06dbdad3e7519856d346ec0e9edf6ba2c905f0af711583810e"
   }
  }
 },
 "nbformat": 4,
 "nbformat_minor": 2
}
