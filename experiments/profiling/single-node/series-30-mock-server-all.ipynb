{
 "cells": [
  {
   "cell_type": "markdown",
   "id": "b93d6f0e",
   "metadata": {},
   "source": [
    "## Effect of batch size notebook"
   ]
  },
  {
   "cell_type": "code",
   "execution_count": 1,
   "id": "bde05b26",
   "metadata": {},
   "outputs": [],
   "source": [
    "import pandas as pd\n",
    "import numpy as np\n",
    "import os\n",
    "import matplotlib.pyplot as plt\n",
    "import json\n",
    "from copy import deepcopy\n",
    "import random\n",
    "import sys\n",
    "import time\n",
    "from typing import List\n",
    "from pprint import PrettyPrinter\n",
    "pp = PrettyPrinter(indent=4)\n",
    "\n",
    "# get an absolute path to the directory that contains parent files\n",
    "__file__ = globals()['_dh'][0]\n",
    "project_dir = __file__ = globals()['_dh'][0]\n",
    "sys.path.append(os.path.normpath(os.path.join(\n",
    "    project_dir, '..', '..', '..')))\n",
    "\n",
    "from experiments.utils.constants import (\n",
    "    PIPLINES_PATH,\n",
    "    NODE_PROFILING_CONFIGS_PATH,\n",
    "    NODE_PROFILING_RESULTS_STATIC_PATH\n",
    ")\n",
    "from experiments.utils.loader import Loader"
   ]
  },
  {
   "cell_type": "code",
   "execution_count": 11,
   "id": "f5632e5b",
   "metadata": {},
   "outputs": [
    {
     "name": "stdout",
     "output_type": "stream",
     "text": [
      "excepted-1!\n",
      "excepted-1!\n",
      "excepted-1!\n",
      "excepted-1!\n",
      "excepted-1!\n",
      "excepted-1!\n",
      "excepted-1!\n",
      "excepted-1!\n"
     ]
    },
    {
     "data": {
      "text/html": [
       "<div>\n",
       "<style scoped>\n",
       "    .dataframe tbody tr th:only-of-type {\n",
       "        vertical-align: middle;\n",
       "    }\n",
       "\n",
       "    .dataframe tbody tr th {\n",
       "        vertical-align: top;\n",
       "    }\n",
       "\n",
       "    .dataframe thead th {\n",
       "        text-align: right;\n",
       "    }\n",
       "</style>\n",
       "<table border=\"1\" class=\"dataframe\">\n",
       "  <thead>\n",
       "    <tr style=\"text-align: right;\">\n",
       "      <th></th>\n",
       "      <th>experiment_id</th>\n",
       "      <th>pipeline_name</th>\n",
       "      <th>node_name</th>\n",
       "      <th>model_variant</th>\n",
       "      <th>cpu_request</th>\n",
       "      <th>memory_request</th>\n",
       "      <th>max_batch_size</th>\n",
       "      <th>max_batch_time</th>\n",
       "      <th>load</th>\n",
       "      <th>load_duration</th>\n",
       "      <th>series</th>\n",
       "      <th>series_meta</th>\n",
       "      <th>replicas</th>\n",
       "      <th>no_engine</th>\n",
       "    </tr>\n",
       "  </thead>\n",
       "  <tbody>\n",
       "    <tr>\n",
       "      <th>0</th>\n",
       "      <td>1</td>\n",
       "      <td>6-mlserver-mock</td>\n",
       "      <td>mock-one</td>\n",
       "      <td>0</td>\n",
       "      <td>4</td>\n",
       "      <td>8Gi</td>\n",
       "      <td>1</td>\n",
       "      <td>1</td>\n",
       "      <td>40</td>\n",
       "      <td>60</td>\n",
       "      <td>30</td>\n",
       "      <td>none-containerized</td>\n",
       "      <td>1</td>\n",
       "      <td>False</td>\n",
       "    </tr>\n",
       "    <tr>\n",
       "      <th>1</th>\n",
       "      <td>2</td>\n",
       "      <td>6-mlserver-mock</td>\n",
       "      <td>mock-one</td>\n",
       "      <td>0</td>\n",
       "      <td>4</td>\n",
       "      <td>8Gi</td>\n",
       "      <td>1</td>\n",
       "      <td>1</td>\n",
       "      <td>40</td>\n",
       "      <td>60</td>\n",
       "      <td>30</td>\n",
       "      <td>none-containerized</td>\n",
       "      <td>1</td>\n",
       "      <td>False</td>\n",
       "    </tr>\n",
       "    <tr>\n",
       "      <th>2</th>\n",
       "      <td>3</td>\n",
       "      <td>6-mlserver-mock</td>\n",
       "      <td>mock-one</td>\n",
       "      <td>0</td>\n",
       "      <td>4</td>\n",
       "      <td>8Gi</td>\n",
       "      <td>1</td>\n",
       "      <td>1</td>\n",
       "      <td>40</td>\n",
       "      <td>60</td>\n",
       "      <td>30</td>\n",
       "      <td>none-containerized</td>\n",
       "      <td>1</td>\n",
       "      <td>False</td>\n",
       "    </tr>\n",
       "  </tbody>\n",
       "</table>\n",
       "</div>"
      ],
      "text/plain": [
       "   experiment_id    pipeline_name node_name  model_variant  cpu_request  \\\n",
       "0              1  6-mlserver-mock  mock-one              0            4   \n",
       "1              2  6-mlserver-mock  mock-one              0            4   \n",
       "2              3  6-mlserver-mock  mock-one              0            4   \n",
       "\n",
       "  memory_request  max_batch_size  max_batch_time  load  load_duration  series  \\\n",
       "0            8Gi               1               1    40             60      30   \n",
       "1            8Gi               1               1    40             60      30   \n",
       "2            8Gi               1               1    40             60      30   \n",
       "\n",
       "          series_meta  replicas  no_engine  \n",
       "0  none-containerized         1      False  \n",
       "1  none-containerized         1      False  \n",
       "2  none-containerized         1      False  "
      ]
     },
     "metadata": {},
     "output_type": "display_data"
    }
   ],
   "source": [
    "series = 30\n",
    "experiment_id = 2\n",
    "config_key_mapper = \"key_config_mapper.csv\"\n",
    "\n",
    "series_path = os.path.join(\n",
    "    NODE_PROFILING_RESULTS_STATIC_PATH,\n",
    "    'series',\n",
    "    str(series))\n",
    "loader1 = Loader(\n",
    "    series_path=series_path, config_key_mapper=config_key_mapper, second_node=False, type_of='node')\n",
    "loader2 = Loader(\n",
    "    series_path=series_path, config_key_mapper=config_key_mapper, second_node=False, type_of='node_with_log')\n",
    "results_1 = loader1.result_processing()\n",
    "results_2 = loader2.result_processing()\n",
    "key_config_df = loader1.key_config_mapper()\n",
    "# print(results.columns)\n",
    "# print(key_config_df.columns)\n",
    "# results\n",
    "display(key_config_df)"
   ]
  },
  {
   "cell_type": "code",
   "execution_count": 12,
   "id": "1db69e98",
   "metadata": {},
   "outputs": [
    {
     "data": {
      "text/plain": [
       "Index(['experiment_id', 'client_to_model_latencies_avg',\n",
       "       'client_to_model_latencies_p99', 'client_to_model_latencies_p50',\n",
       "       'client_to_model_latencies_var', 'client_to_model_latencies_max',\n",
       "       'client_to_model_latencies_min', 'model_latencies_avg',\n",
       "       'model_latencies_p99', 'model_latencies_p50', 'model_latencies_var',\n",
       "       'model_latencies_max', 'model_latencies_min',\n",
       "       'model_to_client_latencies_avg', 'model_to_client_latencies_p99',\n",
       "       'model_to_client_latencies_p50', 'model_to_client_latencies_var',\n",
       "       'model_to_client_latencies_max', 'model_to_client_latencies_min',\n",
       "       'start_time', 'end_time', 'duration', 'timeout_count',\n",
       "       'cpu_usage_count_avg', 'cpu_usage_count_p99', 'cpu_usage_count_p50',\n",
       "       'cpu_usage_count_var', 'cpu_usage_count_max', 'cpu_usage_count_min',\n",
       "       'cpu_usage_rate_avg', 'cpu_usage_rate_p99', 'cpu_usage_rate_p50',\n",
       "       'cpu_usage_rate_var', 'cpu_usage_rate_max', 'cpu_usage_rate_min',\n",
       "       'cpu_throttled_count_avg', 'cpu_throttled_count_p99',\n",
       "       'cpu_throttled_count_p50', 'cpu_throttled_count_var',\n",
       "       'cpu_throttled_count_max', 'cpu_throttled_count_min',\n",
       "       'cpu_throttled_rate_avg', 'cpu_throttled_rate_p99',\n",
       "       'cpu_throttled_rate_p50', 'cpu_throttled_rate_var',\n",
       "       'cpu_throttled_rate_max', 'cpu_throttled_rate_min', 'memory_usage_avg',\n",
       "       'memory_usage_p99', 'memory_usage_p50', 'memory_usage_var',\n",
       "       'memory_usage_max', 'memory_usage_min', 'throughput_avg',\n",
       "       'throughput_p99', 'throughput_p50', 'throughput_var', 'throughput_max',\n",
       "       'throughput_min'],\n",
       "      dtype='object')"
      ]
     },
     "execution_count": 12,
     "metadata": {},
     "output_type": "execute_result"
    }
   ],
   "source": [
    "results_1.keys()"
   ]
  },
  {
   "cell_type": "code",
   "execution_count": 13,
   "id": "766e2f0e",
   "metadata": {},
   "outputs": [
    {
     "data": {
      "text/plain": [
       "Index(['experiment_id', 'client_to_svc_latencies_avg',\n",
       "       'client_to_svc_latencies_p99', 'client_to_svc_latencies_p50',\n",
       "       'client_to_svc_latencies_var', 'client_to_svc_latencies_max',\n",
       "       'client_to_svc_latencies_min', 'svc_latencies_avg', 'svc_latencies_p99',\n",
       "       'svc_latencies_p50', 'svc_latencies_var', 'svc_latencies_max',\n",
       "       'svc_latencies_min', 'svc_to_model_latencies_avg',\n",
       "       'svc_to_model_latencies_p99', 'svc_to_model_latencies_p50',\n",
       "       'svc_to_model_latencies_var', 'svc_to_model_latencies_max',\n",
       "       'svc_to_model_latencies_min', 'model_latencies_avg',\n",
       "       'model_latencies_p99', 'model_latencies_p50', 'model_latencies_var',\n",
       "       'model_latencies_max', 'model_latencies_min',\n",
       "       'model_to_client_latencies_avg', 'model_to_client_latencies_p99',\n",
       "       'model_to_client_latencies_p50', 'model_to_client_latencies_var',\n",
       "       'model_to_client_latencies_max', 'model_to_client_latencies_min',\n",
       "       'start_time', 'end_time', 'duration', 'timeout_count',\n",
       "       'cpu_usage_count_avg', 'cpu_usage_count_p99', 'cpu_usage_count_p50',\n",
       "       'cpu_usage_count_var', 'cpu_usage_count_max', 'cpu_usage_count_min',\n",
       "       'cpu_usage_rate_avg', 'cpu_usage_rate_p99', 'cpu_usage_rate_p50',\n",
       "       'cpu_usage_rate_var', 'cpu_usage_rate_max', 'cpu_usage_rate_min',\n",
       "       'cpu_throttled_count_avg', 'cpu_throttled_count_p99',\n",
       "       'cpu_throttled_count_p50', 'cpu_throttled_count_var',\n",
       "       'cpu_throttled_count_max', 'cpu_throttled_count_min',\n",
       "       'cpu_throttled_rate_avg', 'cpu_throttled_rate_p99',\n",
       "       'cpu_throttled_rate_p50', 'cpu_throttled_rate_var',\n",
       "       'cpu_throttled_rate_max', 'cpu_throttled_rate_min', 'memory_usage_avg',\n",
       "       'memory_usage_p99', 'memory_usage_p50', 'memory_usage_var',\n",
       "       'memory_usage_max', 'memory_usage_min', 'throughput_avg',\n",
       "       'throughput_p99', 'throughput_p50', 'throughput_var', 'throughput_max',\n",
       "       'throughput_min'],\n",
       "      dtype='object')"
      ]
     },
     "execution_count": 13,
     "metadata": {},
     "output_type": "execute_result"
    }
   ],
   "source": [
    "results_2.keys()"
   ]
  },
  {
   "cell_type": "code",
   "execution_count": 4,
   "id": "408e420a",
   "metadata": {},
   "outputs": [
    {
     "name": "stdout",
     "output_type": "stream",
     "text": [
      "File name: 0.yaml\n",
      "{   'cpu_request': ['4'],\n",
      "    'data_type': 'audio',\n",
      "    'max_batch_size': ['1', '1', '1'],\n",
      "    'max_batch_time': ['1'],\n",
      "    'memory_request': ['8Gi'],\n",
      "    'model_variants': ['0'],\n",
      "    'no_engine': False,\n",
      "    'node_name': 'mock-one',\n",
      "    'pipeline_name': '6-mlserver-mock',\n",
      "    'repetition': 1,\n",
      "    'replicas': [1],\n",
      "    'series': 30,\n",
      "    'series_meta': 'none-containerized',\n",
      "    'timeout': 150,\n",
      "    'workload_config': {'load_duration': 60, 'loads_to_test': [40]},\n",
      "    'workload_type': 'static'}\n",
      "File name: 1.yaml\n",
      "{   'cpu_request': ['4'],\n",
      "    'data_type': 'audio',\n",
      "    'max_batch_size': ['1', '1', '1'],\n",
      "    'max_batch_time': ['1'],\n",
      "    'memory_request': ['8Gi'],\n",
      "    'model_variants': ['0'],\n",
      "    'no_engine': False,\n",
      "    'node_name': 'mock-one',\n",
      "    'pipeline_name': '6-mlserver-mock',\n",
      "    'repetition': 1,\n",
      "    'replicas': [1],\n",
      "    'series': 30,\n",
      "    'series_meta': 'none-containerized',\n",
      "    'timeout': 150,\n",
      "    'workload_config': {'load_duration': 60, 'loads_to_test': [40]},\n",
      "    'workload_type': 'static'}\n"
     ]
    }
   ],
   "source": [
    "configs = loader1.load_configs()\n",
    "for config_name, config in configs.items():\n",
    "    print(f\"File name: {config_name}\")\n",
    "    pp.pprint(config) "
   ]
  },
  {
   "cell_type": "code",
   "execution_count": 14,
   "id": "d7e539ce",
   "metadata": {},
   "outputs": [
    {
     "name": "stdout",
     "output_type": "stream",
     "text": [
      "excepted-1!\n",
      "excepted-1!\n",
      "excepted-1!\n",
      "excepted-1!\n"
     ]
    },
    {
     "data": {
      "text/html": [
       "<div>\n",
       "<style scoped>\n",
       "    .dataframe tbody tr th:only-of-type {\n",
       "        vertical-align: middle;\n",
       "    }\n",
       "\n",
       "    .dataframe tbody tr th {\n",
       "        vertical-align: top;\n",
       "    }\n",
       "\n",
       "    .dataframe thead th {\n",
       "        text-align: right;\n",
       "    }\n",
       "</style>\n",
       "<table border=\"1\" class=\"dataframe\">\n",
       "  <thead>\n",
       "    <tr style=\"text-align: right;\">\n",
       "      <th></th>\n",
       "      <th>model_variant</th>\n",
       "      <th>max_batch_size</th>\n",
       "      <th>cpu_request</th>\n",
       "      <th>load</th>\n",
       "      <th>client_to_model_latencies_avg</th>\n",
       "      <th>model_latencies_avg</th>\n",
       "      <th>model_to_client_latencies_avg</th>\n",
       "    </tr>\n",
       "  </thead>\n",
       "  <tbody>\n",
       "    <tr>\n",
       "      <th>0</th>\n",
       "      <td>0</td>\n",
       "      <td>1</td>\n",
       "      <td>4</td>\n",
       "      <td>40</td>\n",
       "      <td>39.883735</td>\n",
       "      <td>0.008705</td>\n",
       "      <td>5.204432</td>\n",
       "    </tr>\n",
       "    <tr>\n",
       "      <th>1</th>\n",
       "      <td>0</td>\n",
       "      <td>1</td>\n",
       "      <td>4</td>\n",
       "      <td>40</td>\n",
       "      <td>39.949860</td>\n",
       "      <td>0.008839</td>\n",
       "      <td>5.229763</td>\n",
       "    </tr>\n",
       "    <tr>\n",
       "      <th>2</th>\n",
       "      <td>0</td>\n",
       "      <td>1</td>\n",
       "      <td>4</td>\n",
       "      <td>40</td>\n",
       "      <td>39.691746</td>\n",
       "      <td>0.008695</td>\n",
       "      <td>5.185646</td>\n",
       "    </tr>\n",
       "  </tbody>\n",
       "</table>\n",
       "</div>"
      ],
      "text/plain": [
       "   model_variant  max_batch_size  cpu_request  load  \\\n",
       "0              0               1            4    40   \n",
       "1              0               1            4    40   \n",
       "2              0               1            4    40   \n",
       "\n",
       "   client_to_model_latencies_avg  model_latencies_avg  \\\n",
       "0                      39.883735             0.008705   \n",
       "1                      39.949860             0.008839   \n",
       "2                      39.691746             0.008695   \n",
       "\n",
       "   model_to_client_latencies_avg  \n",
       "0                       5.204432  \n",
       "1                       5.229763  \n",
       "2                       5.185646  "
      ]
     },
     "metadata": {},
     "output_type": "display_data"
    },
    {
     "data": {
      "text/plain": [
       "Text(0, 0.5, 'Latency (seconds)')"
      ]
     },
     "execution_count": 14,
     "metadata": {},
     "output_type": "execute_result"
    },
    {
     "data": {
      "image/png": "[encoded data removed]",
      "text/plain": [
       "<Figure size 640x480 with 1 Axes>"
      ]
     },
     "metadata": {},
     "output_type": "display_data"
    }
   ],
   "source": [
    "model_variant = 0\n",
    "experiment_ids = key_config_df[\n",
    "    key_config_df['model_variant'] == model_variant]['experiment_id'].tolist()\n",
    "metadata_columns = ['model_variant', 'max_batch_size', 'cpu_request', 'load']\n",
    "results_columns = ['client_to_model_latencies_avg', 'model_latencies_avg', 'model_to_client_latencies_avg']\n",
    "output = loader1.table_maker(\n",
    "    experiment_ids=experiment_ids,\n",
    "    metadata_columns=metadata_columns,\n",
    "    results_columns=results_columns)\n",
    "display(output)\n",
    "ax = output.plot.bar(x='load', y=['client_to_model_latencies_avg', 'model_latencies_avg', 'model_to_client_latencies_avg'])\n",
    "ax.set_xlabel(\"Load\")\n",
    "ax.set_ylabel(\"Latency (seconds)\")"
   ]
  },
  {
   "cell_type": "code",
   "execution_count": 6,
   "id": "fcd7192b",
   "metadata": {},
   "outputs": [
    {
     "name": "stdout",
     "output_type": "stream",
     "text": [
      "excepted-1!\n",
      "excepted-1!\n",
      "excepted-1!\n",
      "excepted-1!\n"
     ]
    },
    {
     "ename": "KeyError",
     "evalue": "\"['client_to_model_latencies_avg'] not in index\"",
     "output_type": "error",
     "traceback": [
      "\u001b[0;31m---------------------------------------------------------------------------\u001b[0m",
      "\u001b[0;31mKeyError\u001b[0m                                  Traceback (most recent call last)",
      "Cell \u001b[0;32mIn [6], line 6\u001b[0m\n\u001b[1;32m      4\u001b[0m metadata_columns \u001b[39m=\u001b[39m [\u001b[39m'\u001b[39m\u001b[39mmodel_variant\u001b[39m\u001b[39m'\u001b[39m, \u001b[39m'\u001b[39m\u001b[39mmax_batch_size\u001b[39m\u001b[39m'\u001b[39m, \u001b[39m'\u001b[39m\u001b[39mcpu_request\u001b[39m\u001b[39m'\u001b[39m, \u001b[39m'\u001b[39m\u001b[39mload\u001b[39m\u001b[39m'\u001b[39m]\n\u001b[1;32m      5\u001b[0m results_columns \u001b[39m=\u001b[39m [\u001b[39m'\u001b[39m\u001b[39mmodel_latencies_p99\u001b[39m\u001b[39m'\u001b[39m, \u001b[39m'\u001b[39m\u001b[39mclient_to_model_latencies_avg\u001b[39m\u001b[39m'\u001b[39m, \u001b[39m'\u001b[39m\u001b[39mmodel_latencies_avg\u001b[39m\u001b[39m'\u001b[39m, \u001b[39m'\u001b[39m\u001b[39mmodel_to_client_latencies_avg\u001b[39m\u001b[39m'\u001b[39m]\n\u001b[0;32m----> 6\u001b[0m output \u001b[39m=\u001b[39m loader2\u001b[39m.\u001b[39;49mtable_maker(\n\u001b[1;32m      7\u001b[0m     experiment_ids\u001b[39m=\u001b[39;49mexperiment_ids,\n\u001b[1;32m      8\u001b[0m     metadata_columns\u001b[39m=\u001b[39;49mmetadata_columns,\n\u001b[1;32m      9\u001b[0m     results_columns\u001b[39m=\u001b[39;49mresults_columns)\n\u001b[1;32m     10\u001b[0m display(output)\n\u001b[1;32m     11\u001b[0m ax \u001b[39m=\u001b[39m output\u001b[39m.\u001b[39mplot\u001b[39m.\u001b[39mbar(x\u001b[39m=\u001b[39m\u001b[39m'\u001b[39m\u001b[39mload\u001b[39m\u001b[39m'\u001b[39m, y\u001b[39m=\u001b[39m[\u001b[39m'\u001b[39m\u001b[39mclient_to_model_latencies_avg\u001b[39m\u001b[39m'\u001b[39m, \u001b[39m'\u001b[39m\u001b[39mmodel_latencies_avg\u001b[39m\u001b[39m'\u001b[39m, \u001b[39m'\u001b[39m\u001b[39mmodel_to_client_latencies_avg\u001b[39m\u001b[39m'\u001b[39m])\n",
      "File \u001b[0;32m~/infernece-pipeline-joint-optimization/experiments/utils/loader.py:451\u001b[0m, in \u001b[0;36mLoader.table_maker\u001b[0;34m(self, experiment_ids, metadata_columns, results_columns)\u001b[0m\n\u001b[1;32m    449\u001b[0m merged_results \u001b[39m=\u001b[39m selected_metadata\u001b[39m.\u001b[39mmerge(selected_results)\n\u001b[1;32m    450\u001b[0m columns \u001b[39m=\u001b[39m metadata_columns \u001b[39m+\u001b[39m results_columns\n\u001b[0;32m--> 451\u001b[0m output \u001b[39m=\u001b[39m merged_results[columns]\n\u001b[1;32m    452\u001b[0m \u001b[39mreturn\u001b[39;00m output\n",
      "File \u001b[0;32m~/miniconda3/envs/central/lib/python3.8/site-packages/pandas/core/frame.py:3811\u001b[0m, in \u001b[0;36mDataFrame.__getitem__\u001b[0;34m(self, key)\u001b[0m\n\u001b[1;32m   3809\u001b[0m     \u001b[39mif\u001b[39;00m is_iterator(key):\n\u001b[1;32m   3810\u001b[0m         key \u001b[39m=\u001b[39m \u001b[39mlist\u001b[39m(key)\n\u001b[0;32m-> 3811\u001b[0m     indexer \u001b[39m=\u001b[39m \u001b[39mself\u001b[39;49m\u001b[39m.\u001b[39;49mcolumns\u001b[39m.\u001b[39;49m_get_indexer_strict(key, \u001b[39m\"\u001b[39;49m\u001b[39mcolumns\u001b[39;49m\u001b[39m\"\u001b[39;49m)[\u001b[39m1\u001b[39m]\n\u001b[1;32m   3813\u001b[0m \u001b[39m# take() does not accept boolean indexers\u001b[39;00m\n\u001b[1;32m   3814\u001b[0m \u001b[39mif\u001b[39;00m \u001b[39mgetattr\u001b[39m(indexer, \u001b[39m\"\u001b[39m\u001b[39mdtype\u001b[39m\u001b[39m\"\u001b[39m, \u001b[39mNone\u001b[39;00m) \u001b[39m==\u001b[39m \u001b[39mbool\u001b[39m:\n",
      "File \u001b[0;32m~/miniconda3/envs/central/lib/python3.8/site-packages/pandas/core/indexes/base.py:6108\u001b[0m, in \u001b[0;36mIndex._get_indexer_strict\u001b[0;34m(self, key, axis_name)\u001b[0m\n\u001b[1;32m   6105\u001b[0m \u001b[39melse\u001b[39;00m:\n\u001b[1;32m   6106\u001b[0m     keyarr, indexer, new_indexer \u001b[39m=\u001b[39m \u001b[39mself\u001b[39m\u001b[39m.\u001b[39m_reindex_non_unique(keyarr)\n\u001b[0;32m-> 6108\u001b[0m \u001b[39mself\u001b[39;49m\u001b[39m.\u001b[39;49m_raise_if_missing(keyarr, indexer, axis_name)\n\u001b[1;32m   6110\u001b[0m keyarr \u001b[39m=\u001b[39m \u001b[39mself\u001b[39m\u001b[39m.\u001b[39mtake(indexer)\n\u001b[1;32m   6111\u001b[0m \u001b[39mif\u001b[39;00m \u001b[39misinstance\u001b[39m(key, Index):\n\u001b[1;32m   6112\u001b[0m     \u001b[39m# GH 42790 - Preserve name from an Index\u001b[39;00m\n",
      "File \u001b[0;32m~/miniconda3/envs/central/lib/python3.8/site-packages/pandas/core/indexes/base.py:6171\u001b[0m, in \u001b[0;36mIndex._raise_if_missing\u001b[0;34m(self, key, indexer, axis_name)\u001b[0m\n\u001b[1;32m   6168\u001b[0m     \u001b[39mraise\u001b[39;00m \u001b[39mKeyError\u001b[39;00m(\u001b[39mf\u001b[39m\u001b[39m\"\u001b[39m\u001b[39mNone of [\u001b[39m\u001b[39m{\u001b[39;00mkey\u001b[39m}\u001b[39;00m\u001b[39m] are in the [\u001b[39m\u001b[39m{\u001b[39;00maxis_name\u001b[39m}\u001b[39;00m\u001b[39m]\u001b[39m\u001b[39m\"\u001b[39m)\n\u001b[1;32m   6170\u001b[0m not_found \u001b[39m=\u001b[39m \u001b[39mlist\u001b[39m(ensure_index(key)[missing_mask\u001b[39m.\u001b[39mnonzero()[\u001b[39m0\u001b[39m]]\u001b[39m.\u001b[39munique())\n\u001b[0;32m-> 6171\u001b[0m \u001b[39mraise\u001b[39;00m \u001b[39mKeyError\u001b[39;00m(\u001b[39mf\u001b[39m\u001b[39m\"\u001b[39m\u001b[39m{\u001b[39;00mnot_found\u001b[39m}\u001b[39;00m\u001b[39m not in index\u001b[39m\u001b[39m\"\u001b[39m)\n",
      "\u001b[0;31mKeyError\u001b[0m: \"['client_to_model_latencies_avg'] not in index\""
     ]
    }
   ],
   "source": [
    "model_variant = 0\n",
    "experiment_ids = key_config_df[\n",
    "    key_config_df['model_variant'] == model_variant]['experiment_id'].tolist()\n",
    "metadata_columns = ['model_variant', 'max_batch_size', 'cpu_request', 'load']\n",
    "results_columns = ['client_to_svc_latencies_avg', 'client_to_model_latencies_avg', 'model_latencies_avg', 'model_to_client_latencies_avg']\n",
    "output = loader2.table_maker(\n",
    "    experiment_ids=experiment_ids,\n",
    "    metadata_columns=metadata_columns,\n",
    "    results_columns=results_columns)\n",
    "display(output)\n",
    "ax = output.plot.bar(x='load', y=['client_to_model_latencies_avg', 'model_latencies_avg', 'model_to_client_latencies_avg'])\n",
    "ax.set_xlabel(\"Load\")\n",
    "ax.set_ylabel(\"Latency (seconds)\")"
   ]
  },
  {
   "cell_type": "code",
   "execution_count": null,
   "id": "ef554365",
   "metadata": {},
   "outputs": [],
   "source": []
  },
  {
   "cell_type": "code",
   "execution_count": null,
   "id": "33dc8ad9",
   "metadata": {},
   "outputs": [],
   "source": []
  },
  {
   "cell_type": "code",
   "execution_count": null,
   "id": "b3c2e70c",
   "metadata": {},
   "outputs": [],
   "source": []
  },
  {
   "cell_type": "code",
   "execution_count": null,
   "id": "1727282f",
   "metadata": {},
   "outputs": [],
   "source": []
  }
 ],
 "metadata": {
  "kernelspec": {
   "display_name": "Python 3.8.13 ('central')",
   "language": "python",
   "name": "python3"
  },
  "language_info": {
   "codemirror_mode": {
    "name": "ipython",
    "version": 3
   },
   "file_extension": ".py",
   "mimetype": "text/x-python",
   "name": "python",
   "nbconvert_exporter": "python",
   "pygments_lexer": "ipython3",
   "version": "3.8.13"
  },
  "vscode": {
   "interpreter": {
    "hash": "2465c4f56298bc06dbdad3e7519856d346ec0e9edf6ba2c905f0af711583810e"
   }
  }
 },
 "nbformat": 4,
 "nbformat_minor": 5
}
