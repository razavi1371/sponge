{
 "cells": [
  {
   "cell_type": "markdown",
   "id": "b93d6f0e",
   "metadata": {},
   "source": [
    "## Effect of batch size notebook"
   ]
  },
  {
   "cell_type": "code",
   "execution_count": 1,
   "id": "bde05b26",
   "metadata": {},
   "outputs": [],
   "source": [
    "import pandas as pd\n",
    "import numpy as np\n",
    "import os\n",
    "import matplotlib.pyplot as plt\n",
    "import json\n",
    "from copy import deepcopy\n",
    "import random\n",
    "import sys\n",
    "import time\n",
    "from typing import List\n",
    "from pprint import PrettyPrinter\n",
    "pp = PrettyPrinter(indent=4)\n",
    "\n",
    "# get an absolute path to the directory that contains parent files\n",
    "project_dir = globals()['_dh'][0]\n",
    "sys.path.append(os.path.normpath(os.path.join(\n",
    "    project_dir, '..', '..', '..', '..')))\n",
    "\n",
    "from experiments.utils.constants import (\n",
    "    PIPLINES_PATH,\n",
    "    NODE_PROFILING_CONFIGS_PATH,\n",
    "    NODE_PROFILING_RESULTS_PATH\n",
    ")\n",
    "from experiments.utils.loader import Loader"
   ]
  },
  {
   "cell_type": "code",
   "execution_count": 4,
   "id": "f5632e5b",
   "metadata": {},
   "outputs": [],
   "source": [
    "series = 41\n",
    "experiment_id = 1\n",
    "config_key_mapper = \"key_config_mapper.csv\"\n",
    "model_name = 'resnet-human'\n",
    "series_path = os.path.join(\n",
    "    NODE_PROFILING_RESULTS_PATH,\n",
    "    'series',\n",
    "    str(series))\n",
    "loader = Loader(\n",
    "    series_path=series_path, config_key_mapper=config_key_mapper,\n",
    "    model_name=model_name)\n",
    "results = loader.result_processing()\n",
    "key_config_df = loader.key_config_mapper()\n",
    "# print(results.columns)\n",
    "# print(key_config_df.columns)\n",
    "# results"
   ]
  },
  {
   "cell_type": "code",
   "execution_count": 5,
   "id": "eea4e577",
   "metadata": {},
   "outputs": [
    {
     "data": {
      "text/html": [
       "<div>\n",
       "<style scoped>\n",
       "    .dataframe tbody tr th:only-of-type {\n",
       "        vertical-align: middle;\n",
       "    }\n",
       "\n",
       "    .dataframe tbody tr th {\n",
       "        vertical-align: top;\n",
       "    }\n",
       "\n",
       "    .dataframe thead th {\n",
       "        text-align: right;\n",
       "    }\n",
       "</style>\n",
       "<table border=\"1\" class=\"dataframe\">\n",
       "  <thead>\n",
       "    <tr style=\"text-align: right;\">\n",
       "      <th></th>\n",
       "      <th>experiment_id</th>\n",
       "      <th>client_to_model_latencies_avg</th>\n",
       "      <th>client_to_model_latencies_p99</th>\n",
       "      <th>client_to_model_latencies_p50</th>\n",
       "      <th>client_to_model_latencies_var</th>\n",
       "      <th>client_to_model_latencies_max</th>\n",
       "      <th>client_to_model_latencies_min</th>\n",
       "      <th>model_latencies_avg</th>\n",
       "      <th>model_latencies_p99</th>\n",
       "      <th>model_latencies_p50</th>\n",
       "      <th>...</th>\n",
       "      <th>memory_usage_p50</th>\n",
       "      <th>memory_usage_var</th>\n",
       "      <th>memory_usage_max</th>\n",
       "      <th>memory_usage_min</th>\n",
       "      <th>throughput_avg</th>\n",
       "      <th>throughput_p99</th>\n",
       "      <th>throughput_p50</th>\n",
       "      <th>throughput_var</th>\n",
       "      <th>throughput_max</th>\n",
       "      <th>throughput_min</th>\n",
       "    </tr>\n",
       "  </thead>\n",
       "  <tbody>\n",
       "    <tr>\n",
       "      <th>0</th>\n",
       "      <td>1</td>\n",
       "      <td>0.006722</td>\n",
       "      <td>0.011658</td>\n",
       "      <td>0.006438</td>\n",
       "      <td>0.000002</td>\n",
       "      <td>0.01502</td>\n",
       "      <td>0.005297</td>\n",
       "      <td>0.125237</td>\n",
       "      <td>0.514089</td>\n",
       "      <td>0.077371</td>\n",
       "      <td>...</td>\n",
       "      <td>311787520.0</td>\n",
       "      <td>3.534183e+14</td>\n",
       "      <td>352296960.0</td>\n",
       "      <td>311463936.0</td>\n",
       "      <td>0.259892</td>\n",
       "      <td>0.496725</td>\n",
       "      <td>0.259892</td>\n",
       "      <td>0.020139</td>\n",
       "      <td>0.501558</td>\n",
       "      <td>0.018225</td>\n",
       "    </tr>\n",
       "  </tbody>\n",
       "</table>\n",
       "<p>1 rows × 59 columns</p>\n",
       "</div>"
      ],
      "text/plain": [
       "   experiment_id  client_to_model_latencies_avg  \\\n",
       "0              1                       0.006722   \n",
       "\n",
       "   client_to_model_latencies_p99  client_to_model_latencies_p50  \\\n",
       "0                       0.011658                       0.006438   \n",
       "\n",
       "   client_to_model_latencies_var  client_to_model_latencies_max  \\\n",
       "0                       0.000002                        0.01502   \n",
       "\n",
       "   client_to_model_latencies_min  model_latencies_avg  model_latencies_p99  \\\n",
       "0                       0.005297             0.125237             0.514089   \n",
       "\n",
       "   model_latencies_p50  ...  memory_usage_p50  memory_usage_var  \\\n",
       "0             0.077371  ...       311787520.0      3.534183e+14   \n",
       "\n",
       "   memory_usage_max  memory_usage_min  throughput_avg  throughput_p99  \\\n",
       "0       352296960.0       311463936.0        0.259892        0.496725   \n",
       "\n",
       "   throughput_p50  throughput_var  throughput_max throughput_min  \n",
       "0        0.259892        0.020139        0.501558       0.018225  \n",
       "\n",
       "[1 rows x 59 columns]"
      ]
     },
     "execution_count": 5,
     "metadata": {},
     "output_type": "execute_result"
    }
   ],
   "source": [
    "results"
   ]
  },
  {
   "cell_type": "code",
   "execution_count": 6,
   "id": "408e420a",
   "metadata": {},
   "outputs": [
    {
     "name": "stdout",
     "output_type": "stream",
     "text": [
      "File name: 0.yaml\n",
      "{   'cpu_request': ['4'],\n",
      "    'data_type': 'image',\n",
      "    'max_batch_size': ['1'],\n",
      "    'max_batch_time': ['1'],\n",
      "    'memory_request': ['20Gi'],\n",
      "    'mode': 'step',\n",
      "    'model_variants': ['resnet18'],\n",
      "    'node_name': 'resnet-human',\n",
      "    'pipeline_name': '5-paper-video',\n",
      "    'repetition': 1,\n",
      "    'replicas': [1],\n",
      "    'series': 41,\n",
      "    'series_meta': 'testing mlserver performance with grpc against other '\n",
      "                   'servers 1,\\\\n cpu type: Intel(R) Xeon(R) Gold 6126 CPU @ '\n",
      "                   '2.60GHz',\n",
      "    'timeout': 100,\n",
      "    'workload_config': {'load_duration': 60, 'loads_to_test': [1]},\n",
      "    'workload_type': 'static'}\n"
     ]
    }
   ],
   "source": [
    "configs = loader.load_configs()\n",
    "for config_name, config in configs.items():\n",
    "    print(f\"File name: {config_name}\")\n",
    "    pp.pprint(config) "
   ]
  },
  {
   "cell_type": "code",
   "execution_count": 7,
   "id": "4a385417",
   "metadata": {},
   "outputs": [
    {
     "data": {
      "text/html": [
       "<div>\n",
       "<style scoped>\n",
       "    .dataframe tbody tr th:only-of-type {\n",
       "        vertical-align: middle;\n",
       "    }\n",
       "\n",
       "    .dataframe tbody tr th {\n",
       "        vertical-align: top;\n",
       "    }\n",
       "\n",
       "    .dataframe thead th {\n",
       "        text-align: right;\n",
       "    }\n",
       "</style>\n",
       "<table border=\"1\" class=\"dataframe\">\n",
       "  <thead>\n",
       "    <tr style=\"text-align: right;\">\n",
       "      <th></th>\n",
       "      <th>model_variant</th>\n",
       "      <th>max_batch_size</th>\n",
       "      <th>cpu_request</th>\n",
       "      <th>load</th>\n",
       "      <th>model_latencies_p99</th>\n",
       "      <th>cpu_usage_count_avg</th>\n",
       "      <th>model_latencies_avg</th>\n",
       "    </tr>\n",
       "  </thead>\n",
       "  <tbody>\n",
       "    <tr>\n",
       "      <th>0</th>\n",
       "      <td>resnet18</td>\n",
       "      <td>1</td>\n",
       "      <td>4</td>\n",
       "      <td>1</td>\n",
       "      <td>0.514089</td>\n",
       "      <td>16.990362</td>\n",
       "      <td>0.125237</td>\n",
       "    </tr>\n",
       "  </tbody>\n",
       "</table>\n",
       "</div>"
      ],
      "text/plain": [
       "  model_variant  max_batch_size  cpu_request  load  model_latencies_p99  \\\n",
       "0      resnet18               1            4     1             0.514089   \n",
       "\n",
       "   cpu_usage_count_avg  model_latencies_avg  \n",
       "0            16.990362             0.125237  "
      ]
     },
     "metadata": {},
     "output_type": "display_data"
    },
    {
     "data": {
      "text/plain": [
       "Text(0, 0.5, 'Latency (seconds)')"
      ]
     },
     "execution_count": 7,
     "metadata": {},
     "output_type": "execute_result"
    },
    {
     "data": {
      "image/png": "[encoded data removed]",
      "text/plain": [
       "<Figure size 640x480 with 1 Axes>"
      ]
     },
     "metadata": {},
     "output_type": "display_data"
    }
   ],
   "source": [
    "experiment_ids = key_config_df[\n",
    "    (key_config_df['model_variant'] == 'resnet18') &\n",
    "    (key_config_df['load'] == 1)]['experiment_id'].tolist()\n",
    "metadata_columns = ['model_variant', 'max_batch_size', 'cpu_request', 'load']\n",
    "results_columns = ['model_latencies_p99', 'cpu_usage_count_avg', 'model_latencies_avg']\n",
    "output = loader.table_maker(\n",
    "    experiment_ids=experiment_ids,\n",
    "    metadata_columns=metadata_columns,\n",
    "    results_columns=results_columns)\n",
    "display(output)\n",
    "ax = output.plot.bar(x='cpu_request', y=['model_latencies_p99', 'model_latencies_avg'])\n",
    "ax.set_xlabel(\"CPU Allocation (Cores)\")\n",
    "ax.set_ylabel(\"Latency (seconds)\")"
   ]
  },
  {
   "cell_type": "code",
   "execution_count": 8,
   "id": "56707b42",
   "metadata": {},
   "outputs": [
    {
     "data": {
      "text/html": [
       "<div>\n",
       "<style scoped>\n",
       "    .dataframe tbody tr th:only-of-type {\n",
       "        vertical-align: middle;\n",
       "    }\n",
       "\n",
       "    .dataframe tbody tr th {\n",
       "        vertical-align: top;\n",
       "    }\n",
       "\n",
       "    .dataframe thead th {\n",
       "        text-align: right;\n",
       "    }\n",
       "</style>\n",
       "<table border=\"1\" class=\"dataframe\">\n",
       "  <thead>\n",
       "    <tr style=\"text-align: right;\">\n",
       "      <th></th>\n",
       "      <th>model_variant</th>\n",
       "      <th>max_batch_size</th>\n",
       "      <th>cpu_request</th>\n",
       "      <th>model_latencies_p99</th>\n",
       "      <th>cpu_usage_count_avg</th>\n",
       "      <th>model_latencies_avg</th>\n",
       "    </tr>\n",
       "  </thead>\n",
       "  <tbody>\n",
       "    <tr>\n",
       "      <th>0</th>\n",
       "      <td>resnet18</td>\n",
       "      <td>1</td>\n",
       "      <td>4</td>\n",
       "      <td>0.514089</td>\n",
       "      <td>16.990362</td>\n",
       "      <td>0.125237</td>\n",
       "    </tr>\n",
       "  </tbody>\n",
       "</table>\n",
       "</div>"
      ],
      "text/plain": [
       "  model_variant  max_batch_size  cpu_request  model_latencies_p99  \\\n",
       "0      resnet18               1            4             0.514089   \n",
       "\n",
       "   cpu_usage_count_avg  model_latencies_avg  \n",
       "0            16.990362             0.125237  "
      ]
     },
     "metadata": {},
     "output_type": "display_data"
    },
    {
     "data": {
      "text/plain": [
       "Text(0, 0.5, 'Latency (seconds)')"
      ]
     },
     "execution_count": 8,
     "metadata": {},
     "output_type": "execute_result"
    },
    {
     "data": {
      "image/png": "[encoded data removed]",
      "text/plain": [
       "<Figure size 640x480 with 1 Axes>"
      ]
     },
     "metadata": {},
     "output_type": "display_data"
    }
   ],
   "source": [
    "experiment_ids = key_config_df[\n",
    "    key_config_df['model_variant'] == 'resnet18']['experiment_id'].tolist()\n",
    "metadata_columns = ['model_variant', 'max_batch_size', 'cpu_request']\n",
    "results_columns = ['model_latencies_p99', 'cpu_usage_count_avg', 'model_latencies_avg']\n",
    "output = loader.table_maker(\n",
    "    experiment_ids=experiment_ids,\n",
    "    metadata_columns=metadata_columns,\n",
    "    results_columns=results_columns)\n",
    "display(output)\n",
    "ax = output.plot.bar(x='cpu_request', y=['model_latencies_p99', 'model_latencies_avg'])\n",
    "ax.set_xlabel(\"CPU Allocation (Cores)\")\n",
    "ax.set_ylabel(\"Latency (seconds)\")"
   ]
  },
  {
   "cell_type": "code",
   "execution_count": null,
   "id": "8fe3d3d3",
   "metadata": {},
   "outputs": [],
   "source": []
  }
 ],
 "metadata": {
  "kernelspec": {
   "display_name": "Python 3.8.13 ('central')",
   "language": "python",
   "name": "python3"
  },
  "language_info": {
   "codemirror_mode": {
    "name": "ipython",
    "version": 3
   },
   "file_extension": ".py",
   "mimetype": "text/x-python",
   "name": "python",
   "nbconvert_exporter": "python",
   "pygments_lexer": "ipython3",
   "version": "3.9.15"
  },
  "vscode": {
   "interpreter": {
    "hash": "2465c4f56298bc06dbdad3e7519856d346ec0e9edf6ba2c905f0af711583810e"
   }
  }
 },
 "nbformat": 4,
 "nbformat_minor": 5
}
