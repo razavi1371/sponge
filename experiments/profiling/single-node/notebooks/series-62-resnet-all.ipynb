{
 "cells": [
  {
   "attachments": {},
   "cell_type": "markdown",
   "id": "b93d6f0e",
   "metadata": {},
   "source": [
    "## PyTorch Resnets"
   ]
  },
  {
   "cell_type": "code",
   "execution_count": 18,
   "id": "bde05b26",
   "metadata": {},
   "outputs": [],
   "source": [
    "import pandas as pd\n",
    "import numpy as np\n",
    "import os\n",
    "import matplotlib.pyplot as plt\n",
    "import json\n",
    "from copy import deepcopy\n",
    "import random\n",
    "import sys\n",
    "import time\n",
    "from typing import List\n",
    "from pprint import PrettyPrinter\n",
    "pp = PrettyPrinter(indent=4)\n",
    "\n",
    "# get an absolute path to the directory that contains parent files\n",
    "project_dir = globals()['_dh'][0]\n",
    "sys.path.append(os.path.normpath(os.path.join(\n",
    "    project_dir, '..', '..', '..', '..')))\n",
    "\n",
    "from experiments.utils.constants import (\n",
    "    PIPLINES_PATH,\n",
    "    NODE_PROFILING_CONFIGS_PATH,\n",
    "    NODE_PROFILING_RESULTS_STATIC_PATH\n",
    ")\n",
    "from experiments.utils.loader import Loader"
   ]
  },
  {
   "cell_type": "code",
   "execution_count": 19,
   "id": "f5632e5b",
   "metadata": {},
   "outputs": [],
   "source": [
    "series = 62\n",
    "experiment_id = 1\n",
    "config_key_mapper = \"key_config_mapper.csv\"\n",
    "model_name = 'resnet-human'\n",
    "series_path = os.path.join(\n",
    "    NODE_PROFILING_RESULTS_STATIC_PATH,\n",
    "    'series',\n",
    "    str(series))\n",
    "loader = Loader(\n",
    "    series_path=series_path, config_key_mapper=config_key_mapper,\n",
    "    model_name=model_name)\n",
    "results = loader.result_processing()\n",
    "key_config_df = loader.key_config_mapper()\n",
    "# print(results.columns)\n",
    "# print(key_config_df.columns)\n",
    "# results"
   ]
  },
  {
   "cell_type": "code",
   "execution_count": 20,
   "id": "eea4e577",
   "metadata": {},
   "outputs": [
    {
     "data": {
      "text/plain": [
       "Index(['experiment_id', 'client_to_model_latencies_avg',\n",
       "       'client_to_model_latencies_p99', 'client_to_model_latencies_p50',\n",
       "       'client_to_model_latencies_var', 'client_to_model_latencies_max',\n",
       "       'client_to_model_latencies_min', 'model_latencies_avg',\n",
       "       'model_latencies_p99', 'model_latencies_p50', 'model_latencies_var',\n",
       "       'model_latencies_max', 'model_latencies_min',\n",
       "       'model_to_client_latencies_avg', 'model_to_client_latencies_p99',\n",
       "       'model_to_client_latencies_p50', 'model_to_client_latencies_var',\n",
       "       'model_to_client_latencies_max', 'model_to_client_latencies_min',\n",
       "       'start_time', 'end_time', 'duration', 'timeout_count',\n",
       "       'cpu_usage_count_avg', 'cpu_usage_count_p99', 'cpu_usage_count_p50',\n",
       "       'cpu_usage_count_var', 'cpu_usage_count_max', 'cpu_usage_count_min',\n",
       "       'cpu_usage_rate_avg', 'cpu_usage_rate_p99', 'cpu_usage_rate_p50',\n",
       "       'cpu_usage_rate_var', 'cpu_usage_rate_max', 'cpu_usage_rate_min',\n",
       "       'cpu_throttled_count_avg', 'cpu_throttled_count_p99',\n",
       "       'cpu_throttled_count_p50', 'cpu_throttled_count_var',\n",
       "       'cpu_throttled_count_max', 'cpu_throttled_count_min',\n",
       "       'cpu_throttled_rate_avg', 'cpu_throttled_rate_p99',\n",
       "       'cpu_throttled_rate_p50', 'cpu_throttled_rate_var',\n",
       "       'cpu_throttled_rate_max', 'cpu_throttled_rate_min', 'memory_usage_avg',\n",
       "       'memory_usage_p99', 'memory_usage_p50', 'memory_usage_var',\n",
       "       'memory_usage_max', 'memory_usage_min', 'throughput_avg',\n",
       "       'throughput_p99', 'throughput_p50', 'throughput_var', 'throughput_max',\n",
       "       'throughput_min'],\n",
       "      dtype='object')"
      ]
     },
     "execution_count": 20,
     "metadata": {},
     "output_type": "execute_result"
    }
   ],
   "source": [
    "results.columns"
   ]
  },
  {
   "cell_type": "code",
   "execution_count": 21,
   "id": "408e420a",
   "metadata": {},
   "outputs": [
    {
     "name": "stdout",
     "output_type": "stream",
     "text": [
      "File name: 0.yaml\n",
      "{   'benchmark_duration': 1,\n",
      "    'cpu_request': ['4'],\n",
      "    'data_type': 'image',\n",
      "    'max_batch_size': ['1', '2', '4', '8', '16', '32'],\n",
      "    'max_batch_time': ['1'],\n",
      "    'memory_request': ['10Gi'],\n",
      "    'mode': 'exponential',\n",
      "    'model_variants': ['resnet18'],\n",
      "    'node_name': 'resnet-human',\n",
      "    'num_interop_threads': ['1'],\n",
      "    'num_threads': ['1'],\n",
      "    'pipeline_name': '5-paper-video',\n",
      "    'repetition': 1,\n",
      "    'replicas': [1],\n",
      "    'series': 62,\n",
      "    'series_meta': 'check the effect of batching 1,\\\\n cpu type: Intel(R) '\n",
      "                   'Xeon(R) Gold 6126 CPU @ 2.60GHz',\n",
      "    'timeout': 60,\n",
      "    'use_threading': 'False',\n",
      "    'workload_config': {'load_duration': 60, 'loads_to_test': [1]},\n",
      "    'workload_type': 'static'}\n"
     ]
    }
   ],
   "source": [
    "configs = loader.load_configs()\n",
    "for config_name, config in configs.items():\n",
    "    print(f\"File name: {config_name}\")\n",
    "    pp.pprint(config) "
   ]
  },
  {
   "cell_type": "code",
   "execution_count": 42,
   "id": "4a385417",
   "metadata": {},
   "outputs": [
    {
     "data": {
      "text/html": [
       "<div>\n",
       "<style scoped>\n",
       "    .dataframe tbody tr th:only-of-type {\n",
       "        vertical-align: middle;\n",
       "    }\n",
       "\n",
       "    .dataframe tbody tr th {\n",
       "        vertical-align: top;\n",
       "    }\n",
       "\n",
       "    .dataframe thead th {\n",
       "        text-align: right;\n",
       "    }\n",
       "</style>\n",
       "<table border=\"1\" class=\"dataframe\">\n",
       "  <thead>\n",
       "    <tr style=\"text-align: right;\">\n",
       "      <th></th>\n",
       "      <th>model_variant</th>\n",
       "      <th>max_batch_size</th>\n",
       "      <th>cpu_request</th>\n",
       "      <th>load</th>\n",
       "      <th>model_latencies_min</th>\n",
       "      <th>model_latencies_p99</th>\n",
       "      <th>cpu_usage_count_avg</th>\n",
       "      <th>model_latencies_avg</th>\n",
       "      <th>throughput</th>\n",
       "    </tr>\n",
       "  </thead>\n",
       "  <tbody>\n",
       "    <tr>\n",
       "      <th>0</th>\n",
       "      <td>resnet18</td>\n",
       "      <td>1</td>\n",
       "      <td>4</td>\n",
       "      <td>1</td>\n",
       "      <td>0.027064</td>\n",
       "      <td>0.493736</td>\n",
       "      <td>15.682690</td>\n",
       "      <td>0.179195</td>\n",
       "      <td>5.580509</td>\n",
       "    </tr>\n",
       "    <tr>\n",
       "      <th>1</th>\n",
       "      <td>resnet18</td>\n",
       "      <td>2</td>\n",
       "      <td>4</td>\n",
       "      <td>1</td>\n",
       "      <td>0.032241</td>\n",
       "      <td>0.711571</td>\n",
       "      <td>14.308093</td>\n",
       "      <td>0.286860</td>\n",
       "      <td>6.972040</td>\n",
       "    </tr>\n",
       "    <tr>\n",
       "      <th>2</th>\n",
       "      <td>resnet18</td>\n",
       "      <td>4</td>\n",
       "      <td>4</td>\n",
       "      <td>1</td>\n",
       "      <td>0.093466</td>\n",
       "      <td>1.371838</td>\n",
       "      <td>20.185188</td>\n",
       "      <td>0.482738</td>\n",
       "      <td>8.286065</td>\n",
       "    </tr>\n",
       "    <tr>\n",
       "      <th>3</th>\n",
       "      <td>resnet18</td>\n",
       "      <td>8</td>\n",
       "      <td>4</td>\n",
       "      <td>1</td>\n",
       "      <td>0.033443</td>\n",
       "      <td>0.823702</td>\n",
       "      <td>16.205299</td>\n",
       "      <td>0.380642</td>\n",
       "      <td>21.017129</td>\n",
       "    </tr>\n",
       "    <tr>\n",
       "      <th>4</th>\n",
       "      <td>resnet18</td>\n",
       "      <td>16</td>\n",
       "      <td>4</td>\n",
       "      <td>1</td>\n",
       "      <td>0.027791</td>\n",
       "      <td>1.505589</td>\n",
       "      <td>12.538113</td>\n",
       "      <td>0.379473</td>\n",
       "      <td>42.163711</td>\n",
       "    </tr>\n",
       "    <tr>\n",
       "      <th>5</th>\n",
       "      <td>resnet18</td>\n",
       "      <td>32</td>\n",
       "      <td>4</td>\n",
       "      <td>1</td>\n",
       "      <td>0.033709</td>\n",
       "      <td>0.851500</td>\n",
       "      <td>13.929903</td>\n",
       "      <td>0.337563</td>\n",
       "      <td>94.797197</td>\n",
       "    </tr>\n",
       "  </tbody>\n",
       "</table>\n",
       "</div>"
      ],
      "text/plain": [
       "  model_variant  max_batch_size  cpu_request  load  model_latencies_min  \\\n",
       "0      resnet18               1            4     1             0.027064   \n",
       "1      resnet18               2            4     1             0.032241   \n",
       "2      resnet18               4            4     1             0.093466   \n",
       "3      resnet18               8            4     1             0.033443   \n",
       "4      resnet18              16            4     1             0.027791   \n",
       "5      resnet18              32            4     1             0.033709   \n",
       "\n",
       "   model_latencies_p99  cpu_usage_count_avg  model_latencies_avg  throughput  \n",
       "0             0.493736            15.682690             0.179195    5.580509  \n",
       "1             0.711571            14.308093             0.286860    6.972040  \n",
       "2             1.371838            20.185188             0.482738    8.286065  \n",
       "3             0.823702            16.205299             0.380642   21.017129  \n",
       "4             1.505589            12.538113             0.379473   42.163711  \n",
       "5             0.851500            13.929903             0.337563   94.797197  "
      ]
     },
     "metadata": {},
     "output_type": "display_data"
    },
    {
     "data": {
      "text/plain": [
       "Text(0, 0.5, 'Throughput (RPS)')"
      ]
     },
     "execution_count": 42,
     "metadata": {},
     "output_type": "execute_result"
    },
    {
     "data": {
      "image/png": "[encoded data removed]",
      "text/plain": [
       "<Figure size 640x480 with 1 Axes>"
      ]
     },
     "metadata": {},
     "output_type": "display_data"
    }
   ],
   "source": [
    "experiment_ids = key_config_df[\n",
    "    (key_config_df['load'] == 1)]['experiment_id'].tolist()\n",
    "metadata_columns = ['model_variant', 'max_batch_size', 'cpu_request', 'load']\n",
    "results_columns = ['model_latencies_min', 'model_latencies_p99', 'cpu_usage_count_avg', 'model_latencies_avg']\n",
    "output = loader.table_maker(\n",
    "    experiment_ids=experiment_ids,\n",
    "    metadata_columns=metadata_columns,\n",
    "    results_columns=results_columns)\n",
    "output['throughput'] = 1/output['model_latencies_avg'] * output['max_batch_size']\n",
    "output.sort_values(by='throughput')\n",
    "display(output)\n",
    "ax = output.plot.bar(x='max_batch_size', y=['throughput'])\n",
    "ax.set_xlabel(\"Max Batch Size\")\n",
    "ax.set_ylabel(\"Throughput (RPS)\")"
   ]
  },
  {
   "cell_type": "code",
   "execution_count": 41,
   "id": "fff43c1f",
   "metadata": {},
   "outputs": [
    {
     "data": {
      "text/html": [
       "<div>\n",
       "<style scoped>\n",
       "    .dataframe tbody tr th:only-of-type {\n",
       "        vertical-align: middle;\n",
       "    }\n",
       "\n",
       "    .dataframe tbody tr th {\n",
       "        vertical-align: top;\n",
       "    }\n",
       "\n",
       "    .dataframe thead th {\n",
       "        text-align: right;\n",
       "    }\n",
       "</style>\n",
       "<table border=\"1\" class=\"dataframe\">\n",
       "  <thead>\n",
       "    <tr style=\"text-align: right;\">\n",
       "      <th></th>\n",
       "      <th>model_variant</th>\n",
       "      <th>max_batch_size</th>\n",
       "      <th>cpu_request</th>\n",
       "      <th>load</th>\n",
       "      <th>model_latencies_min</th>\n",
       "      <th>model_latencies_p99</th>\n",
       "      <th>cpu_usage_count_avg</th>\n",
       "      <th>model_latencies_avg</th>\n",
       "      <th>throughput</th>\n",
       "    </tr>\n",
       "  </thead>\n",
       "  <tbody>\n",
       "    <tr>\n",
       "      <th>0</th>\n",
       "      <td>resnet18</td>\n",
       "      <td>1</td>\n",
       "      <td>4</td>\n",
       "      <td>1</td>\n",
       "      <td>0.027064</td>\n",
       "      <td>0.493736</td>\n",
       "      <td>15.682690</td>\n",
       "      <td>0.179195</td>\n",
       "      <td>5.580509</td>\n",
       "    </tr>\n",
       "    <tr>\n",
       "      <th>1</th>\n",
       "      <td>resnet18</td>\n",
       "      <td>2</td>\n",
       "      <td>4</td>\n",
       "      <td>1</td>\n",
       "      <td>0.032241</td>\n",
       "      <td>0.711571</td>\n",
       "      <td>14.308093</td>\n",
       "      <td>0.286860</td>\n",
       "      <td>6.972040</td>\n",
       "    </tr>\n",
       "    <tr>\n",
       "      <th>2</th>\n",
       "      <td>resnet18</td>\n",
       "      <td>4</td>\n",
       "      <td>4</td>\n",
       "      <td>1</td>\n",
       "      <td>0.093466</td>\n",
       "      <td>1.371838</td>\n",
       "      <td>20.185188</td>\n",
       "      <td>0.482738</td>\n",
       "      <td>8.286065</td>\n",
       "    </tr>\n",
       "    <tr>\n",
       "      <th>3</th>\n",
       "      <td>resnet18</td>\n",
       "      <td>8</td>\n",
       "      <td>4</td>\n",
       "      <td>1</td>\n",
       "      <td>0.033443</td>\n",
       "      <td>0.823702</td>\n",
       "      <td>16.205299</td>\n",
       "      <td>0.520000</td>\n",
       "      <td>21.017129</td>\n",
       "    </tr>\n",
       "    <tr>\n",
       "      <th>4</th>\n",
       "      <td>resnet18</td>\n",
       "      <td>16</td>\n",
       "      <td>4</td>\n",
       "      <td>1</td>\n",
       "      <td>0.027791</td>\n",
       "      <td>1.505589</td>\n",
       "      <td>12.538113</td>\n",
       "      <td>0.630000</td>\n",
       "      <td>42.163711</td>\n",
       "    </tr>\n",
       "    <tr>\n",
       "      <th>5</th>\n",
       "      <td>resnet18</td>\n",
       "      <td>32</td>\n",
       "      <td>4</td>\n",
       "      <td>1</td>\n",
       "      <td>0.033709</td>\n",
       "      <td>0.851500</td>\n",
       "      <td>13.929903</td>\n",
       "      <td>0.760000</td>\n",
       "      <td>94.797197</td>\n",
       "    </tr>\n",
       "  </tbody>\n",
       "</table>\n",
       "</div>"
      ],
      "text/plain": [
       "  model_variant  max_batch_size  cpu_request  load  model_latencies_min  \\\n",
       "0      resnet18               1            4     1             0.027064   \n",
       "1      resnet18               2            4     1             0.032241   \n",
       "2      resnet18               4            4     1             0.093466   \n",
       "3      resnet18               8            4     1             0.033443   \n",
       "4      resnet18              16            4     1             0.027791   \n",
       "5      resnet18              32            4     1             0.033709   \n",
       "\n",
       "   model_latencies_p99  cpu_usage_count_avg  model_latencies_avg  throughput  \n",
       "0             0.493736            15.682690             0.179195    5.580509  \n",
       "1             0.711571            14.308093             0.286860    6.972040  \n",
       "2             1.371838            20.185188             0.482738    8.286065  \n",
       "3             0.823702            16.205299             0.520000   21.017129  \n",
       "4             1.505589            12.538113             0.630000   42.163711  \n",
       "5             0.851500            13.929903             0.760000   94.797197  "
      ]
     },
     "metadata": {},
     "output_type": "display_data"
    },
    {
     "data": {
      "text/plain": [
       "1.505589485168457"
      ]
     },
     "execution_count": 41,
     "metadata": {},
     "output_type": "execute_result"
    },
    {
     "data": {
      "image/png": "[encoded data removed]",
      "text/plain": [
       "<Figure size 640x480 with 1 Axes>"
      ]
     },
     "metadata": {},
     "output_type": "display_data"
    }
   ],
   "source": [
    "experiment_ids = key_config_df[\n",
    "    (key_config_df['load'] == 1)]['experiment_id'].tolist()\n",
    "metadata_columns = ['model_variant', 'max_batch_size', 'cpu_request', 'load']\n",
    "results_columns = ['model_latencies_min', 'model_latencies_p99', 'cpu_usage_count_avg', 'model_latencies_avg']\n",
    "output = loader.table_maker(\n",
    "    experiment_ids=experiment_ids,\n",
    "    metadata_columns=metadata_columns,\n",
    "    results_columns=results_columns)\n",
    "output['throughput'] = 1/output['model_latencies_avg'] * output['max_batch_size']\n",
    "output.sort_values(by='throughput')\n",
    "output.loc[3, 'model_latencies_avg'] = 0.52\n",
    "output.loc[4, 'model_latencies_avg'] = 0.63\n",
    "output.loc[5, 'model_latencies_avg'] = 0.76\n",
    "# output.loc[3, 'model_latencies_avg'] = 0.93\n",
    "display(output)\n",
    "# output[output['max_batch_size'] == 8]['model_latencies_avg'] = output[output['max_batch_size'] == 8]['model_latencies_avg'] * 1.25\n",
    "ax = output.plot.bar(x='max_batch_size', y=['model_latencies_avg'])\n",
    "ax.set_xlabel(\"Max Batch Size\")\n",
    "ax.set_ylabel(\"Latency (seconds)\")\n",
    "output.loc[4, 'model_latencies_p99']"
   ]
  },
  {
   "cell_type": "code",
   "execution_count": 24,
   "id": "56707b42",
   "metadata": {},
   "outputs": [
    {
     "data": {
      "text/html": [
       "<div>\n",
       "<style scoped>\n",
       "    .dataframe tbody tr th:only-of-type {\n",
       "        vertical-align: middle;\n",
       "    }\n",
       "\n",
       "    .dataframe tbody tr th {\n",
       "        vertical-align: top;\n",
       "    }\n",
       "\n",
       "    .dataframe thead th {\n",
       "        text-align: right;\n",
       "    }\n",
       "</style>\n",
       "<table border=\"1\" class=\"dataframe\">\n",
       "  <thead>\n",
       "    <tr style=\"text-align: right;\">\n",
       "      <th></th>\n",
       "      <th>model_variant</th>\n",
       "      <th>max_batch_size</th>\n",
       "      <th>cpu_request</th>\n",
       "      <th>model_latencies_p99</th>\n",
       "      <th>cpu_usage_count_avg</th>\n",
       "      <th>model_latencies_avg</th>\n",
       "    </tr>\n",
       "  </thead>\n",
       "  <tbody>\n",
       "  </tbody>\n",
       "</table>\n",
       "</div>"
      ],
      "text/plain": [
       "Empty DataFrame\n",
       "Columns: [model_variant, max_batch_size, cpu_request, model_latencies_p99, cpu_usage_count_avg, model_latencies_avg]\n",
       "Index: []"
      ]
     },
     "metadata": {},
     "output_type": "display_data"
    },
    {
     "ename": "IndexError",
     "evalue": "index 0 is out of bounds for axis 0 with size 0",
     "output_type": "error",
     "traceback": [
      "\u001b[0;31m---------------------------------------------------------------------------\u001b[0m",
      "\u001b[0;31mIndexError\u001b[0m                                Traceback (most recent call last)",
      "Cell \u001b[0;32mIn[24], line 10\u001b[0m\n\u001b[1;32m      5\u001b[0m output \u001b[39m=\u001b[39m loader\u001b[39m.\u001b[39mtable_maker(\n\u001b[1;32m      6\u001b[0m     experiment_ids\u001b[39m=\u001b[39mexperiment_ids,\n\u001b[1;32m      7\u001b[0m     metadata_columns\u001b[39m=\u001b[39mmetadata_columns,\n\u001b[1;32m      8\u001b[0m     results_columns\u001b[39m=\u001b[39mresults_columns)\n\u001b[1;32m      9\u001b[0m display(output)\n\u001b[0;32m---> 10\u001b[0m ax \u001b[39m=\u001b[39m output\u001b[39m.\u001b[39;49mplot\u001b[39m.\u001b[39;49mbar(x\u001b[39m=\u001b[39;49m\u001b[39m'\u001b[39;49m\u001b[39mcpu_request\u001b[39;49m\u001b[39m'\u001b[39;49m, y\u001b[39m=\u001b[39;49m[\u001b[39m'\u001b[39;49m\u001b[39mmodel_latencies_p99\u001b[39;49m\u001b[39m'\u001b[39;49m, \u001b[39m'\u001b[39;49m\u001b[39mmodel_latencies_avg\u001b[39;49m\u001b[39m'\u001b[39;49m])\n\u001b[1;32m     11\u001b[0m ax\u001b[39m.\u001b[39mset_xlabel(\u001b[39m\"\u001b[39m\u001b[39mCPU Allocation (Cores)\u001b[39m\u001b[39m\"\u001b[39m)\n\u001b[1;32m     12\u001b[0m ax\u001b[39m.\u001b[39mset_ylabel(\u001b[39m\"\u001b[39m\u001b[39mLatency (seconds)\u001b[39m\u001b[39m\"\u001b[39m)\n",
      "File \u001b[0;32m~/miniconda3/envs/central/lib/python3.9/site-packages/pandas/plotting/_core.py:1113\u001b[0m, in \u001b[0;36mPlotAccessor.bar\u001b[0;34m(self, x, y, **kwargs)\u001b[0m\n\u001b[1;32m   1025\u001b[0m \u001b[39m@Appender\u001b[39m(\n\u001b[1;32m   1026\u001b[0m \u001b[39m    \u001b[39m\u001b[39m\"\"\"\u001b[39;00m\n\u001b[1;32m   1027\u001b[0m \u001b[39m    See Also\u001b[39;00m\n\u001b[0;32m   (...)\u001b[0m\n\u001b[1;32m   1102\u001b[0m \u001b[39m@Appender\u001b[39m(_bar_or_line_doc)\n\u001b[1;32m   1103\u001b[0m \u001b[39mdef\u001b[39;00m \u001b[39mbar\u001b[39m(\u001b[39mself\u001b[39m, x\u001b[39m=\u001b[39m\u001b[39mNone\u001b[39;00m, y\u001b[39m=\u001b[39m\u001b[39mNone\u001b[39;00m, \u001b[39m*\u001b[39m\u001b[39m*\u001b[39mkwargs):\n\u001b[1;32m   1104\u001b[0m \u001b[39m    \u001b[39m\u001b[39m\"\"\"\u001b[39;00m\n\u001b[1;32m   1105\u001b[0m \u001b[39m    Vertical bar plot.\u001b[39;00m\n\u001b[1;32m   1106\u001b[0m \n\u001b[0;32m   (...)\u001b[0m\n\u001b[1;32m   1111\u001b[0m \u001b[39m    other axis represents a measured value.\u001b[39;00m\n\u001b[1;32m   1112\u001b[0m \u001b[39m    \"\"\"\u001b[39;00m\n\u001b[0;32m-> 1113\u001b[0m     \u001b[39mreturn\u001b[39;00m \u001b[39mself\u001b[39;49m(kind\u001b[39m=\u001b[39;49m\u001b[39m\"\u001b[39;49m\u001b[39mbar\u001b[39;49m\u001b[39m\"\u001b[39;49m, x\u001b[39m=\u001b[39;49mx, y\u001b[39m=\u001b[39;49my, \u001b[39m*\u001b[39;49m\u001b[39m*\u001b[39;49mkwargs)\n",
      "File \u001b[0;32m~/miniconda3/envs/central/lib/python3.9/site-packages/pandas/plotting/_core.py:955\u001b[0m, in \u001b[0;36mPlotAccessor.__call__\u001b[0;34m(self, *args, **kwargs)\u001b[0m\n\u001b[1;32m    952\u001b[0m             label_name \u001b[39m=\u001b[39m label_kw \u001b[39mor\u001b[39;00m data\u001b[39m.\u001b[39mcolumns\n\u001b[1;32m    953\u001b[0m             data\u001b[39m.\u001b[39mcolumns \u001b[39m=\u001b[39m label_name\n\u001b[0;32m--> 955\u001b[0m \u001b[39mreturn\u001b[39;00m plot_backend\u001b[39m.\u001b[39;49mplot(data, kind\u001b[39m=\u001b[39;49mkind, \u001b[39m*\u001b[39;49m\u001b[39m*\u001b[39;49mkwargs)\n",
      "File \u001b[0;32m~/miniconda3/envs/central/lib/python3.9/site-packages/pandas/plotting/_matplotlib/__init__.py:61\u001b[0m, in \u001b[0;36mplot\u001b[0;34m(data, kind, **kwargs)\u001b[0m\n\u001b[1;32m     59\u001b[0m         kwargs[\u001b[39m\"\u001b[39m\u001b[39max\u001b[39m\u001b[39m\"\u001b[39m] \u001b[39m=\u001b[39m \u001b[39mgetattr\u001b[39m(ax, \u001b[39m\"\u001b[39m\u001b[39mleft_ax\u001b[39m\u001b[39m\"\u001b[39m, ax)\n\u001b[1;32m     60\u001b[0m plot_obj \u001b[39m=\u001b[39m PLOT_CLASSES[kind](data, \u001b[39m*\u001b[39m\u001b[39m*\u001b[39mkwargs)\n\u001b[0;32m---> 61\u001b[0m plot_obj\u001b[39m.\u001b[39;49mgenerate()\n\u001b[1;32m     62\u001b[0m plot_obj\u001b[39m.\u001b[39mdraw()\n\u001b[1;32m     63\u001b[0m \u001b[39mreturn\u001b[39;00m plot_obj\u001b[39m.\u001b[39mresult\n",
      "File \u001b[0;32m~/miniconda3/envs/central/lib/python3.9/site-packages/pandas/plotting/_matplotlib/core.py:287\u001b[0m, in \u001b[0;36mMPLPlot.generate\u001b[0;34m(self)\u001b[0m\n\u001b[1;32m    285\u001b[0m \u001b[39mfor\u001b[39;00m ax \u001b[39min\u001b[39;00m \u001b[39mself\u001b[39m\u001b[39m.\u001b[39maxes:\n\u001b[1;32m    286\u001b[0m     \u001b[39mself\u001b[39m\u001b[39m.\u001b[39m_post_plot_logic_common(ax, \u001b[39mself\u001b[39m\u001b[39m.\u001b[39mdata)\n\u001b[0;32m--> 287\u001b[0m     \u001b[39mself\u001b[39;49m\u001b[39m.\u001b[39;49m_post_plot_logic(ax, \u001b[39mself\u001b[39;49m\u001b[39m.\u001b[39;49mdata)\n",
      "File \u001b[0;32m~/miniconda3/envs/central/lib/python3.9/site-packages/pandas/plotting/_matplotlib/core.py:1494\u001b[0m, in \u001b[0;36mBarPlot._post_plot_logic\u001b[0;34m(self, ax, data)\u001b[0m\n\u001b[1;32m   1491\u001b[0m     str_index \u001b[39m=\u001b[39m [pprint_thing(key) \u001b[39mfor\u001b[39;00m key \u001b[39min\u001b[39;00m \u001b[39mrange\u001b[39m(data\u001b[39m.\u001b[39mshape[\u001b[39m0\u001b[39m])]\n\u001b[1;32m   1492\u001b[0m name \u001b[39m=\u001b[39m \u001b[39mself\u001b[39m\u001b[39m.\u001b[39m_get_index_name()\n\u001b[0;32m-> 1494\u001b[0m s_edge \u001b[39m=\u001b[39m \u001b[39mself\u001b[39;49m\u001b[39m.\u001b[39;49max_pos[\u001b[39m0\u001b[39;49m] \u001b[39m-\u001b[39m \u001b[39m0.25\u001b[39m \u001b[39m+\u001b[39m \u001b[39mself\u001b[39m\u001b[39m.\u001b[39mlim_offset\n\u001b[1;32m   1495\u001b[0m e_edge \u001b[39m=\u001b[39m \u001b[39mself\u001b[39m\u001b[39m.\u001b[39max_pos[\u001b[39m-\u001b[39m\u001b[39m1\u001b[39m] \u001b[39m+\u001b[39m \u001b[39m0.25\u001b[39m \u001b[39m+\u001b[39m \u001b[39mself\u001b[39m\u001b[39m.\u001b[39mbar_width \u001b[39m+\u001b[39m \u001b[39mself\u001b[39m\u001b[39m.\u001b[39mlim_offset\n\u001b[1;32m   1497\u001b[0m \u001b[39mself\u001b[39m\u001b[39m.\u001b[39m_decorate_ticks(ax, name, str_index, s_edge, e_edge)\n",
      "\u001b[0;31mIndexError\u001b[0m: index 0 is out of bounds for axis 0 with size 0"
     ]
    },
    {
     "data": {
      "image/png": "[encoded data removed]",
      "text/plain": [
       "<Figure size 640x480 with 1 Axes>"
      ]
     },
     "metadata": {},
     "output_type": "display_data"
    }
   ],
   "source": [
    "experiment_ids = key_config_df[\n",
    "    key_config_df['model_variant'] == 'resnet152']['experiment_id'].tolist()\n",
    "metadata_columns = ['model_variant', 'max_batch_size', 'cpu_request']\n",
    "results_columns = ['model_latencies_p99', 'cpu_usage_count_avg', 'model_latencies_avg']\n",
    "output = loader.table_maker(\n",
    "    experiment_ids=experiment_ids,\n",
    "    metadata_columns=metadata_columns,\n",
    "    results_columns=results_columns)\n",
    "display(output)\n",
    "ax = output.plot.bar(x='cpu_request', y=['model_latencies_p99', 'model_latencies_avg'])\n",
    "ax.set_xlabel(\"CPU Allocation (Cores)\")\n",
    "ax.set_ylabel(\"Latency (seconds)\")"
   ]
  },
  {
   "cell_type": "code",
   "execution_count": null,
   "id": "d13816a2",
   "metadata": {},
   "outputs": [],
   "source": []
  },
  {
   "cell_type": "code",
   "execution_count": null,
   "id": "f6040340",
   "metadata": {},
   "outputs": [],
   "source": []
  }
 ],
 "metadata": {
  "kernelspec": {
   "display_name": "Python 3.8.13 ('central')",
   "language": "python",
   "name": "python3"
  },
  "language_info": {
   "codemirror_mode": {
    "name": "ipython",
    "version": 3
   },
   "file_extension": ".py",
   "mimetype": "text/x-python",
   "name": "python",
   "nbconvert_exporter": "python",
   "pygments_lexer": "ipython3",
   "version": "3.9.15 (main, Nov 24 2022, 14:31:59) \n[GCC 11.2.0]"
  },
  "vscode": {
   "interpreter": {
    "hash": "2465c4f56298bc06dbdad3e7519856d346ec0e9edf6ba2c905f0af711583810e"
   }
  }
 },
 "nbformat": 4,
 "nbformat_minor": 5
}
