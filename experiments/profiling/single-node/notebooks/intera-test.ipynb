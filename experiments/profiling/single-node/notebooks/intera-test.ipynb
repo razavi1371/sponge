{
 "cells": [
  {
   "cell_type": "code",
   "execution_count": 122,
   "id": "bde05b26",
   "metadata": {},
   "outputs": [],
   "source": [
    "import pandas as pd\n",
    "import numpy as np\n",
    "import os\n",
    "import matplotlib.pyplot as plt\n",
    "import json\n",
    "from copy import deepcopy\n",
    "import random\n",
    "import sys\n",
    "import time\n",
    "from typing import List\n",
    "from pprint import PrettyPrinter\n",
    "\n",
    "pp = PrettyPrinter(indent=4)\n",
    "\n",
    "# get an absolute path to the directory that contains parent files\n",
    "project_dir = globals()[\"_dh\"][0]\n",
    "sys.path.append(os.path.normpath(os.path.join(project_dir, \"..\", \"..\", \"..\", \"..\")))\n",
    "\n",
    "from experiments.utils.constants import (\n",
    "    PIPLINES_PATH,\n",
    "    NODE_PROFILING_CONFIGS_PATH,\n",
    "    NODE_PROFILING_RESULTS_PATH,\n",
    ")\n",
    "from experiments.utils.parser import Parser"
   ]
  },
  {
   "cell_type": "code",
   "execution_count": 123,
   "id": "f5632e5b",
   "metadata": {},
   "outputs": [],
   "source": [
    "# series 101-114 are related to this\n",
    "\n",
    "series = 113\n",
    "experiment_id = 1\n",
    "config_key_mapper = \"key_config_mapper.csv\"\n",
    "model_name = \"nlp-trans\"\n",
    "series_path = os.path.join(NODE_PROFILING_RESULTS_PATH, \"series\", str(series))\n",
    "loader = Parser(\n",
    "    series_path=series_path, config_key_mapper=config_key_mapper, model_name=model_name\n",
    ")\n",
    "results = loader.result_processing()\n",
    "key_config_df = loader.key_config_mapper()\n",
    "# print(results.columns)\n",
    "# print(key_config_df.columns)\n",
    "# results"
   ]
  },
  {
   "cell_type": "code",
   "execution_count": 124,
   "id": "408e420a",
   "metadata": {},
   "outputs": [
    {
     "name": "stdout",
     "output_type": "stream",
     "text": [
      "File name: 0.yaml\n",
      "{   'benchmark_duration': 1,\n",
      "    'central_queue': False,\n",
      "    'cpu_request': ['1'],\n",
      "    'data_type': 'text',\n",
      "    'distrpution_time': 10,\n",
      "    'logs_enabled': True,\n",
      "    'max_batch_size': ['1'],\n",
      "    'max_batch_time': ['1'],\n",
      "    'memory_request': ['10Gi'],\n",
      "    'mode': 'exponential',\n",
      "    'model_variants': ['Helsinki-NLP-opus-mt-fr-en'],\n",
      "    'node_name': 'nlp-trans',\n",
      "    'num_interop_threads': ['1'],\n",
      "    'num_threads': ['1'],\n",
      "    'pipeline_name': 'nlp',\n",
      "    'repetition': 1,\n",
      "    'replicas': [1],\n",
      "    'series': 113,\n",
      "    'series_meta': 'testing static trace',\n",
      "    'timeout': 1,\n",
      "    'use_threading': 'True',\n",
      "    'workload_config': {'load_duration': 10, 'loads_to_test': [1]},\n",
      "    'workload_type': 'static'}\n"
     ]
    }
   ],
   "source": [
    "configs = loader.load_configs()\n",
    "for config_name, config in configs.items():\n",
    "    print(f\"File name: {config_name}\")\n",
    "    pp.pprint(config)"
   ]
  },
  {
   "cell_type": "code",
   "execution_count": 125,
   "id": "4a385417",
   "metadata": {},
   "outputs": [
    {
     "data": {
      "text/html": [
       "<div>\n",
       "<style scoped>\n",
       "    .dataframe tbody tr th:only-of-type {\n",
       "        vertical-align: middle;\n",
       "    }\n",
       "\n",
       "    .dataframe tbody tr th {\n",
       "        vertical-align: top;\n",
       "    }\n",
       "\n",
       "    .dataframe thead th {\n",
       "        text-align: right;\n",
       "    }\n",
       "</style>\n",
       "<table border=\"1\" class=\"dataframe\">\n",
       "  <thead>\n",
       "    <tr style=\"text-align: right;\">\n",
       "      <th></th>\n",
       "      <th>model_variant</th>\n",
       "      <th>max_batch_size</th>\n",
       "      <th>cpu_request</th>\n",
       "      <th>load</th>\n",
       "      <th>model_latencies_min</th>\n",
       "      <th>model_latencies_p99</th>\n",
       "      <th>cpu_usage_count_avg</th>\n",
       "      <th>model_latencies_avg</th>\n",
       "      <th>throughput_avg</th>\n",
       "    </tr>\n",
       "  </thead>\n",
       "  <tbody>\n",
       "    <tr>\n",
       "      <th>0</th>\n",
       "      <td>Helsinki-NLP-opus-mt-fr-en</td>\n",
       "      <td>1</td>\n",
       "      <td>1</td>\n",
       "      <td>1</td>\n",
       "      <td>0.93502</td>\n",
       "      <td>1.047792</td>\n",
       "      <td>None</td>\n",
       "      <td>0.95515</td>\n",
       "      <td>0.352735</td>\n",
       "    </tr>\n",
       "  </tbody>\n",
       "</table>\n",
       "</div>"
      ],
      "text/plain": [
       "                model_variant  max_batch_size  cpu_request  load   \n",
       "0  Helsinki-NLP-opus-mt-fr-en               1            1     1  \\\n",
       "\n",
       "   model_latencies_min  model_latencies_p99 cpu_usage_count_avg   \n",
       "0              0.93502             1.047792                None  \\\n",
       "\n",
       "   model_latencies_avg  throughput_avg  \n",
       "0              0.95515        0.352735  "
      ]
     },
     "metadata": {},
     "output_type": "display_data"
    }
   ],
   "source": [
    "# experiment_ids = key_config_df[\n",
    "#     (key_config_df[\"model_variant\"] == \"yolov5n\") & (key_config_df[\"cpu_request\"] == 1)\n",
    "# ][\"experiment_id\"].tolist()\n",
    "experiment_ids = key_config_df[\"experiment_id\"].tolist()\n",
    "metadata_columns = [\"model_variant\", \"max_batch_size\", \"cpu_request\", \"load\"]\n",
    "results_columns = [\n",
    "    \"model_latencies_min\",\n",
    "    \"model_latencies_p99\",\n",
    "    \"cpu_usage_count_avg\",\n",
    "    \"model_latencies_avg\",\n",
    "    \"throughput_avg\",\n",
    "]\n",
    "output = loader.table_maker(\n",
    "    experiment_ids=experiment_ids,\n",
    "    metadata_columns=metadata_columns,\n",
    "    results_columns=results_columns,\n",
    ")\n",
    "# output['throughput'] = 1/output['model_latencies_avg'] * output['max_batch_size']\n",
    "# output.sort_values(by='throughput')\n",
    "display(output)\n",
    "# ax = output.plot.bar(x='max_batch_size', y=['throughput'])\n",
    "# ax.set_xlabel(\"Max Batch Size\")\n",
    "# ax.set_ylabel(\"Throughput (RPS)\")"
   ]
  },
  {
   "cell_type": "code",
   "execution_count": null,
   "id": "db9ae291",
   "metadata": {},
   "outputs": [],
   "source": []
  },
  {
   "cell_type": "code",
   "execution_count": null,
   "id": "35302632",
   "metadata": {},
   "outputs": [],
   "source": []
  }
 ],
 "metadata": {
  "kernelspec": {
   "display_name": "Python 3.8.13 ('central')",
   "language": "python",
   "name": "python3"
  },
  "language_info": {
   "codemirror_mode": {
    "name": "ipython",
    "version": 3
   },
   "file_extension": ".py",
   "mimetype": "text/x-python",
   "name": "python",
   "nbconvert_exporter": "python",
   "pygments_lexer": "ipython3",
   "version": "3.9.15"
  },
  "vscode": {
   "interpreter": {
    "hash": "2465c4f56298bc06dbdad3e7519856d346ec0e9edf6ba2c905f0af711583810e"
   }
  }
 },
 "nbformat": 4,
 "nbformat_minor": 5
}
