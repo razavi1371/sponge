{
 "cells": [
  {
   "cell_type": "markdown",
   "id": "b93d6f0e",
   "metadata": {},
   "source": [
    "## Effect of batch size notebook"
   ]
  },
  {
   "cell_type": "code",
   "execution_count": 1,
   "id": "bde05b26",
   "metadata": {},
   "outputs": [],
   "source": [
    "import pandas as pd\n",
    "import numpy as np\n",
    "import os\n",
    "import matplotlib.pyplot as plt\n",
    "import json\n",
    "from copy import deepcopy\n",
    "import random\n",
    "import sys\n",
    "import time\n",
    "from typing import List\n",
    "from pprint import PrettyPrinter\n",
    "\n",
    "pp = PrettyPrinter(indent=4)\n",
    "\n",
    "# get an absolute path to the directory that contains parent files\n",
    "project_dir = globals()[\"_dh\"][0]\n",
    "sys.path.append(os.path.normpath(os.path.join(project_dir, \"..\", \"..\", \"..\", \"..\")))\n",
    "\n",
    "from experiments.utils.constants import (\n",
    "    PIPLINES_PATH,\n",
    "    NODE_PROFILING_CONFIGS_PATH,\n",
    "    NODE_PROFILING_RESULTS_PATH,\n",
    ")\n",
    "from experiments.utils.parser import Parser"
   ]
  },
  {
   "cell_type": "code",
   "execution_count": 4,
   "id": "f5632e5b",
   "metadata": {},
   "outputs": [
    {
     "name": "stdout",
     "output_type": "stream",
     "text": [
      "excepted!\n"
     ]
    },
    {
     "data": {
      "text/html": [
       "<div>\n",
       "<style scoped>\n",
       "    .dataframe tbody tr th:only-of-type {\n",
       "        vertical-align: middle;\n",
       "    }\n",
       "\n",
       "    .dataframe tbody tr th {\n",
       "        vertical-align: top;\n",
       "    }\n",
       "\n",
       "    .dataframe thead th {\n",
       "        text-align: right;\n",
       "    }\n",
       "</style>\n",
       "<table border=\"1\" class=\"dataframe\">\n",
       "  <thead>\n",
       "    <tr style=\"text-align: right;\">\n",
       "      <th></th>\n",
       "      <th>experiment_id</th>\n",
       "      <th>pipeline_name</th>\n",
       "      <th>node_name</th>\n",
       "      <th>model_variant</th>\n",
       "      <th>cpu_request</th>\n",
       "      <th>memory_request</th>\n",
       "      <th>max_batch_size</th>\n",
       "      <th>max_batch_time</th>\n",
       "      <th>load</th>\n",
       "      <th>load_duration</th>\n",
       "      <th>series</th>\n",
       "      <th>series_meta</th>\n",
       "      <th>replicas</th>\n",
       "    </tr>\n",
       "  </thead>\n",
       "  <tbody>\n",
       "    <tr>\n",
       "      <th>0</th>\n",
       "      <td>1</td>\n",
       "      <td>5-paper-video</td>\n",
       "      <td>resnet-human</td>\n",
       "      <td>resnet18</td>\n",
       "      <td>16</td>\n",
       "      <td>20Gi</td>\n",
       "      <td>16</td>\n",
       "      <td>1</td>\n",
       "      <td>1</td>\n",
       "      <td>60</td>\n",
       "      <td>21</td>\n",
       "      <td>check effect of performance on memory usage,\\n...</td>\n",
       "      <td>1</td>\n",
       "    </tr>\n",
       "    <tr>\n",
       "      <th>1</th>\n",
       "      <td>2</td>\n",
       "      <td>5-paper-video</td>\n",
       "      <td>resnet-human</td>\n",
       "      <td>resnet34</td>\n",
       "      <td>16</td>\n",
       "      <td>20Gi</td>\n",
       "      <td>16</td>\n",
       "      <td>1</td>\n",
       "      <td>1</td>\n",
       "      <td>60</td>\n",
       "      <td>21</td>\n",
       "      <td>check effect of performance on memory usage,\\n...</td>\n",
       "      <td>1</td>\n",
       "    </tr>\n",
       "    <tr>\n",
       "      <th>2</th>\n",
       "      <td>3</td>\n",
       "      <td>5-paper-video</td>\n",
       "      <td>resnet-human</td>\n",
       "      <td>resnet50</td>\n",
       "      <td>16</td>\n",
       "      <td>20Gi</td>\n",
       "      <td>16</td>\n",
       "      <td>1</td>\n",
       "      <td>1</td>\n",
       "      <td>60</td>\n",
       "      <td>21</td>\n",
       "      <td>check effect of performance on memory usage,\\n...</td>\n",
       "      <td>1</td>\n",
       "    </tr>\n",
       "    <tr>\n",
       "      <th>3</th>\n",
       "      <td>4</td>\n",
       "      <td>5-paper-video</td>\n",
       "      <td>resnet-human</td>\n",
       "      <td>resnet101</td>\n",
       "      <td>16</td>\n",
       "      <td>20Gi</td>\n",
       "      <td>16</td>\n",
       "      <td>1</td>\n",
       "      <td>1</td>\n",
       "      <td>60</td>\n",
       "      <td>21</td>\n",
       "      <td>check effect of performance on memory usage,\\n...</td>\n",
       "      <td>1</td>\n",
       "    </tr>\n",
       "    <tr>\n",
       "      <th>4</th>\n",
       "      <td>5</td>\n",
       "      <td>5-paper-video</td>\n",
       "      <td>resnet-human</td>\n",
       "      <td>resnet152</td>\n",
       "      <td>16</td>\n",
       "      <td>20Gi</td>\n",
       "      <td>16</td>\n",
       "      <td>1</td>\n",
       "      <td>1</td>\n",
       "      <td>60</td>\n",
       "      <td>21</td>\n",
       "      <td>check effect of performance on memory usage,\\n...</td>\n",
       "      <td>1</td>\n",
       "    </tr>\n",
       "  </tbody>\n",
       "</table>\n",
       "</div>"
      ],
      "text/plain": [
       "   experiment_id  pipeline_name     node_name model_variant  cpu_request  \\\n",
       "0              1  5-paper-video  resnet-human      resnet18           16   \n",
       "1              2  5-paper-video  resnet-human      resnet34           16   \n",
       "2              3  5-paper-video  resnet-human      resnet50           16   \n",
       "3              4  5-paper-video  resnet-human     resnet101           16   \n",
       "4              5  5-paper-video  resnet-human     resnet152           16   \n",
       "\n",
       "  memory_request  max_batch_size  max_batch_time  load  load_duration  series  \\\n",
       "0           20Gi              16               1     1             60      21   \n",
       "1           20Gi              16               1     1             60      21   \n",
       "2           20Gi              16               1     1             60      21   \n",
       "3           20Gi              16               1     1             60      21   \n",
       "4           20Gi              16               1     1             60      21   \n",
       "\n",
       "                                         series_meta  replicas  \n",
       "0  check effect of performance on memory usage,\\n...         1  \n",
       "1  check effect of performance on memory usage,\\n...         1  \n",
       "2  check effect of performance on memory usage,\\n...         1  \n",
       "3  check effect of performance on memory usage,\\n...         1  \n",
       "4  check effect of performance on memory usage,\\n...         1  "
      ]
     },
     "metadata": {},
     "output_type": "display_data"
    }
   ],
   "source": [
    "series = 21\n",
    "experiment_id = 2\n",
    "config_key_mapper = \"key_config_mapper.csv\"\n",
    "\n",
    "series_path = os.path.join(NODE_PROFILING_RESULTS_PATH, \"series\", str(series))\n",
    "loader = Parser(\n",
    "    series_path=series_path, config_key_mapper=config_key_mapper, second_node=True\n",
    ")\n",
    "results = loader.result_processing()\n",
    "key_config_df = loader.key_config_mapper()\n",
    "# print(results.columns)\n",
    "# print(key_config_df.columns)\n",
    "# results\n",
    "display(key_config_df)"
   ]
  },
  {
   "cell_type": "code",
   "execution_count": 5,
   "id": "408e420a",
   "metadata": {},
   "outputs": [
    {
     "name": "stdout",
     "output_type": "stream",
     "text": [
      "File name: 0.yaml\n",
      "{   'cpu_request': ['16'],\n",
      "    'data_type': 'text',\n",
      "    'max_batch_size': ['16'],\n",
      "    'max_batch_time': ['1'],\n",
      "    'memory_request': ['20Gi'],\n",
      "    'model_variants': [   'resnet18',\n",
      "                          'resnet34',\n",
      "                          'resnet50',\n",
      "                          'resnet101',\n",
      "                          'resnet152'],\n",
      "    'node_name': 'resnet-human',\n",
      "    'pipeline_name': '5-paper-video',\n",
      "    'repetition': 1,\n",
      "    'replicas': [1],\n",
      "    'series': 21,\n",
      "    'series_meta': 'check effect of performance on memory usage,\\\\n cpu type: '\n",
      "                   'Intel(R) Xeon(R) Gold 6126 CPU @ 2.60GHz',\n",
      "    'timeout': 60,\n",
      "    'workload_config': {'load_duration': 60, 'loads_to_test': [1]},\n",
      "    'workload_type': 'static'}\n",
      "File name: 1.yaml\n",
      "{   'cpu_request': ['16'],\n",
      "    'data_type': 'text',\n",
      "    'max_batch_size': ['16'],\n",
      "    'max_batch_time': ['1'],\n",
      "    'memory_request': ['20Gi'],\n",
      "    'model_variants': [   'resnet18',\n",
      "                          'resnet34',\n",
      "                          'resnet50',\n",
      "                          'resnet101',\n",
      "                          'resnet152'],\n",
      "    'node_name': 'resnet-human',\n",
      "    'pipeline_name': '5-paper-video',\n",
      "    'repetition': 1,\n",
      "    'replicas': [1],\n",
      "    'series': 21,\n",
      "    'series_meta': 'check effect of performance on memory usage,\\\\n cpu type: '\n",
      "                   'Intel(R) Xeon(R) Gold 6126 CPU @ 2.60GHz',\n",
      "    'timeout': 120,\n",
      "    'workload_config': {'load_duration': 60, 'loads_to_test': [1]},\n",
      "    'workload_type': 'static'}\n"
     ]
    }
   ],
   "source": [
    "configs = loader.load_configs()\n",
    "for config_name, config in configs.items():\n",
    "    print(f\"File name: {config_name}\")\n",
    "    pp.pprint(config)"
   ]
  },
  {
   "cell_type": "code",
   "execution_count": 7,
   "id": "d7e539ce",
   "metadata": {},
   "outputs": [
    {
     "name": "stdout",
     "output_type": "stream",
     "text": [
      "excepted!\n"
     ]
    },
    {
     "data": {
      "text/html": [
       "<div>\n",
       "<style scoped>\n",
       "    .dataframe tbody tr th:only-of-type {\n",
       "        vertical-align: middle;\n",
       "    }\n",
       "\n",
       "    .dataframe tbody tr th {\n",
       "        vertical-align: top;\n",
       "    }\n",
       "\n",
       "    .dataframe thead th {\n",
       "        text-align: right;\n",
       "    }\n",
       "</style>\n",
       "<table border=\"1\" class=\"dataframe\">\n",
       "  <thead>\n",
       "    <tr style=\"text-align: right;\">\n",
       "      <th></th>\n",
       "      <th>model_variant</th>\n",
       "      <th>memory_usage_max</th>\n",
       "    </tr>\n",
       "  </thead>\n",
       "  <tbody>\n",
       "    <tr>\n",
       "      <th>0</th>\n",
       "      <td>resnet18</td>\n",
       "      <td>7.328317e+08</td>\n",
       "    </tr>\n",
       "    <tr>\n",
       "      <th>1</th>\n",
       "      <td>resnet34</td>\n",
       "      <td>8.828559e+08</td>\n",
       "    </tr>\n",
       "    <tr>\n",
       "      <th>2</th>\n",
       "      <td>resnet50</td>\n",
       "      <td>1.241948e+09</td>\n",
       "    </tr>\n",
       "    <tr>\n",
       "      <th>3</th>\n",
       "      <td>resnet101</td>\n",
       "      <td>1.588388e+09</td>\n",
       "    </tr>\n",
       "    <tr>\n",
       "      <th>4</th>\n",
       "      <td>resnet152</td>\n",
       "      <td>2.028630e+09</td>\n",
       "    </tr>\n",
       "  </tbody>\n",
       "</table>\n",
       "</div>"
      ],
      "text/plain": [
       "  model_variant  memory_usage_max\n",
       "0      resnet18      7.328317e+08\n",
       "1      resnet34      8.828559e+08\n",
       "2      resnet50      1.241948e+09\n",
       "3     resnet101      1.588388e+09\n",
       "4     resnet152      2.028630e+09"
      ]
     },
     "metadata": {},
     "output_type": "display_data"
    },
    {
     "data": {
      "text/plain": [
       "Text(0, 0.5, 'Memory Usage (Mb)')"
      ]
     },
     "execution_count": 7,
     "metadata": {},
     "output_type": "execute_result"
    },
    {
     "data": {
      "image/png": "[encoded data removed]",
      "text/plain": [
       "<Figure size 640x480 with 1 Axes>"
      ]
     },
     "metadata": {},
     "output_type": "display_data"
    }
   ],
   "source": [
    "max_batch_size = 16\n",
    "experiment_ids = key_config_df[key_config_df[\"max_batch_size\"] == max_batch_size][\n",
    "    \"experiment_id\"\n",
    "].tolist()\n",
    "metadata_columns = [\"model_variant\"]\n",
    "results_columns = [\"memory_usage_max\"]\n",
    "output = loader.table_maker(\n",
    "    experiment_ids=experiment_ids,\n",
    "    metadata_columns=metadata_columns,\n",
    "    results_columns=results_columns,\n",
    ")\n",
    "display(output)\n",
    "ax = output.plot.bar(x=\"model_variant\", y=[\"memory_usage_max\"])\n",
    "ax.set_xlabel(\"Model Variant\")\n",
    "ax.set_ylabel(\"Memory Usage (Mb)\")"
   ]
  },
  {
   "cell_type": "code",
   "execution_count": 8,
   "id": "912f09a5",
   "metadata": {},
   "outputs": [
    {
     "name": "stdout",
     "output_type": "stream",
     "text": [
      "excepted!\n"
     ]
    },
    {
     "data": {
      "text/html": [
       "<div>\n",
       "<style scoped>\n",
       "    .dataframe tbody tr th:only-of-type {\n",
       "        vertical-align: middle;\n",
       "    }\n",
       "\n",
       "    .dataframe tbody tr th {\n",
       "        vertical-align: top;\n",
       "    }\n",
       "\n",
       "    .dataframe thead th {\n",
       "        text-align: right;\n",
       "    }\n",
       "</style>\n",
       "<table border=\"1\" class=\"dataframe\">\n",
       "  <thead>\n",
       "    <tr style=\"text-align: right;\">\n",
       "      <th></th>\n",
       "      <th>model_variant</th>\n",
       "      <th>memory_usage_max</th>\n",
       "    </tr>\n",
       "  </thead>\n",
       "  <tbody>\n",
       "    <tr>\n",
       "      <th>0</th>\n",
       "      <td>resnet18</td>\n",
       "      <td>7.328317e+08</td>\n",
       "    </tr>\n",
       "    <tr>\n",
       "      <th>1</th>\n",
       "      <td>resnet34</td>\n",
       "      <td>8.828559e+08</td>\n",
       "    </tr>\n",
       "    <tr>\n",
       "      <th>2</th>\n",
       "      <td>resnet50</td>\n",
       "      <td>1.241948e+09</td>\n",
       "    </tr>\n",
       "    <tr>\n",
       "      <th>3</th>\n",
       "      <td>resnet101</td>\n",
       "      <td>1.588388e+09</td>\n",
       "    </tr>\n",
       "    <tr>\n",
       "      <th>4</th>\n",
       "      <td>resnet152</td>\n",
       "      <td>2.028630e+09</td>\n",
       "    </tr>\n",
       "  </tbody>\n",
       "</table>\n",
       "</div>"
      ],
      "text/plain": [
       "  model_variant  memory_usage_max\n",
       "0      resnet18      7.328317e+08\n",
       "1      resnet34      8.828559e+08\n",
       "2      resnet50      1.241948e+09\n",
       "3     resnet101      1.588388e+09\n",
       "4     resnet152      2.028630e+09"
      ]
     },
     "metadata": {},
     "output_type": "display_data"
    },
    {
     "data": {
      "text/plain": [
       "Text(0, 0.5, 'Memory Usage (Mb)')"
      ]
     },
     "execution_count": 8,
     "metadata": {},
     "output_type": "execute_result"
    },
    {
     "data": {
      "image/png": "[encoded data removed]",
      "text/plain": [
       "<Figure size 640x480 with 1 Axes>"
      ]
     },
     "metadata": {},
     "output_type": "display_data"
    }
   ],
   "source": [
    "max_batch_size = 16\n",
    "experiment_ids = key_config_df[key_config_df[\"max_batch_size\"] == max_batch_size][\n",
    "    \"experiment_id\"\n",
    "].tolist()\n",
    "metadata_columns = [\"model_variant\"]\n",
    "results_columns = [\"memory_usage_max\"]\n",
    "output = loader.table_maker(\n",
    "    experiment_ids=experiment_ids,\n",
    "    metadata_columns=metadata_columns,\n",
    "    results_columns=results_columns,\n",
    ")\n",
    "display(output)\n",
    "ax = output.plot.bar(x=\"model_variant\", y=[\"memory_usage_max\"])\n",
    "ax.set_xlabel(\"Model Variant\")\n",
    "ax.set_ylabel(\"Memory Usage (Mb)\")"
   ]
  },
  {
   "cell_type": "code",
   "execution_count": null,
   "id": "8a7e1d6c",
   "metadata": {},
   "outputs": [],
   "source": []
  }
 ],
 "metadata": {
  "kernelspec": {
   "display_name": "Python 3.8.13 ('central')",
   "language": "python",
   "name": "python3"
  },
  "language_info": {
   "codemirror_mode": {
    "name": "ipython",
    "version": 3
   },
   "file_extension": ".py",
   "mimetype": "text/x-python",
   "name": "python",
   "nbconvert_exporter": "python",
   "pygments_lexer": "ipython3",
   "version": "3.8.13"
  },
  "vscode": {
   "interpreter": {
    "hash": "2465c4f56298bc06dbdad3e7519856d346ec0e9edf6ba2c905f0af711583810e"
   }
  }
 },
 "nbformat": 4,
 "nbformat_minor": 5
}
