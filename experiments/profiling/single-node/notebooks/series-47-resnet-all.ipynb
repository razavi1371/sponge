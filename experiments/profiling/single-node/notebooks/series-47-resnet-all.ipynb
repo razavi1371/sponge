{
 "cells": [
  {
   "attachments": {},
   "cell_type": "markdown",
   "id": "b93d6f0e",
   "metadata": {},
   "source": [
    "## PyTorch Resnets"
   ]
  },
  {
   "cell_type": "code",
   "execution_count": 1,
   "id": "bde05b26",
   "metadata": {},
   "outputs": [],
   "source": [
    "import pandas as pd\n",
    "import numpy as np\n",
    "import os\n",
    "import matplotlib.pyplot as plt\n",
    "import json\n",
    "from copy import deepcopy\n",
    "import random\n",
    "import sys\n",
    "import time\n",
    "from typing import List\n",
    "from pprint import PrettyPrinter\n",
    "pp = PrettyPrinter(indent=4)\n",
    "\n",
    "# get an absolute path to the directory that contains parent files\n",
    "project_dir = globals()['_dh'][0]\n",
    "sys.path.append(os.path.normpath(os.path.join(\n",
    "    project_dir, '..', '..', '..', '..')))\n",
    "\n",
    "from experiments.utils.constants import (\n",
    "    PIPLINES_PATH,\n",
    "    NODE_PROFILING_CONFIGS_PATH,\n",
    "    NODE_PROFILING_RESULTS_PATH\n",
    ")\n",
    "from experiments.utils.parser import Parser"
   ]
  },
  {
   "cell_type": "code",
   "execution_count": 2,
   "id": "f5632e5b",
   "metadata": {},
   "outputs": [],
   "source": [
    "series = 47\n",
    "experiment_id = 1\n",
    "config_key_mapper = \"key_config_mapper.csv\"\n",
    "model_name = 'resnet-human'\n",
    "series_path = os.path.join(\n",
    "    NODE_PROFILING_RESULTS_PATH,\n",
    "    'series',\n",
    "    str(series))\n",
    "loader = Parser(\n",
    "    series_path=series_path, config_key_mapper=config_key_mapper,\n",
    "    model_name=model_name)\n",
    "results = loader.result_processing()\n",
    "key_config_df = loader.key_config_mapper()\n",
    "# print(results.columns)\n",
    "# print(key_config_df.columns)\n",
    "# results"
   ]
  },
  {
   "cell_type": "code",
   "execution_count": 3,
   "id": "eea4e577",
   "metadata": {},
   "outputs": [
    {
     "data": {
      "text/plain": [
       "Index(['experiment_id', 'client_to_model_latencies_avg',\n",
       "       'client_to_model_latencies_p99', 'client_to_model_latencies_p50',\n",
       "       'client_to_model_latencies_var', 'client_to_model_latencies_max',\n",
       "       'client_to_model_latencies_min', 'model_latencies_avg',\n",
       "       'model_latencies_p99', 'model_latencies_p50', 'model_latencies_var',\n",
       "       'model_latencies_max', 'model_latencies_min',\n",
       "       'model_to_client_latencies_avg', 'model_to_client_latencies_p99',\n",
       "       'model_to_client_latencies_p50', 'model_to_client_latencies_var',\n",
       "       'model_to_client_latencies_max', 'model_to_client_latencies_min',\n",
       "       'start_time', 'end_time', 'duration', 'timeout_count',\n",
       "       'cpu_usage_count_avg', 'cpu_usage_count_p99', 'cpu_usage_count_p50',\n",
       "       'cpu_usage_count_var', 'cpu_usage_count_max', 'cpu_usage_count_min',\n",
       "       'cpu_usage_rate_avg', 'cpu_usage_rate_p99', 'cpu_usage_rate_p50',\n",
       "       'cpu_usage_rate_var', 'cpu_usage_rate_max', 'cpu_usage_rate_min',\n",
       "       'cpu_throttled_count_avg', 'cpu_throttled_count_p99',\n",
       "       'cpu_throttled_count_p50', 'cpu_throttled_count_var',\n",
       "       'cpu_throttled_count_max', 'cpu_throttled_count_min',\n",
       "       'cpu_throttled_rate_avg', 'cpu_throttled_rate_p99',\n",
       "       'cpu_throttled_rate_p50', 'cpu_throttled_rate_var',\n",
       "       'cpu_throttled_rate_max', 'cpu_throttled_rate_min', 'memory_usage_avg',\n",
       "       'memory_usage_p99', 'memory_usage_p50', 'memory_usage_var',\n",
       "       'memory_usage_max', 'memory_usage_min', 'throughput_avg',\n",
       "       'throughput_p99', 'throughput_p50', 'throughput_var', 'throughput_max',\n",
       "       'throughput_min'],\n",
       "      dtype='object')"
      ]
     },
     "execution_count": 3,
     "metadata": {},
     "output_type": "execute_result"
    }
   ],
   "source": [
    "results.columns"
   ]
  },
  {
   "cell_type": "code",
   "execution_count": 4,
   "id": "408e420a",
   "metadata": {},
   "outputs": [
    {
     "name": "stdout",
     "output_type": "stream",
     "text": [
      "File name: 0.yaml\n",
      "{   'benchmark_duration': 4,\n",
      "    'cpu_request': ['1', '2', '4', '8', '16'],\n",
      "    'data_type': 'image',\n",
      "    'max_batch_size': ['1'],\n",
      "    'max_batch_time': ['1'],\n",
      "    'memory_request': ['20Gi'],\n",
      "    'mode': 'step',\n",
      "    'model_variants': ['resnet18'],\n",
      "    'node_name': 'resnet-human',\n",
      "    'pipeline_name': '5-paper-video',\n",
      "    'repetition': 1,\n",
      "    'replicas': [1],\n",
      "    'series': 47,\n",
      "    'series_meta': 'testing mlserver performance with grpc against other '\n",
      "                   'servers 1,\\\\n cpu type: Intel(R) Xeon(R) Gold 6126 CPU @ '\n",
      "                   '2.60GHz',\n",
      "    'timeout': 180,\n",
      "    'workload_config': {'load_duration': 60, 'loads_to_test': [1]},\n",
      "    'workload_type': 'static'}\n"
     ]
    }
   ],
   "source": [
    "configs = loader.load_configs()\n",
    "for config_name, config in configs.items():\n",
    "    print(f\"File name: {config_name}\")\n",
    "    pp.pprint(config) "
   ]
  },
  {
   "cell_type": "code",
   "execution_count": 5,
   "id": "4a385417",
   "metadata": {},
   "outputs": [
    {
     "data": {
      "text/html": [
       "<div>\n",
       "<style scoped>\n",
       "    .dataframe tbody tr th:only-of-type {\n",
       "        vertical-align: middle;\n",
       "    }\n",
       "\n",
       "    .dataframe tbody tr th {\n",
       "        vertical-align: top;\n",
       "    }\n",
       "\n",
       "    .dataframe thead th {\n",
       "        text-align: right;\n",
       "    }\n",
       "</style>\n",
       "<table border=\"1\" class=\"dataframe\">\n",
       "  <thead>\n",
       "    <tr style=\"text-align: right;\">\n",
       "      <th></th>\n",
       "      <th>model_variant</th>\n",
       "      <th>max_batch_size</th>\n",
       "      <th>cpu_request</th>\n",
       "      <th>load</th>\n",
       "      <th>model_latencies_max</th>\n",
       "      <th>model_latencies_p99</th>\n",
       "      <th>cpu_usage_count_avg</th>\n",
       "      <th>model_latencies_avg</th>\n",
       "    </tr>\n",
       "  </thead>\n",
       "  <tbody>\n",
       "    <tr>\n",
       "      <th>0</th>\n",
       "      <td>resnet18</td>\n",
       "      <td>1</td>\n",
       "      <td>1</td>\n",
       "      <td>1</td>\n",
       "      <td>16.995385</td>\n",
       "      <td>12.749535</td>\n",
       "      <td>73.488261</td>\n",
       "      <td>2.791182</td>\n",
       "    </tr>\n",
       "    <tr>\n",
       "      <th>1</th>\n",
       "      <td>resnet18</td>\n",
       "      <td>1</td>\n",
       "      <td>2</td>\n",
       "      <td>1</td>\n",
       "      <td>4.898925</td>\n",
       "      <td>4.221668</td>\n",
       "      <td>86.234351</td>\n",
       "      <td>1.561864</td>\n",
       "    </tr>\n",
       "    <tr>\n",
       "      <th>2</th>\n",
       "      <td>resnet18</td>\n",
       "      <td>1</td>\n",
       "      <td>4</td>\n",
       "      <td>1</td>\n",
       "      <td>4.558861</td>\n",
       "      <td>2.368094</td>\n",
       "      <td>52.109925</td>\n",
       "      <td>0.361478</td>\n",
       "    </tr>\n",
       "    <tr>\n",
       "      <th>3</th>\n",
       "      <td>resnet18</td>\n",
       "      <td>1</td>\n",
       "      <td>8</td>\n",
       "      <td>1</td>\n",
       "      <td>3.716017</td>\n",
       "      <td>2.834688</td>\n",
       "      <td>93.214282</td>\n",
       "      <td>0.421633</td>\n",
       "    </tr>\n",
       "    <tr>\n",
       "      <th>4</th>\n",
       "      <td>resnet18</td>\n",
       "      <td>1</td>\n",
       "      <td>16</td>\n",
       "      <td>1</td>\n",
       "      <td>0.448292</td>\n",
       "      <td>0.315084</td>\n",
       "      <td>38.664865</td>\n",
       "      <td>0.071729</td>\n",
       "    </tr>\n",
       "  </tbody>\n",
       "</table>\n",
       "</div>"
      ],
      "text/plain": [
       "  model_variant  max_batch_size  cpu_request  load  model_latencies_max  \\\n",
       "0      resnet18               1            1     1            16.995385   \n",
       "1      resnet18               1            2     1             4.898925   \n",
       "2      resnet18               1            4     1             4.558861   \n",
       "3      resnet18               1            8     1             3.716017   \n",
       "4      resnet18               1           16     1             0.448292   \n",
       "\n",
       "   model_latencies_p99  cpu_usage_count_avg  model_latencies_avg  \n",
       "0            12.749535            73.488261             2.791182  \n",
       "1             4.221668            86.234351             1.561864  \n",
       "2             2.368094            52.109925             0.361478  \n",
       "3             2.834688            93.214282             0.421633  \n",
       "4             0.315084            38.664865             0.071729  "
      ]
     },
     "metadata": {},
     "output_type": "display_data"
    },
    {
     "data": {
      "text/plain": [
       "Text(0, 0.5, 'Latency (seconds)')"
      ]
     },
     "execution_count": 5,
     "metadata": {},
     "output_type": "execute_result"
    },
    {
     "data": {
      "image/png": "[encoded data removed]",
      "text/plain": [
       "<Figure size 640x480 with 1 Axes>"
      ]
     },
     "metadata": {},
     "output_type": "display_data"
    }
   ],
   "source": [
    "experiment_ids = key_config_df[\n",
    "    (key_config_df['model_variant'] == 'resnet18') &\n",
    "    (key_config_df['load'] == 1)]['experiment_id'].tolist()\n",
    "metadata_columns = ['model_variant', 'max_batch_size', 'cpu_request', 'load']\n",
    "results_columns = ['model_latencies_max', 'model_latencies_p99', 'cpu_usage_count_avg', 'model_latencies_avg']\n",
    "output = loader.table_maker(\n",
    "    experiment_ids=experiment_ids,\n",
    "    metadata_columns=metadata_columns,\n",
    "    results_columns=results_columns)\n",
    "display(output)\n",
    "ax = output.plot.bar(x='cpu_request', y=['model_latencies_max', 'model_latencies_p99', 'model_latencies_avg'])\n",
    "ax.set_xlabel(\"CPU Allocation (Cores)\")\n",
    "ax.set_ylabel(\"Latency (seconds)\")"
   ]
  },
  {
   "cell_type": "code",
   "execution_count": 6,
   "id": "56707b42",
   "metadata": {},
   "outputs": [
    {
     "data": {
      "text/html": [
       "<div>\n",
       "<style scoped>\n",
       "    .dataframe tbody tr th:only-of-type {\n",
       "        vertical-align: middle;\n",
       "    }\n",
       "\n",
       "    .dataframe tbody tr th {\n",
       "        vertical-align: top;\n",
       "    }\n",
       "\n",
       "    .dataframe thead th {\n",
       "        text-align: right;\n",
       "    }\n",
       "</style>\n",
       "<table border=\"1\" class=\"dataframe\">\n",
       "  <thead>\n",
       "    <tr style=\"text-align: right;\">\n",
       "      <th></th>\n",
       "      <th>model_variant</th>\n",
       "      <th>max_batch_size</th>\n",
       "      <th>cpu_request</th>\n",
       "      <th>model_latencies_p99</th>\n",
       "      <th>cpu_usage_count_avg</th>\n",
       "      <th>model_latencies_avg</th>\n",
       "    </tr>\n",
       "  </thead>\n",
       "  <tbody>\n",
       "    <tr>\n",
       "      <th>0</th>\n",
       "      <td>resnet18</td>\n",
       "      <td>1</td>\n",
       "      <td>1</td>\n",
       "      <td>2.826133</td>\n",
       "      <td>54.230237</td>\n",
       "      <td>1.289335</td>\n",
       "    </tr>\n",
       "    <tr>\n",
       "      <th>1</th>\n",
       "      <td>resnet18</td>\n",
       "      <td>1</td>\n",
       "      <td>2</td>\n",
       "      <td>2.048117</td>\n",
       "      <td>70.180204</td>\n",
       "      <td>0.921139</td>\n",
       "    </tr>\n",
       "    <tr>\n",
       "      <th>2</th>\n",
       "      <td>resnet18</td>\n",
       "      <td>1</td>\n",
       "      <td>4</td>\n",
       "      <td>0.484963</td>\n",
       "      <td>41.359065</td>\n",
       "      <td>0.148692</td>\n",
       "    </tr>\n",
       "    <tr>\n",
       "      <th>3</th>\n",
       "      <td>resnet18</td>\n",
       "      <td>1</td>\n",
       "      <td>8</td>\n",
       "      <td>0.094098</td>\n",
       "      <td>27.437177</td>\n",
       "      <td>0.032459</td>\n",
       "    </tr>\n",
       "    <tr>\n",
       "      <th>4</th>\n",
       "      <td>resnet18</td>\n",
       "      <td>1</td>\n",
       "      <td>16</td>\n",
       "      <td>0.062366</td>\n",
       "      <td>26.770908</td>\n",
       "      <td>0.031006</td>\n",
       "    </tr>\n",
       "  </tbody>\n",
       "</table>\n",
       "</div>"
      ],
      "text/plain": [
       "  model_variant  max_batch_size  cpu_request  model_latencies_p99  \\\n",
       "0      resnet18               1            1             2.826133   \n",
       "1      resnet18               1            2             2.048117   \n",
       "2      resnet18               1            4             0.484963   \n",
       "3      resnet18               1            8             0.094098   \n",
       "4      resnet18               1           16             0.062366   \n",
       "\n",
       "   cpu_usage_count_avg  model_latencies_avg  \n",
       "0            54.230237             1.289335  \n",
       "1            70.180204             0.921139  \n",
       "2            41.359065             0.148692  \n",
       "3            27.437177             0.032459  \n",
       "4            26.770908             0.031006  "
      ]
     },
     "metadata": {},
     "output_type": "display_data"
    },
    {
     "data": {
      "text/plain": [
       "Text(0, 0.5, 'Latency (seconds)')"
      ]
     },
     "execution_count": 6,
     "metadata": {},
     "output_type": "execute_result"
    },
    {
     "data": {
      "image/png": "[encoded data removed]",
      "text/plain": [
       "<Figure size 640x480 with 1 Axes>"
      ]
     },
     "metadata": {},
     "output_type": "display_data"
    }
   ],
   "source": [
    "experiment_ids = key_config_df[\n",
    "    key_config_df['model_variant'] == 'resnet18']['experiment_id'].tolist()\n",
    "metadata_columns = ['model_variant', 'max_batch_size', 'cpu_request']\n",
    "results_columns = ['model_latencies_p99', 'cpu_usage_count_avg', 'model_latencies_avg']\n",
    "output = loader.table_maker(\n",
    "    experiment_ids=experiment_ids,\n",
    "    metadata_columns=metadata_columns,\n",
    "    results_columns=results_columns)\n",
    "display(output)\n",
    "ax = output.plot.bar(x='cpu_request', y=['model_latencies_p99', 'model_latencies_avg'])\n",
    "ax.set_xlabel(\"CPU Allocation (Cores)\")\n",
    "ax.set_ylabel(\"Latency (seconds)\")"
   ]
  },
  {
   "cell_type": "code",
   "execution_count": null,
   "id": "8fe3d3d3",
   "metadata": {},
   "outputs": [],
   "source": []
  },
  {
   "cell_type": "code",
   "execution_count": null,
   "id": "2779d02f",
   "metadata": {},
   "outputs": [],
   "source": []
  },
  {
   "cell_type": "code",
   "execution_count": null,
   "id": "f860db5b",
   "metadata": {},
   "outputs": [],
   "source": []
  }
 ],
 "metadata": {
  "kernelspec": {
   "display_name": "Python 3.8.13 ('central')",
   "language": "python",
   "name": "python3"
  },
  "language_info": {
   "codemirror_mode": {
    "name": "ipython",
    "version": 3
   },
   "file_extension": ".py",
   "mimetype": "text/x-python",
   "name": "python",
   "nbconvert_exporter": "python",
   "pygments_lexer": "ipython3",
   "version": "3.9.15 (main, Nov 24 2022, 14:31:59) \n[GCC 11.2.0]"
  },
  "vscode": {
   "interpreter": {
    "hash": "2465c4f56298bc06dbdad3e7519856d346ec0e9edf6ba2c905f0af711583810e"
   }
  }
 },
 "nbformat": 4,
 "nbformat_minor": 5
}
