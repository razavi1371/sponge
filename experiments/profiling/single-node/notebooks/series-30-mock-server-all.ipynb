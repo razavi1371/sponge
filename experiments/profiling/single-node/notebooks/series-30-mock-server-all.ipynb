{
 "cells": [
  {
   "cell_type": "markdown",
   "id": "b93d6f0e",
   "metadata": {},
   "source": [
    "## containerized"
   ]
  },
  {
   "cell_type": "code",
   "execution_count": 1,
   "id": "bde05b26",
   "metadata": {},
   "outputs": [],
   "source": [
    "import pandas as pd\n",
    "import numpy as np\n",
    "import os\n",
    "import matplotlib.pyplot as plt\n",
    "import json\n",
    "from copy import deepcopy\n",
    "import random\n",
    "import sys\n",
    "import time\n",
    "from typing import List\n",
    "from pprint import PrettyPrinter\n",
    "\n",
    "pp = PrettyPrinter(indent=4)\n",
    "\n",
    "# get an absolute path to the directory that contains parent files\n",
    "project_dir = globals()[\"_dh\"][0]\n",
    "sys.path.append(os.path.normpath(os.path.join(project_dir, \"..\", \"..\", \"..\", \"..\")))\n",
    "\n",
    "from experiments.utils.constants import (\n",
    "    PIPLINES_PATH,\n",
    "    NODE_PROFILING_CONFIGS_PATH,\n",
    "    NODE_PROFILING_RESULTS_PATH,\n",
    ")\n",
    "from experiments.utils.parser import Parser"
   ]
  },
  {
   "cell_type": "code",
   "execution_count": 11,
   "id": "f5632e5b",
   "metadata": {},
   "outputs": [
    {
     "name": "stdout",
     "output_type": "stream",
     "text": [
      "excepted-1!\n",
      "excepted-1!\n",
      "excepted-1!\n",
      "excepted-1!\n",
      "excepted-1!\n",
      "excepted-1!\n",
      "excepted-1!\n",
      "excepted-1!\n"
     ]
    },
    {
     "data": {
      "text/html": [
       "<div>\n",
       "<style scoped>\n",
       "    .dataframe tbody tr th:only-of-type {\n",
       "        vertical-align: middle;\n",
       "    }\n",
       "\n",
       "    .dataframe tbody tr th {\n",
       "        vertical-align: top;\n",
       "    }\n",
       "\n",
       "    .dataframe thead th {\n",
       "        text-align: right;\n",
       "    }\n",
       "</style>\n",
       "<table border=\"1\" class=\"dataframe\">\n",
       "  <thead>\n",
       "    <tr style=\"text-align: right;\">\n",
       "      <th></th>\n",
       "      <th>experiment_id</th>\n",
       "      <th>pipeline_name</th>\n",
       "      <th>node_name</th>\n",
       "      <th>model_variant</th>\n",
       "      <th>cpu_request</th>\n",
       "      <th>memory_request</th>\n",
       "      <th>max_batch_size</th>\n",
       "      <th>max_batch_time</th>\n",
       "      <th>load</th>\n",
       "      <th>load_duration</th>\n",
       "      <th>series</th>\n",
       "      <th>series_meta</th>\n",
       "      <th>replicas</th>\n",
       "      <th>no_engine</th>\n",
       "    </tr>\n",
       "  </thead>\n",
       "  <tbody>\n",
       "    <tr>\n",
       "      <th>0</th>\n",
       "      <td>1</td>\n",
       "      <td>6-mlserver-mock</td>\n",
       "      <td>mock-one</td>\n",
       "      <td>0</td>\n",
       "      <td>4</td>\n",
       "      <td>8Gi</td>\n",
       "      <td>1</td>\n",
       "      <td>1</td>\n",
       "      <td>40</td>\n",
       "      <td>60</td>\n",
       "      <td>30</td>\n",
       "      <td>none-containerized</td>\n",
       "      <td>1</td>\n",
       "      <td>False</td>\n",
       "    </tr>\n",
       "    <tr>\n",
       "      <th>1</th>\n",
       "      <td>2</td>\n",
       "      <td>6-mlserver-mock</td>\n",
       "      <td>mock-one</td>\n",
       "      <td>0</td>\n",
       "      <td>4</td>\n",
       "      <td>8Gi</td>\n",
       "      <td>1</td>\n",
       "      <td>1</td>\n",
       "      <td>40</td>\n",
       "      <td>60</td>\n",
       "      <td>30</td>\n",
       "      <td>none-containerized</td>\n",
       "      <td>1</td>\n",
       "      <td>False</td>\n",
       "    </tr>\n",
       "    <tr>\n",
       "      <th>2</th>\n",
       "      <td>3</td>\n",
       "      <td>6-mlserver-mock</td>\n",
       "      <td>mock-one</td>\n",
       "      <td>0</td>\n",
       "      <td>4</td>\n",
       "      <td>8Gi</td>\n",
       "      <td>1</td>\n",
       "      <td>1</td>\n",
       "      <td>40</td>\n",
       "      <td>60</td>\n",
       "      <td>30</td>\n",
       "      <td>none-containerized</td>\n",
       "      <td>1</td>\n",
       "      <td>False</td>\n",
       "    </tr>\n",
       "  </tbody>\n",
       "</table>\n",
       "</div>"
      ],
      "text/plain": [
       "   experiment_id    pipeline_name node_name  model_variant  cpu_request  \\\n",
       "0              1  6-mlserver-mock  mock-one              0            4   \n",
       "1              2  6-mlserver-mock  mock-one              0            4   \n",
       "2              3  6-mlserver-mock  mock-one              0            4   \n",
       "\n",
       "  memory_request  max_batch_size  max_batch_time  load  load_duration  series  \\\n",
       "0            8Gi               1               1    40             60      30   \n",
       "1            8Gi               1               1    40             60      30   \n",
       "2            8Gi               1               1    40             60      30   \n",
       "\n",
       "          series_meta  replicas  no_engine  \n",
       "0  none-containerized         1      False  \n",
       "1  none-containerized         1      False  \n",
       "2  none-containerized         1      False  "
      ]
     },
     "metadata": {},
     "output_type": "display_data"
    }
   ],
   "source": [
    "series = 30\n",
    "experiment_id = 2\n",
    "config_key_mapper = \"key_config_mapper.csv\"\n",
    "\n",
    "series_path = os.path.join(NODE_PROFILING_RESULTS_PATH, \"series\", str(series))\n",
    "loader1 = Loader(\n",
    "    series_path=series_path,\n",
    "    config_key_mapper=config_key_mapper,\n",
    "    second_node=False,\n",
    "    type_of=\"node\",\n",
    ")\n",
    "loader2 = Loader(\n",
    "    series_path=series_path,\n",
    "    config_key_mapper=config_key_mapper,\n",
    "    second_node=False,\n",
    "    type_of=\"node_with_log\",\n",
    ")\n",
    "results_1 = loader1.result_processing()\n",
    "results_2 = loader2.result_processing()\n",
    "key_config_df = loader1.key_config_mapper()\n",
    "# print(results.columns)\n",
    "# print(key_config_df.columns)\n",
    "# results\n",
    "display(key_config_df)"
   ]
  },
  {
   "cell_type": "code",
   "execution_count": 12,
   "id": "1db69e98",
   "metadata": {},
   "outputs": [
    {
     "data": {
      "text/plain": [
       "Index(['experiment_id', 'client_to_model_latencies_avg',\n",
       "       'client_to_model_latencies_p99', 'client_to_model_latencies_p50',\n",
       "       'client_to_model_latencies_var', 'client_to_model_latencies_max',\n",
       "       'client_to_model_latencies_min', 'model_latencies_avg',\n",
       "       'model_latencies_p99', 'model_latencies_p50', 'model_latencies_var',\n",
       "       'model_latencies_max', 'model_latencies_min',\n",
       "       'model_to_client_latencies_avg', 'model_to_client_latencies_p99',\n",
       "       'model_to_client_latencies_p50', 'model_to_client_latencies_var',\n",
       "       'model_to_client_latencies_max', 'model_to_client_latencies_min',\n",
       "       'start_time', 'end_time', 'duration', 'timeout_count',\n",
       "       'cpu_usage_count_avg', 'cpu_usage_count_p99', 'cpu_usage_count_p50',\n",
       "       'cpu_usage_count_var', 'cpu_usage_count_max', 'cpu_usage_count_min',\n",
       "       'cpu_usage_rate_avg', 'cpu_usage_rate_p99', 'cpu_usage_rate_p50',\n",
       "       'cpu_usage_rate_var', 'cpu_usage_rate_max', 'cpu_usage_rate_min',\n",
       "       'cpu_throttled_count_avg', 'cpu_throttled_count_p99',\n",
       "       'cpu_throttled_count_p50', 'cpu_throttled_count_var',\n",
       "       'cpu_throttled_count_max', 'cpu_throttled_count_min',\n",
       "       'cpu_throttled_rate_avg', 'cpu_throttled_rate_p99',\n",
       "       'cpu_throttled_rate_p50', 'cpu_throttled_rate_var',\n",
       "       'cpu_throttled_rate_max', 'cpu_throttled_rate_min', 'memory_usage_avg',\n",
       "       'memory_usage_p99', 'memory_usage_p50', 'memory_usage_var',\n",
       "       'memory_usage_max', 'memory_usage_min', 'throughput_avg',\n",
       "       'throughput_p99', 'throughput_p50', 'throughput_var', 'throughput_max',\n",
       "       'throughput_min'],\n",
       "      dtype='object')"
      ]
     },
     "execution_count": 12,
     "metadata": {},
     "output_type": "execute_result"
    }
   ],
   "source": [
    "results_1.keys()"
   ]
  },
  {
   "cell_type": "code",
   "execution_count": 13,
   "id": "766e2f0e",
   "metadata": {},
   "outputs": [
    {
     "data": {
      "text/plain": [
       "Index(['experiment_id', 'client_to_svc_latencies_avg',\n",
       "       'client_to_svc_latencies_p99', 'client_to_svc_latencies_p50',\n",
       "       'client_to_svc_latencies_var', 'client_to_svc_latencies_max',\n",
       "       'client_to_svc_latencies_min', 'svc_latencies_avg', 'svc_latencies_p99',\n",
       "       'svc_latencies_p50', 'svc_latencies_var', 'svc_latencies_max',\n",
       "       'svc_latencies_min', 'svc_to_model_latencies_avg',\n",
       "       'svc_to_model_latencies_p99', 'svc_to_model_latencies_p50',\n",
       "       'svc_to_model_latencies_var', 'svc_to_model_latencies_max',\n",
       "       'svc_to_model_latencies_min', 'model_latencies_avg',\n",
       "       'model_latencies_p99', 'model_latencies_p50', 'model_latencies_var',\n",
       "       'model_latencies_max', 'model_latencies_min',\n",
       "       'model_to_client_latencies_avg', 'model_to_client_latencies_p99',\n",
       "       'model_to_client_latencies_p50', 'model_to_client_latencies_var',\n",
       "       'model_to_client_latencies_max', 'model_to_client_latencies_min',\n",
       "       'start_time', 'end_time', 'duration', 'timeout_count',\n",
       "       'cpu_usage_count_avg', 'cpu_usage_count_p99', 'cpu_usage_count_p50',\n",
       "       'cpu_usage_count_var', 'cpu_usage_count_max', 'cpu_usage_count_min',\n",
       "       'cpu_usage_rate_avg', 'cpu_usage_rate_p99', 'cpu_usage_rate_p50',\n",
       "       'cpu_usage_rate_var', 'cpu_usage_rate_max', 'cpu_usage_rate_min',\n",
       "       'cpu_throttled_count_avg', 'cpu_throttled_count_p99',\n",
       "       'cpu_throttled_count_p50', 'cpu_throttled_count_var',\n",
       "       'cpu_throttled_count_max', 'cpu_throttled_count_min',\n",
       "       'cpu_throttled_rate_avg', 'cpu_throttled_rate_p99',\n",
       "       'cpu_throttled_rate_p50', 'cpu_throttled_rate_var',\n",
       "       'cpu_throttled_rate_max', 'cpu_throttled_rate_min', 'memory_usage_avg',\n",
       "       'memory_usage_p99', 'memory_usage_p50', 'memory_usage_var',\n",
       "       'memory_usage_max', 'memory_usage_min', 'throughput_avg',\n",
       "       'throughput_p99', 'throughput_p50', 'throughput_var', 'throughput_max',\n",
       "       'throughput_min'],\n",
       "      dtype='object')"
      ]
     },
     "execution_count": 13,
     "metadata": {},
     "output_type": "execute_result"
    }
   ],
   "source": [
    "results_2.keys()"
   ]
  },
  {
   "cell_type": "code",
   "execution_count": 4,
   "id": "408e420a",
   "metadata": {},
   "outputs": [
    {
     "name": "stdout",
     "output_type": "stream",
     "text": [
      "File name: 0.yaml\n",
      "{   'cpu_request': ['4'],\n",
      "    'data_type': 'audio',\n",
      "    'max_batch_size': ['1', '1', '1'],\n",
      "    'max_batch_time': ['1'],\n",
      "    'memory_request': ['8Gi'],\n",
      "    'model_variants': ['0'],\n",
      "    'no_engine': False,\n",
      "    'node_name': 'mock-one',\n",
      "    'pipeline_name': '6-mlserver-mock',\n",
      "    'repetition': 1,\n",
      "    'replicas': [1],\n",
      "    'series': 30,\n",
      "    'series_meta': 'none-containerized',\n",
      "    'timeout': 150,\n",
      "    'workload_config': {'load_duration': 60, 'loads_to_test': [40]},\n",
      "    'workload_type': 'static'}\n",
      "File name: 1.yaml\n",
      "{   'cpu_request': ['4'],\n",
      "    'data_type': 'audio',\n",
      "    'max_batch_size': ['1', '1', '1'],\n",
      "    'max_batch_time': ['1'],\n",
      "    'memory_request': ['8Gi'],\n",
      "    'model_variants': ['0'],\n",
      "    'no_engine': False,\n",
      "    'node_name': 'mock-one',\n",
      "    'pipeline_name': '6-mlserver-mock',\n",
      "    'repetition': 1,\n",
      "    'replicas': [1],\n",
      "    'series': 30,\n",
      "    'series_meta': 'none-containerized',\n",
      "    'timeout': 150,\n",
      "    'workload_config': {'load_duration': 60, 'loads_to_test': [40]},\n",
      "    'workload_type': 'static'}\n"
     ]
    }
   ],
   "source": [
    "configs = loader1.load_configs()\n",
    "for config_name, config in configs.items():\n",
    "    print(f\"File name: {config_name}\")\n",
    "    pp.pprint(config)"
   ]
  },
  {
   "cell_type": "code",
   "execution_count": 14,
   "id": "d7e539ce",
   "metadata": {},
   "outputs": [
    {
     "name": "stdout",
     "output_type": "stream",
     "text": [
      "excepted-1!\n",
      "excepted-1!\n",
      "excepted-1!\n",
      "excepted-1!\n"
     ]
    },
    {
     "data": {
      "text/html": [
       "<div>\n",
       "<style scoped>\n",
       "    .dataframe tbody tr th:only-of-type {\n",
       "        vertical-align: middle;\n",
       "    }\n",
       "\n",
       "    .dataframe tbody tr th {\n",
       "        vertical-align: top;\n",
       "    }\n",
       "\n",
       "    .dataframe thead th {\n",
       "        text-align: right;\n",
       "    }\n",
       "</style>\n",
       "<table border=\"1\" class=\"dataframe\">\n",
       "  <thead>\n",
       "    <tr style=\"text-align: right;\">\n",
       "      <th></th>\n",
       "      <th>model_variant</th>\n",
       "      <th>max_batch_size</th>\n",
       "      <th>cpu_request</th>\n",
       "      <th>load</th>\n",
       "      <th>client_to_model_latencies_avg</th>\n",
       "      <th>model_latencies_avg</th>\n",
       "      <th>model_to_client_latencies_avg</th>\n",
       "    </tr>\n",
       "  </thead>\n",
       "  <tbody>\n",
       "    <tr>\n",
       "      <th>0</th>\n",
       "      <td>0</td>\n",
       "      <td>1</td>\n",
       "      <td>4</td>\n",
       "      <td>40</td>\n",
       "      <td>39.883735</td>\n",
       "      <td>0.008705</td>\n",
       "      <td>5.204432</td>\n",
       "    </tr>\n",
       "    <tr>\n",
       "      <th>1</th>\n",
       "      <td>0</td>\n",
       "      <td>1</td>\n",
       "      <td>4</td>\n",
       "      <td>40</td>\n",
       "      <td>39.949860</td>\n",
       "      <td>0.008839</td>\n",
       "      <td>5.229763</td>\n",
       "    </tr>\n",
       "    <tr>\n",
       "      <th>2</th>\n",
       "      <td>0</td>\n",
       "      <td>1</td>\n",
       "      <td>4</td>\n",
       "      <td>40</td>\n",
       "      <td>39.691746</td>\n",
       "      <td>0.008695</td>\n",
       "      <td>5.185646</td>\n",
       "    </tr>\n",
       "  </tbody>\n",
       "</table>\n",
       "</div>"
      ],
      "text/plain": [
       "   model_variant  max_batch_size  cpu_request  load  \\\n",
       "0              0               1            4    40   \n",
       "1              0               1            4    40   \n",
       "2              0               1            4    40   \n",
       "\n",
       "   client_to_model_latencies_avg  model_latencies_avg  \\\n",
       "0                      39.883735             0.008705   \n",
       "1                      39.949860             0.008839   \n",
       "2                      39.691746             0.008695   \n",
       "\n",
       "   model_to_client_latencies_avg  \n",
       "0                       5.204432  \n",
       "1                       5.229763  \n",
       "2                       5.185646  "
      ]
     },
     "metadata": {},
     "output_type": "display_data"
    },
    {
     "data": {
      "text/plain": [
       "Text(0, 0.5, 'Latency (seconds)')"
      ]
     },
     "execution_count": 14,
     "metadata": {},
     "output_type": "execute_result"
    },
    {
     "data": {
      "image/png": "[encoded data removed]",
      "text/plain": [
       "<Figure size 640x480 with 1 Axes>"
      ]
     },
     "metadata": {},
     "output_type": "display_data"
    }
   ],
   "source": [
    "model_variant = 0\n",
    "experiment_ids = key_config_df[key_config_df[\"model_variant\"] == model_variant][\n",
    "    \"experiment_id\"\n",
    "].tolist()\n",
    "metadata_columns = [\"model_variant\", \"max_batch_size\", \"cpu_request\", \"load\"]\n",
    "results_columns = [\n",
    "    \"client_to_model_latencies_avg\",\n",
    "    \"model_latencies_avg\",\n",
    "    \"model_to_client_latencies_avg\",\n",
    "]\n",
    "output = loader1.table_maker(\n",
    "    experiment_ids=experiment_ids,\n",
    "    metadata_columns=metadata_columns,\n",
    "    results_columns=results_columns,\n",
    ")\n",
    "display(output)\n",
    "ax = output.plot.bar(\n",
    "    x=\"load\",\n",
    "    y=[\n",
    "        \"client_to_model_latencies_avg\",\n",
    "        \"model_latencies_avg\",\n",
    "        \"model_to_client_latencies_avg\",\n",
    "    ],\n",
    ")\n",
    "ax.set_xlabel(\"Load\")\n",
    "ax.set_ylabel(\"Latency (seconds)\")"
   ]
  },
  {
   "cell_type": "code",
   "execution_count": 15,
   "id": "fcd7192b",
   "metadata": {},
   "outputs": [
    {
     "name": "stdout",
     "output_type": "stream",
     "text": [
      "excepted-1!\n",
      "excepted-1!\n",
      "excepted-1!\n",
      "excepted-1!\n"
     ]
    },
    {
     "data": {
      "text/html": [
       "<div>\n",
       "<style scoped>\n",
       "    .dataframe tbody tr th:only-of-type {\n",
       "        vertical-align: middle;\n",
       "    }\n",
       "\n",
       "    .dataframe tbody tr th {\n",
       "        vertical-align: top;\n",
       "    }\n",
       "\n",
       "    .dataframe thead th {\n",
       "        text-align: right;\n",
       "    }\n",
       "</style>\n",
       "<table border=\"1\" class=\"dataframe\">\n",
       "  <thead>\n",
       "    <tr style=\"text-align: right;\">\n",
       "      <th></th>\n",
       "      <th>model_variant</th>\n",
       "      <th>max_batch_size</th>\n",
       "      <th>cpu_request</th>\n",
       "      <th>load</th>\n",
       "      <th>client_to_svc_latencies_avg</th>\n",
       "      <th>svc_latencies_avg</th>\n",
       "      <th>svc_to_model_latencies_avg</th>\n",
       "      <th>model_latencies_avg</th>\n",
       "      <th>model_to_client_latencies_avg</th>\n",
       "    </tr>\n",
       "  </thead>\n",
       "  <tbody>\n",
       "    <tr>\n",
       "      <th>0</th>\n",
       "      <td>0</td>\n",
       "      <td>1</td>\n",
       "      <td>4</td>\n",
       "      <td>40</td>\n",
       "      <td>39.443364</td>\n",
       "      <td>0.053031</td>\n",
       "      <td>-0.008705</td>\n",
       "      <td>0.008705</td>\n",
       "      <td>5.204432</td>\n",
       "    </tr>\n",
       "    <tr>\n",
       "      <th>1</th>\n",
       "      <td>0</td>\n",
       "      <td>1</td>\n",
       "      <td>4</td>\n",
       "      <td>40</td>\n",
       "      <td>39.500999</td>\n",
       "      <td>0.051691</td>\n",
       "      <td>-0.008839</td>\n",
       "      <td>0.008839</td>\n",
       "      <td>5.229763</td>\n",
       "    </tr>\n",
       "    <tr>\n",
       "      <th>2</th>\n",
       "      <td>0</td>\n",
       "      <td>1</td>\n",
       "      <td>4</td>\n",
       "      <td>40</td>\n",
       "      <td>39.248690</td>\n",
       "      <td>0.055400</td>\n",
       "      <td>-0.008695</td>\n",
       "      <td>0.008695</td>\n",
       "      <td>5.185646</td>\n",
       "    </tr>\n",
       "  </tbody>\n",
       "</table>\n",
       "</div>"
      ],
      "text/plain": [
       "   model_variant  max_batch_size  cpu_request  load  \\\n",
       "0              0               1            4    40   \n",
       "1              0               1            4    40   \n",
       "2              0               1            4    40   \n",
       "\n",
       "   client_to_svc_latencies_avg  svc_latencies_avg  svc_to_model_latencies_avg  \\\n",
       "0                    39.443364           0.053031                   -0.008705   \n",
       "1                    39.500999           0.051691                   -0.008839   \n",
       "2                    39.248690           0.055400                   -0.008695   \n",
       "\n",
       "   model_latencies_avg  model_to_client_latencies_avg  \n",
       "0             0.008705                       5.204432  \n",
       "1             0.008839                       5.229763  \n",
       "2             0.008695                       5.185646  "
      ]
     },
     "metadata": {},
     "output_type": "display_data"
    },
    {
     "data": {
      "text/plain": [
       "Text(0, 0.5, 'Latency (seconds)')"
      ]
     },
     "execution_count": 15,
     "metadata": {},
     "output_type": "execute_result"
    },
    {
     "data": {
      "image/png": "[encoded data removed]",
      "text/plain": [
       "<Figure size 640x480 with 1 Axes>"
      ]
     },
     "metadata": {},
     "output_type": "display_data"
    }
   ],
   "source": [
    "model_variant = 0\n",
    "experiment_ids = key_config_df[key_config_df[\"model_variant\"] == model_variant][\n",
    "    \"experiment_id\"\n",
    "].tolist()\n",
    "metadata_columns = [\"model_variant\", \"max_batch_size\", \"cpu_request\", \"load\"]\n",
    "results_columns = [\n",
    "    \"client_to_svc_latencies_avg\",\n",
    "    \"svc_latencies_avg\",\n",
    "    \"svc_to_model_latencies_avg\",\n",
    "    \"model_latencies_avg\",\n",
    "    \"model_to_client_latencies_avg\",\n",
    "]\n",
    "output = loader2.table_maker(\n",
    "    experiment_ids=experiment_ids,\n",
    "    metadata_columns=metadata_columns,\n",
    "    results_columns=results_columns,\n",
    ")\n",
    "display(output)\n",
    "ax = output.plot.bar(\n",
    "    x=\"load\",\n",
    "    y=[\n",
    "        \"client_to_svc_latencies_avg\",\n",
    "        \"svc_latencies_avg\",\n",
    "        \"svc_to_model_latencies_avg\",\n",
    "        \"model_latencies_avg\",\n",
    "        \"model_to_client_latencies_avg\",\n",
    "    ],\n",
    ")\n",
    "ax.set_xlabel(\"Load\")\n",
    "ax.set_ylabel(\"Latency (seconds)\")"
   ]
  },
  {
   "cell_type": "code",
   "execution_count": null,
   "id": "ef554365",
   "metadata": {},
   "outputs": [],
   "source": []
  },
  {
   "cell_type": "code",
   "execution_count": null,
   "id": "33dc8ad9",
   "metadata": {},
   "outputs": [],
   "source": []
  },
  {
   "cell_type": "code",
   "execution_count": null,
   "id": "b3c2e70c",
   "metadata": {},
   "outputs": [],
   "source": []
  },
  {
   "cell_type": "code",
   "execution_count": null,
   "id": "1727282f",
   "metadata": {},
   "outputs": [],
   "source": []
  }
 ],
 "metadata": {
  "kernelspec": {
   "display_name": "Python 3.8.13 ('central')",
   "language": "python",
   "name": "python3"
  },
  "language_info": {
   "codemirror_mode": {
    "name": "ipython",
    "version": 3
   },
   "file_extension": ".py",
   "mimetype": "text/x-python",
   "name": "python",
   "nbconvert_exporter": "python",
   "pygments_lexer": "ipython3",
   "version": "3.8.13"
  },
  "vscode": {
   "interpreter": {
    "hash": "2465c4f56298bc06dbdad3e7519856d346ec0e9edf6ba2c905f0af711583810e"
   }
  }
 },
 "nbformat": 4,
 "nbformat_minor": 5
}
