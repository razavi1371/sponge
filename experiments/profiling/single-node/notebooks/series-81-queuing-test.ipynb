{
 "cells": [
  {
   "attachments": {},
   "cell_type": "markdown",
   "id": "b93d6f0e",
   "metadata": {},
   "source": [
    "## PyTorch Resnets"
   ]
  },
  {
   "cell_type": "code",
   "execution_count": 42,
   "id": "bde05b26",
   "metadata": {},
   "outputs": [],
   "source": [
    "import pandas as pd\n",
    "import numpy as np\n",
    "import os\n",
    "import matplotlib.pyplot as plt\n",
    "import json\n",
    "from copy import deepcopy\n",
    "import random\n",
    "import sys\n",
    "import time\n",
    "from typing import List\n",
    "from pprint import PrettyPrinter\n",
    "\n",
    "pp = PrettyPrinter(indent=4)\n",
    "\n",
    "# get an absolute path to the directory that contains parent files\n",
    "project_dir = globals()[\"_dh\"][0]\n",
    "sys.path.append(os.path.normpath(os.path.join(project_dir, \"..\", \"..\", \"..\", \"..\")))\n",
    "\n",
    "from experiments.utils.constants import (\n",
    "    PIPLINES_PATH,\n",
    "    NODE_PROFILING_CONFIGS_PATH,\n",
    "    NODE_PROFILING_RESULTS_PATH,\n",
    ")\n",
    "from experiments.utils.parser import Parser"
   ]
  },
  {
   "cell_type": "code",
   "execution_count": 52,
   "id": "f5632e5b",
   "metadata": {},
   "outputs": [],
   "source": [
    "series = 81\n",
    "experiment_id = 1\n",
    "config_key_mapper = \"key_config_mapper.csv\"\n",
    "model_name = \"resnet-human\"\n",
    "series_path = os.path.join(NODE_PROFILING_RESULTS_PATH, \"series\", str(series))\n",
    "loader = Parser(\n",
    "    series_path=series_path, config_key_mapper=config_key_mapper, model_name=model_name\n",
    ")\n",
    "results = loader.result_processing()\n",
    "key_config_df = loader.key_config_mapper()\n",
    "# print(results.columns)\n",
    "# print(key_config_df.columns)\n",
    "# results"
   ]
  },
  {
   "cell_type": "code",
   "execution_count": 44,
   "id": "553085fa",
   "metadata": {},
   "outputs": [],
   "source": [
    "# results = loader._read_results(selected)\n",
    "# final_dataframe = []\n",
    "# for experiment_id, result in results.items():\n",
    "#     processed_exp = {'experiment_id': int(experiment_id)}\n",
    "#     flattened_results = self.flatten_results(\n",
    "#         results[str(experiment_id)]['responses'])\n",
    "#     if log is not None:\n",
    "#         latencies, timeout_count = self.latency_calculator(\n",
    "#             flattened_results, log[experiment_id])\n",
    "#     else:\n",
    "#         latencies, timeout_count = self.latency_calculator(\n",
    "#             flattened_results, log)"
   ]
  },
  {
   "cell_type": "code",
   "execution_count": 45,
   "id": "eea4e577",
   "metadata": {},
   "outputs": [
    {
     "data": {
      "text/plain": [
       "Index(['experiment_id', 'client_to_model_avg',\n",
       "       'client_to_model_p99', 'client_to_model_p50',\n",
       "       'client_to_model_var', 'client_to_model_max',\n",
       "       'client_to_model_min', 'model_latencies_avg',\n",
       "       'model_latencies_p99', 'model_latencies_p50', 'model_latencies_var',\n",
       "       'model_latencies_max', 'model_latencies_min',\n",
       "       'model_to_client_avg', 'model_to_client_p99',\n",
       "       'model_to_client_p50', 'model_to_client_var',\n",
       "       'model_to_client_max', 'model_to_client_min',\n",
       "       'start_time', 'end_time', 'duration', 'timeout_count',\n",
       "       'cpu_usage_count_avg', 'cpu_usage_count_p99', 'cpu_usage_count_p50',\n",
       "       'cpu_usage_count_var', 'cpu_usage_count_max', 'cpu_usage_count_min',\n",
       "       'cpu_usage_rate_avg', 'cpu_usage_rate_p99', 'cpu_usage_rate_p50',\n",
       "       'cpu_usage_rate_var', 'cpu_usage_rate_max', 'cpu_usage_rate_min',\n",
       "       'cpu_throttled_count_avg', 'cpu_throttled_count_p99',\n",
       "       'cpu_throttled_count_p50', 'cpu_throttled_count_var',\n",
       "       'cpu_throttled_count_max', 'cpu_throttled_count_min',\n",
       "       'cpu_throttled_rate_avg', 'cpu_throttled_rate_p99',\n",
       "       'cpu_throttled_rate_p50', 'cpu_throttled_rate_var',\n",
       "       'cpu_throttled_rate_max', 'cpu_throttled_rate_min', 'memory_usage_avg',\n",
       "       'memory_usage_p99', 'memory_usage_p50', 'memory_usage_var',\n",
       "       'memory_usage_max', 'memory_usage_min', 'throughput_avg',\n",
       "       'throughput_p99', 'throughput_p50', 'throughput_var', 'throughput_max',\n",
       "       'throughput_min'],\n",
       "      dtype='object')"
      ]
     },
     "execution_count": 45,
     "metadata": {},
     "output_type": "execute_result"
    }
   ],
   "source": [
    "results.columns"
   ]
  },
  {
   "cell_type": "code",
   "execution_count": 46,
   "id": "408e420a",
   "metadata": {},
   "outputs": [
    {
     "name": "stdout",
     "output_type": "stream",
     "text": [
      "File name: 0.yaml\n",
      "{   'benchmark_duration': 1,\n",
      "    'cpu_request': ['1'],\n",
      "    'data_type': 'image',\n",
      "    'max_batch_size': ['1', '16'],\n",
      "    'max_batch_time': ['1'],\n",
      "    'memory_request': ['10Gi'],\n",
      "    'mode': 'exponential',\n",
      "    'model_variants': ['resnet18'],\n",
      "    'node_name': 'resnet-human',\n",
      "    'num_interop_threads': ['1'],\n",
      "    'num_threads': ['1'],\n",
      "    'pipeline_name': 'video',\n",
      "    'repetition': 1,\n",
      "    'replicas': [1, 2],\n",
      "    'series': 81,\n",
      "    'series_meta': 'test for the queue 1,\\\\n cpu type: Intel(R) Xeon(R) Gold '\n",
      "                   '6126 CPU @ 2.60GHz',\n",
      "    'timeout': 1,\n",
      "    'use_threading': 'True',\n",
      "    'workload_config': {'load_duration': 300, 'loads_to_test': [100]},\n",
      "    'workload_type': 'static'}\n"
     ]
    }
   ],
   "source": [
    "configs = loader.load_configs()\n",
    "for config_name, config in configs.items():\n",
    "    print(f\"File name: {config_name}\")\n",
    "    pp.pprint(config)"
   ]
  },
  {
   "cell_type": "code",
   "execution_count": 47,
   "id": "51121498",
   "metadata": {},
   "outputs": [
    {
     "data": {
      "text/html": [
       "<div>\n",
       "<style scoped>\n",
       "    .dataframe tbody tr th:only-of-type {\n",
       "        vertical-align: middle;\n",
       "    }\n",
       "\n",
       "    .dataframe tbody tr th {\n",
       "        vertical-align: top;\n",
       "    }\n",
       "\n",
       "    .dataframe thead th {\n",
       "        text-align: right;\n",
       "    }\n",
       "</style>\n",
       "<table border=\"1\" class=\"dataframe\">\n",
       "  <thead>\n",
       "    <tr style=\"text-align: right;\">\n",
       "      <th></th>\n",
       "      <th>experiment_id</th>\n",
       "      <th>pipeline_name</th>\n",
       "      <th>node_name</th>\n",
       "      <th>model_variant</th>\n",
       "      <th>cpu_request</th>\n",
       "      <th>memory_request</th>\n",
       "      <th>max_batch_size</th>\n",
       "      <th>max_batch_time</th>\n",
       "      <th>load</th>\n",
       "      <th>load_duration</th>\n",
       "      <th>series</th>\n",
       "      <th>series_meta</th>\n",
       "      <th>replicas</th>\n",
       "      <th>no_engine</th>\n",
       "      <th>mode</th>\n",
       "      <th>data_type</th>\n",
       "      <th>benchmark_duration</th>\n",
       "    </tr>\n",
       "  </thead>\n",
       "  <tbody>\n",
       "    <tr>\n",
       "      <th>0</th>\n",
       "      <td>1</td>\n",
       "      <td>video</td>\n",
       "      <td>resnet-human</td>\n",
       "      <td>resnet18</td>\n",
       "      <td>1</td>\n",
       "      <td>10Gi</td>\n",
       "      <td>1</td>\n",
       "      <td>1</td>\n",
       "      <td>100</td>\n",
       "      <td>300</td>\n",
       "      <td>81</td>\n",
       "      <td>test for the queue 1,\\n cpu type: Intel(R) Xeo...</td>\n",
       "      <td>1</td>\n",
       "      <td>False</td>\n",
       "      <td>exponential</td>\n",
       "      <td>image</td>\n",
       "      <td>1</td>\n",
       "    </tr>\n",
       "    <tr>\n",
       "      <th>1</th>\n",
       "      <td>2</td>\n",
       "      <td>video</td>\n",
       "      <td>resnet-human</td>\n",
       "      <td>resnet18</td>\n",
       "      <td>1</td>\n",
       "      <td>10Gi</td>\n",
       "      <td>1</td>\n",
       "      <td>1</td>\n",
       "      <td>100</td>\n",
       "      <td>300</td>\n",
       "      <td>81</td>\n",
       "      <td>test for the queue 1,\\n cpu type: Intel(R) Xeo...</td>\n",
       "      <td>2</td>\n",
       "      <td>False</td>\n",
       "      <td>exponential</td>\n",
       "      <td>image</td>\n",
       "      <td>1</td>\n",
       "    </tr>\n",
       "    <tr>\n",
       "      <th>2</th>\n",
       "      <td>3</td>\n",
       "      <td>video</td>\n",
       "      <td>resnet-human</td>\n",
       "      <td>resnet18</td>\n",
       "      <td>1</td>\n",
       "      <td>10Gi</td>\n",
       "      <td>16</td>\n",
       "      <td>1</td>\n",
       "      <td>100</td>\n",
       "      <td>300</td>\n",
       "      <td>81</td>\n",
       "      <td>test for the queue 1,\\n cpu type: Intel(R) Xeo...</td>\n",
       "      <td>1</td>\n",
       "      <td>False</td>\n",
       "      <td>exponential</td>\n",
       "      <td>image</td>\n",
       "      <td>1</td>\n",
       "    </tr>\n",
       "    <tr>\n",
       "      <th>3</th>\n",
       "      <td>4</td>\n",
       "      <td>video</td>\n",
       "      <td>resnet-human</td>\n",
       "      <td>resnet18</td>\n",
       "      <td>1</td>\n",
       "      <td>10Gi</td>\n",
       "      <td>16</td>\n",
       "      <td>1</td>\n",
       "      <td>100</td>\n",
       "      <td>300</td>\n",
       "      <td>81</td>\n",
       "      <td>test for the queue 1,\\n cpu type: Intel(R) Xeo...</td>\n",
       "      <td>2</td>\n",
       "      <td>False</td>\n",
       "      <td>exponential</td>\n",
       "      <td>image</td>\n",
       "      <td>1</td>\n",
       "    </tr>\n",
       "  </tbody>\n",
       "</table>\n",
       "</div>"
      ],
      "text/plain": [
       "   experiment_id pipeline_name     node_name model_variant  cpu_request  \\\n",
       "0              1         video  resnet-human      resnet18            1   \n",
       "1              2         video  resnet-human      resnet18            1   \n",
       "2              3         video  resnet-human      resnet18            1   \n",
       "3              4         video  resnet-human      resnet18            1   \n",
       "\n",
       "  memory_request  max_batch_size  max_batch_time  load  load_duration  series  \\\n",
       "0           10Gi               1               1   100            300      81   \n",
       "1           10Gi               1               1   100            300      81   \n",
       "2           10Gi              16               1   100            300      81   \n",
       "3           10Gi              16               1   100            300      81   \n",
       "\n",
       "                                         series_meta  replicas  no_engine  \\\n",
       "0  test for the queue 1,\\n cpu type: Intel(R) Xeo...         1      False   \n",
       "1  test for the queue 1,\\n cpu type: Intel(R) Xeo...         2      False   \n",
       "2  test for the queue 1,\\n cpu type: Intel(R) Xeo...         1      False   \n",
       "3  test for the queue 1,\\n cpu type: Intel(R) Xeo...         2      False   \n",
       "\n",
       "          mode data_type  benchmark_duration  \n",
       "0  exponential     image                   1  \n",
       "1  exponential     image                   1  \n",
       "2  exponential     image                   1  \n",
       "3  exponential     image                   1  "
      ]
     },
     "metadata": {},
     "output_type": "display_data"
    }
   ],
   "source": [
    "display(key_config_df)"
   ]
  },
  {
   "cell_type": "code",
   "execution_count": 1,
   "id": "4a385417",
   "metadata": {},
   "outputs": [
    {
     "ename": "NameError",
     "evalue": "name 'key_config_df' is not defined",
     "output_type": "error",
     "traceback": [
      "\u001b[0;31m---------------------------------------------------------------------------\u001b[0m",
      "\u001b[0;31mNameError\u001b[0m                                 Traceback (most recent call last)",
      "Cell \u001b[0;32mIn[1], line 1\u001b[0m\n\u001b[0;32m----> 1\u001b[0m experiment_ids \u001b[39m=\u001b[39m key_config_df[\u001b[39m'\u001b[39m\u001b[39mexperiment_id\u001b[39m\u001b[39m'\u001b[39m]\u001b[39m.\u001b[39mtolist()\n\u001b[1;32m      2\u001b[0m metadata_columns \u001b[39m=\u001b[39m [\u001b[39m'\u001b[39m\u001b[39mmodel_variant\u001b[39m\u001b[39m'\u001b[39m, \u001b[39m'\u001b[39m\u001b[39mmax_batch_size\u001b[39m\u001b[39m'\u001b[39m, \u001b[39m'\u001b[39m\u001b[39mcpu_request\u001b[39m\u001b[39m'\u001b[39m, \u001b[39m'\u001b[39m\u001b[39mload\u001b[39m\u001b[39m'\u001b[39m, \u001b[39m'\u001b[39m\u001b[39mload_duration\u001b[39m\u001b[39m'\u001b[39m, \u001b[39m'\u001b[39m\u001b[39mreplicas\u001b[39m\u001b[39m'\u001b[39m]\n\u001b[1;32m      3\u001b[0m results_columns \u001b[39m=\u001b[39m [\u001b[39m'\u001b[39m\u001b[39mtimeout_count\u001b[39m\u001b[39m'\u001b[39m, \u001b[39m'\u001b[39m\u001b[39mmodel_latencies_min\u001b[39m\u001b[39m'\u001b[39m, \u001b[39m'\u001b[39m\u001b[39mmodel_latencies_p99\u001b[39m\u001b[39m'\u001b[39m, \u001b[39m'\u001b[39m\u001b[39mcpu_usage_count_avg\u001b[39m\u001b[39m'\u001b[39m, \u001b[39m'\u001b[39m\u001b[39mmodel_latencies_avg\u001b[39m\u001b[39m'\u001b[39m, \u001b[39m'\u001b[39m\u001b[39mthroughput_max\u001b[39m\u001b[39m'\u001b[39m]\n",
      "\u001b[0;31mNameError\u001b[0m: name 'key_config_df' is not defined"
     ]
    }
   ],
   "source": [
    "experiment_ids = key_config_df[\"experiment_id\"].tolist()\n",
    "metadata_columns = [\n",
    "    \"model_variant\",\n",
    "    \"max_batch_size\",\n",
    "    \"cpu_request\",\n",
    "    \"load\",\n",
    "    \"load_duration\",\n",
    "    \"replicas\",\n",
    "]\n",
    "results_columns = [\n",
    "    \"timeout_count\",\n",
    "    \"model_latencies_min\",\n",
    "    \"model_latencies_p99\",\n",
    "    \"cpu_usage_count_avg\",\n",
    "    \"model_latencies_avg\",\n",
    "    \"throughput_max\",\n",
    "]\n",
    "output = loader.table_maker(\n",
    "    experiment_ids=experiment_ids,\n",
    "    metadata_columns=metadata_columns,\n",
    "    results_columns=results_columns,\n",
    ")\n",
    "output[\"total_requests\"] = output[\"load\"] * output[\"load_duration\"]\n",
    "# output.sort_values(by='throughput')\n",
    "# display(output[['model_variant', 'max_batch_size', 'cpu_request', 'load', 'load_duration', 'replicas', 'total_requests', 'timeout_count', 'model_latencies_min', 'model_latencies_p99', 'model_latencies_avg', 'throughput_max']])\n",
    "display(output[output[\"load\"] == 80])"
   ]
  },
  {
   "cell_type": "code",
   "execution_count": 58,
   "id": "a416c3e8",
   "metadata": {},
   "outputs": [
    {
     "data": {
      "text/plain": [
       "Index(['experiment_id', 'pipeline_name', 'node_name', 'model_variant',\n",
       "       'cpu_request', 'memory_request', 'max_batch_size', 'max_batch_time',\n",
       "       'load', 'load_duration', 'series', 'series_meta', 'replicas',\n",
       "       'no_engine', 'mode', 'data_type', 'benchmark_duration'],\n",
       "      dtype='object')"
      ]
     },
     "execution_count": 58,
     "metadata": {},
     "output_type": "execute_result"
    }
   ],
   "source": [
    "key_config_df.columns"
   ]
  },
  {
   "cell_type": "code",
   "execution_count": null,
   "id": "ebdb075c",
   "metadata": {},
   "outputs": [],
   "source": []
  },
  {
   "cell_type": "code",
   "execution_count": null,
   "id": "051a3c93",
   "metadata": {},
   "outputs": [],
   "source": []
  },
  {
   "cell_type": "code",
   "execution_count": null,
   "id": "0a1c292b",
   "metadata": {},
   "outputs": [],
   "source": []
  }
 ],
 "metadata": {
  "kernelspec": {
   "display_name": "Python 3.8.13 ('central')",
   "language": "python",
   "name": "python3"
  },
  "language_info": {
   "codemirror_mode": {
    "name": "ipython",
    "version": 3
   },
   "file_extension": ".py",
   "mimetype": "text/x-python",
   "name": "python",
   "nbconvert_exporter": "python",
   "pygments_lexer": "ipython3",
   "version": "3.9.15"
  },
  "vscode": {
   "interpreter": {
    "hash": "2465c4f56298bc06dbdad3e7519856d346ec0e9edf6ba2c905f0af711583810e"
   }
  }
 },
 "nbformat": 4,
 "nbformat_minor": 5
}
