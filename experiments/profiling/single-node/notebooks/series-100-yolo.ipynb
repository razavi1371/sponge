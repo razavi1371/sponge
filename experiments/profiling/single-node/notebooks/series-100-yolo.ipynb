{
 "cells": [
  {
   "cell_type": "code",
   "execution_count": 11,
   "id": "bde05b26",
   "metadata": {},
   "outputs": [],
   "source": [
    "import pandas as pd\n",
    "import numpy as np\n",
    "import os\n",
    "import matplotlib.pyplot as plt\n",
    "import json\n",
    "from copy import deepcopy\n",
    "import random\n",
    "import sys\n",
    "import time\n",
    "from typing import List\n",
    "from pprint import PrettyPrinter\n",
    "\n",
    "pp = PrettyPrinter(indent=4)\n",
    "\n",
    "# get an absolute path to the directory that contains parent files\n",
    "project_dir = globals()[\"_dh\"][0]\n",
    "sys.path.append(os.path.normpath(os.path.join(project_dir, \"..\", \"..\", \"..\", \"..\")))\n",
    "\n",
    "from experiments.utils.constants import (\n",
    "    PIPLINES_PATH,\n",
    "    NODE_PROFILING_CONFIGS_PATH,\n",
    "    NODE_PROFILING_RESULTS_PATH,\n",
    ")\n",
    "from experiments.utils.parser import Parser"
   ]
  },
  {
   "cell_type": "code",
   "execution_count": 12,
   "id": "f5632e5b",
   "metadata": {},
   "outputs": [],
   "source": [
    "series = 100\n",
    "experiment_id = 1\n",
    "config_key_mapper = \"key_config_mapper.csv\"\n",
    "model_name = \"yolo\"\n",
    "series_path = os.path.join(NODE_PROFILING_RESULTS_PATH, \"series\", str(series))\n",
    "loader = Parser(\n",
    "    series_path=series_path, config_key_mapper=config_key_mapper, model_name=model_name\n",
    ")\n",
    "results = loader.result_processing()\n",
    "key_config_df = loader.key_config_mapper()\n",
    "# print(results.columns)\n",
    "# print(key_config_df.columns)\n",
    "# results"
   ]
  },
  {
   "cell_type": "code",
   "execution_count": 13,
   "id": "eea4e577",
   "metadata": {},
   "outputs": [
    {
     "data": {
      "text/plain": [
       "Index(['experiment_id', 'client_to_model_avg',\n",
       "       'client_to_model_p99', 'client_to_model_p95',\n",
       "       'client_to_model_p50', 'client_to_model_var',\n",
       "       'client_to_model_max', 'client_to_model_min',\n",
       "       'model_latencies_avg', 'model_latencies_p99', 'model_latencies_p95',\n",
       "       'model_latencies_p50', 'model_latencies_var', 'model_latencies_max',\n",
       "       'model_latencies_min', 'model_to_client_avg',\n",
       "       'model_to_client_p99', 'model_to_client_p95',\n",
       "       'model_to_client_p50', 'model_to_client_var',\n",
       "       'model_to_client_max', 'model_to_client_min',\n",
       "       'e2e_latencies_avg', 'e2e_latencies_p99', 'e2e_latencies_p95',\n",
       "       'e2e_latencies_p50', 'e2e_latencies_var', 'e2e_latencies_max',\n",
       "       'e2e_latencies_min', 'start_time', 'end_time', 'duration',\n",
       "       'timeout_count', 'cpu_usage_count_avg', 'cpu_usage_count_p99',\n",
       "       'cpu_usage_count_p95', 'cpu_usage_count_p50', 'cpu_usage_count_var',\n",
       "       'cpu_usage_count_max', 'cpu_usage_count_min', 'cpu_usage_rate_avg',\n",
       "       'cpu_usage_rate_p99', 'cpu_usage_rate_p95', 'cpu_usage_rate_p50',\n",
       "       'cpu_usage_rate_var', 'cpu_usage_rate_max', 'cpu_usage_rate_min',\n",
       "       'cpu_throttled_count_avg', 'cpu_throttled_count_p99',\n",
       "       'cpu_throttled_count_p95', 'cpu_throttled_count_p50',\n",
       "       'cpu_throttled_count_var', 'cpu_throttled_count_max',\n",
       "       'cpu_throttled_count_min', 'cpu_throttled_rate_avg',\n",
       "       'cpu_throttled_rate_p99', 'cpu_throttled_rate_p95',\n",
       "       'cpu_throttled_rate_p50', 'cpu_throttled_rate_var',\n",
       "       'cpu_throttled_rate_max', 'cpu_throttled_rate_min', 'memory_usage_avg',\n",
       "       'memory_usage_p99', 'memory_usage_p95', 'memory_usage_p50',\n",
       "       'memory_usage_var', 'memory_usage_max', 'memory_usage_min',\n",
       "       'throughput_avg', 'throughput_p99', 'throughput_p95', 'throughput_p50',\n",
       "       'throughput_var', 'throughput_max', 'throughput_min'],\n",
       "      dtype='object')"
      ]
     },
     "execution_count": 13,
     "metadata": {},
     "output_type": "execute_result"
    }
   ],
   "source": [
    "results.columns"
   ]
  },
  {
   "cell_type": "code",
   "execution_count": 14,
   "id": "408e420a",
   "metadata": {},
   "outputs": [
    {
     "name": "stdout",
     "output_type": "stream",
     "text": [
      "File name: 0.yaml\n",
      "{   'benchmark_duration': 1,\n",
      "    'central_queue': False,\n",
      "    'cpu_request': ['1'],\n",
      "    'data_type': 'image',\n",
      "    'distrpution_time': 10,\n",
      "    'max_batch_size': ['4'],\n",
      "    'max_batch_time': ['1'],\n",
      "    'memory_request': ['2Gi'],\n",
      "    'mode': 'exponential',\n",
      "    'model_variants': ['yolov5n'],\n",
      "    'node_name': 'yolo',\n",
      "    'num_interop_threads': ['1'],\n",
      "    'num_threads': ['1'],\n",
      "    'pipeline_name': 'video',\n",
      "    'repetition': 1,\n",
      "    'replicas': [4],\n",
      "    'series': 100,\n",
      "    'series_meta': 'checking the effect of changing all variables under '\n",
      "                   'arrival rate 1,\\\\n cpu type: Intel(R) Xeon(R) Gold 6126 '\n",
      "                   'CPU @ 2.60GHz',\n",
      "    'timeout': 100,\n",
      "    'use_threading': 'True',\n",
      "    'workload_config': {'load_duration': 60, 'loads_to_test': [30]},\n",
      "    'workload_type': 'static'}\n"
     ]
    }
   ],
   "source": [
    "configs = loader.load_configs()\n",
    "for config_name, config in configs.items():\n",
    "    print(f\"File name: {config_name}\")\n",
    "    pp.pprint(config)"
   ]
  },
  {
   "cell_type": "code",
   "execution_count": 15,
   "id": "51121498",
   "metadata": {},
   "outputs": [
    {
     "data": {
      "text/html": [
       "<div>\n",
       "<style scoped>\n",
       "    .dataframe tbody tr th:only-of-type {\n",
       "        vertical-align: middle;\n",
       "    }\n",
       "\n",
       "    .dataframe tbody tr th {\n",
       "        vertical-align: top;\n",
       "    }\n",
       "\n",
       "    .dataframe thead th {\n",
       "        text-align: right;\n",
       "    }\n",
       "</style>\n",
       "<table border=\"1\" class=\"dataframe\">\n",
       "  <thead>\n",
       "    <tr style=\"text-align: right;\">\n",
       "      <th></th>\n",
       "      <th>experiment_id</th>\n",
       "      <th>pipeline_name</th>\n",
       "      <th>node_name</th>\n",
       "      <th>model_variant</th>\n",
       "      <th>cpu_request</th>\n",
       "      <th>memory_request</th>\n",
       "      <th>max_batch_size</th>\n",
       "      <th>max_batch_time</th>\n",
       "      <th>load</th>\n",
       "      <th>load_duration</th>\n",
       "      <th>series</th>\n",
       "      <th>series_meta</th>\n",
       "      <th>replicas</th>\n",
       "      <th>no_engine</th>\n",
       "      <th>mode</th>\n",
       "      <th>data_type</th>\n",
       "      <th>benchmark_duration</th>\n",
       "    </tr>\n",
       "  </thead>\n",
       "  <tbody>\n",
       "    <tr>\n",
       "      <th>0</th>\n",
       "      <td>1</td>\n",
       "      <td>video</td>\n",
       "      <td>yolo</td>\n",
       "      <td>yolov5n</td>\n",
       "      <td>1</td>\n",
       "      <td>2Gi</td>\n",
       "      <td>4</td>\n",
       "      <td>1</td>\n",
       "      <td>30</td>\n",
       "      <td>60</td>\n",
       "      <td>100</td>\n",
       "      <td>checking the effect of changing all variables ...</td>\n",
       "      <td>4</td>\n",
       "      <td>False</td>\n",
       "      <td>exponential</td>\n",
       "      <td>image</td>\n",
       "      <td>1</td>\n",
       "    </tr>\n",
       "  </tbody>\n",
       "</table>\n",
       "</div>"
      ],
      "text/plain": [
       "   experiment_id pipeline_name node_name model_variant  cpu_request  \\\n",
       "0              1         video      yolo       yolov5n            1   \n",
       "\n",
       "  memory_request  max_batch_size  max_batch_time  load  load_duration  series  \\\n",
       "0            2Gi               4               1    30             60     100   \n",
       "\n",
       "                                         series_meta  replicas  no_engine  \\\n",
       "0  checking the effect of changing all variables ...         4      False   \n",
       "\n",
       "          mode data_type  benchmark_duration  \n",
       "0  exponential     image                   1  "
      ]
     },
     "metadata": {},
     "output_type": "display_data"
    }
   ],
   "source": [
    "display(key_config_df)"
   ]
  },
  {
   "cell_type": "code",
   "execution_count": 16,
   "id": "4a385417",
   "metadata": {},
   "outputs": [
    {
     "data": {
      "text/html": [
       "<div>\n",
       "<style scoped>\n",
       "    .dataframe tbody tr th:only-of-type {\n",
       "        vertical-align: middle;\n",
       "    }\n",
       "\n",
       "    .dataframe tbody tr th {\n",
       "        vertical-align: top;\n",
       "    }\n",
       "\n",
       "    .dataframe thead th {\n",
       "        text-align: right;\n",
       "    }\n",
       "</style>\n",
       "<table border=\"1\" class=\"dataframe\">\n",
       "  <thead>\n",
       "    <tr style=\"text-align: right;\">\n",
       "      <th></th>\n",
       "      <th>model_variant</th>\n",
       "      <th>max_batch_size</th>\n",
       "      <th>cpu_request</th>\n",
       "      <th>load</th>\n",
       "      <th>cpu_usage_count_avg</th>\n",
       "      <th>model_latencies_avg</th>\n",
       "      <th>throughput_max</th>\n",
       "      <th>expected_max_throughput</th>\n",
       "    </tr>\n",
       "  </thead>\n",
       "  <tbody>\n",
       "    <tr>\n",
       "      <th>0</th>\n",
       "      <td>yolov5n</td>\n",
       "      <td>4</td>\n",
       "      <td>1</td>\n",
       "      <td>30</td>\n",
       "      <td>25.640086</td>\n",
       "      <td>None</td>\n",
       "      <td>4.571536</td>\n",
       "      <td>NaN</td>\n",
       "    </tr>\n",
       "  </tbody>\n",
       "</table>\n",
       "</div>"
      ],
      "text/plain": [
       "  model_variant  max_batch_size  cpu_request  load  cpu_usage_count_avg  \\\n",
       "0       yolov5n               4            1    30            25.640086   \n",
       "\n",
       "  model_latencies_avg  throughput_max expected_max_throughput  \n",
       "0                None        4.571536                     NaN  "
      ]
     },
     "metadata": {},
     "output_type": "display_data"
    }
   ],
   "source": [
    "%matplotlib inline\n",
    "experiment_ids = key_config_df[\n",
    "    (key_config_df[\"model_variant\"] == \"yolov5n\") & (key_config_df[\"cpu_request\"] == 4)\n",
    "][\"experiment_id\"].tolist()\n",
    "experiment_ids = [1]\n",
    "metadata_columns = [\"model_variant\", \"max_batch_size\", \"cpu_request\", \"load\"]\n",
    "results_columns = [\"cpu_usage_count_avg\", \"model_latencies_avg\", \"throughput_max\"]\n",
    "output = loader.table_maker(\n",
    "    experiment_ids=experiment_ids,\n",
    "    metadata_columns=metadata_columns,\n",
    "    results_columns=results_columns,\n",
    ")\n",
    "output[\"expected_max_throughput\"] = (\n",
    "    1 / output[\"model_latencies_avg\"] * output[\"max_batch_size\"]\n",
    ")\n",
    "# output.sort_values(by='throughput')\n",
    "display(output)\n",
    "# ax = output.plot.bar(x='max_batch_size', y=['throughput'])\n",
    "# ax.set_xlabel(\"Max Batch Size\")\n",
    "# ax.set_ylabel(\"Throughput (RPS)\")"
   ]
  },
  {
   "cell_type": "code",
   "execution_count": 19,
   "id": "db9ae291",
   "metadata": {},
   "outputs": [],
   "source": [
    "experiment_id = 1\n",
    "timeout_per_second, per_second_results = loader.per_second_result_processing(\n",
    "    experiment_id=experiment_id\n",
    ")"
   ]
  },
  {
   "cell_type": "code",
   "execution_count": 18,
   "id": "4cd551a3",
   "metadata": {},
   "outputs": [
    {
     "data": {
      "text/html": [
       "<div>\n",
       "<style scoped>\n",
       "    .dataframe tbody tr th:only-of-type {\n",
       "        vertical-align: middle;\n",
       "    }\n",
       "\n",
       "    .dataframe tbody tr th {\n",
       "        vertical-align: top;\n",
       "    }\n",
       "\n",
       "    .dataframe thead th {\n",
       "        text-align: right;\n",
       "    }\n",
       "</style>\n",
       "<table border=\"1\" class=\"dataframe\">\n",
       "  <thead>\n",
       "    <tr style=\"text-align: right;\">\n",
       "      <th></th>\n",
       "    </tr>\n",
       "  </thead>\n",
       "  <tbody>\n",
       "  </tbody>\n",
       "</table>\n",
       "</div>"
      ],
      "text/plain": [
       "Empty DataFrame\n",
       "Columns: []\n",
       "Index: []"
      ]
     },
     "execution_count": 18,
     "metadata": {},
     "output_type": "execute_result"
    }
   ],
   "source": [
    "per_second_results"
   ]
  },
  {
   "cell_type": "code",
   "execution_count": null,
   "id": "993f3230",
   "metadata": {},
   "outputs": [],
   "source": []
  }
 ],
 "metadata": {
  "kernelspec": {
   "display_name": "Python 3.8.13 ('central')",
   "language": "python",
   "name": "python3"
  },
  "language_info": {
   "codemirror_mode": {
    "name": "ipython",
    "version": 3
   },
   "file_extension": ".py",
   "mimetype": "text/x-python",
   "name": "python",
   "nbconvert_exporter": "python",
   "pygments_lexer": "ipython3",
   "version": "3.9.15"
  },
  "vscode": {
   "interpreter": {
    "hash": "2465c4f56298bc06dbdad3e7519856d346ec0e9edf6ba2c905f0af711583810e"
   }
  }
 },
 "nbformat": 4,
 "nbformat_minor": 5
}
