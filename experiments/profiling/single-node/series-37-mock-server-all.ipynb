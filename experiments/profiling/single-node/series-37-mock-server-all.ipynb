{
 "cells": [
  {
   "cell_type": "markdown",
   "id": "b93d6f0e",
   "metadata": {},
   "source": [
    "## Testing whether it is from the data size"
   ]
  },
  {
   "cell_type": "code",
   "execution_count": 36,
   "id": "bde05b26",
   "metadata": {},
   "outputs": [],
   "source": [
    "import pandas as pd\n",
    "import numpy as np\n",
    "import os\n",
    "import matplotlib.pyplot as plt\n",
    "import json\n",
    "from copy import deepcopy\n",
    "import random\n",
    "import sys\n",
    "import time\n",
    "from typing import List\n",
    "from pprint import PrettyPrinter\n",
    "pp = PrettyPrinter(indent=4)\n",
    "\n",
    "# get an absolute path to the directory that contains parent files\n",
    "__file__ = globals()['_dh'][0]\n",
    "project_dir = __file__ = globals()['_dh'][0]\n",
    "sys.path.append(os.path.normpath(os.path.join(\n",
    "    project_dir, '..', '..', '..')))\n",
    "\n",
    "from experiments.utils.constants import (\n",
    "    NODE_PROFILING_RESULTS_STATIC_PATH\n",
    ")\n",
    "from experiments.utils.loader import Loader"
   ]
  },
  {
   "cell_type": "code",
   "execution_count": 37,
   "id": "f5632e5b",
   "metadata": {},
   "outputs": [
    {
     "data": {
      "text/html": [
       "<div>\n",
       "<style scoped>\n",
       "    .dataframe tbody tr th:only-of-type {\n",
       "        vertical-align: middle;\n",
       "    }\n",
       "\n",
       "    .dataframe tbody tr th {\n",
       "        vertical-align: top;\n",
       "    }\n",
       "\n",
       "    .dataframe thead th {\n",
       "        text-align: right;\n",
       "    }\n",
       "</style>\n",
       "<table border=\"1\" class=\"dataframe\">\n",
       "  <thead>\n",
       "    <tr style=\"text-align: right;\">\n",
       "      <th></th>\n",
       "      <th>experiment_id</th>\n",
       "      <th>pipeline_name</th>\n",
       "      <th>node_name</th>\n",
       "      <th>model_variant</th>\n",
       "      <th>cpu_request</th>\n",
       "      <th>memory_request</th>\n",
       "      <th>max_batch_size</th>\n",
       "      <th>max_batch_time</th>\n",
       "      <th>load</th>\n",
       "      <th>load_duration</th>\n",
       "      <th>series</th>\n",
       "      <th>series_meta</th>\n",
       "      <th>replicas</th>\n",
       "      <th>no_engine</th>\n",
       "    </tr>\n",
       "  </thead>\n",
       "  <tbody>\n",
       "    <tr>\n",
       "      <th>0</th>\n",
       "      <td>1</td>\n",
       "      <td>6-mlserver-mock</td>\n",
       "      <td>mock-one</td>\n",
       "      <td>0</td>\n",
       "      <td>4</td>\n",
       "      <td>8Gi</td>\n",
       "      <td>1</td>\n",
       "      <td>1</td>\n",
       "      <td>100</td>\n",
       "      <td>60</td>\n",
       "      <td>37</td>\n",
       "      <td>mlserver-big</td>\n",
       "      <td>1</td>\n",
       "      <td>False</td>\n",
       "    </tr>\n",
       "    <tr>\n",
       "      <th>1</th>\n",
       "      <td>2</td>\n",
       "      <td>6-mlserver-mock</td>\n",
       "      <td>mock-one</td>\n",
       "      <td>0</td>\n",
       "      <td>4</td>\n",
       "      <td>8Gi</td>\n",
       "      <td>1</td>\n",
       "      <td>1</td>\n",
       "      <td>1000</td>\n",
       "      <td>60</td>\n",
       "      <td>37</td>\n",
       "      <td>mlserver-big</td>\n",
       "      <td>1</td>\n",
       "      <td>False</td>\n",
       "    </tr>\n",
       "  </tbody>\n",
       "</table>\n",
       "</div>"
      ],
      "text/plain": [
       "   experiment_id    pipeline_name node_name  model_variant  cpu_request  \\\n",
       "0              1  6-mlserver-mock  mock-one              0            4   \n",
       "1              2  6-mlserver-mock  mock-one              0            4   \n",
       "\n",
       "  memory_request  max_batch_size  max_batch_time  load  load_duration  series  \\\n",
       "0            8Gi               1               1   100             60      37   \n",
       "1            8Gi               1               1  1000             60      37   \n",
       "\n",
       "    series_meta  replicas  no_engine  \n",
       "0  mlserver-big         1      False  \n",
       "1  mlserver-big         1      False  "
      ]
     },
     "metadata": {},
     "output_type": "display_data"
    }
   ],
   "source": [
    "series = 37\n",
    "experiment_id = 1\n",
    "config_key_mapper = \"key_config_mapper.csv\"\n",
    "\n",
    "series_path = os.path.join(\n",
    "    NODE_PROFILING_RESULTS_STATIC_PATH,\n",
    "    'series',\n",
    "    str(series))\n",
    "loader1 = Loader(\n",
    "    series_path=series_path, config_key_mapper=config_key_mapper, second_node=False, type_of='node')\n",
    "# loader2 = Loader(\n",
    "#     series_path=series_path, config_key_mapper=config_key_mapper, second_node=False, type_of='node_with_log')\n",
    "results_1 = loader1.result_processing()\n",
    "# results_2 = loader2.result_processing()\n",
    "key_config_df = loader1.key_config_mapper()\n",
    "# print(results.columns)\n",
    "# print(key_config_df.columns)\n",
    "# results\n",
    "display(key_config_df)"
   ]
  },
  {
   "cell_type": "code",
   "execution_count": 38,
   "id": "1db69e98",
   "metadata": {},
   "outputs": [
    {
     "data": {
      "text/html": [
       "<div>\n",
       "<style scoped>\n",
       "    .dataframe tbody tr th:only-of-type {\n",
       "        vertical-align: middle;\n",
       "    }\n",
       "\n",
       "    .dataframe tbody tr th {\n",
       "        vertical-align: top;\n",
       "    }\n",
       "\n",
       "    .dataframe thead th {\n",
       "        text-align: right;\n",
       "    }\n",
       "</style>\n",
       "<table border=\"1\" class=\"dataframe\">\n",
       "  <thead>\n",
       "    <tr style=\"text-align: right;\">\n",
       "      <th></th>\n",
       "      <th>experiment_id</th>\n",
       "      <th>client_to_model_latencies_avg</th>\n",
       "      <th>client_to_model_latencies_p99</th>\n",
       "      <th>client_to_model_latencies_p50</th>\n",
       "      <th>client_to_model_latencies_var</th>\n",
       "      <th>client_to_model_latencies_max</th>\n",
       "      <th>client_to_model_latencies_min</th>\n",
       "      <th>model_latencies_avg</th>\n",
       "      <th>model_latencies_p99</th>\n",
       "      <th>model_latencies_p50</th>\n",
       "      <th>...</th>\n",
       "      <th>memory_usage_p50</th>\n",
       "      <th>memory_usage_var</th>\n",
       "      <th>memory_usage_max</th>\n",
       "      <th>memory_usage_min</th>\n",
       "      <th>throughput_avg</th>\n",
       "      <th>throughput_p99</th>\n",
       "      <th>throughput_p50</th>\n",
       "      <th>throughput_var</th>\n",
       "      <th>throughput_max</th>\n",
       "      <th>throughput_min</th>\n",
       "    </tr>\n",
       "  </thead>\n",
       "  <tbody>\n",
       "    <tr>\n",
       "      <th>0</th>\n",
       "      <td>1</td>\n",
       "      <td>0.621333</td>\n",
       "      <td>1.266224</td>\n",
       "      <td>0.594677</td>\n",
       "      <td>0.087865</td>\n",
       "      <td>1.319601</td>\n",
       "      <td>0.027597</td>\n",
       "      <td>1.003172</td>\n",
       "      <td>1.038867</td>\n",
       "      <td>1.000713</td>\n",
       "      <td>...</td>\n",
       "      <td>None</td>\n",
       "      <td>None</td>\n",
       "      <td>None</td>\n",
       "      <td>None</td>\n",
       "      <td>None</td>\n",
       "      <td>None</td>\n",
       "      <td>None</td>\n",
       "      <td>None</td>\n",
       "      <td>None</td>\n",
       "      <td>None</td>\n",
       "    </tr>\n",
       "    <tr>\n",
       "      <th>1</th>\n",
       "      <td>2</td>\n",
       "      <td>151.921275</td>\n",
       "      <td>296.825156</td>\n",
       "      <td>152.140309</td>\n",
       "      <td>7395.705052</td>\n",
       "      <td>299.960467</td>\n",
       "      <td>0.133336</td>\n",
       "      <td>1.003085</td>\n",
       "      <td>1.036113</td>\n",
       "      <td>1.000532</td>\n",
       "      <td>...</td>\n",
       "      <td>None</td>\n",
       "      <td>None</td>\n",
       "      <td>None</td>\n",
       "      <td>None</td>\n",
       "      <td>None</td>\n",
       "      <td>None</td>\n",
       "      <td>None</td>\n",
       "      <td>None</td>\n",
       "      <td>None</td>\n",
       "      <td>None</td>\n",
       "    </tr>\n",
       "  </tbody>\n",
       "</table>\n",
       "<p>2 rows × 59 columns</p>\n",
       "</div>"
      ],
      "text/plain": [
       "   experiment_id  client_to_model_latencies_avg  \\\n",
       "0              1                       0.621333   \n",
       "1              2                     151.921275   \n",
       "\n",
       "   client_to_model_latencies_p99  client_to_model_latencies_p50  \\\n",
       "0                       1.266224                       0.594677   \n",
       "1                     296.825156                     152.140309   \n",
       "\n",
       "   client_to_model_latencies_var  client_to_model_latencies_max  \\\n",
       "0                       0.087865                       1.319601   \n",
       "1                    7395.705052                     299.960467   \n",
       "\n",
       "   client_to_model_latencies_min  model_latencies_avg  model_latencies_p99  \\\n",
       "0                       0.027597             1.003172             1.038867   \n",
       "1                       0.133336             1.003085             1.036113   \n",
       "\n",
       "   model_latencies_p50  ...  memory_usage_p50  memory_usage_var  \\\n",
       "0             1.000713  ...              None              None   \n",
       "1             1.000532  ...              None              None   \n",
       "\n",
       "   memory_usage_max  memory_usage_min  throughput_avg  throughput_p99  \\\n",
       "0              None              None            None            None   \n",
       "1              None              None            None            None   \n",
       "\n",
       "   throughput_p50  throughput_var  throughput_max throughput_min  \n",
       "0            None            None            None           None  \n",
       "1            None            None            None           None  \n",
       "\n",
       "[2 rows x 59 columns]"
      ]
     },
     "execution_count": 38,
     "metadata": {},
     "output_type": "execute_result"
    }
   ],
   "source": [
    "results_1"
   ]
  },
  {
   "cell_type": "code",
   "execution_count": 39,
   "id": "766e2f0e",
   "metadata": {},
   "outputs": [
    {
     "data": {
      "text/plain": [
       "Index(['experiment_id', 'client_to_model_latencies_avg',\n",
       "       'client_to_model_latencies_p99', 'client_to_model_latencies_p50',\n",
       "       'client_to_model_latencies_var', 'client_to_model_latencies_max',\n",
       "       'client_to_model_latencies_min', 'model_latencies_avg',\n",
       "       'model_latencies_p99', 'model_latencies_p50', 'model_latencies_var',\n",
       "       'model_latencies_max', 'model_latencies_min',\n",
       "       'model_to_client_latencies_avg', 'model_to_client_latencies_p99',\n",
       "       'model_to_client_latencies_p50', 'model_to_client_latencies_var',\n",
       "       'model_to_client_latencies_max', 'model_to_client_latencies_min',\n",
       "       'start_time', 'end_time', 'duration', 'timeout_count',\n",
       "       'cpu_usage_count_avg', 'cpu_usage_count_p99', 'cpu_usage_count_p50',\n",
       "       'cpu_usage_count_var', 'cpu_usage_count_max', 'cpu_usage_count_min',\n",
       "       'cpu_usage_rate_avg', 'cpu_usage_rate_p99', 'cpu_usage_rate_p50',\n",
       "       'cpu_usage_rate_var', 'cpu_usage_rate_max', 'cpu_usage_rate_min',\n",
       "       'cpu_throttled_count_avg', 'cpu_throttled_count_p99',\n",
       "       'cpu_throttled_count_p50', 'cpu_throttled_count_var',\n",
       "       'cpu_throttled_count_max', 'cpu_throttled_count_min',\n",
       "       'cpu_throttled_rate_avg', 'cpu_throttled_rate_p99',\n",
       "       'cpu_throttled_rate_p50', 'cpu_throttled_rate_var',\n",
       "       'cpu_throttled_rate_max', 'cpu_throttled_rate_min', 'memory_usage_avg',\n",
       "       'memory_usage_p99', 'memory_usage_p50', 'memory_usage_var',\n",
       "       'memory_usage_max', 'memory_usage_min', 'throughput_avg',\n",
       "       'throughput_p99', 'throughput_p50', 'throughput_var', 'throughput_max',\n",
       "       'throughput_min'],\n",
       "      dtype='object')"
      ]
     },
     "execution_count": 39,
     "metadata": {},
     "output_type": "execute_result"
    }
   ],
   "source": [
    "results_1.keys()"
   ]
  },
  {
   "cell_type": "code",
   "execution_count": 40,
   "id": "408e420a",
   "metadata": {},
   "outputs": [
    {
     "name": "stdout",
     "output_type": "stream",
     "text": [
      "File name: 0.yaml\n",
      "{   'cpu_request': ['4'],\n",
      "    'data_type': 'audio',\n",
      "    'max_batch_size': ['1'],\n",
      "    'max_batch_time': ['1'],\n",
      "    'memory_request': ['8Gi'],\n",
      "    'model_variants': ['0'],\n",
      "    'no_engine': False,\n",
      "    'node_name': 'mock-one',\n",
      "    'pipeline_name': '6-mlserver-mock',\n",
      "    'repetition': 1,\n",
      "    'replicas': [1],\n",
      "    'series': 37,\n",
      "    'series_meta': 'mlserver-big',\n",
      "    'timeout': 5,\n",
      "    'workload_config': {'load_duration': 60, 'loads_to_test': [100, 1000]},\n",
      "    'workload_type': 'static'}\n"
     ]
    }
   ],
   "source": [
    "configs = loader1.load_configs()\n",
    "for config_name, config in configs.items():\n",
    "    print(f\"File name: {config_name}\")\n",
    "    pp.pprint(config) "
   ]
  },
  {
   "cell_type": "code",
   "execution_count": 41,
   "id": "6c1be250",
   "metadata": {},
   "outputs": [
    {
     "data": {
      "text/html": [
       "<div>\n",
       "<style scoped>\n",
       "    .dataframe tbody tr th:only-of-type {\n",
       "        vertical-align: middle;\n",
       "    }\n",
       "\n",
       "    .dataframe tbody tr th {\n",
       "        vertical-align: top;\n",
       "    }\n",
       "\n",
       "    .dataframe thead th {\n",
       "        text-align: right;\n",
       "    }\n",
       "</style>\n",
       "<table border=\"1\" class=\"dataframe\">\n",
       "  <thead>\n",
       "    <tr style=\"text-align: right;\">\n",
       "      <th></th>\n",
       "      <th>model_variant</th>\n",
       "      <th>max_batch_size</th>\n",
       "      <th>cpu_request</th>\n",
       "      <th>load</th>\n",
       "      <th>timeout_count</th>\n",
       "    </tr>\n",
       "  </thead>\n",
       "  <tbody>\n",
       "    <tr>\n",
       "      <th>0</th>\n",
       "      <td>0</td>\n",
       "      <td>1</td>\n",
       "      <td>4</td>\n",
       "      <td>100</td>\n",
       "      <td>0</td>\n",
       "    </tr>\n",
       "    <tr>\n",
       "      <th>1</th>\n",
       "      <td>0</td>\n",
       "      <td>1</td>\n",
       "      <td>4</td>\n",
       "      <td>1000</td>\n",
       "      <td>27409</td>\n",
       "    </tr>\n",
       "  </tbody>\n",
       "</table>\n",
       "</div>"
      ],
      "text/plain": [
       "   model_variant  max_batch_size  cpu_request  load  timeout_count\n",
       "0              0               1            4   100              0\n",
       "1              0               1            4  1000          27409"
      ]
     },
     "metadata": {},
     "output_type": "display_data"
    }
   ],
   "source": [
    "model_variant = 1\n",
    "experiment_ids = key_config_df[\n",
    "    key_config_df['model_variant'] == 0]['experiment_id'].tolist()\n",
    "metadata_columns = ['model_variant', 'max_batch_size', 'cpu_request', 'load']\n",
    "results_columns = ['timeout_count']\n",
    "output = loader1.table_maker(\n",
    "    experiment_ids=experiment_ids,\n",
    "    metadata_columns=metadata_columns,\n",
    "    results_columns=results_columns)\n",
    "display(output)\n",
    "# ax = output.plot.bar(x='load', y=['client_to_model_latencies_avg', 'model_latencies_avg', 'model_to_client_latencies_avg'])\n",
    "# ax.set_xlabel(\"Load\")\n",
    "# ax.set_ylabel(\"Latency (seconds)\")"
   ]
  },
  {
   "cell_type": "code",
   "execution_count": 42,
   "id": "d7e539ce",
   "metadata": {},
   "outputs": [
    {
     "data": {
      "text/html": [
       "<div>\n",
       "<style scoped>\n",
       "    .dataframe tbody tr th:only-of-type {\n",
       "        vertical-align: middle;\n",
       "    }\n",
       "\n",
       "    .dataframe tbody tr th {\n",
       "        vertical-align: top;\n",
       "    }\n",
       "\n",
       "    .dataframe thead th {\n",
       "        text-align: right;\n",
       "    }\n",
       "</style>\n",
       "<table border=\"1\" class=\"dataframe\">\n",
       "  <thead>\n",
       "    <tr style=\"text-align: right;\">\n",
       "      <th></th>\n",
       "      <th>model_variant</th>\n",
       "      <th>max_batch_size</th>\n",
       "      <th>cpu_request</th>\n",
       "      <th>load</th>\n",
       "      <th>client_to_model_latencies_avg</th>\n",
       "      <th>model_latencies_avg</th>\n",
       "      <th>model_to_client_latencies_avg</th>\n",
       "    </tr>\n",
       "  </thead>\n",
       "  <tbody>\n",
       "    <tr>\n",
       "      <th>0</th>\n",
       "      <td>0</td>\n",
       "      <td>1</td>\n",
       "      <td>4</td>\n",
       "      <td>100</td>\n",
       "      <td>0.621333</td>\n",
       "      <td>1.003172</td>\n",
       "      <td>0.002935</td>\n",
       "    </tr>\n",
       "    <tr>\n",
       "      <th>1</th>\n",
       "      <td>0</td>\n",
       "      <td>1</td>\n",
       "      <td>4</td>\n",
       "      <td>1000</td>\n",
       "      <td>151.921275</td>\n",
       "      <td>1.003085</td>\n",
       "      <td>0.009609</td>\n",
       "    </tr>\n",
       "  </tbody>\n",
       "</table>\n",
       "</div>"
      ],
      "text/plain": [
       "   model_variant  max_batch_size  cpu_request  load  \\\n",
       "0              0               1            4   100   \n",
       "1              0               1            4  1000   \n",
       "\n",
       "   client_to_model_latencies_avg  model_latencies_avg  \\\n",
       "0                       0.621333             1.003172   \n",
       "1                     151.921275             1.003085   \n",
       "\n",
       "   model_to_client_latencies_avg  \n",
       "0                       0.002935  \n",
       "1                       0.009609  "
      ]
     },
     "metadata": {},
     "output_type": "display_data"
    },
    {
     "data": {
      "text/plain": [
       "Text(0, 0.5, 'Latency (seconds)')"
      ]
     },
     "execution_count": 42,
     "metadata": {},
     "output_type": "execute_result"
    },
    {
     "data": {
      "image/png": "[encoded data removed]",
      "text/plain": [
       "<Figure size 640x480 with 1 Axes>"
      ]
     },
     "metadata": {},
     "output_type": "display_data"
    }
   ],
   "source": [
    "model_variant = 0\n",
    "experiment_ids = key_config_df[\n",
    "    key_config_df['model_variant'] == model_variant]['experiment_id'].tolist()\n",
    "metadata_columns = ['model_variant', 'max_batch_size', 'cpu_request', 'load']\n",
    "results_columns = ['client_to_model_latencies_avg', 'model_latencies_avg', 'model_to_client_latencies_avg']\n",
    "output = loader1.table_maker(\n",
    "    experiment_ids=experiment_ids,\n",
    "    metadata_columns=metadata_columns,\n",
    "    results_columns=results_columns)\n",
    "display(output)\n",
    "ax = output.plot.bar(x='load', y=['client_to_model_latencies_avg', 'model_latencies_avg', 'model_to_client_latencies_avg'])\n",
    "ax.set_xlabel(\"Load\")\n",
    "ax.set_ylabel(\"Latency (seconds)\")"
   ]
  },
  {
   "cell_type": "code",
   "execution_count": 43,
   "id": "5e792e3f",
   "metadata": {},
   "outputs": [
    {
     "data": {
      "text/html": [
       "<div>\n",
       "<style scoped>\n",
       "    .dataframe tbody tr th:only-of-type {\n",
       "        vertical-align: middle;\n",
       "    }\n",
       "\n",
       "    .dataframe tbody tr th {\n",
       "        vertical-align: top;\n",
       "    }\n",
       "\n",
       "    .dataframe thead th {\n",
       "        text-align: right;\n",
       "    }\n",
       "</style>\n",
       "<table border=\"1\" class=\"dataframe\">\n",
       "  <thead>\n",
       "    <tr style=\"text-align: right;\">\n",
       "      <th></th>\n",
       "      <th>model_variant</th>\n",
       "      <th>max_batch_size</th>\n",
       "      <th>cpu_request</th>\n",
       "      <th>load</th>\n",
       "      <th>client_to_model_latencies_max</th>\n",
       "      <th>model_latencies_max</th>\n",
       "      <th>model_to_client_latencies_max</th>\n",
       "    </tr>\n",
       "  </thead>\n",
       "  <tbody>\n",
       "    <tr>\n",
       "      <th>0</th>\n",
       "      <td>0</td>\n",
       "      <td>1</td>\n",
       "      <td>4</td>\n",
       "      <td>100</td>\n",
       "      <td>1.319601</td>\n",
       "      <td>1.069726</td>\n",
       "      <td>0.086862</td>\n",
       "    </tr>\n",
       "    <tr>\n",
       "      <th>1</th>\n",
       "      <td>0</td>\n",
       "      <td>1</td>\n",
       "      <td>4</td>\n",
       "      <td>1000</td>\n",
       "      <td>299.960467</td>\n",
       "      <td>1.085839</td>\n",
       "      <td>0.838348</td>\n",
       "    </tr>\n",
       "  </tbody>\n",
       "</table>\n",
       "</div>"
      ],
      "text/plain": [
       "   model_variant  max_batch_size  cpu_request  load  \\\n",
       "0              0               1            4   100   \n",
       "1              0               1            4  1000   \n",
       "\n",
       "   client_to_model_latencies_max  model_latencies_max  \\\n",
       "0                       1.319601             1.069726   \n",
       "1                     299.960467             1.085839   \n",
       "\n",
       "   model_to_client_latencies_max  \n",
       "0                       0.086862  \n",
       "1                       0.838348  "
      ]
     },
     "metadata": {},
     "output_type": "display_data"
    },
    {
     "data": {
      "text/plain": [
       "Text(0, 0.5, 'Latency (seconds)')"
      ]
     },
     "execution_count": 43,
     "metadata": {},
     "output_type": "execute_result"
    },
    {
     "data": {
      "image/png": "[encoded data removed]",
      "text/plain": [
       "<Figure size 640x480 with 1 Axes>"
      ]
     },
     "metadata": {},
     "output_type": "display_data"
    }
   ],
   "source": [
    "model_variant = 0\n",
    "experiment_ids = key_config_df[\n",
    "    key_config_df['model_variant'] == model_variant]['experiment_id'].tolist()\n",
    "metadata_columns = ['model_variant', 'max_batch_size', 'cpu_request', 'load']\n",
    "results_columns = ['client_to_model_latencies_max', 'model_latencies_max', 'model_to_client_latencies_max']\n",
    "output = loader1.table_maker(\n",
    "    experiment_ids=experiment_ids,\n",
    "    metadata_columns=metadata_columns,\n",
    "    results_columns=results_columns)\n",
    "display(output)\n",
    "ax = output.plot.bar(x='load', y=['client_to_model_latencies_max', 'model_latencies_max', 'model_to_client_latencies_max'])\n",
    "ax.set_xlabel(\"Load\")\n",
    "ax.set_ylabel(\"Latency (seconds)\")"
   ]
  },
  {
   "cell_type": "code",
   "execution_count": 44,
   "id": "fcd7192b",
   "metadata": {},
   "outputs": [
    {
     "ename": "KeyError",
     "evalue": "'4'",
     "output_type": "error",
     "traceback": [
      "\u001b[0;31m---------------------------------------------------------------------------\u001b[0m",
      "\u001b[0;31mKeyError\u001b[0m                                  Traceback (most recent call last)",
      "Cell \u001b[0;32mIn [44], line 4\u001b[0m\n\u001b[1;32m      2\u001b[0m results \u001b[39m=\u001b[39m loader1\u001b[39m.\u001b[39mread_results()\n\u001b[1;32m      3\u001b[0m experiment_id \u001b[39m=\u001b[39m \u001b[39m4\u001b[39m\n\u001b[0;32m----> 4\u001b[0m responses \u001b[39m=\u001b[39m loader1\u001b[39m.\u001b[39mflatten_results(results[\u001b[39mstr\u001b[39;49m(experiment_id)][\u001b[39m'\u001b[39m\u001b[39mresponses\u001b[39m\u001b[39m'\u001b[39m])\n\u001b[1;32m      5\u001b[0m sending_times \u001b[39m=\u001b[39m []\n\u001b[1;32m      6\u001b[0m \u001b[39mfor\u001b[39;00m response \u001b[39min\u001b[39;00m responses:\n",
      "\u001b[0;31mKeyError\u001b[0m: '4'"
     ]
    }
   ],
   "source": [
    "import time\n",
    "results = loader1.read_results()\n",
    "experiment_id = 4\n",
    "responses = loader1.flatten_results(results[str(experiment_id)]['responses'])\n",
    "sending_times = []\n",
    "for response in responses:\n",
    "    try:\n",
    "        sending_time = time.ctime(response['timing']['sending_time'])\n",
    "        model_arrival_time = time.ctime(\n",
    "        json.loads(\n",
    "            response['outputs'][0][\n",
    "                'data'][0])['time']['arrival_mock_one'])\n",
    "        arrival_time = time.ctime(response['timing']['arrival_time'])\n",
    "    except KeyError:\n",
    "        # print('timed out!')\n",
    "        pass\n",
    "    print(f\"sending time: {sending_time}, model_arrival_time: {model_arrival_time}, arrival time: {arrival_time}\")"
   ]
  },
  {
   "cell_type": "code",
   "execution_count": null,
   "id": "217d701b",
   "metadata": {},
   "outputs": [],
   "source": []
  },
  {
   "cell_type": "code",
   "execution_count": null,
   "id": "6666f484",
   "metadata": {},
   "outputs": [],
   "source": []
  },
  {
   "cell_type": "code",
   "execution_count": null,
   "id": "97693d50",
   "metadata": {},
   "outputs": [],
   "source": []
  },
  {
   "cell_type": "code",
   "execution_count": null,
   "id": "9515eb4c",
   "metadata": {},
   "outputs": [],
   "source": []
  },
  {
   "cell_type": "code",
   "execution_count": null,
   "id": "b7f53a8b",
   "metadata": {},
   "outputs": [],
   "source": []
  }
 ],
 "metadata": {
  "kernelspec": {
   "display_name": "Python 3.8.13 ('central')",
   "language": "python",
   "name": "python3"
  },
  "language_info": {
   "codemirror_mode": {
    "name": "ipython",
    "version": 3
   },
   "file_extension": ".py",
   "mimetype": "text/x-python",
   "name": "python",
   "nbconvert_exporter": "python",
   "pygments_lexer": "ipython3",
   "version": "3.8.13"
  },
  "vscode": {
   "interpreter": {
    "hash": "2465c4f56298bc06dbdad3e7519856d346ec0e9edf6ba2c905f0af711583810e"
   }
  }
 },
 "nbformat": 4,
 "nbformat_minor": 5
}
