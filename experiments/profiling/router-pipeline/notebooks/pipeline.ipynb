{
 "cells": [
  {
   "attachments": {},
   "cell_type": "markdown",
   "id": "b93d6f0e",
   "metadata": {},
   "source": [
    "## imports and files"
   ]
  },
  {
   "cell_type": "code",
   "execution_count": 1,
   "id": "bde05b26",
   "metadata": {},
   "outputs": [],
   "source": [
    "import pandas as pd\n",
    "import os\n",
    "import sys\n",
    "from pprint import PrettyPrinter\n",
    "\n",
    "pp = PrettyPrinter(indent=4)\n",
    "\n",
    "# get an absolute path to the directory that contains parent files\n",
    "__file__ = globals()[\"_dh\"][0]\n",
    "project_dir = __file__ = globals()[\"_dh\"][0]\n",
    "sys.path.append(os.path.normpath(os.path.join(project_dir, \"..\", \"..\", \"..\", \"..\")))\n",
    "\n",
    "from experiments.utils.constants import PIPELINE_PROFILING_RESULTS_PATH\n",
    "from experiments.utils.parser import Parser"
   ]
  },
  {
   "attachments": {},
   "cell_type": "markdown",
   "id": "02896e68",
   "metadata": {},
   "source": []
  },
  {
   "cell_type": "code",
   "execution_count": 2,
   "id": "f5632e5b",
   "metadata": {},
   "outputs": [],
   "source": [
    "series = 4\n",
    "config_key_mapper = \"key_config_mapper.csv\"\n",
    "\n",
    "series_path = os.path.join(PIPELINE_PROFILING_RESULTS_PATH, \"series\", str(series))\n",
    "\n",
    "loader = Parser(\n",
    "    series_path=series_path,\n",
    "    config_key_mapper=config_key_mapper,\n",
    "    model_name=\"video\",\n",
    "    type_of=\"router_pipeline\",\n",
    ")"
   ]
  },
  {
   "cell_type": "code",
   "execution_count": 3,
   "id": "20c989f9",
   "metadata": {},
   "outputs": [
    {
     "name": "stdout",
     "output_type": "stream",
     "text": [
      "File name: 0.yaml\n",
      "{   'benchmark_duration': 1,\n",
      "    'central_queue': False,\n",
      "    'distrpution_time': 15,\n",
      "    'metadata': 'pipeline benchmarking',\n",
      "    'mode': 'exponential',\n",
      "    'nodes': [   {   'cpu_request': ['1'],\n",
      "                     'data_type': 'image',\n",
      "                     'max_batch_size': ['1'],\n",
      "                     'max_batch_time': ['1'],\n",
      "                     'memory_request': ['10Gi'],\n",
      "                     'model_variants': ['yolov5n'],\n",
      "                     'node_name': 'yolo',\n",
      "                     'num_interop_threads': ['1'],\n",
      "                     'num_threads': ['1'],\n",
      "                     'replicas': [1],\n",
      "                     'use_threading': 'True'},\n",
      "                 {   'cpu_request': ['1'],\n",
      "                     'data_type': 'text',\n",
      "                     'max_batch_size': ['4'],\n",
      "                     'max_batch_time': ['1'],\n",
      "                     'memory_request': ['10Gi'],\n",
      "                     'model_variants': ['resnet18'],\n",
      "                     'node_name': 'resnet-human',\n",
      "                     'num_interop_threads': ['1'],\n",
      "                     'num_threads': ['1'],\n",
      "                     'replicas': [1],\n",
      "                     'use_threading': 'True'}],\n",
      "    'pipeline_folder_name': 'video',\n",
      "    'pipeline_name': 'video',\n",
      "    'repetition': 1,\n",
      "    'series': 3,\n",
      "    'timeout': 70,\n",
      "    'workload_config': {'load_duration': 60, 'loads_to_test': [10]},\n",
      "    'workload_type': 'static'}\n"
     ]
    }
   ],
   "source": [
    "configs = loader.load_configs()\n",
    "for config_name, config in configs.items():\n",
    "    print(f\"File name: {config_name}\")\n",
    "    pp.pprint(config)"
   ]
  },
  {
   "attachments": {},
   "cell_type": "markdown",
   "id": "845c8290",
   "metadata": {},
   "source": [
    "## config map reader"
   ]
  },
  {
   "cell_type": "code",
   "execution_count": 5,
   "id": "eb62afa1",
   "metadata": {},
   "outputs": [],
   "source": [
    "key_config_df = loader.key_config_mapper()\n",
    "# display(key_config_df)\n",
    "key_config_df.columns\n",
    "results = loader.result_processing()"
   ]
  },
  {
   "cell_type": "code",
   "execution_count": 15,
   "id": "60b6b03d",
   "metadata": {},
   "outputs": [
    {
     "data": {
      "text/html": [
       "<div>\n",
       "<style scoped>\n",
       "    .dataframe tbody tr th:only-of-type {\n",
       "        vertical-align: middle;\n",
       "    }\n",
       "\n",
       "    .dataframe tbody tr th {\n",
       "        vertical-align: top;\n",
       "    }\n",
       "\n",
       "    .dataframe thead th {\n",
       "        text-align: right;\n",
       "    }\n",
       "</style>\n",
       "<table border=\"1\" class=\"dataframe\">\n",
       "  <thead>\n",
       "    <tr style=\"text-align: right;\">\n",
       "      <th></th>\n",
       "    </tr>\n",
       "  </thead>\n",
       "  <tbody>\n",
       "  </tbody>\n",
       "</table>\n",
       "</div>"
      ],
      "text/plain": [
       "Empty DataFrame\n",
       "Columns: []\n",
       "Index: []"
      ]
     },
     "execution_count": 15,
     "metadata": {},
     "output_type": "execute_result"
    }
   ],
   "source": [
    "results"
   ]
  },
  {
   "cell_type": "code",
   "execution_count": 16,
   "id": "c76f8aab",
   "metadata": {},
   "outputs": [],
   "source": [
    "for item in results.columns:\n",
    "    print(item)"
   ]
  },
  {
   "cell_type": "code",
   "execution_count": 17,
   "id": "f4cf019b",
   "metadata": {},
   "outputs": [],
   "source": [
    "experiment_id = 1\n",
    "experiment_results = loader.get_experiment_detail(experiment_id=experiment_id)\n",
    "# display(experiment_results)\n",
    "# -------------------------\n",
    "experiment_results.keys()\n",
    "filenames = loader.get_result_file_names()\n",
    "# display(filenames)\n",
    "# -------------------------\n",
    "results = loader._read_results()\n",
    "# display(results.keys())\n",
    "# -------------------------\n",
    "flattened_results = loader.flatten_results(results[\"1\"][\"responses\"])\n",
    "# display(flattened_results)\n",
    "# -------------------------\n",
    "experiment_id = 1\n",
    "_, flattened_results = loader.flatten_results(results[str(experiment_id)][\"responses\"])\n",
    "latencies, timeout_count = loader.latency_calculator(flattened_results)\n",
    "# display(pd.DataFrame(latencies))\n",
    "# -------------------------\n",
    "results = loader.result_processing()\n",
    "# print(results)\n",
    "# print(list(results.columns))\n",
    "for item in list(results.columns):\n",
    "    if \"task_0\" in item:\n",
    "        print(item)\n",
    "# -------------------------\n",
    "for item in results.columns:\n",
    "    print(item)\n",
    "# -------------------------\n",
    "# experiment_id = 1\n",
    "# _, flattened_results = loader.flatten_results(results[str(experiment_id)][\"responses\"])\n",
    "# latencies, timeout_count = loader.latency_calculator(flattened_results)\n",
    "# display(pd.DataFrame(latencies))\n",
    "# -------------------------\n",
    "# summary = loader.latency_summary(latencies=latencies)\n",
    "# pd.DataFrame(list(summary.items()))"
   ]
  },
  {
   "cell_type": "code",
   "execution_count": 18,
   "id": "66a5b6cc",
   "metadata": {},
   "outputs": [
    {
     "name": "stdout",
     "output_type": "stream",
     "text": [
      "Index(['experiment_id', 'pipeline_name', 'load', 'load_duration', 'series',\n",
      "       'metadata', 'mode', 'data_type', 'benchmark_duration',\n",
      "       'task_0_node_name', 'task_0_model_variant', 'task_0_cpu_request',\n",
      "       'task_0_memory_request', 'task_0_max_batch_size',\n",
      "       'task_0_max_batch_time', 'task_0_replica', 'task_1_node_name',\n",
      "       'task_1_model_variant', 'task_1_cpu_request', 'task_1_memory_request',\n",
      "       'task_1_max_batch_size', 'task_1_max_batch_time', 'task_1_replica'],\n",
      "      dtype='object')\n"
     ]
    },
    {
     "data": {
      "text/html": [
       "<div>\n",
       "<style scoped>\n",
       "    .dataframe tbody tr th:only-of-type {\n",
       "        vertical-align: middle;\n",
       "    }\n",
       "\n",
       "    .dataframe tbody tr th {\n",
       "        vertical-align: top;\n",
       "    }\n",
       "\n",
       "    .dataframe thead th {\n",
       "        text-align: right;\n",
       "    }\n",
       "</style>\n",
       "<table border=\"1\" class=\"dataframe\">\n",
       "  <thead>\n",
       "    <tr style=\"text-align: right;\">\n",
       "      <th></th>\n",
       "      <th>experiment_id</th>\n",
       "      <th>pipeline_name</th>\n",
       "      <th>load</th>\n",
       "      <th>load_duration</th>\n",
       "      <th>series</th>\n",
       "      <th>metadata</th>\n",
       "      <th>mode</th>\n",
       "      <th>data_type</th>\n",
       "      <th>benchmark_duration</th>\n",
       "      <th>task_0_node_name</th>\n",
       "      <th>...</th>\n",
       "      <th>task_0_max_batch_size</th>\n",
       "      <th>task_0_max_batch_time</th>\n",
       "      <th>task_0_replica</th>\n",
       "      <th>task_1_node_name</th>\n",
       "      <th>task_1_model_variant</th>\n",
       "      <th>task_1_cpu_request</th>\n",
       "      <th>task_1_memory_request</th>\n",
       "      <th>task_1_max_batch_size</th>\n",
       "      <th>task_1_max_batch_time</th>\n",
       "      <th>task_1_replica</th>\n",
       "    </tr>\n",
       "  </thead>\n",
       "  <tbody>\n",
       "    <tr>\n",
       "      <th>0</th>\n",
       "      <td>1</td>\n",
       "      <td>video</td>\n",
       "      <td>10</td>\n",
       "      <td>60</td>\n",
       "      <td>3</td>\n",
       "      <td>pipeline benchmarking</td>\n",
       "      <td>exponential</td>\n",
       "      <td>image</td>\n",
       "      <td>1</td>\n",
       "      <td>yolo</td>\n",
       "      <td>...</td>\n",
       "      <td>1</td>\n",
       "      <td>1</td>\n",
       "      <td>1</td>\n",
       "      <td>resnet-human</td>\n",
       "      <td>resnet18</td>\n",
       "      <td>1</td>\n",
       "      <td>10Gi</td>\n",
       "      <td>4</td>\n",
       "      <td>1</td>\n",
       "      <td>1</td>\n",
       "    </tr>\n",
       "  </tbody>\n",
       "</table>\n",
       "<p>1 rows × 23 columns</p>\n",
       "</div>"
      ],
      "text/plain": [
       "   experiment_id pipeline_name  load  load_duration  series  \\\n",
       "0              1         video    10             60       3   \n",
       "\n",
       "                metadata         mode data_type  benchmark_duration  \\\n",
       "0  pipeline benchmarking  exponential     image                   1   \n",
       "\n",
       "  task_0_node_name  ... task_0_max_batch_size  task_0_max_batch_time  \\\n",
       "0             yolo  ...                     1                      1   \n",
       "\n",
       "  task_0_replica  task_1_node_name  task_1_model_variant  task_1_cpu_request  \\\n",
       "0              1      resnet-human              resnet18                   1   \n",
       "\n",
       "  task_1_memory_request task_1_max_batch_size  task_1_max_batch_time  \\\n",
       "0                  10Gi                     4                      1   \n",
       "\n",
       "  task_1_replica  \n",
       "0              1  \n",
       "\n",
       "[1 rows x 23 columns]"
      ]
     },
     "execution_count": 18,
     "metadata": {},
     "output_type": "execute_result"
    }
   ],
   "source": [
    "key_config_df = loader.key_config_mapper()\n",
    "print(key_config_df.columns)\n",
    "# selected_key_config_df =  key_config_df[key_config_df['model_variant_1'] == 'yolov5n']\n",
    "# selected_key_config_df\n",
    "key_config_df"
   ]
  },
  {
   "cell_type": "code",
   "execution_count": 19,
   "id": "deae7a14",
   "metadata": {},
   "outputs": [
    {
     "ename": "KeyError",
     "evalue": "'experiment_id'",
     "output_type": "error",
     "traceback": [
      "\u001b[0;31m---------------------------------------------------------------------------\u001b[0m",
      "\u001b[0;31mKeyError\u001b[0m                                  Traceback (most recent call last)",
      "File \u001b[0;32m~/miniconda3/envs/central/lib/python3.9/site-packages/pandas/core/indexes/base.py:3080\u001b[0m, in \u001b[0;36mIndex.get_loc\u001b[0;34m(self, key, method, tolerance)\u001b[0m\n\u001b[1;32m   3079\u001b[0m \u001b[39mtry\u001b[39;00m:\n\u001b[0;32m-> 3080\u001b[0m     \u001b[39mreturn\u001b[39;00m \u001b[39mself\u001b[39;49m\u001b[39m.\u001b[39;49m_engine\u001b[39m.\u001b[39;49mget_loc(casted_key)\n\u001b[1;32m   3081\u001b[0m \u001b[39mexcept\u001b[39;00m \u001b[39mKeyError\u001b[39;00m \u001b[39mas\u001b[39;00m err:\n",
      "File \u001b[0;32mpandas/_libs/index.pyx:70\u001b[0m, in \u001b[0;36mpandas._libs.index.IndexEngine.get_loc\u001b[0;34m()\u001b[0m\n",
      "File \u001b[0;32mpandas/_libs/index.pyx:101\u001b[0m, in \u001b[0;36mpandas._libs.index.IndexEngine.get_loc\u001b[0;34m()\u001b[0m\n",
      "File \u001b[0;32mpandas/_libs/hashtable_class_helper.pxi:4554\u001b[0m, in \u001b[0;36mpandas._libs.hashtable.PyObjectHashTable.get_item\u001b[0;34m()\u001b[0m\n",
      "File \u001b[0;32mpandas/_libs/hashtable_class_helper.pxi:4562\u001b[0m, in \u001b[0;36mpandas._libs.hashtable.PyObjectHashTable.get_item\u001b[0;34m()\u001b[0m\n",
      "\u001b[0;31mKeyError\u001b[0m: 'experiment_id'",
      "\nThe above exception was the direct cause of the following exception:\n",
      "\u001b[0;31mKeyError\u001b[0m                                  Traceback (most recent call last)",
      "Cell \u001b[0;32mIn[19], line 23\u001b[0m\n\u001b[1;32m      3\u001b[0m metadata_columns \u001b[39m=\u001b[39m [\n\u001b[1;32m      4\u001b[0m     \u001b[39m\"\u001b[39m\u001b[39mexperiment_id\u001b[39m\u001b[39m\"\u001b[39m,\n\u001b[1;32m      5\u001b[0m     \u001b[39m\"\u001b[39m\u001b[39mtask_0_cpu_request\u001b[39m\u001b[39m\"\u001b[39m,\n\u001b[0;32m   (...)\u001b[0m\n\u001b[1;32m     12\u001b[0m     \u001b[39m\"\u001b[39m\u001b[39mtask_1_max_batch_size\u001b[39m\u001b[39m\"\u001b[39m,\n\u001b[1;32m     13\u001b[0m ]\n\u001b[1;32m     15\u001b[0m selected_results_columns \u001b[39m=\u001b[39m [\n\u001b[1;32m     16\u001b[0m     \u001b[39m\"\u001b[39m\u001b[39mclient_to_pipeline_avg\u001b[39m\u001b[39m\"\u001b[39m,\n\u001b[1;32m     17\u001b[0m     \u001b[39m\"\u001b[39m\u001b[39mtask_0_model_avg\u001b[39m\u001b[39m\"\u001b[39m,\n\u001b[1;32m     18\u001b[0m     \u001b[39m\"\u001b[39m\u001b[39mtask_0_to_task_1_latencies_avg\u001b[39m\u001b[39m\"\u001b[39m,\n\u001b[1;32m     19\u001b[0m     \u001b[39m\"\u001b[39m\u001b[39mtask_1_model_avg\u001b[39m\u001b[39m\"\u001b[39m,\n\u001b[1;32m     20\u001b[0m ]\n\u001b[0;32m---> 23\u001b[0m output \u001b[39m=\u001b[39m loader\u001b[39m.\u001b[39;49mtable_maker(\n\u001b[1;32m     24\u001b[0m     experiment_ids\u001b[39m=\u001b[39;49mexperiment_ids,\n\u001b[1;32m     25\u001b[0m     metadata_columns\u001b[39m=\u001b[39;49mmetadata_columns,\n\u001b[1;32m     26\u001b[0m     results_columns\u001b[39m=\u001b[39;49mselected_results_columns,\n\u001b[1;32m     27\u001b[0m )\n\u001b[1;32m     28\u001b[0m pd\u001b[39m.\u001b[39mset_option(\u001b[39m\"\u001b[39m\u001b[39mdisplay.max_rows\u001b[39m\u001b[39m\"\u001b[39m, \u001b[39mNone\u001b[39;00m)\n\u001b[1;32m     29\u001b[0m output[\u001b[39m\"\u001b[39m\u001b[39mmodel_latencies_sum\u001b[39m\u001b[39m\"\u001b[39m] \u001b[39m=\u001b[39m (\n\u001b[1;32m     30\u001b[0m     output[\u001b[39m\"\u001b[39m\u001b[39mtask_0_model_avg\u001b[39m\u001b[39m\"\u001b[39m] \u001b[39m+\u001b[39m output[\u001b[39m\"\u001b[39m\u001b[39mtask_1_model_avg\u001b[39m\u001b[39m\"\u001b[39m]\n\u001b[1;32m     31\u001b[0m )\n",
      "File \u001b[0;32m~/infernece-pipeline-joint-optimization/experiments/utils/parser.py:411\u001b[0m, in \u001b[0;36mParser.table_maker\u001b[0;34m(self, experiment_ids, metadata_columns, results_columns)\u001b[0m\n\u001b[1;32m    409\u001b[0m metadata \u001b[39m=\u001b[39m \u001b[39mself\u001b[39m\u001b[39m.\u001b[39mkey_config_mapper()\n\u001b[1;32m    410\u001b[0m \u001b[39m# retrieve rows\u001b[39;00m\n\u001b[0;32m--> 411\u001b[0m selected_results \u001b[39m=\u001b[39m results[results[\u001b[39m\"\u001b[39;49m\u001b[39mexperiment_id\u001b[39;49m\u001b[39m\"\u001b[39;49m]\u001b[39m.\u001b[39misin(experiment_ids)]\n\u001b[1;32m    412\u001b[0m selected_metadata \u001b[39m=\u001b[39m metadata[metadata[\u001b[39m\"\u001b[39m\u001b[39mexperiment_id\u001b[39m\u001b[39m\"\u001b[39m]\u001b[39m.\u001b[39misin(experiment_ids)]\n\u001b[1;32m    413\u001b[0m merged_results \u001b[39m=\u001b[39m selected_metadata\u001b[39m.\u001b[39mmerge(selected_results)\n",
      "File \u001b[0;32m~/miniconda3/envs/central/lib/python3.9/site-packages/pandas/core/frame.py:3024\u001b[0m, in \u001b[0;36mDataFrame.__getitem__\u001b[0;34m(self, key)\u001b[0m\n\u001b[1;32m   3022\u001b[0m \u001b[39mif\u001b[39;00m \u001b[39mself\u001b[39m\u001b[39m.\u001b[39mcolumns\u001b[39m.\u001b[39mnlevels \u001b[39m>\u001b[39m \u001b[39m1\u001b[39m:\n\u001b[1;32m   3023\u001b[0m     \u001b[39mreturn\u001b[39;00m \u001b[39mself\u001b[39m\u001b[39m.\u001b[39m_getitem_multilevel(key)\n\u001b[0;32m-> 3024\u001b[0m indexer \u001b[39m=\u001b[39m \u001b[39mself\u001b[39;49m\u001b[39m.\u001b[39;49mcolumns\u001b[39m.\u001b[39;49mget_loc(key)\n\u001b[1;32m   3025\u001b[0m \u001b[39mif\u001b[39;00m is_integer(indexer):\n\u001b[1;32m   3026\u001b[0m     indexer \u001b[39m=\u001b[39m [indexer]\n",
      "File \u001b[0;32m~/miniconda3/envs/central/lib/python3.9/site-packages/pandas/core/indexes/base.py:3082\u001b[0m, in \u001b[0;36mIndex.get_loc\u001b[0;34m(self, key, method, tolerance)\u001b[0m\n\u001b[1;32m   3080\u001b[0m         \u001b[39mreturn\u001b[39;00m \u001b[39mself\u001b[39m\u001b[39m.\u001b[39m_engine\u001b[39m.\u001b[39mget_loc(casted_key)\n\u001b[1;32m   3081\u001b[0m     \u001b[39mexcept\u001b[39;00m \u001b[39mKeyError\u001b[39;00m \u001b[39mas\u001b[39;00m err:\n\u001b[0;32m-> 3082\u001b[0m         \u001b[39mraise\u001b[39;00m \u001b[39mKeyError\u001b[39;00m(key) \u001b[39mfrom\u001b[39;00m \u001b[39merr\u001b[39;00m\n\u001b[1;32m   3084\u001b[0m \u001b[39mif\u001b[39;00m tolerance \u001b[39mis\u001b[39;00m \u001b[39mnot\u001b[39;00m \u001b[39mNone\u001b[39;00m:\n\u001b[1;32m   3085\u001b[0m     tolerance \u001b[39m=\u001b[39m \u001b[39mself\u001b[39m\u001b[39m.\u001b[39m_convert_tolerance(tolerance, np\u001b[39m.\u001b[39masarray(key))\n",
      "\u001b[0;31mKeyError\u001b[0m: 'experiment_id'"
     ]
    }
   ],
   "source": [
    "experiment_ids = key_config_df[key_config_df[\"load\"] == 10][\"experiment_id\"].tolist()\n",
    "\n",
    "metadata_columns = [\n",
    "    \"experiment_id\",\n",
    "    \"task_0_cpu_request\",\n",
    "    \"task_0_model_variant\",\n",
    "    \"task_0_replica\",\n",
    "    \"task_0_max_batch_size\",\n",
    "    \"task_1_cpu_request\",\n",
    "    \"task_1_model_variant\",\n",
    "    \"task_1_replica\",\n",
    "    \"task_1_max_batch_size\",\n",
    "]\n",
    "\n",
    "selected_results_columns = [\n",
    "    \"client_to_pipeline_avg\",\n",
    "    \"task_0_model_avg\",\n",
    "    \"task_0_to_task_1_latencies_avg\",\n",
    "    \"task_1_model_avg\",\n",
    "]\n",
    "\n",
    "\n",
    "output = loader.table_maker(\n",
    "    experiment_ids=experiment_ids,\n",
    "    metadata_columns=metadata_columns,\n",
    "    results_columns=selected_results_columns,\n",
    ")\n",
    "pd.set_option(\"display.max_rows\", None)\n",
    "output[\"model_latencies_sum\"] = output[\"task_0_model_avg\"] + output[\"task_1_model_avg\"]\n",
    "output[\"e2e_latencies\"] = (\n",
    "    output[\"task_0_model_avg\"]\n",
    "    + output[\"task_1_model_avg\"]\n",
    "    + output[\"task_0_to_task_1_latencies_avg\"]\n",
    ")"
   ]
  },
  {
   "cell_type": "code",
   "execution_count": null,
   "id": "bf5a93db",
   "metadata": {},
   "outputs": [
    {
     "data": {
      "text/html": [
       "<div>\n",
       "<style scoped>\n",
       "    .dataframe tbody tr th:only-of-type {\n",
       "        vertical-align: middle;\n",
       "    }\n",
       "\n",
       "    .dataframe tbody tr th {\n",
       "        vertical-align: top;\n",
       "    }\n",
       "\n",
       "    .dataframe thead th {\n",
       "        text-align: right;\n",
       "    }\n",
       "</style>\n",
       "<table border=\"1\" class=\"dataframe\">\n",
       "  <thead>\n",
       "    <tr style=\"text-align: right;\">\n",
       "      <th></th>\n",
       "      <th>experiment_id</th>\n",
       "      <th>task_0_cpu_request</th>\n",
       "      <th>task_0_model_variant</th>\n",
       "      <th>task_0_replica</th>\n",
       "      <th>task_0_max_batch_size</th>\n",
       "      <th>task_1_cpu_request</th>\n",
       "      <th>task_1_model_variant</th>\n",
       "      <th>task_1_replica</th>\n",
       "      <th>task_1_max_batch_size</th>\n",
       "      <th>client_to_pipeline_avg</th>\n",
       "      <th>task_0_model_avg</th>\n",
       "      <th>task_0_to_task_1_latencies_avg</th>\n",
       "      <th>task_1_model_avg</th>\n",
       "      <th>model_latencies_sum</th>\n",
       "      <th>e2e_latencies</th>\n",
       "    </tr>\n",
       "  </thead>\n",
       "  <tbody>\n",
       "    <tr>\n",
       "      <th>0</th>\n",
       "      <td>1</td>\n",
       "      <td>1</td>\n",
       "      <td>yolov5n</td>\n",
       "      <td>1</td>\n",
       "      <td>1</td>\n",
       "      <td>1</td>\n",
       "      <td>resnet18</td>\n",
       "      <td>1</td>\n",
       "      <td>4</td>\n",
       "      <td>0.51474</td>\n",
       "      <td>0.082847</td>\n",
       "      <td>0.043527</td>\n",
       "      <td>0.196241</td>\n",
       "      <td>0.279088</td>\n",
       "      <td>0.322615</td>\n",
       "    </tr>\n",
       "  </tbody>\n",
       "</table>\n",
       "</div>"
      ],
      "text/plain": [
       "   experiment_id  task_0_cpu_request task_0_model_variant  task_0_replica  \\\n",
       "0              1                   1              yolov5n               1   \n",
       "\n",
       "   task_0_max_batch_size  task_1_cpu_request task_1_model_variant  \\\n",
       "0                      1                   1             resnet18   \n",
       "\n",
       "   task_1_replica  task_1_max_batch_size  client_to_pipeline_avg  \\\n",
       "0               1                      4                           0.51474   \n",
       "\n",
       "   task_0_model_avg  task_0_to_task_1_latencies_avg  \\\n",
       "0                    0.082847                        0.043527   \n",
       "\n",
       "   task_1_model_avg  model_latencies_sum  e2e_latencies  \n",
       "0                    0.196241             0.279088       0.322615  "
      ]
     },
     "metadata": {},
     "output_type": "display_data"
    }
   ],
   "source": [
    "display(\n",
    "    output[output[\"task_0_to_task_1_latencies_avg\"] > 0]\n",
    "    .sort_values(by=[\"model_latencies_sum\"], ascending=False)\n",
    "    .head(10)\n",
    ")"
   ]
  },
  {
   "cell_type": "code",
   "execution_count": null,
   "id": "fee9c35a",
   "metadata": {},
   "outputs": [
    {
     "data": {
      "text/plain": [
       "array([1])"
      ]
     },
     "execution_count": 10,
     "metadata": {},
     "output_type": "execute_result"
    }
   ],
   "source": [
    "a = (\n",
    "    output[output[\"task_0_to_task_1_latencies_avg\"] > 0]\n",
    "    .sort_values(by=[\"model_latencies_sum\"], ascending=False)\n",
    "    .experiment_id.to_numpy()\n",
    ")\n",
    "a"
   ]
  },
  {
   "cell_type": "code",
   "execution_count": null,
   "id": "946a300e",
   "metadata": {},
   "outputs": [
    {
     "data": {
      "text/plain": [
       "array([1])"
      ]
     },
     "execution_count": 11,
     "metadata": {},
     "output_type": "execute_result"
    }
   ],
   "source": [
    "b = (\n",
    "    output[output[\"task_0_to_task_1_latencies_avg\"] > 0]\n",
    "    .sort_values(by=[\"e2e_latencies\"], ascending=False)\n",
    "    .experiment_id.to_numpy()\n",
    ")\n",
    "b"
   ]
  },
  {
   "cell_type": "code",
   "execution_count": null,
   "id": "1c34a83d",
   "metadata": {},
   "outputs": [
    {
     "data": {
      "text/plain": [
       "array([1])"
      ]
     },
     "execution_count": 12,
     "metadata": {},
     "output_type": "execute_result"
    }
   ],
   "source": [
    "a"
   ]
  },
  {
   "cell_type": "code",
   "execution_count": null,
   "id": "c0ff91b4",
   "metadata": {},
   "outputs": [
    {
     "data": {
      "text/plain": [
       "array([1])"
      ]
     },
     "execution_count": 13,
     "metadata": {},
     "output_type": "execute_result"
    }
   ],
   "source": [
    "b"
   ]
  },
  {
   "cell_type": "code",
   "execution_count": null,
   "id": "2dd3488a",
   "metadata": {},
   "outputs": [
    {
     "data": {
      "text/plain": [
       "1"
      ]
     },
     "execution_count": 14,
     "metadata": {},
     "output_type": "execute_result"
    }
   ],
   "source": [
    "sum(a == b)"
   ]
  },
  {
   "cell_type": "code",
   "execution_count": null,
   "id": "98b102b1",
   "metadata": {},
   "outputs": [],
   "source": []
  }
 ],
 "metadata": {
  "kernelspec": {
   "display_name": "Python 3.8.13 ('central')",
   "language": "python",
   "name": "python3"
  },
  "language_info": {
   "codemirror_mode": {
    "name": "ipython",
    "version": 3
   },
   "file_extension": ".py",
   "mimetype": "text/x-python",
   "name": "python",
   "nbconvert_exporter": "python",
   "pygments_lexer": "ipython3",
   "version": "3.9.16"
  },
  "vscode": {
   "interpreter": {
    "hash": "2465c4f56298bc06dbdad3e7519856d346ec0e9edf6ba2c905f0af711583810e"
   }
  }
 },
 "nbformat": 4,
 "nbformat_minor": 5
}
