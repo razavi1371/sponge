{
 "cells": [
  {
   "cell_type": "markdown",
   "metadata": {},
   "source": [
    "# Canary Rollout with Seldon and Istio\n"
   ]
  },
  {
   "cell_type": "markdown",
   "metadata": {},
   "source": [
    "## Setup Seldon Core\n",
    "\n",
    "Use the setup notebook to [Setup Cluster](https://docs.seldon.io/projects/seldon-core/en/latest/examples/seldon_core_setup.html#Setup-Cluster) with [Istio Ingress](https://docs.seldon.io/projects/seldon-core/en/latest/examples/seldon_core_setup.html#Istio) and [Install Seldon Core](https://docs.seldon.io/projects/seldon-core/en/latest/examples/seldon_core_setup.html#Install-Seldon-Core). Instructions [also online](https://docs.seldon.io/projects/seldon-core/en/latest/examples/seldon_core_setup.html)."
   ]
  },
  {
   "cell_type": "code",
   "execution_count": 1,
   "metadata": {},
   "outputs": [
    {
     "name": "stdout",
     "output_type": "stream",
     "text": [
      "namespace/seldon created\n"
     ]
    }
   ],
   "source": [
    "!kubectl create namespace seldon"
   ]
  },
  {
   "cell_type": "code",
   "execution_count": 2,
   "metadata": {},
   "outputs": [
    {
     "name": "stdout",
     "output_type": "stream",
     "text": [
      "Context \"microk8s\" modified.\n"
     ]
    }
   ],
   "source": [
    "!kubectl config set-context $(kubectl config current-context) --namespace=seldon"
   ]
  },
  {
   "cell_type": "code",
   "execution_count": 3,
   "metadata": {},
   "outputs": [],
   "source": [
    "from IPython.core.magic import register_line_cell_magic\n",
    "\n",
    "\n",
    "@register_line_cell_magic\n",
    "def writetemplate(line, cell):\n",
    "    with open(line, \"w\") as f:\n",
    "        f.write(cell.format(**globals()))"
   ]
  },
  {
   "cell_type": "markdown",
   "metadata": {},
   "source": [
    "Ensure the istio ingress gatewaty is port-forwarded to localhost:8004\n",
    "\n",
    "\n",
    "\n",
    "* Istio: `kubectl port-forward $(kubectl get pods -l istio=ingressgateway -n istio-system -o jsonpath='{.items[0].metadata.name}') -n istio-system 8004:8080`\n"
   ]
  },
  {
   "cell_type": "code",
   "execution_count": 4,
   "metadata": {},
   "outputs": [
    {
     "data": {
      "text/plain": [
       "'1.14.0-dev'"
      ]
     },
     "execution_count": 4,
     "metadata": {},
     "output_type": "execute_result"
    }
   ],
   "source": [
    "ISTIO_GATEWAY = \"localhost:8004\"\n",
    "\n",
    "VERSION = !cat ../version.txt\n",
    "VERSION = VERSION[0]\n",
    "VERSION"
   ]
  },
  {
   "cell_type": "markdown",
   "metadata": {},
   "source": [
    "## Launch main model\n",
    "\n",
    "We will create a very simple Seldon Deployment with a dummy model image `seldonio/mock_classifier:1.0`. This deployment is named `example`."
   ]
  },
  {
   "cell_type": "code",
   "execution_count": 5,
   "metadata": {},
   "outputs": [],
   "source": [
    "%%writetemplate model.yaml\n",
    "apiVersion: machinelearning.seldon.io/v1alpha2\n",
    "kind: SeldonDeployment\n",
    "metadata:\n",
    "  labels:\n",
    "    app: seldon\n",
    "  name: example\n",
    "spec:\n",
    "  name: canary-example\n",
    "  predictors:\n",
    "  - componentSpecs:\n",
    "    - spec:\n",
    "        containers:\n",
    "        - image: seldonio/mock_classifier:{VERSION}\n",
    "          imagePullPolicy: IfNotPresent\n",
    "          name: classifier\n",
    "        terminationGracePeriodSeconds: 1\n",
    "    graph:\n",
    "      children: []\n",
    "      endpoint:\n",
    "        type: REST\n",
    "      name: classifier\n",
    "      type: MODEL\n",
    "    name: main\n",
    "    replicas: 1\n"
   ]
  },
  {
   "cell_type": "code",
   "execution_count": 14,
   "metadata": {},
   "outputs": [
    {
     "name": "stdout",
     "output_type": "stream",
     "text": [
      "Error from server (AlreadyExists): error when creating \"model.yaml\": seldondeployments.machinelearning.seldon.io \"example\" already exists\n"
     ]
    }
   ],
   "source": [
    "!kubectl create -f model.yaml"
   ]
  },
  {
   "cell_type": "code",
   "execution_count": 13,
   "metadata": {},
   "outputs": [
    {
     "name": "stdout",
     "output_type": "stream",
     "text": [
      "deployment \"example-main-0-classifier\" successfully rolled out\n"
     ]
    }
   ],
   "source": [
    "!kubectl rollout status deploy/$(kubectl get deploy -l seldon-deployment-id=example -o jsonpath='{.items[0].metadata.name}')"
   ]
  },
  {
   "cell_type": "markdown",
   "metadata": {},
   "source": [
    "### Get predictions"
   ]
  },
  {
   "cell_type": "code",
   "execution_count": 7,
   "metadata": {},
   "outputs": [
    {
     "ename": "ImportError",
     "evalue": "cannot import name 'BaseResponse' from 'werkzeug.wrappers' (/home/cc/miniconda3/envs/central/lib/python3.10/site-packages/werkzeug/wrappers/__init__.py)",
     "output_type": "error",
     "traceback": [
      "\u001b[0;31m---------------------------------------------------------------------------\u001b[0m",
      "\u001b[0;31mImportError\u001b[0m                               Traceback (most recent call last)",
      "\u001b[1;32m/home/cc/infernece-pipeline-joint-optimization/seldon-core-examples/istio/canary/istio_canary.ipynb Cell 13'\u001b[0m in \u001b[0;36m<cell line: 1>\u001b[0;34m()\u001b[0m\n\u001b[0;32m----> <a href='vscode-notebook-cell://ssh-remote%2Bchameleon/home/cc/infernece-pipeline-joint-optimization/seldon-core-examples/istio/canary/istio_canary.ipynb#ch0000012vscode-remote?line=0'>1</a>\u001b[0m \u001b[39mfrom\u001b[39;00m \u001b[39mseldon_core\u001b[39;00m\u001b[39m.\u001b[39;00m\u001b[39mseldon_client\u001b[39;00m \u001b[39mimport\u001b[39;00m SeldonClient\n\u001b[1;32m      <a href='vscode-notebook-cell://ssh-remote%2Bchameleon/home/cc/infernece-pipeline-joint-optimization/seldon-core-examples/istio/canary/istio_canary.ipynb#ch0000012vscode-remote?line=2'>3</a>\u001b[0m sc \u001b[39m=\u001b[39m SeldonClient(\n\u001b[1;32m      <a href='vscode-notebook-cell://ssh-remote%2Bchameleon/home/cc/infernece-pipeline-joint-optimization/seldon-core-examples/istio/canary/istio_canary.ipynb#ch0000012vscode-remote?line=3'>4</a>\u001b[0m     deployment_name\u001b[39m=\u001b[39m\u001b[39m\"\u001b[39m\u001b[39mexample\u001b[39m\u001b[39m\"\u001b[39m, namespace\u001b[39m=\u001b[39m\u001b[39m\"\u001b[39m\u001b[39mseldon\u001b[39m\u001b[39m\"\u001b[39m, gateway_endpoint\u001b[39m=\u001b[39mISTIO_GATEWAY\n\u001b[1;32m      <a href='vscode-notebook-cell://ssh-remote%2Bchameleon/home/cc/infernece-pipeline-joint-optimization/seldon-core-examples/istio/canary/istio_canary.ipynb#ch0000012vscode-remote?line=4'>5</a>\u001b[0m )\n",
      "File \u001b[0;32m~/miniconda3/envs/central/lib/python3.10/site-packages/seldon_core/seldon_client.py:12\u001b[0m, in \u001b[0;36m<module>\u001b[0;34m\u001b[0m\n\u001b[1;32m      <a href='file:///home/cc/miniconda3/envs/central/lib/python3.10/site-packages/seldon_core/seldon_client.py?line=8'>9</a>\u001b[0m \u001b[39mfrom\u001b[39;00m \u001b[39mgoogle\u001b[39;00m\u001b[39m.\u001b[39;00m\u001b[39mprotobuf\u001b[39;00m \u001b[39mimport\u001b[39;00m any_pb2, json_format\n\u001b[1;32m     <a href='file:///home/cc/miniconda3/envs/central/lib/python3.10/site-packages/seldon_core/seldon_client.py?line=10'>11</a>\u001b[0m \u001b[39mfrom\u001b[39;00m \u001b[39mseldon_core\u001b[39;00m\u001b[39m.\u001b[39;00m\u001b[39mproto\u001b[39;00m \u001b[39mimport\u001b[39;00m prediction_pb2, prediction_pb2_grpc\n\u001b[0;32m---> <a href='file:///home/cc/miniconda3/envs/central/lib/python3.10/site-packages/seldon_core/seldon_client.py?line=11'>12</a>\u001b[0m \u001b[39mfrom\u001b[39;00m \u001b[39mseldon_core\u001b[39;00m\u001b[39m.\u001b[39;00m\u001b[39mutils\u001b[39;00m \u001b[39mimport\u001b[39;00m (\n\u001b[1;32m     <a href='file:///home/cc/miniconda3/envs/central/lib/python3.10/site-packages/seldon_core/seldon_client.py?line=12'>13</a>\u001b[0m     array_to_grpc_datadef,\n\u001b[1;32m     <a href='file:///home/cc/miniconda3/envs/central/lib/python3.10/site-packages/seldon_core/seldon_client.py?line=13'>14</a>\u001b[0m     feedback_to_json,\n\u001b[1;32m     <a href='file:///home/cc/miniconda3/envs/central/lib/python3.10/site-packages/seldon_core/seldon_client.py?line=14'>15</a>\u001b[0m     json_to_feedback,\n\u001b[1;32m     <a href='file:///home/cc/miniconda3/envs/central/lib/python3.10/site-packages/seldon_core/seldon_client.py?line=15'>16</a>\u001b[0m     json_to_seldon_message,\n\u001b[1;32m     <a href='file:///home/cc/miniconda3/envs/central/lib/python3.10/site-packages/seldon_core/seldon_client.py?line=16'>17</a>\u001b[0m     seldon_message_to_json,\n\u001b[1;32m     <a href='file:///home/cc/miniconda3/envs/central/lib/python3.10/site-packages/seldon_core/seldon_client.py?line=17'>18</a>\u001b[0m     seldon_messages_to_json,\n\u001b[1;32m     <a href='file:///home/cc/miniconda3/envs/central/lib/python3.10/site-packages/seldon_core/seldon_client.py?line=18'>19</a>\u001b[0m )\n\u001b[1;32m     <a href='file:///home/cc/miniconda3/envs/central/lib/python3.10/site-packages/seldon_core/seldon_client.py?line=20'>21</a>\u001b[0m logger \u001b[39m=\u001b[39m logging\u001b[39m.\u001b[39mgetLogger(\u001b[39m__name__\u001b[39m)\n\u001b[1;32m     <a href='file:///home/cc/miniconda3/envs/central/lib/python3.10/site-packages/seldon_core/seldon_client.py?line=23'>24</a>\u001b[0m \u001b[39mclass\u001b[39;00m \u001b[39mSeldonClientException\u001b[39;00m(\u001b[39mException\u001b[39;00m):\n",
      "File \u001b[0;32m~/miniconda3/envs/central/lib/python3.10/site-packages/seldon_core/utils.py:21\u001b[0m, in \u001b[0;36m<module>\u001b[0;34m\u001b[0m\n\u001b[1;32m     <a href='file:///home/cc/miniconda3/envs/central/lib/python3.10/site-packages/seldon_core/utils.py?line=10'>11</a>\u001b[0m \u001b[39mfrom\u001b[39;00m \u001b[39mgoogle\u001b[39;00m\u001b[39m.\u001b[39;00m\u001b[39mprotobuf\u001b[39;00m\u001b[39m.\u001b[39;00m\u001b[39mstruct_pb2\u001b[39;00m \u001b[39mimport\u001b[39;00m ListValue\n\u001b[1;32m     <a href='file:///home/cc/miniconda3/envs/central/lib/python3.10/site-packages/seldon_core/utils.py?line=12'>13</a>\u001b[0m \u001b[39mfrom\u001b[39;00m \u001b[39mseldon_core\u001b[39;00m\u001b[39m.\u001b[39;00m\u001b[39menv_utils\u001b[39;00m \u001b[39mimport\u001b[39;00m (\n\u001b[1;32m     <a href='file:///home/cc/miniconda3/envs/central/lib/python3.10/site-packages/seldon_core/utils.py?line=13'>14</a>\u001b[0m     ENV_MODEL_IMAGE,\n\u001b[1;32m     <a href='file:///home/cc/miniconda3/envs/central/lib/python3.10/site-packages/seldon_core/utils.py?line=14'>15</a>\u001b[0m     ENV_MODEL_NAME,\n\u001b[0;32m   (...)\u001b[0m\n\u001b[1;32m     <a href='file:///home/cc/miniconda3/envs/central/lib/python3.10/site-packages/seldon_core/utils.py?line=18'>19</a>\u001b[0m     get_model_name,\n\u001b[1;32m     <a href='file:///home/cc/miniconda3/envs/central/lib/python3.10/site-packages/seldon_core/utils.py?line=19'>20</a>\u001b[0m )\n\u001b[0;32m---> <a href='file:///home/cc/miniconda3/envs/central/lib/python3.10/site-packages/seldon_core/utils.py?line=20'>21</a>\u001b[0m \u001b[39mfrom\u001b[39;00m \u001b[39mseldon_core\u001b[39;00m\u001b[39m.\u001b[39;00m\u001b[39mflask_utils\u001b[39;00m \u001b[39mimport\u001b[39;00m SeldonMicroserviceException\n\u001b[1;32m     <a href='file:///home/cc/miniconda3/envs/central/lib/python3.10/site-packages/seldon_core/utils.py?line=21'>22</a>\u001b[0m \u001b[39mfrom\u001b[39;00m \u001b[39mseldon_core\u001b[39;00m\u001b[39m.\u001b[39;00m\u001b[39mimports_helper\u001b[39;00m \u001b[39mimport\u001b[39;00m _TF_PRESENT\n\u001b[1;32m     <a href='file:///home/cc/miniconda3/envs/central/lib/python3.10/site-packages/seldon_core/utils.py?line=22'>23</a>\u001b[0m \u001b[39mfrom\u001b[39;00m \u001b[39mseldon_core\u001b[39;00m\u001b[39m.\u001b[39;00m\u001b[39mproto\u001b[39;00m \u001b[39mimport\u001b[39;00m prediction_pb2\n",
      "File \u001b[0;32m~/miniconda3/envs/central/lib/python3.10/site-packages/seldon_core/flask_utils.py:6\u001b[0m, in \u001b[0;36m<module>\u001b[0;34m\u001b[0m\n\u001b[1;32m      <a href='file:///home/cc/miniconda3/envs/central/lib/python3.10/site-packages/seldon_core/flask_utils.py?line=2'>3</a>\u001b[0m \u001b[39mfrom\u001b[39;00m \u001b[39mhttp\u001b[39;00m \u001b[39mimport\u001b[39;00m HTTPStatus\n\u001b[1;32m      <a href='file:///home/cc/miniconda3/envs/central/lib/python3.10/site-packages/seldon_core/flask_utils.py?line=3'>4</a>\u001b[0m \u001b[39mfrom\u001b[39;00m \u001b[39mtyping\u001b[39;00m \u001b[39mimport\u001b[39;00m Dict, Union\n\u001b[0;32m----> <a href='file:///home/cc/miniconda3/envs/central/lib/python3.10/site-packages/seldon_core/flask_utils.py?line=5'>6</a>\u001b[0m \u001b[39mfrom\u001b[39;00m \u001b[39mflask\u001b[39;00m \u001b[39mimport\u001b[39;00m current_app\n\u001b[1;32m      <a href='file:///home/cc/miniconda3/envs/central/lib/python3.10/site-packages/seldon_core/flask_utils.py?line=6'>7</a>\u001b[0m \u001b[39mfrom\u001b[39;00m \u001b[39mflask\u001b[39;00m \u001b[39mimport\u001b[39;00m jsonify \u001b[39mas\u001b[39;00m flask_jsonify\n\u001b[1;32m      <a href='file:///home/cc/miniconda3/envs/central/lib/python3.10/site-packages/seldon_core/flask_utils.py?line=7'>8</a>\u001b[0m \u001b[39mfrom\u001b[39;00m \u001b[39mflask\u001b[39;00m \u001b[39mimport\u001b[39;00m request\n",
      "File \u001b[0;32m~/miniconda3/envs/central/lib/python3.10/site-packages/flask/__init__.py:21\u001b[0m, in \u001b[0;36m<module>\u001b[0;34m\u001b[0m\n\u001b[1;32m     <a href='file:///home/cc/miniconda3/envs/central/lib/python3.10/site-packages/flask/__init__.py?line=18'>19</a>\u001b[0m \u001b[39mfrom\u001b[39;00m \u001b[39m.\u001b[39;00m \u001b[39mimport\u001b[39;00m json\n\u001b[1;32m     <a href='file:///home/cc/miniconda3/envs/central/lib/python3.10/site-packages/flask/__init__.py?line=19'>20</a>\u001b[0m \u001b[39mfrom\u001b[39;00m \u001b[39m.\u001b[39;00m\u001b[39m_compat\u001b[39;00m \u001b[39mimport\u001b[39;00m json_available\n\u001b[0;32m---> <a href='file:///home/cc/miniconda3/envs/central/lib/python3.10/site-packages/flask/__init__.py?line=20'>21</a>\u001b[0m \u001b[39mfrom\u001b[39;00m \u001b[39m.\u001b[39;00m\u001b[39mapp\u001b[39;00m \u001b[39mimport\u001b[39;00m Flask\n\u001b[1;32m     <a href='file:///home/cc/miniconda3/envs/central/lib/python3.10/site-packages/flask/__init__.py?line=21'>22</a>\u001b[0m \u001b[39mfrom\u001b[39;00m \u001b[39m.\u001b[39;00m\u001b[39mapp\u001b[39;00m \u001b[39mimport\u001b[39;00m Request\n\u001b[1;32m     <a href='file:///home/cc/miniconda3/envs/central/lib/python3.10/site-packages/flask/__init__.py?line=22'>23</a>\u001b[0m \u001b[39mfrom\u001b[39;00m \u001b[39m.\u001b[39;00m\u001b[39mapp\u001b[39;00m \u001b[39mimport\u001b[39;00m Response\n",
      "File \u001b[0;32m~/miniconda3/envs/central/lib/python3.10/site-packages/flask/app.py:32\u001b[0m, in \u001b[0;36m<module>\u001b[0;34m\u001b[0m\n\u001b[1;32m     <a href='file:///home/cc/miniconda3/envs/central/lib/python3.10/site-packages/flask/app.py?line=29'>30</a>\u001b[0m \u001b[39mfrom\u001b[39;00m \u001b[39mwerkzeug\u001b[39;00m\u001b[39m.\u001b[39;00m\u001b[39mrouting\u001b[39;00m \u001b[39mimport\u001b[39;00m RoutingException\n\u001b[1;32m     <a href='file:///home/cc/miniconda3/envs/central/lib/python3.10/site-packages/flask/app.py?line=30'>31</a>\u001b[0m \u001b[39mfrom\u001b[39;00m \u001b[39mwerkzeug\u001b[39;00m\u001b[39m.\u001b[39;00m\u001b[39mrouting\u001b[39;00m \u001b[39mimport\u001b[39;00m Rule\n\u001b[0;32m---> <a href='file:///home/cc/miniconda3/envs/central/lib/python3.10/site-packages/flask/app.py?line=31'>32</a>\u001b[0m \u001b[39mfrom\u001b[39;00m \u001b[39mwerkzeug\u001b[39;00m\u001b[39m.\u001b[39;00m\u001b[39mwrappers\u001b[39;00m \u001b[39mimport\u001b[39;00m BaseResponse\n\u001b[1;32m     <a href='file:///home/cc/miniconda3/envs/central/lib/python3.10/site-packages/flask/app.py?line=33'>34</a>\u001b[0m \u001b[39mfrom\u001b[39;00m \u001b[39m.\u001b[39;00m \u001b[39mimport\u001b[39;00m cli\n\u001b[1;32m     <a href='file:///home/cc/miniconda3/envs/central/lib/python3.10/site-packages/flask/app.py?line=34'>35</a>\u001b[0m \u001b[39mfrom\u001b[39;00m \u001b[39m.\u001b[39;00m \u001b[39mimport\u001b[39;00m json\n",
      "\u001b[0;31mImportError\u001b[0m: cannot import name 'BaseResponse' from 'werkzeug.wrappers' (/home/cc/miniconda3/envs/central/lib/python3.10/site-packages/werkzeug/wrappers/__init__.py)"
     ]
    }
   ],
   "source": [
    "from seldon_core.seldon_client import SeldonClient\n",
    "\n",
    "sc = SeldonClient(\n",
    "    deployment_name=\"example\", namespace=\"seldon\", gateway_endpoint=ISTIO_GATEWAY\n",
    ")"
   ]
  },
  {
   "cell_type": "code",
   "execution_count": 2,
   "metadata": {},
   "outputs": [
    {
     "name": "stdout",
     "output_type": "stream",
     "text": [
      "/home/cc/miniconda3/envs/central/bin/python\n"
     ]
    }
   ],
   "source": []
  },
  {
   "cell_type": "markdown",
   "metadata": {},
   "source": [
    "#### REST Request"
   ]
  },
  {
   "cell_type": "code",
   "execution_count": 6,
   "metadata": {},
   "outputs": [
    {
     "ename": "NameError",
     "evalue": "name 'sc' is not defined",
     "output_type": "error",
     "traceback": [
      "\u001b[0;31m---------------------------------------------------------------------------\u001b[0m",
      "\u001b[0;31mNameError\u001b[0m                                 Traceback (most recent call last)",
      "\u001b[1;32m/home/cc/infernece-pipeline-joint-optimization/seldon-core-examples/istio/canary/istio_canary.ipynb Cell 16'\u001b[0m in \u001b[0;36m<cell line: 1>\u001b[0;34m()\u001b[0m\n\u001b[0;32m----> <a href='vscode-notebook-cell://ssh-remote%2Bchameleon/home/cc/infernece-pipeline-joint-optimization/seldon-core-examples/istio/canary/istio_canary.ipynb#ch0000015vscode-remote?line=0'>1</a>\u001b[0m r \u001b[39m=\u001b[39m sc\u001b[39m.\u001b[39mpredict(gateway\u001b[39m=\u001b[39m\u001b[39m\"\u001b[39m\u001b[39mistio\u001b[39m\u001b[39m\"\u001b[39m, transport\u001b[39m=\u001b[39m\u001b[39m\"\u001b[39m\u001b[39mrest\u001b[39m\u001b[39m\"\u001b[39m)\n\u001b[1;32m      <a href='vscode-notebook-cell://ssh-remote%2Bchameleon/home/cc/infernece-pipeline-joint-optimization/seldon-core-examples/istio/canary/istio_canary.ipynb#ch0000015vscode-remote?line=1'>2</a>\u001b[0m \u001b[39massert\u001b[39;00m r\u001b[39m.\u001b[39msuccess \u001b[39m==\u001b[39m \u001b[39mTrue\u001b[39;00m\n\u001b[1;32m      <a href='vscode-notebook-cell://ssh-remote%2Bchameleon/home/cc/infernece-pipeline-joint-optimization/seldon-core-examples/istio/canary/istio_canary.ipynb#ch0000015vscode-remote?line=2'>3</a>\u001b[0m \u001b[39mprint\u001b[39m(r)\n",
      "\u001b[0;31mNameError\u001b[0m: name 'sc' is not defined"
     ]
    }
   ],
   "source": [
    "r = sc.predict(gateway=\"istio\", transport=\"rest\")\n",
    "assert r.success == True\n",
    "print(r)"
   ]
  },
  {
   "cell_type": "markdown",
   "metadata": {},
   "source": [
    "## Launch Canary\n",
    "\n",
    "We will now extend the existing graph and add a new predictor as a canary using a new model `seldonio/mock_classifier_rest:1.1`. We will add traffic values to split traffic 75/25 to the main and canary."
   ]
  },
  {
   "cell_type": "code",
   "execution_count": 18,
   "metadata": {},
   "outputs": [],
   "source": [
    "%%writetemplate canary.yaml\n",
    "apiVersion: machinelearning.seldon.io/v1alpha2\n",
    "kind: SeldonDeployment\n",
    "metadata:\n",
    "  labels:\n",
    "    app: seldon\n",
    "  name: example\n",
    "spec:\n",
    "  name: canary-example\n",
    "  predictors:\n",
    "  - componentSpecs:\n",
    "    - spec:\n",
    "        containers:\n",
    "        - image: seldonio/mock_classifier:{VERSION}\n",
    "          imagePullPolicy: IfNotPresent\n",
    "          name: classifier\n",
    "        terminationGracePeriodSeconds: 1\n",
    "    graph:\n",
    "      children: []\n",
    "      endpoint:\n",
    "        type: REST\n",
    "      name: classifier\n",
    "      type: MODEL\n",
    "    name: main\n",
    "    replicas: 1\n",
    "    traffic: 75\n",
    "  - componentSpecs:\n",
    "    - spec:\n",
    "        containers:\n",
    "        - image: seldonio/mock_classifier:{VERSION}\n",
    "          imagePullPolicy: IfNotPresent\n",
    "          name: classifier\n",
    "        terminationGracePeriodSeconds: 1\n",
    "    graph:\n",
    "      children: []\n",
    "      endpoint:\n",
    "        type: REST\n",
    "      name: classifier\n",
    "      type: MODEL\n",
    "    name: canary\n",
    "    replicas: 1\n",
    "    traffic: 25\n"
   ]
  },
  {
   "cell_type": "code",
   "execution_count": 19,
   "metadata": {},
   "outputs": [
    {
     "name": "stdout",
     "output_type": "stream",
     "text": [
      "Warning: resource seldondeployments/example is missing the kubectl.kubernetes.io/last-applied-configuration annotation which is required by kubectl apply. kubectl apply should only be used on resources created declaratively by either kubectl create --save-config or kubectl apply. The missing annotation will be patched automatically.\n",
      "seldondeployment.machinelearning.seldon.io/example configured\n"
     ]
    }
   ],
   "source": [
    "!kubectl apply -f canary.yaml"
   ]
  },
  {
   "cell_type": "code",
   "execution_count": 20,
   "metadata": {},
   "outputs": [
    {
     "name": "stdout",
     "output_type": "stream",
     "text": [
      "deployment \"example-main-0-classifier\" successfully rolled out\n",
      "Waiting for deployment \"example-canary-0-classifier\" rollout to finish: 0 of 1 updated replicas are available...\n",
      "deployment \"example-canary-0-classifier\" successfully rolled out\n"
     ]
    }
   ],
   "source": [
    "!kubectl rollout status deploy/$(kubectl get deploy -l seldon-deployment-id=example -o jsonpath='{.items[0].metadata.name}')\n",
    "!kubectl rollout status deploy/$(kubectl get deploy -l seldon-deployment-id=example -o jsonpath='{.items[1].metadata.name}')"
   ]
  },
  {
   "cell_type": "markdown",
   "metadata": {},
   "source": [
    "Show our REST requests are now split with roughly 25% going to the canary."
   ]
  },
  {
   "cell_type": "code",
   "execution_count": 21,
   "metadata": {},
   "outputs": [
    {
     "data": {
      "text/plain": [
       "Success:True message:\n",
       "Request:\n",
       "meta {\n",
       "}\n",
       "data {\n",
       "  tensor {\n",
       "    shape: 1\n",
       "    shape: 1\n",
       "    values: 0.72921028222509\n",
       "  }\n",
       "}\n",
       "\n",
       "Response:\n",
       "{'data': {'names': ['proba'], 'tensor': {'shape': [1, 1], 'values': [0.10088257882280786]}}, 'meta': {'requestPath': {'classifier': 'seldonio/mock_classifier:1.14.0-dev'}}}"
      ]
     },
     "execution_count": 21,
     "metadata": {},
     "output_type": "execute_result"
    }
   ],
   "source": [
    "sc.predict(gateway=\"istio\", transport=\"rest\")"
   ]
  },
  {
   "cell_type": "code",
   "execution_count": 22,
   "metadata": {},
   "outputs": [],
   "source": [
    "from collections import defaultdict\n",
    "\n",
    "counts = defaultdict(int)\n",
    "n = 100\n",
    "for i in range(n):\n",
    "    r = sc.predict(gateway=\"istio\", transport=\"rest\")"
   ]
  },
  {
   "cell_type": "markdown",
   "metadata": {},
   "source": [
    "Following checks number of prediction requests processed by default/canary predictors respectively."
   ]
  },
  {
   "cell_type": "code",
   "execution_count": 23,
   "metadata": {},
   "outputs": [],
   "source": [
    "default_count = !kubectl logs $(kubectl get pod -lseldon-app=example-main -o jsonpath='{.items[0].metadata.name}') classifier | grep \"root:predict\" | wc -l"
   ]
  },
  {
   "cell_type": "code",
   "execution_count": 24,
   "metadata": {},
   "outputs": [],
   "source": [
    "canary_count = !kubectl logs $(kubectl get pod -lseldon-app=example-canary -o jsonpath='{.items[0].metadata.name}') classifier | grep \"root:predict\" | wc -l"
   ]
  },
  {
   "cell_type": "code",
   "execution_count": 25,
   "metadata": {},
   "outputs": [
    {
     "name": "stdout",
     "output_type": "stream",
     "text": [
      "0.36\n"
     ]
    }
   ],
   "source": [
    "canary_percentage = float(canary_count[0]) / float(default_count[0])\n",
    "print(canary_percentage)\n",
    "assert canary_percentage > 0.1 and canary_percentage < 0.5"
   ]
  },
  {
   "cell_type": "code",
   "execution_count": 26,
   "metadata": {},
   "outputs": [
    {
     "name": "stdout",
     "output_type": "stream",
     "text": [
      "seldondeployment.machinelearning.seldon.io \"example\" deleted\n"
     ]
    }
   ],
   "source": [
    "!kubectl delete -f canary.yaml"
   ]
  },
  {
   "cell_type": "code",
   "execution_count": null,
   "metadata": {},
   "outputs": [],
   "source": []
  }
 ],
 "metadata": {
  "anaconda-cloud": {},
  "interpreter": {
   "hash": "ae7f7725b1bd380cfc6e6a1ad4a9033e8f92ef1020063bcdcc747f903d0d95b3"
  },
  "kernelspec": {
   "display_name": "Python 3.8.3 64-bit ('dev': conda)",
   "language": "python",
   "name": "python3"
  },
  "language_info": {
   "codemirror_mode": {
    "name": "ipython",
    "version": 3
   },
   "file_extension": ".py",
   "mimetype": "text/x-python",
   "name": "python",
   "nbconvert_exporter": "python",
   "pygments_lexer": "ipython3",
   "version": "3.10.4"
  },
  "metadata": {
   "interpreter": {
    "hash": "1d7f5a1859618f76ef4cef58ee850bddcfabb7d38d6aca091ca78ca6bd037618"
   }
  },
  "varInspector": {
   "cols": {
    "lenName": 16,
    "lenType": 16,
    "lenVar": 40
   },
   "kernels_config": {
    "python": {
     "delete_cmd_postfix": "",
     "delete_cmd_prefix": "del ",
     "library": "var_list.py",
     "varRefreshCmd": "print(var_dic_list())"
    },
    "r": {
     "delete_cmd_postfix": ") ",
     "delete_cmd_prefix": "rm(",
     "library": "var_list.r",
     "varRefreshCmd": "cat(var_dic_list()) "
    }
   },
   "types_to_exclude": [
    "module",
    "function",
    "builtin_function_or_method",
    "instance",
    "_Feature"
   ],
   "window_display": false
  }
 },
 "nbformat": 4,
 "nbformat_minor": 4
}
