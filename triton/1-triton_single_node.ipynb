{
 "cells": [
  {
   "cell_type": "markdown",
   "metadata": {},
   "source": [
    "### single node triton server with load test\n",
    "1. Loading to and from minio workflow (multiple models)\n",
    "2. Making the node\n",
    "3. Load and unload models operations\n",
    "4. Monitoring\n",
    "5. Naive load test\n"
   ]
  },
  {
   "cell_type": "markdown",
   "metadata": {},
   "source": []
  }
 ],
 "metadata": {
  "language_info": {
   "name": "python"
  },
  "orig_nbformat": 4
 },
 "nbformat": 4,
 "nbformat_minor": 2
}
