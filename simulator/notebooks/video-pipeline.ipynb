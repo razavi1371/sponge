{
 "cells": [
  {
   "attachments": {},
   "cell_type": "markdown",
   "metadata": {},
   "source": [
    "# Video pipeline with Yolo + Resnet Model"
   ]
  },
  {
   "cell_type": "code",
   "execution_count": 5,
   "metadata": {},
   "outputs": [],
   "source": [
    "import pandas as pd\n",
    "import os\n",
    "import pandas as pd\n",
    "import sys\n",
    "from pprint import PrettyPrinter\n",
    "pp = PrettyPrinter(indent=4)\n",
    "\n",
    "\n",
    "# get an absolute path to the directory that contains parent files\n",
    "project_dir = globals()['_dh'][0]\n",
    "sys.path.append(os.path.normpath(os.path.join(\n",
    "    project_dir, '..', '..')))\n",
    "\n",
    "from experiments.utils.constants import (\n",
    "    PIPELINE_SIMULATION_CONFIGS_PATH,\n",
    "    PIPELINE_SIMULATION_RESULTS_PATH\n",
    ")\n",
    "\n",
    "series = 1\n",
    "series_path = os.path.join(\n",
    "    PIPELINE_SIMULATION_RESULTS_PATH, 'series', str(series))"
   ]
  },
  {
   "cell_type": "code",
   "execution_count": 6,
   "metadata": {},
   "outputs": [
    {
     "data": {
      "text/plain": [
       "Index(['task_0_variant', 'task_0_cpu', 'task_0_gpu', 'task_0_cpu_all_replicas',\n",
       "       'task_0_gpu_all_replicas', 'task_0_batch', 'task_0_replicas',\n",
       "       'task_0_latency', 'task_0_throughput', 'task_0_throughput_all_replicas',\n",
       "       'task_0_measured', 'task_1_variant', 'task_1_cpu', 'task_1_gpu',\n",
       "       'task_1_cpu_all_replicas', 'task_1_gpu_all_replicas', 'task_1_batch',\n",
       "       'task_1_replicas', 'task_1_latency', 'task_1_throughput',\n",
       "       'task_1_throughput_all_replicas', 'task_1_measured', 'pipeline_latency',\n",
       "       'pipeline_throughput', 'pipeline_cpu', 'pipeline_gpu',\n",
       "       'accuracy_objective', 'alpha', 'batch_objective', 'beta', 'gamma',\n",
       "       'objective', 'pipeline_accuracy', 'resource_objective',\n",
       "       'task_0_accuracy', 'task_1_accuracy'],\n",
       "      dtype='object')"
      ]
     },
     "execution_count": 6,
     "metadata": {},
     "output_type": "execute_result"
    }
   ],
   "source": [
    "all_states = pd.read_csv(\n",
    "    os.path.join(series_path, 'all-states.csv'))\n",
    "with_constraints = pd.read_csv(\n",
    "    os.path.join(series_path, 'with-constraints.csv'))\n",
    "optimal_brute_froce = pd.read_csv(\n",
    "    os.path.join(series_path, 'optimal-brute-force.csv'))\n",
    "optimal_gurobi = pd.read_csv(\n",
    "    os.path.join(series_path, 'optimal-gurobi.csv'))\n",
    "all_states.columns"
   ]
  },
  {
   "cell_type": "code",
   "execution_count": 19,
   "metadata": {},
   "outputs": [],
   "source": [
    "# check if all the gurobi results are also present\n",
    "# in the brute force method -> yes!\n",
    "checker = 0\n",
    "for index, row in optimal_gurobi.iterrows():\n",
    "    checker += (optimal_brute_froce == row).all(axis=1).sum()"
   ]
  },
  {
   "attachments": {},
   "cell_type": "markdown",
   "metadata": {},
   "source": [
    "# Compare results of Gurobi with other variables\n",
    "1. Check if the optimal of both Gurobi and Brute-force have the same results\n",
    "2. Examine the effect of differnt thresholds\n",
    "3. "
   ]
  },
  {
   "cell_type": "code",
   "execution_count": 20,
   "metadata": {},
   "outputs": [
    {
     "name": "stdout",
     "output_type": "stream",
     "text": [
      "465\n"
     ]
    }
   ],
   "source": [
    "print(checker)"
   ]
  },
  {
   "cell_type": "code",
   "execution_count": 10,
   "metadata": {},
   "outputs": [
    {
     "name": "stdout",
     "output_type": "stream",
     "text": [
      "False\n"
     ]
    }
   ],
   "source": [
    "import pandas as pd\n",
    "\n",
    "# create a sample dataframe\n",
    "df = pd.DataFrame({'Name': ['Alice', 'Bob', 'Charlie'], 'Age': [25, 30, 35]})\n",
    "s = pd.Series(['Bob', 30], index=['Name', 'Age'])\n",
    "\n",
    "# check if s exists in df as a row\n",
    "row_exists = df.isin(s).all(axis=1).any()\n",
    "\n",
    "print(row_exists)"
   ]
  },
  {
   "cell_type": "code",
   "execution_count": 18,
   "metadata": {},
   "outputs": [
    {
     "name": "stdout",
     "output_type": "stream",
     "text": [
      "0\n"
     ]
    }
   ],
   "source": [
    "s = pd.Series(['Bobo', 30], index=['Name', 'Age'])\n",
    "print()\n",
    "\n"
   ]
  },
  {
   "cell_type": "code",
   "execution_count": null,
   "metadata": {},
   "outputs": [],
   "source": []
  }
 ],
 "metadata": {
  "kernelspec": {
   "display_name": "central",
   "language": "python",
   "name": "python3"
  },
  "language_info": {
   "codemirror_mode": {
    "name": "ipython",
    "version": 3
   },
   "file_extension": ".py",
   "mimetype": "text/x-python",
   "name": "python",
   "nbconvert_exporter": "python",
   "pygments_lexer": "ipython3",
   "version": "3.9.15"
  },
  "orig_nbformat": 4,
  "vscode": {
   "interpreter": {
    "hash": "2465c4f56298bc06dbdad3e7519856d346ec0e9edf6ba2c905f0af711583810e"
   }
  }
 },
 "nbformat": 4,
 "nbformat_minor": 2
}
